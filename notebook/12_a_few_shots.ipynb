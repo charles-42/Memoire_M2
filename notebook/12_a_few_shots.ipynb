{
 "cells": [
  {
   "cell_type": "markdown",
   "metadata": {},
   "source": [
    "# I Create the table to train"
   ]
  },
  {
   "cell_type": "code",
   "execution_count": 78,
   "metadata": {},
   "outputs": [],
   "source": [
    "import pandas as pd\n",
    "from utils import choice_form"
   ]
  },
  {
   "cell_type": "code",
   "execution_count": 64,
   "metadata": {},
   "outputs": [],
   "source": [
    "df_train = pd.read_csv(\"../data/intermediate/df_to_train.csv\")\n",
    "df_conclusion  = pd.read_csv(\"../data/intermediate/df_conclusion.csv\")"
   ]
  },
  {
   "cell_type": "code",
   "execution_count": 65,
   "metadata": {},
   "outputs": [],
   "source": [
    "df_train = df_train.merge(df_conclusion, on = \"id_seq\" )"
   ]
  },
  {
   "cell_type": "code",
   "execution_count": 44,
   "metadata": {},
   "outputs": [
    {
     "data": {
      "text/html": [
       "<div>\n",
       "<style scoped>\n",
       "    .dataframe tbody tr th:only-of-type {\n",
       "        vertical-align: middle;\n",
       "    }\n",
       "\n",
       "    .dataframe tbody tr th {\n",
       "        vertical-align: top;\n",
       "    }\n",
       "\n",
       "    .dataframe thead th {\n",
       "        text-align: right;\n",
       "    }\n",
       "</style>\n",
       "<table border=\"1\" class=\"dataframe\">\n",
       "  <thead>\n",
       "    <tr style=\"text-align: right;\">\n",
       "      <th></th>\n",
       "      <th>id_seq</th>\n",
       "      <th>sentenced</th>\n",
       "      <th>choice_str</th>\n",
       "      <th>task_form</th>\n",
       "      <th>human_response</th>\n",
       "      <th>has_conclusion</th>\n",
       "      <th>index_conclusion</th>\n",
       "    </tr>\n",
       "  </thead>\n",
       "  <tbody>\n",
       "    <tr>\n",
       "      <th>0</th>\n",
       "      <td>1_0_R</td>\n",
       "      <td>Some models are managers and All models are clerks</td>\n",
       "      <td>['All managers are clerks', 'All clerks are managers', 'Some managers are clerks', 'Some clerks are managers', 'Some managers are not clerks', 'Some clerks are not managers', 'No managers are clerks', 'No clerks are managers', 'NVC']</td>\n",
       "      <td>IA4</td>\n",
       "      <td>('Iac', True)</td>\n",
       "      <td>True</td>\n",
       "      <td>2</td>\n",
       "    </tr>\n",
       "    <tr>\n",
       "      <th>1</th>\n",
       "      <td>1_1_R</td>\n",
       "      <td>No divers are carpenters and All linguists are carpenters</td>\n",
       "      <td>['All divers are linguists', 'All linguists are divers', 'Some divers are linguists', 'Some linguists are divers', 'Some divers are not linguists', 'Some linguists are not divers', 'No divers are linguists', 'No linguists are divers', 'NVC']</td>\n",
       "      <td>EA3</td>\n",
       "      <td>('Eac', True)</td>\n",
       "      <td>True</td>\n",
       "      <td>4</td>\n",
       "    </tr>\n",
       "    <tr>\n",
       "      <th>2</th>\n",
       "      <td>1_2_R</td>\n",
       "      <td>All therapists are climbers and Some skaters are therapists</td>\n",
       "      <td>['All climbers are skaters', 'All skaters are climbers', 'Some climbers are skaters', 'Some skaters are climbers', 'Some climbers are not skaters', 'Some skaters are not climbers', 'No climbers are skaters', 'No skaters are climbers', 'NVC']</td>\n",
       "      <td>AI2</td>\n",
       "      <td>('Ica', True)</td>\n",
       "      <td>True</td>\n",
       "      <td>2</td>\n",
       "    </tr>\n",
       "    <tr>\n",
       "      <th>3</th>\n",
       "      <td>1_3_R</td>\n",
       "      <td>All bankers are golfers and All golfers are teachers</td>\n",
       "      <td>['All bankers are teachers', 'All teachers are bankers', 'Some bankers are teachers', 'Some teachers are bankers', 'Some bankers are not teachers', 'Some teachers are not bankers', 'No bankers are teachers', 'No teachers are bankers', 'NVC']</td>\n",
       "      <td>AA1</td>\n",
       "      <td>('Aac', True)</td>\n",
       "      <td>True</td>\n",
       "      <td>0</td>\n",
       "    </tr>\n",
       "    <tr>\n",
       "      <th>4</th>\n",
       "      <td>1_4_R</td>\n",
       "      <td>Some boxers are not opticians and All boxers are actuaries</td>\n",
       "      <td>['All opticians are actuaries', 'All actuaries are opticians', 'Some opticians are actuaries', 'Some actuaries are opticians', 'Some opticians are not actuaries', 'Some actuaries are not opticians', 'No opticians are actuaries', 'No actuaries are opticians', 'NVC']</td>\n",
       "      <td>OA4</td>\n",
       "      <td>('Oca', True)</td>\n",
       "      <td>True</td>\n",
       "      <td>5</td>\n",
       "    </tr>\n",
       "  </tbody>\n",
       "</table>\n",
       "</div>"
      ],
      "text/plain": [
       "  id_seq                                                    sentenced  \\\n",
       "0  1_0_R           Some models are managers and All models are clerks   \n",
       "1  1_1_R    No divers are carpenters and All linguists are carpenters   \n",
       "2  1_2_R  All therapists are climbers and Some skaters are therapists   \n",
       "3  1_3_R         All bankers are golfers and All golfers are teachers   \n",
       "4  1_4_R   Some boxers are not opticians and All boxers are actuaries   \n",
       "\n",
       "                                                                                                                                                                                                                                                                  choice_str  \\\n",
       "0                                  ['All managers are clerks', 'All clerks are managers', 'Some managers are clerks', 'Some clerks are managers', 'Some managers are not clerks', 'Some clerks are not managers', 'No managers are clerks', 'No clerks are managers', 'NVC']   \n",
       "1                          ['All divers are linguists', 'All linguists are divers', 'Some divers are linguists', 'Some linguists are divers', 'Some divers are not linguists', 'Some linguists are not divers', 'No divers are linguists', 'No linguists are divers', 'NVC']   \n",
       "2                          ['All climbers are skaters', 'All skaters are climbers', 'Some climbers are skaters', 'Some skaters are climbers', 'Some climbers are not skaters', 'Some skaters are not climbers', 'No climbers are skaters', 'No skaters are climbers', 'NVC']   \n",
       "3                          ['All bankers are teachers', 'All teachers are bankers', 'Some bankers are teachers', 'Some teachers are bankers', 'Some bankers are not teachers', 'Some teachers are not bankers', 'No bankers are teachers', 'No teachers are bankers', 'NVC']   \n",
       "4  ['All opticians are actuaries', 'All actuaries are opticians', 'Some opticians are actuaries', 'Some actuaries are opticians', 'Some opticians are not actuaries', 'Some actuaries are not opticians', 'No opticians are actuaries', 'No actuaries are opticians', 'NVC']   \n",
       "\n",
       "  task_form human_response  has_conclusion  index_conclusion  \n",
       "0       IA4  ('Iac', True)            True                 2  \n",
       "1       EA3  ('Eac', True)            True                 4  \n",
       "2       AI2  ('Ica', True)            True                 2  \n",
       "3       AA1  ('Aac', True)            True                 0  \n",
       "4       OA4  ('Oca', True)            True                 5  "
      ]
     },
     "execution_count": 44,
     "metadata": {},
     "output_type": "execute_result"
    }
   ],
   "source": [
    "df_train.head()"
   ]
  },
  {
   "cell_type": "code",
   "execution_count": 66,
   "metadata": {},
   "outputs": [],
   "source": [
    "df = df_train[df_train[\"has_conclusion\"]==True]"
   ]
  },
  {
   "cell_type": "code",
   "execution_count": 6,
   "metadata": {},
   "outputs": [],
   "source": [
    "df = df[[\"id_seq\",\"sentenced\",\"choice_str\"]]"
   ]
  },
  {
   "cell_type": "code",
   "execution_count": 7,
   "metadata": {},
   "outputs": [],
   "source": [
    "df.to_csv(\"../data/intermediate/df_valid_to_train_fs.csv\")"
   ]
  },
  {
   "cell_type": "markdown",
   "metadata": {},
   "source": [
    "# II Analyse des résultats"
   ]
  },
  {
   "cell_type": "code",
   "execution_count": 67,
   "metadata": {},
   "outputs": [],
   "source": [
    "df_trained = pd.read_csv(\"../data/intermediate/few_shot_trained_full.csv\")\n",
    "df_conclusion  = pd.read_csv(\"../data/intermediate/df_conclusion.csv\")"
   ]
  },
  {
   "cell_type": "code",
   "execution_count": 68,
   "metadata": {},
   "outputs": [],
   "source": [
    "df_trained = df_trained.merge(df_conclusion, on = \"id_seq\" )"
   ]
  },
  {
   "cell_type": "code",
   "execution_count": 55,
   "metadata": {},
   "outputs": [
    {
     "data": {
      "text/html": [
       "<div>\n",
       "<style scoped>\n",
       "    .dataframe tbody tr th:only-of-type {\n",
       "        vertical-align: middle;\n",
       "    }\n",
       "\n",
       "    .dataframe tbody tr th {\n",
       "        vertical-align: top;\n",
       "    }\n",
       "\n",
       "    .dataframe thead th {\n",
       "        text-align: right;\n",
       "    }\n",
       "</style>\n",
       "<table border=\"1\" class=\"dataframe\">\n",
       "  <thead>\n",
       "    <tr style=\"text-align: right;\">\n",
       "      <th></th>\n",
       "      <th>Unnamed: 0</th>\n",
       "      <th>id_seq</th>\n",
       "      <th>sentenced</th>\n",
       "      <th>few_shot_pred</th>\n",
       "      <th>task_form</th>\n",
       "      <th>human_response</th>\n",
       "      <th>has_conclusion</th>\n",
       "      <th>index_conclusion</th>\n",
       "      <th>choice_str</th>\n",
       "    </tr>\n",
       "  </thead>\n",
       "  <tbody>\n",
       "    <tr>\n",
       "      <th>0</th>\n",
       "      <td>0</td>\n",
       "      <td>1_0_R</td>\n",
       "      <td>Some models are managers and All models are clerks</td>\n",
       "      <td>Some managers are clerks</td>\n",
       "      <td>IA4</td>\n",
       "      <td>('Iac', True)</td>\n",
       "      <td>True</td>\n",
       "      <td>2</td>\n",
       "      <td>['All managers are clerks', 'All clerks are managers', 'Some managers are clerks', 'Some clerks are managers', 'Some managers are not clerks', 'Some clerks are not managers', 'No managers are clerks', 'No clerks are managers', 'NVC']</td>\n",
       "    </tr>\n",
       "    <tr>\n",
       "      <th>1</th>\n",
       "      <td>1</td>\n",
       "      <td>1_1_R</td>\n",
       "      <td>No divers are carpenters and All linguists are carpenters</td>\n",
       "      <td>Some linguists are divers</td>\n",
       "      <td>EA3</td>\n",
       "      <td>('Eac', True)</td>\n",
       "      <td>True</td>\n",
       "      <td>4</td>\n",
       "      <td>['All divers are linguists', 'All linguists are divers', 'Some divers are linguists', 'Some linguists are divers', 'Some divers are not linguists', 'Some linguists are not divers', 'No divers are linguists', 'No linguists are divers', 'NVC']</td>\n",
       "    </tr>\n",
       "    <tr>\n",
       "      <th>2</th>\n",
       "      <td>2</td>\n",
       "      <td>1_2_R</td>\n",
       "      <td>All therapists are climbers and Some skaters are therapists</td>\n",
       "      <td>Some skaters are climbers</td>\n",
       "      <td>AI2</td>\n",
       "      <td>('Ica', True)</td>\n",
       "      <td>True</td>\n",
       "      <td>2</td>\n",
       "      <td>['All climbers are skaters', 'All skaters are climbers', 'Some climbers are skaters', 'Some skaters are climbers', 'Some climbers are not skaters', 'Some skaters are not climbers', 'No climbers are skaters', 'No skaters are climbers', 'NVC']</td>\n",
       "    </tr>\n",
       "    <tr>\n",
       "      <th>3</th>\n",
       "      <td>3</td>\n",
       "      <td>1_3_R</td>\n",
       "      <td>All bankers are golfers and All golfers are teachers</td>\n",
       "      <td>All bankers are teachers</td>\n",
       "      <td>AA1</td>\n",
       "      <td>('Aac', True)</td>\n",
       "      <td>True</td>\n",
       "      <td>0</td>\n",
       "      <td>['All bankers are teachers', 'All teachers are bankers', 'Some bankers are teachers', 'Some teachers are bankers', 'Some bankers are not teachers', 'Some teachers are not bankers', 'No bankers are teachers', 'No teachers are bankers', 'NVC']</td>\n",
       "    </tr>\n",
       "    <tr>\n",
       "      <th>4</th>\n",
       "      <td>6</td>\n",
       "      <td>1_6_R</td>\n",
       "      <td>All gamblers are sculptors and Some bakers are not sculptors</td>\n",
       "      <td>Some gamblers are sculptors</td>\n",
       "      <td>AO3</td>\n",
       "      <td>('Oca', True)</td>\n",
       "      <td>True</td>\n",
       "      <td>5</td>\n",
       "      <td>['All gamblers are bakers', 'All bakers are gamblers', 'Some gamblers are bakers', 'Some bakers are gamblers', 'Some gamblers are not bakers', 'Some bakers are not gamblers', 'No gamblers are bakers', 'No bakers are gamblers', 'NVC']</td>\n",
       "    </tr>\n",
       "  </tbody>\n",
       "</table>\n",
       "</div>"
      ],
      "text/plain": [
       "   Unnamed: 0 id_seq  \\\n",
       "0           0  1_0_R   \n",
       "1           1  1_1_R   \n",
       "2           2  1_2_R   \n",
       "3           3  1_3_R   \n",
       "4           6  1_6_R   \n",
       "\n",
       "                                                      sentenced  \\\n",
       "0            Some models are managers and All models are clerks   \n",
       "1     No divers are carpenters and All linguists are carpenters   \n",
       "2   All therapists are climbers and Some skaters are therapists   \n",
       "3          All bankers are golfers and All golfers are teachers   \n",
       "4  All gamblers are sculptors and Some bakers are not sculptors   \n",
       "\n",
       "                  few_shot_pred task_form human_response  has_conclusion  \\\n",
       "0      Some managers are clerks       IA4  ('Iac', True)            True   \n",
       "1     Some linguists are divers       EA3  ('Eac', True)            True   \n",
       "2     Some skaters are climbers       AI2  ('Ica', True)            True   \n",
       "3      All bankers are teachers       AA1  ('Aac', True)            True   \n",
       "4   Some gamblers are sculptors       AO3  ('Oca', True)            True   \n",
       "\n",
       "   index_conclusion  \\\n",
       "0                 2   \n",
       "1                 4   \n",
       "2                 2   \n",
       "3                 0   \n",
       "4                 5   \n",
       "\n",
       "                                                                                                                                                                                                                                          choice_str  \n",
       "0          ['All managers are clerks', 'All clerks are managers', 'Some managers are clerks', 'Some clerks are managers', 'Some managers are not clerks', 'Some clerks are not managers', 'No managers are clerks', 'No clerks are managers', 'NVC']  \n",
       "1  ['All divers are linguists', 'All linguists are divers', 'Some divers are linguists', 'Some linguists are divers', 'Some divers are not linguists', 'Some linguists are not divers', 'No divers are linguists', 'No linguists are divers', 'NVC']  \n",
       "2  ['All climbers are skaters', 'All skaters are climbers', 'Some climbers are skaters', 'Some skaters are climbers', 'Some climbers are not skaters', 'Some skaters are not climbers', 'No climbers are skaters', 'No skaters are climbers', 'NVC']  \n",
       "3  ['All bankers are teachers', 'All teachers are bankers', 'Some bankers are teachers', 'Some teachers are bankers', 'Some bankers are not teachers', 'Some teachers are not bankers', 'No bankers are teachers', 'No teachers are bankers', 'NVC']  \n",
       "4          ['All gamblers are bakers', 'All bakers are gamblers', 'Some gamblers are bakers', 'Some bakers are gamblers', 'Some gamblers are not bakers', 'Some bakers are not gamblers', 'No gamblers are bakers', 'No bakers are gamblers', 'NVC']  "
      ]
     },
     "execution_count": 55,
     "metadata": {},
     "output_type": "execute_result"
    }
   ],
   "source": [
    "df_trained.head()"
   ]
  },
  {
   "cell_type": "code",
   "execution_count": 69,
   "metadata": {},
   "outputs": [],
   "source": [
    "import ast\n",
    "\n",
    "def select_best(prediction,choices):\n",
    "    \"\"\" determine the answer of the model as the conclusion with the \n",
    "    highest probability\n",
    "    \"\"\"\n",
    "    # We clean the prediction\n",
    "    prediction = prediction[1:]\n",
    "    if isinstance(choices,str):\n",
    "        choices = ast.literal_eval(choices)\n",
    "    \n",
    "    for conclusion in choices:\n",
    "        if prediction == conclusion:\n",
    "            return choices.index(prediction)\n",
    "        \n",
    "    return - 1  \n"
   ]
  },
  {
   "cell_type": "code",
   "execution_count": 79,
   "metadata": {},
   "outputs": [],
   "source": [
    "# We determine what is the form of the few shot answer\n",
    "df_trained['index_choice'] = df_trained[[\"few_shot_pred\",\"choice_str\"]].apply(lambda x: select_best(x[0],x[1]), axis=1)\n",
    "df_trained['form_choice'] = df_trained.index_choice.apply(lambda x: choice_form[x])"
   ]
  },
  {
   "cell_type": "code",
   "execution_count": 71,
   "metadata": {},
   "outputs": [],
   "source": [
    "import ast\n",
    "df_trained['few_shot_succes'] = df_trained[[\"index_choice\",\"index_conclusion\"]].apply(lambda x: 1 if x[0] in ast.literal_eval(x[1]) else 0, axis=1)"
   ]
  },
  {
   "cell_type": "code",
   "execution_count": 97,
   "metadata": {},
   "outputs": [],
   "source": [
    "df_result_fewshot = df_trained[['task_form', 'few_shot_succes']].groupby(['task_form']).mean()\n",
    "df_result_fewshot['task_form'] = df_result_fewshot.index\n",
    "df_result_fewshot.to_csv(\"../data/results/df_fewshot_results.csv\" ,index=False)"
   ]
  },
  {
   "cell_type": "code",
   "execution_count": 91,
   "metadata": {},
   "outputs": [],
   "source": [
    "df = df_trained[[\"task_form\", \"form_choice\"]]\n",
    "#df_groupby = df.groupby('task_form').form_choice.value_counts()\n",
    "df_groupby = df.groupby(['task_form',\"form_choice\"]).size().reset_index(name='counts')\n"
   ]
  },
  {
   "cell_type": "code",
   "execution_count": 92,
   "metadata": {},
   "outputs": [
    {
     "data": {
      "text/html": [
       "<div>\n",
       "<style scoped>\n",
       "    .dataframe tbody tr th:only-of-type {\n",
       "        vertical-align: middle;\n",
       "    }\n",
       "\n",
       "    .dataframe tbody tr th {\n",
       "        vertical-align: top;\n",
       "    }\n",
       "\n",
       "    .dataframe thead th {\n",
       "        text-align: right;\n",
       "    }\n",
       "</style>\n",
       "<table border=\"1\" class=\"dataframe\">\n",
       "  <thead>\n",
       "    <tr style=\"text-align: right;\">\n",
       "      <th></th>\n",
       "      <th>task_form</th>\n",
       "      <th>form_choice</th>\n",
       "      <th>counts</th>\n",
       "    </tr>\n",
       "  </thead>\n",
       "  <tbody>\n",
       "    <tr>\n",
       "      <th>0</th>\n",
       "      <td>AA1</td>\n",
       "      <td>Aac</td>\n",
       "      <td>74</td>\n",
       "    </tr>\n",
       "    <tr>\n",
       "      <th>1</th>\n",
       "      <td>AA1</td>\n",
       "      <td>Iac</td>\n",
       "      <td>2</td>\n",
       "    </tr>\n",
       "    <tr>\n",
       "      <th>2</th>\n",
       "      <td>AA1</td>\n",
       "      <td>NVC</td>\n",
       "      <td>28</td>\n",
       "    </tr>\n",
       "    <tr>\n",
       "      <th>3</th>\n",
       "      <td>AA2</td>\n",
       "      <td>Aac</td>\n",
       "      <td>4</td>\n",
       "    </tr>\n",
       "    <tr>\n",
       "      <th>4</th>\n",
       "      <td>AA2</td>\n",
       "      <td>Aca</td>\n",
       "      <td>23</td>\n",
       "    </tr>\n",
       "    <tr>\n",
       "      <th>...</th>\n",
       "      <td>...</td>\n",
       "      <td>...</td>\n",
       "      <td>...</td>\n",
       "    </tr>\n",
       "    <tr>\n",
       "      <th>106</th>\n",
       "      <td>IE4</td>\n",
       "      <td>Eac</td>\n",
       "      <td>1</td>\n",
       "    </tr>\n",
       "    <tr>\n",
       "      <th>107</th>\n",
       "      <td>IE4</td>\n",
       "      <td>Eca</td>\n",
       "      <td>3</td>\n",
       "    </tr>\n",
       "    <tr>\n",
       "      <th>108</th>\n",
       "      <td>IE4</td>\n",
       "      <td>Iac</td>\n",
       "      <td>3</td>\n",
       "    </tr>\n",
       "    <tr>\n",
       "      <th>109</th>\n",
       "      <td>IE4</td>\n",
       "      <td>Ica</td>\n",
       "      <td>2</td>\n",
       "    </tr>\n",
       "    <tr>\n",
       "      <th>110</th>\n",
       "      <td>IE4</td>\n",
       "      <td>NVC</td>\n",
       "      <td>100</td>\n",
       "    </tr>\n",
       "  </tbody>\n",
       "</table>\n",
       "<p>111 rows × 3 columns</p>\n",
       "</div>"
      ],
      "text/plain": [
       "    task_form form_choice  counts\n",
       "0         AA1         Aac      74\n",
       "1         AA1         Iac       2\n",
       "2         AA1         NVC      28\n",
       "3         AA2         Aac       4\n",
       "4         AA2         Aca      23\n",
       "..        ...         ...     ...\n",
       "106       IE4         Eac       1\n",
       "107       IE4         Eca       3\n",
       "108       IE4         Iac       3\n",
       "109       IE4         Ica       2\n",
       "110       IE4         NVC     100\n",
       "\n",
       "[111 rows x 3 columns]"
      ]
     },
     "execution_count": 92,
     "metadata": {},
     "output_type": "execute_result"
    }
   ],
   "source": [
    "df_groupby"
   ]
  },
  {
   "cell_type": "code",
   "execution_count": 93,
   "metadata": {},
   "outputs": [],
   "source": [
    "df_groupby.to_csv(\"../data/results/df_fewshot_group_by.csv\" ,index=False)"
   ]
  }
 ],
 "metadata": {
  "interpreter": {
   "hash": "dddc4829cdb8a95c4dcd99a91d3cecc91af3578de6eb6a763a56b0c106b3b01d"
  },
  "kernelspec": {
   "display_name": "Python 3.9.9 ('env': venv)",
   "language": "python",
   "name": "python3"
  },
  "language_info": {
   "codemirror_mode": {
    "name": "ipython",
    "version": 3
   },
   "file_extension": ".py",
   "mimetype": "text/x-python",
   "name": "python",
   "nbconvert_exporter": "python",
   "pygments_lexer": "ipython3",
   "version": "3.9.9"
  },
  "orig_nbformat": 4
 },
 "nbformat": 4,
 "nbformat_minor": 2
}
