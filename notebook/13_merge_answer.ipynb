{
 "cells": [
  {
   "cell_type": "code",
   "execution_count": 1,
   "metadata": {},
   "outputs": [],
   "source": [
    "import pandas as pd"
   ]
  },
  {
   "cell_type": "code",
   "execution_count": 2,
   "metadata": {},
   "outputs": [],
   "source": [
    "df_valid = pd.read_csv(\"../data/results/result_valid_30_01_22.csv\")\n",
    "df_unvalid = pd.read_csv(\"../data/results/result_unvalid_30_01_22.csv\")\n",
    "\n",
    "\n",
    "df = pd.concat([df_valid,df_unvalid])\n",
    "df = df.drop(columns=[\"Unnamed: 0\"])"
   ]
  },
  {
   "cell_type": "code",
   "execution_count": 3,
   "metadata": {},
   "outputs": [
    {
     "data": {
      "text/html": [
       "<div>\n",
       "<style scoped>\n",
       "    .dataframe tbody tr th:only-of-type {\n",
       "        vertical-align: middle;\n",
       "    }\n",
       "\n",
       "    .dataframe tbody tr th {\n",
       "        vertical-align: top;\n",
       "    }\n",
       "\n",
       "    .dataframe thead th {\n",
       "        text-align: right;\n",
       "    }\n",
       "</style>\n",
       "<table border=\"1\" class=\"dataframe\">\n",
       "  <thead>\n",
       "    <tr style=\"text-align: right;\">\n",
       "      <th></th>\n",
       "      <th>task_form</th>\n",
       "      <th>has_conclusion</th>\n",
       "      <th>implicatur</th>\n",
       "    </tr>\n",
       "  </thead>\n",
       "  <tbody>\n",
       "    <tr>\n",
       "      <th>0</th>\n",
       "      <td>AA1</td>\n",
       "      <td>True</td>\n",
       "      <td>False</td>\n",
       "    </tr>\n",
       "    <tr>\n",
       "      <th>1</th>\n",
       "      <td>AA2</td>\n",
       "      <td>True</td>\n",
       "      <td>False</td>\n",
       "    </tr>\n",
       "    <tr>\n",
       "      <th>2</th>\n",
       "      <td>AA3</td>\n",
       "      <td>False</td>\n",
       "      <td>False</td>\n",
       "    </tr>\n",
       "    <tr>\n",
       "      <th>3</th>\n",
       "      <td>AA4</td>\n",
       "      <td>True</td>\n",
       "      <td>True</td>\n",
       "    </tr>\n",
       "    <tr>\n",
       "      <th>4</th>\n",
       "      <td>AI1</td>\n",
       "      <td>False</td>\n",
       "      <td>False</td>\n",
       "    </tr>\n",
       "    <tr>\n",
       "      <th>...</th>\n",
       "      <td>...</td>\n",
       "      <td>...</td>\n",
       "      <td>...</td>\n",
       "    </tr>\n",
       "    <tr>\n",
       "      <th>59</th>\n",
       "      <td>OO4</td>\n",
       "      <td>False</td>\n",
       "      <td>False</td>\n",
       "    </tr>\n",
       "    <tr>\n",
       "      <th>60</th>\n",
       "      <td>OI1</td>\n",
       "      <td>False</td>\n",
       "      <td>False</td>\n",
       "    </tr>\n",
       "    <tr>\n",
       "      <th>61</th>\n",
       "      <td>OI2</td>\n",
       "      <td>False</td>\n",
       "      <td>False</td>\n",
       "    </tr>\n",
       "    <tr>\n",
       "      <th>62</th>\n",
       "      <td>OI3</td>\n",
       "      <td>False</td>\n",
       "      <td>False</td>\n",
       "    </tr>\n",
       "    <tr>\n",
       "      <th>63</th>\n",
       "      <td>OI4</td>\n",
       "      <td>False</td>\n",
       "      <td>False</td>\n",
       "    </tr>\n",
       "  </tbody>\n",
       "</table>\n",
       "<p>64 rows × 3 columns</p>\n",
       "</div>"
      ],
      "text/plain": [
       "   task_form  has_conclusion  implicatur\n",
       "0        AA1            True       False\n",
       "1        AA2            True       False\n",
       "2        AA3           False       False\n",
       "3        AA4            True        True\n",
       "4        AI1           False       False\n",
       "..       ...             ...         ...\n",
       "59       OO4           False       False\n",
       "60       OI1           False       False\n",
       "61       OI2           False       False\n",
       "62       OI3           False       False\n",
       "63       OI4           False       False\n",
       "\n",
       "[64 rows x 3 columns]"
      ]
     },
     "execution_count": 3,
     "metadata": {},
     "output_type": "execute_result"
    }
   ],
   "source": [
    "from utils import implicatur\n",
    "df_conclusion = pd.read_csv(\"../data/results/conclusion.csv\")\n",
    "df_conclusion[\"has_conclusion\"]= df_conclusion.conclusion.apply(lambda x : False if x == \"[NVC]\" else True )\n",
    "df_conclusion['implicatur'] = df_conclusion.task_form.apply(lambda x : True if x in implicatur else False)\n",
    "df_conclusion.drop(columns=[\"conclusion\"])"
   ]
  },
  {
   "cell_type": "code",
   "execution_count": 4,
   "metadata": {},
   "outputs": [],
   "source": [
    "df = pd.merge(df, df_conclusion, on=[\"task_form\"])\n",
    "#df.to_csv(\"../data/app/df_results.csv\")"
   ]
  },
  {
   "cell_type": "code",
   "execution_count": 7,
   "metadata": {},
   "outputs": [
    {
     "data": {
      "text/plain": [
       "Index(['task_form', 'succes_human', 'succes_mnli_00', 'succes_mnli_03',\n",
       "       'succes_mnli_05', 'succes_mnli_10', 'succes_mnli_20', 'succes_mnli_30',\n",
       "       'succes_mnli_40', 'succes_mnli_50', 'succes_mnli_60', 'succes_mnli_70',\n",
       "       'succes_mnli_80', 'succes_mnli_90', 'succes_mnli_max',\n",
       "       'succes_simple_0.9999965', 'succes_simple_0.9999968',\n",
       "       'succes_simple_0.9999972', 'succes_simple_0.9999974',\n",
       "       'succes_simple_0.999996', 'succes_simple_0.999997', 'conclusion',\n",
       "       'has_conclusion', 'implicatur'],\n",
       "      dtype='object')"
      ]
     },
     "execution_count": 7,
     "metadata": {},
     "output_type": "execute_result"
    }
   ],
   "source": [
    "df.columns"
   ]
  }
 ],
 "metadata": {
  "interpreter": {
   "hash": "dddc4829cdb8a95c4dcd99a91d3cecc91af3578de6eb6a763a56b0c106b3b01d"
  },
  "kernelspec": {
   "display_name": "Python 3.9.9 ('env': venv)",
   "language": "python",
   "name": "python3"
  },
  "language_info": {
   "codemirror_mode": {
    "name": "ipython",
    "version": 3
   },
   "file_extension": ".py",
   "mimetype": "text/x-python",
   "name": "python",
   "nbconvert_exporter": "python",
   "pygments_lexer": "ipython3",
   "version": "3.9.12"
  },
  "orig_nbformat": 4
 },
 "nbformat": 4,
 "nbformat_minor": 2
}
