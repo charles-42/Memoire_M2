{
 "cells": [
  {
   "cell_type": "code",
   "execution_count": 2,
   "metadata": {},
   "outputs": [],
   "source": [
    "import pandas as pd"
   ]
  },
  {
   "cell_type": "markdown",
   "metadata": {},
   "source": [
    "# Work on syllogism form"
   ]
  },
  {
   "cell_type": "code",
   "execution_count": 5,
   "metadata": {},
   "outputs": [],
   "source": [
    "df_form = pd.read_csv(\"./data/form_data.csv\")"
   ]
  },
  {
   "cell_type": "code",
   "execution_count": 18,
   "metadata": {},
   "outputs": [],
   "source": [
    "absurde = [\"AO3\",\"AO4\",\"OA3\",\"OA4\"]\n",
    "positif = [\"AA1\",\"AA2\",\"AA4\",\"AI2\",\"AI4\",\"IA1\",\"IA4\"]\n",
    "universel = [\"AA1\",\"AA2\",\"AA4\",\"AE1\",\"AE2\",\"AE3\",\"AE4\",\"EA1\",\"EA2\",\"EA3\",\"EA4\"]\n",
    "particulier = [\"AI2\",\"AI4\",\"AO3\",\"AO4\",\"EI1\",\"EI2\",\"EI3\",\"EI4\",\"IA1\",\"IA4\",\"IE1\",\"IE2\",\"IE3\",\"IE4\",\"OA3\",\"OA4\"]"
   ]
  },
  {
   "cell_type": "code",
   "execution_count": 19,
   "metadata": {},
   "outputs": [],
   "source": [
    "df_form_valide = df_form.loc[df_form[\"has_conclusion\"]==True,:]"
   ]
  },
  {
   "cell_type": "code",
   "execution_count": 21,
   "metadata": {},
   "outputs": [
    {
     "name": "stderr",
     "output_type": "stream",
     "text": [
      "/var/folders/py/4rt338cj1ks4z3332m7l3f880000gp/T/ipykernel_76729/1893931228.py:1: SettingWithCopyWarning: \n",
      "A value is trying to be set on a copy of a slice from a DataFrame.\n",
      "Try using .loc[row_indexer,col_indexer] = value instead\n",
      "\n",
      "See the caveats in the documentation: https://pandas.pydata.org/pandas-docs/stable/user_guide/indexing.html#returning-a-view-versus-a-copy\n",
      "  df_form_valide[\"mode\"] = df_form_valide.task_form.apply(lambda x: \"universel\" if x in universel else \"particulier\")\n",
      "/var/folders/py/4rt338cj1ks4z3332m7l3f880000gp/T/ipykernel_76729/1893931228.py:2: SettingWithCopyWarning: \n",
      "A value is trying to be set on a copy of a slice from a DataFrame.\n",
      "Try using .loc[row_indexer,col_indexer] = value instead\n",
      "\n",
      "See the caveats in the documentation: https://pandas.pydata.org/pandas-docs/stable/user_guide/indexing.html#returning-a-view-versus-a-copy\n",
      "  df_form_valide[\"signe\"] = df_form_valide.task_form.apply(lambda x: \"positif\" if x in positif else \"negatif\")\n",
      "/var/folders/py/4rt338cj1ks4z3332m7l3f880000gp/T/ipykernel_76729/1893931228.py:3: SettingWithCopyWarning: \n",
      "A value is trying to be set on a copy of a slice from a DataFrame.\n",
      "Try using .loc[row_indexer,col_indexer] = value instead\n",
      "\n",
      "See the caveats in the documentation: https://pandas.pydata.org/pandas-docs/stable/user_guide/indexing.html#returning-a-view-versus-a-copy\n",
      "  df_form_valide[\"absurde\"] = df_form_valide.task_form.apply(lambda x: True if x in absurde else False)\n"
     ]
    }
   ],
   "source": [
    "df_form_valide[\"mode\"] = df_form_valide.task_form.apply(lambda x: \"universel\" if x in universel else \"particulier\")\n",
    "df_form_valide[\"signe\"] = df_form_valide.task_form.apply(lambda x: \"positif\" if x in positif else \"negatif\")\n",
    "df_form_valide[\"absurde\"] = df_form_valide.task_form.apply(lambda x: True if x in absurde else False)"
   ]
  },
  {
   "cell_type": "code",
   "execution_count": 23,
   "metadata": {},
   "outputs": [],
   "source": [
    "df_form_valide = df_form_valide.drop(\"Unnamed: 0\", axis=1)"
   ]
  },
  {
   "cell_type": "code",
   "execution_count": 27,
   "metadata": {},
   "outputs": [],
   "source": [
    "df_form_valide.to_csv(\"./data/form_data_final.csv\", index=False)"
   ]
  },
  {
   "cell_type": "markdown",
   "metadata": {},
   "source": [
    "# Work on nlp_resul"
   ]
  },
  {
   "cell_type": "code",
   "execution_count": 29,
   "metadata": {},
   "outputs": [],
   "source": [
    "df_nlp_result = pd.read_csv(\"./data/nlp_result.csv\")\n",
    "df_idseq = pd.read_csv(\"./data/idseq_sentence.csv\")"
   ]
  },
  {
   "cell_type": "code",
   "execution_count": 74,
   "metadata": {},
   "outputs": [
    {
     "data": {
      "text/plain": [
       "IE4    109\n",
       "II3    109\n",
       "EO3    107\n",
       "EO1    107\n",
       "AI3    107\n",
       "      ... \n",
       "AO4     96\n",
       "OA3     95\n",
       "IA4     94\n",
       "IO4     93\n",
       "IA1     93\n",
       "Name: task_form, Length: 64, dtype: int64"
      ]
     },
     "execution_count": 74,
     "metadata": {},
     "output_type": "execute_result"
    }
   ],
   "source": [
    "df_nlp_result[\"task_form\"].value_counts()"
   ]
  },
  {
   "cell_type": "code",
   "execution_count": 42,
   "metadata": {},
   "outputs": [
    {
     "data": {
      "text/plain": [
       "(6506, 7)"
      ]
     },
     "execution_count": 42,
     "metadata": {},
     "output_type": "execute_result"
    }
   ],
   "source": [
    "df_nlp_result.shape"
   ]
  },
  {
   "cell_type": "code",
   "execution_count": 43,
   "metadata": {},
   "outputs": [
    {
     "data": {
      "text/plain": [
       "(6506, 2)"
      ]
     },
     "execution_count": 43,
     "metadata": {},
     "output_type": "execute_result"
    }
   ],
   "source": [
    "df_idseq.shape"
   ]
  },
  {
   "cell_type": "code",
   "execution_count": 35,
   "metadata": {},
   "outputs": [
    {
     "data": {
      "text/html": [
       "<div>\n",
       "<style scoped>\n",
       "    .dataframe tbody tr th:only-of-type {\n",
       "        vertical-align: middle;\n",
       "    }\n",
       "\n",
       "    .dataframe tbody tr th {\n",
       "        vertical-align: top;\n",
       "    }\n",
       "\n",
       "    .dataframe thead th {\n",
       "        text-align: right;\n",
       "    }\n",
       "</style>\n",
       "<table border=\"1\" class=\"dataframe\">\n",
       "  <thead>\n",
       "    <tr style=\"text-align: right;\">\n",
       "      <th></th>\n",
       "      <th>Unnamed: 0</th>\n",
       "      <th>id_seq</th>\n",
       "      <th>task_form</th>\n",
       "      <th>best_bert_00_index</th>\n",
       "      <th>bert_00success</th>\n",
       "      <th>best_mnli_00_index</th>\n",
       "      <th>mnli_00success</th>\n",
       "    </tr>\n",
       "  </thead>\n",
       "  <tbody>\n",
       "    <tr>\n",
       "      <th>0</th>\n",
       "      <td>0</td>\n",
       "      <td>1_0_R</td>\n",
       "      <td>IA4</td>\n",
       "      <td>2</td>\n",
       "      <td>1</td>\n",
       "      <td>2</td>\n",
       "      <td>1</td>\n",
       "    </tr>\n",
       "    <tr>\n",
       "      <th>1</th>\n",
       "      <td>1</td>\n",
       "      <td>1_1_R</td>\n",
       "      <td>EA3</td>\n",
       "      <td>0</td>\n",
       "      <td>0</td>\n",
       "      <td>7</td>\n",
       "      <td>1</td>\n",
       "    </tr>\n",
       "    <tr>\n",
       "      <th>2</th>\n",
       "      <td>2</td>\n",
       "      <td>1_2_R</td>\n",
       "      <td>AI2</td>\n",
       "      <td>3</td>\n",
       "      <td>1</td>\n",
       "      <td>2</td>\n",
       "      <td>1</td>\n",
       "    </tr>\n",
       "    <tr>\n",
       "      <th>3</th>\n",
       "      <td>3</td>\n",
       "      <td>1_3_R</td>\n",
       "      <td>AA1</td>\n",
       "      <td>0</td>\n",
       "      <td>1</td>\n",
       "      <td>4</td>\n",
       "      <td>0</td>\n",
       "    </tr>\n",
       "    <tr>\n",
       "      <th>4</th>\n",
       "      <td>4</td>\n",
       "      <td>1_4_R</td>\n",
       "      <td>OA4</td>\n",
       "      <td>4</td>\n",
       "      <td>0</td>\n",
       "      <td>5</td>\n",
       "      <td>1</td>\n",
       "    </tr>\n",
       "  </tbody>\n",
       "</table>\n",
       "</div>"
      ],
      "text/plain": [
       "   Unnamed: 0 id_seq task_form  best_bert_00_index  bert_00success  \\\n",
       "0           0  1_0_R       IA4                   2               1   \n",
       "1           1  1_1_R       EA3                   0               0   \n",
       "2           2  1_2_R       AI2                   3               1   \n",
       "3           3  1_3_R       AA1                   0               1   \n",
       "4           4  1_4_R       OA4                   4               0   \n",
       "\n",
       "   best_mnli_00_index  mnli_00success  \n",
       "0                   2               1  \n",
       "1                   7               1  \n",
       "2                   2               1  \n",
       "3                   4               0  \n",
       "4                   5               1  "
      ]
     },
     "execution_count": 35,
     "metadata": {},
     "output_type": "execute_result"
    }
   ],
   "source": [
    "df_nlp_result.head()"
   ]
  },
  {
   "cell_type": "code",
   "execution_count": 34,
   "metadata": {},
   "outputs": [
    {
     "data": {
      "text/plain": [
       "sentenced    object\n",
       "id_seq       object\n",
       "dtype: object"
      ]
     },
     "execution_count": 34,
     "metadata": {},
     "output_type": "execute_result"
    }
   ],
   "source": [
    "df_idseq.dtypes"
   ]
  },
  {
   "cell_type": "code",
   "execution_count": 36,
   "metadata": {},
   "outputs": [
    {
     "data": {
      "text/html": [
       "<div>\n",
       "<style scoped>\n",
       "    .dataframe tbody tr th:only-of-type {\n",
       "        vertical-align: middle;\n",
       "    }\n",
       "\n",
       "    .dataframe tbody tr th {\n",
       "        vertical-align: top;\n",
       "    }\n",
       "\n",
       "    .dataframe thead th {\n",
       "        text-align: right;\n",
       "    }\n",
       "</style>\n",
       "<table border=\"1\" class=\"dataframe\">\n",
       "  <thead>\n",
       "    <tr style=\"text-align: right;\">\n",
       "      <th></th>\n",
       "      <th>sentenced</th>\n",
       "      <th>id_seq</th>\n",
       "    </tr>\n",
       "  </thead>\n",
       "  <tbody>\n",
       "    <tr>\n",
       "      <th>0</th>\n",
       "      <td>Some models are managers and All models are cl...</td>\n",
       "      <td>1_0_R</td>\n",
       "    </tr>\n",
       "    <tr>\n",
       "      <th>1</th>\n",
       "      <td>No divers are carpenters and All linguists are...</td>\n",
       "      <td>1_1_R</td>\n",
       "    </tr>\n",
       "    <tr>\n",
       "      <th>2</th>\n",
       "      <td>All therapists are climbers and Some skaters a...</td>\n",
       "      <td>1_2_R</td>\n",
       "    </tr>\n",
       "    <tr>\n",
       "      <th>3</th>\n",
       "      <td>All bankers are golfers and All golfers are te...</td>\n",
       "      <td>1_3_R</td>\n",
       "    </tr>\n",
       "    <tr>\n",
       "      <th>4</th>\n",
       "      <td>Some boxers are not opticians and All boxers a...</td>\n",
       "      <td>1_4_R</td>\n",
       "    </tr>\n",
       "  </tbody>\n",
       "</table>\n",
       "</div>"
      ],
      "text/plain": [
       "                                           sentenced id_seq\n",
       "0  Some models are managers and All models are cl...  1_0_R\n",
       "1  No divers are carpenters and All linguists are...  1_1_R\n",
       "2  All therapists are climbers and Some skaters a...  1_2_R\n",
       "3  All bankers are golfers and All golfers are te...  1_3_R\n",
       "4  Some boxers are not opticians and All boxers a...  1_4_R"
      ]
     },
     "execution_count": 36,
     "metadata": {},
     "output_type": "execute_result"
    }
   ],
   "source": [
    "df_idseq.head()"
   ]
  },
  {
   "cell_type": "code",
   "execution_count": 38,
   "metadata": {},
   "outputs": [],
   "source": [
    "df_nlp_final = df_nlp_result.merge(df_idseq, how=\"left\", on ='id_seq')"
   ]
  },
  {
   "cell_type": "code",
   "execution_count": 41,
   "metadata": {},
   "outputs": [],
   "source": [
    "df_nlp_final = df_nlp_final.drop([\"Unnamed: 0\",\"id_seq\"], axis = 1)"
   ]
  },
  {
   "cell_type": "code",
   "execution_count": 44,
   "metadata": {},
   "outputs": [],
   "source": [
    "df_nlp_final.to_csv(\"./data/nlp_result_final.csv\", index=False)"
   ]
  },
  {
   "cell_type": "markdown",
   "metadata": {},
   "source": [
    "# Analyse subset"
   ]
  },
  {
   "cell_type": "code",
   "execution_count": null,
   "metadata": {},
   "outputs": [],
   "source": [
    "df_form = pd.read_csv(\"./data/form_data_final.csv\")\n",
    "df_nlp_result = pd.read_csv(\"./data/nlp_result_final.csv\")"
   ]
  },
  {
   "cell_type": "code",
   "execution_count": 77,
   "metadata": {},
   "outputs": [],
   "source": [
    "df_sub= df_nlp_result.merge(df_form, how=\"left\", on='task_form')"
   ]
  },
  {
   "cell_type": "code",
   "execution_count": 78,
   "metadata": {},
   "outputs": [
    {
     "data": {
      "text/plain": [
       "(6506, 12)"
      ]
     },
     "execution_count": 78,
     "metadata": {},
     "output_type": "execute_result"
    }
   ],
   "source": [
    "df_sub.shape"
   ]
  },
  {
   "cell_type": "code",
   "execution_count": 80,
   "metadata": {},
   "outputs": [
    {
     "data": {
      "text/plain": [
       "Index(['task_form', 'best_bert_00_index', 'bert_00success',\n",
       "       'best_mnli_00_index', 'mnli_00success', 'sentenced', 'has_conclusion',\n",
       "       'index_conclusion', 'implicatur', 'mode', 'signe', 'absurde'],\n",
       "      dtype='object')"
      ]
     },
     "execution_count": 80,
     "metadata": {},
     "output_type": "execute_result"
    }
   ],
   "source": [
    "df_sub.columns"
   ]
  },
  {
   "cell_type": "code",
   "execution_count": 82,
   "metadata": {},
   "outputs": [
    {
     "data": {
      "text/plain": [
       "(2709, 2)"
      ]
     },
     "execution_count": 82,
     "metadata": {},
     "output_type": "execute_result"
    }
   ],
   "source": [
    "df_sub.loc[ df_sub['has_conclusion']==True,['bert_00success', 'mnli_00success' ]].shape"
   ]
  },
  {
   "cell_type": "code",
   "execution_count": 81,
   "metadata": {},
   "outputs": [
    {
     "data": {
      "text/plain": [
       "bert_00success    0.194168\n",
       "mnli_00success    0.494647\n",
       "dtype: float64"
      ]
     },
     "execution_count": 81,
     "metadata": {},
     "output_type": "execute_result"
    }
   ],
   "source": [
    "df_sub.loc[ df_sub['has_conclusion']==True,['bert_00success', 'mnli_00success' ]].mean()"
   ]
  },
  {
   "cell_type": "markdown",
   "metadata": {},
   "source": [
    "# Final data set"
   ]
  },
  {
   "cell_type": "code",
   "execution_count": 3,
   "metadata": {},
   "outputs": [],
   "source": [
    "df_nlp_result = pd.read_csv(\"./data/nlp_result_final.csv\")\n",
    "df_form = pd.read_csv(\"./data/form_data_final.csv\")\n",
    "df_human = pd.read_csv(\"./data/human_data.csv\")"
   ]
  },
  {
   "cell_type": "code",
   "execution_count": 67,
   "metadata": {},
   "outputs": [],
   "source": [
    "df_final = df_human.merge(df_nlp_result, how=\"left\", on ='sentenced')\n",
    "df_final = df_final.merge(df_form, how=\"left\", left_on='task_form_x', right_on = \"task_form\")"
   ]
  },
  {
   "cell_type": "code",
   "execution_count": 68,
   "metadata": {},
   "outputs": [],
   "source": [
    "df_final = df_final.dropna()"
   ]
  },
  {
   "cell_type": "code",
   "execution_count": 69,
   "metadata": {},
   "outputs": [],
   "source": [
    "import ast\n",
    "df_final[\"human_success_bool\"] = df_final[[\"human_response_index\",\"index_conclusion\"]].apply(lambda x: x[0] in ast.literal_eval(x[1]), axis = 1)\n",
    "df_final[\"human_success\"] = df_final[\"human_success_bool\"].apply(lambda x: 1 if x == True else 0)"
   ]
  },
  {
   "cell_type": "code",
   "execution_count": 70,
   "metadata": {},
   "outputs": [],
   "source": [
    "df_final = df_final[[\"human_response_index\",\"human_success\",'best_bert_00_index', 'bert_00success',\n",
    "       'best_mnli_00_index', 'mnli_00success','task_form','implicatur', 'mode', 'signe', 'absurde']]"
   ]
  },
  {
   "cell_type": "code",
   "execution_count": 73,
   "metadata": {},
   "outputs": [],
   "source": [
    "df_final.to_csv(\"./data/df_final.csv\", index=False)"
   ]
  },
  {
   "cell_type": "code",
   "execution_count": 71,
   "metadata": {},
   "outputs": [
    {
     "data": {
      "text/html": [
       "<div>\n",
       "<style scoped>\n",
       "    .dataframe tbody tr th:only-of-type {\n",
       "        vertical-align: middle;\n",
       "    }\n",
       "\n",
       "    .dataframe tbody tr th {\n",
       "        vertical-align: top;\n",
       "    }\n",
       "\n",
       "    .dataframe thead th {\n",
       "        text-align: right;\n",
       "    }\n",
       "</style>\n",
       "<table border=\"1\" class=\"dataframe\">\n",
       "  <thead>\n",
       "    <tr style=\"text-align: right;\">\n",
       "      <th></th>\n",
       "      <th>human_response_index</th>\n",
       "      <th>human_success</th>\n",
       "      <th>best_bert_00_index</th>\n",
       "      <th>bert_00success</th>\n",
       "      <th>best_mnli_00_index</th>\n",
       "      <th>mnli_00success</th>\n",
       "      <th>task_form</th>\n",
       "      <th>implicatur</th>\n",
       "      <th>mode</th>\n",
       "      <th>signe</th>\n",
       "      <th>absurde</th>\n",
       "    </tr>\n",
       "  </thead>\n",
       "  <tbody>\n",
       "    <tr>\n",
       "      <th>0</th>\n",
       "      <td>2</td>\n",
       "      <td>1</td>\n",
       "      <td>2</td>\n",
       "      <td>1</td>\n",
       "      <td>2</td>\n",
       "      <td>1</td>\n",
       "      <td>IA4</td>\n",
       "      <td>False</td>\n",
       "      <td>particulier</td>\n",
       "      <td>positif</td>\n",
       "      <td>False</td>\n",
       "    </tr>\n",
       "    <tr>\n",
       "      <th>1</th>\n",
       "      <td>6</td>\n",
       "      <td>1</td>\n",
       "      <td>0</td>\n",
       "      <td>0</td>\n",
       "      <td>7</td>\n",
       "      <td>1</td>\n",
       "      <td>EA3</td>\n",
       "      <td>False</td>\n",
       "      <td>universel</td>\n",
       "      <td>negatif</td>\n",
       "      <td>False</td>\n",
       "    </tr>\n",
       "    <tr>\n",
       "      <th>2</th>\n",
       "      <td>3</td>\n",
       "      <td>1</td>\n",
       "      <td>3</td>\n",
       "      <td>1</td>\n",
       "      <td>2</td>\n",
       "      <td>1</td>\n",
       "      <td>AI2</td>\n",
       "      <td>False</td>\n",
       "      <td>particulier</td>\n",
       "      <td>positif</td>\n",
       "      <td>False</td>\n",
       "    </tr>\n",
       "    <tr>\n",
       "      <th>3</th>\n",
       "      <td>0</td>\n",
       "      <td>1</td>\n",
       "      <td>0</td>\n",
       "      <td>1</td>\n",
       "      <td>4</td>\n",
       "      <td>0</td>\n",
       "      <td>AA1</td>\n",
       "      <td>False</td>\n",
       "      <td>universel</td>\n",
       "      <td>positif</td>\n",
       "      <td>False</td>\n",
       "    </tr>\n",
       "    <tr>\n",
       "      <th>4</th>\n",
       "      <td>5</td>\n",
       "      <td>1</td>\n",
       "      <td>4</td>\n",
       "      <td>0</td>\n",
       "      <td>5</td>\n",
       "      <td>1</td>\n",
       "      <td>OA4</td>\n",
       "      <td>False</td>\n",
       "      <td>particulier</td>\n",
       "      <td>negatif</td>\n",
       "      <td>True</td>\n",
       "    </tr>\n",
       "  </tbody>\n",
       "</table>\n",
       "</div>"
      ],
      "text/plain": [
       "   human_response_index  human_success  best_bert_00_index  bert_00success  \\\n",
       "0                     2              1                   2               1   \n",
       "1                     6              1                   0               0   \n",
       "2                     3              1                   3               1   \n",
       "3                     0              1                   0               1   \n",
       "4                     5              1                   4               0   \n",
       "\n",
       "   best_mnli_00_index  mnli_00success task_form implicatur         mode  \\\n",
       "0                   2               1       IA4      False  particulier   \n",
       "1                   7               1       EA3      False    universel   \n",
       "2                   2               1       AI2      False  particulier   \n",
       "3                   4               0       AA1      False    universel   \n",
       "4                   5               1       OA4      False  particulier   \n",
       "\n",
       "     signe absurde  \n",
       "0  positif   False  \n",
       "1  negatif   False  \n",
       "2  positif   False  \n",
       "3  positif   False  \n",
       "4  negatif    True  "
      ]
     },
     "execution_count": 71,
     "metadata": {},
     "output_type": "execute_result"
    }
   ],
   "source": [
    "df_final.head()"
   ]
  },
  {
   "cell_type": "code",
   "execution_count": 72,
   "metadata": {},
   "outputs": [
    {
     "name": "stdout",
     "output_type": "stream",
     "text": [
      "<class 'pandas.core.frame.DataFrame'>\n",
      "Int64Index: 4621 entries, 0 to 10952\n",
      "Data columns (total 11 columns):\n",
      " #   Column                Non-Null Count  Dtype \n",
      "---  ------                --------------  ----- \n",
      " 0   human_response_index  4621 non-null   int64 \n",
      " 1   human_success         4621 non-null   int64 \n",
      " 2   best_bert_00_index    4621 non-null   int64 \n",
      " 3   bert_00success        4621 non-null   int64 \n",
      " 4   best_mnli_00_index    4621 non-null   int64 \n",
      " 5   mnli_00success        4621 non-null   int64 \n",
      " 6   task_form             4621 non-null   object\n",
      " 7   implicatur            4621 non-null   object\n",
      " 8   mode                  4621 non-null   object\n",
      " 9   signe                 4621 non-null   object\n",
      " 10  absurde               4621 non-null   object\n",
      "dtypes: int64(6), object(5)\n",
      "memory usage: 433.2+ KB\n"
     ]
    }
   ],
   "source": [
    "df_final.info()"
   ]
  },
  {
   "cell_type": "markdown",
   "metadata": {},
   "source": [
    "# Analyse conclusion type"
   ]
  },
  {
   "cell_type": "code",
   "execution_count": 83,
   "metadata": {},
   "outputs": [
    {
     "data": {
      "text/plain": [
       "2    1768\n",
       "0    1332\n",
       "1     594\n",
       "3     543\n",
       "4     188\n",
       "5     163\n",
       "7      17\n",
       "6      16\n",
       "Name: best_bert_00_index, dtype: int64"
      ]
     },
     "execution_count": 83,
     "metadata": {},
     "output_type": "execute_result"
    }
   ],
   "source": [
    "df_final[\"best_bert_00_index\"].value_counts()"
   ]
  },
  {
   "cell_type": "code",
   "execution_count": 84,
   "metadata": {},
   "outputs": [
    {
     "data": {
      "text/plain": [
       "6    1182\n",
       "5    1057\n",
       "4     759\n",
       "7     569\n",
       "0     464\n",
       "2     416\n",
       "1      97\n",
       "3      77\n",
       "Name: best_mnli_00_index, dtype: int64"
      ]
     },
     "execution_count": 84,
     "metadata": {},
     "output_type": "execute_result"
    }
   ],
   "source": [
    "df_final[\"best_mnli_00_index\"].value_counts()"
   ]
  },
  {
   "cell_type": "code",
   "execution_count": 85,
   "metadata": {},
   "outputs": [
    {
     "data": {
      "text/plain": [
       "8    705\n",
       "6    702\n",
       "7    611\n",
       "5    577\n",
       "4    573\n",
       "2    543\n",
       "3    468\n",
       "0    267\n",
       "1    175\n",
       "Name: human_response_index, dtype: int64"
      ]
     },
     "execution_count": 85,
     "metadata": {},
     "output_type": "execute_result"
    }
   ],
   "source": [
    "df_final[\"human_response_index\"].value_counts()"
   ]
  },
  {
   "cell_type": "code",
   "execution_count": 86,
   "metadata": {},
   "outputs": [
    {
     "data": {
      "text/html": [
       "<div>\n",
       "<style scoped>\n",
       "    .dataframe tbody tr th:only-of-type {\n",
       "        vertical-align: middle;\n",
       "    }\n",
       "\n",
       "    .dataframe tbody tr th {\n",
       "        vertical-align: top;\n",
       "    }\n",
       "\n",
       "    .dataframe thead th {\n",
       "        text-align: right;\n",
       "    }\n",
       "</style>\n",
       "<table border=\"1\" class=\"dataframe\">\n",
       "  <thead>\n",
       "    <tr style=\"text-align: right;\">\n",
       "      <th></th>\n",
       "      <th>task_form</th>\n",
       "      <th>has_conclusion</th>\n",
       "      <th>index_conclusion</th>\n",
       "      <th>implicatur</th>\n",
       "      <th>mode</th>\n",
       "      <th>signe</th>\n",
       "      <th>absurde</th>\n",
       "    </tr>\n",
       "  </thead>\n",
       "  <tbody>\n",
       "    <tr>\n",
       "      <th>0</th>\n",
       "      <td>IA4</td>\n",
       "      <td>True</td>\n",
       "      <td>[2, 5]</td>\n",
       "      <td>False</td>\n",
       "      <td>particulier</td>\n",
       "      <td>positif</td>\n",
       "      <td>False</td>\n",
       "    </tr>\n",
       "    <tr>\n",
       "      <th>1</th>\n",
       "      <td>EA3</td>\n",
       "      <td>True</td>\n",
       "      <td>[4, 5, 6, 7]</td>\n",
       "      <td>False</td>\n",
       "      <td>universel</td>\n",
       "      <td>negatif</td>\n",
       "      <td>False</td>\n",
       "    </tr>\n",
       "    <tr>\n",
       "      <th>2</th>\n",
       "      <td>AI2</td>\n",
       "      <td>True</td>\n",
       "      <td>[2, 3]</td>\n",
       "      <td>False</td>\n",
       "      <td>particulier</td>\n",
       "      <td>positif</td>\n",
       "      <td>False</td>\n",
       "    </tr>\n",
       "    <tr>\n",
       "      <th>3</th>\n",
       "      <td>AA1</td>\n",
       "      <td>True</td>\n",
       "      <td>[0, 2, 3]</td>\n",
       "      <td>False</td>\n",
       "      <td>universel</td>\n",
       "      <td>positif</td>\n",
       "      <td>False</td>\n",
       "    </tr>\n",
       "    <tr>\n",
       "      <th>4</th>\n",
       "      <td>OA4</td>\n",
       "      <td>True</td>\n",
       "      <td>[5]</td>\n",
       "      <td>False</td>\n",
       "      <td>particulier</td>\n",
       "      <td>negatif</td>\n",
       "      <td>True</td>\n",
       "    </tr>\n",
       "    <tr>\n",
       "      <th>5</th>\n",
       "      <td>AO3</td>\n",
       "      <td>True</td>\n",
       "      <td>[5]</td>\n",
       "      <td>False</td>\n",
       "      <td>particulier</td>\n",
       "      <td>negatif</td>\n",
       "      <td>True</td>\n",
       "    </tr>\n",
       "    <tr>\n",
       "      <th>6</th>\n",
       "      <td>AE3</td>\n",
       "      <td>True</td>\n",
       "      <td>[4, 5, 6, 7]</td>\n",
       "      <td>False</td>\n",
       "      <td>universel</td>\n",
       "      <td>negatif</td>\n",
       "      <td>False</td>\n",
       "    </tr>\n",
       "    <tr>\n",
       "      <th>7</th>\n",
       "      <td>EI3</td>\n",
       "      <td>True</td>\n",
       "      <td>[5]</td>\n",
       "      <td>False</td>\n",
       "      <td>particulier</td>\n",
       "      <td>negatif</td>\n",
       "      <td>False</td>\n",
       "    </tr>\n",
       "    <tr>\n",
       "      <th>8</th>\n",
       "      <td>EI2</td>\n",
       "      <td>True</td>\n",
       "      <td>[5]</td>\n",
       "      <td>False</td>\n",
       "      <td>particulier</td>\n",
       "      <td>negatif</td>\n",
       "      <td>False</td>\n",
       "    </tr>\n",
       "    <tr>\n",
       "      <th>9</th>\n",
       "      <td>EA1</td>\n",
       "      <td>True</td>\n",
       "      <td>[5]</td>\n",
       "      <td>True</td>\n",
       "      <td>universel</td>\n",
       "      <td>negatif</td>\n",
       "      <td>False</td>\n",
       "    </tr>\n",
       "    <tr>\n",
       "      <th>10</th>\n",
       "      <td>IE3</td>\n",
       "      <td>True</td>\n",
       "      <td>[4]</td>\n",
       "      <td>False</td>\n",
       "      <td>particulier</td>\n",
       "      <td>negatif</td>\n",
       "      <td>False</td>\n",
       "    </tr>\n",
       "    <tr>\n",
       "      <th>11</th>\n",
       "      <td>AA2</td>\n",
       "      <td>True</td>\n",
       "      <td>[1, 2, 3]</td>\n",
       "      <td>False</td>\n",
       "      <td>universel</td>\n",
       "      <td>positif</td>\n",
       "      <td>False</td>\n",
       "    </tr>\n",
       "    <tr>\n",
       "      <th>12</th>\n",
       "      <td>OA3</td>\n",
       "      <td>True</td>\n",
       "      <td>[4]</td>\n",
       "      <td>False</td>\n",
       "      <td>particulier</td>\n",
       "      <td>negatif</td>\n",
       "      <td>True</td>\n",
       "    </tr>\n",
       "    <tr>\n",
       "      <th>13</th>\n",
       "      <td>AI4</td>\n",
       "      <td>True</td>\n",
       "      <td>[2, 3]</td>\n",
       "      <td>False</td>\n",
       "      <td>particulier</td>\n",
       "      <td>positif</td>\n",
       "      <td>False</td>\n",
       "    </tr>\n",
       "    <tr>\n",
       "      <th>14</th>\n",
       "      <td>IE4</td>\n",
       "      <td>True</td>\n",
       "      <td>[4]</td>\n",
       "      <td>False</td>\n",
       "      <td>particulier</td>\n",
       "      <td>negatif</td>\n",
       "      <td>False</td>\n",
       "    </tr>\n",
       "    <tr>\n",
       "      <th>15</th>\n",
       "      <td>AA4</td>\n",
       "      <td>True</td>\n",
       "      <td>[2, 3]</td>\n",
       "      <td>True</td>\n",
       "      <td>universel</td>\n",
       "      <td>positif</td>\n",
       "      <td>False</td>\n",
       "    </tr>\n",
       "    <tr>\n",
       "      <th>16</th>\n",
       "      <td>AE4</td>\n",
       "      <td>True</td>\n",
       "      <td>[4]</td>\n",
       "      <td>True</td>\n",
       "      <td>universel</td>\n",
       "      <td>negatif</td>\n",
       "      <td>False</td>\n",
       "    </tr>\n",
       "    <tr>\n",
       "      <th>17</th>\n",
       "      <td>IA1</td>\n",
       "      <td>True</td>\n",
       "      <td>[2, 5]</td>\n",
       "      <td>False</td>\n",
       "      <td>particulier</td>\n",
       "      <td>positif</td>\n",
       "      <td>False</td>\n",
       "    </tr>\n",
       "    <tr>\n",
       "      <th>18</th>\n",
       "      <td>AE1</td>\n",
       "      <td>True</td>\n",
       "      <td>[4, 5, 6, 7]</td>\n",
       "      <td>False</td>\n",
       "      <td>universel</td>\n",
       "      <td>negatif</td>\n",
       "      <td>False</td>\n",
       "    </tr>\n",
       "    <tr>\n",
       "      <th>19</th>\n",
       "      <td>EI1</td>\n",
       "      <td>True</td>\n",
       "      <td>[5]</td>\n",
       "      <td>False</td>\n",
       "      <td>particulier</td>\n",
       "      <td>negatif</td>\n",
       "      <td>False</td>\n",
       "    </tr>\n",
       "    <tr>\n",
       "      <th>20</th>\n",
       "      <td>AO4</td>\n",
       "      <td>True</td>\n",
       "      <td>[4]</td>\n",
       "      <td>False</td>\n",
       "      <td>particulier</td>\n",
       "      <td>negatif</td>\n",
       "      <td>True</td>\n",
       "    </tr>\n",
       "    <tr>\n",
       "      <th>21</th>\n",
       "      <td>EA2</td>\n",
       "      <td>True</td>\n",
       "      <td>[4, 5, 6, 7]</td>\n",
       "      <td>False</td>\n",
       "      <td>universel</td>\n",
       "      <td>negatif</td>\n",
       "      <td>False</td>\n",
       "    </tr>\n",
       "    <tr>\n",
       "      <th>22</th>\n",
       "      <td>IE1</td>\n",
       "      <td>True</td>\n",
       "      <td>[4]</td>\n",
       "      <td>False</td>\n",
       "      <td>particulier</td>\n",
       "      <td>negatif</td>\n",
       "      <td>False</td>\n",
       "    </tr>\n",
       "    <tr>\n",
       "      <th>23</th>\n",
       "      <td>AE2</td>\n",
       "      <td>True</td>\n",
       "      <td>[4]</td>\n",
       "      <td>True</td>\n",
       "      <td>universel</td>\n",
       "      <td>negatif</td>\n",
       "      <td>False</td>\n",
       "    </tr>\n",
       "    <tr>\n",
       "      <th>24</th>\n",
       "      <td>IE2</td>\n",
       "      <td>True</td>\n",
       "      <td>[4]</td>\n",
       "      <td>False</td>\n",
       "      <td>particulier</td>\n",
       "      <td>negatif</td>\n",
       "      <td>False</td>\n",
       "    </tr>\n",
       "    <tr>\n",
       "      <th>25</th>\n",
       "      <td>EA4</td>\n",
       "      <td>True</td>\n",
       "      <td>[5]</td>\n",
       "      <td>True</td>\n",
       "      <td>universel</td>\n",
       "      <td>negatif</td>\n",
       "      <td>False</td>\n",
       "    </tr>\n",
       "    <tr>\n",
       "      <th>26</th>\n",
       "      <td>EI4</td>\n",
       "      <td>True</td>\n",
       "      <td>[5]</td>\n",
       "      <td>False</td>\n",
       "      <td>particulier</td>\n",
       "      <td>negatif</td>\n",
       "      <td>False</td>\n",
       "    </tr>\n",
       "  </tbody>\n",
       "</table>\n",
       "</div>"
      ],
      "text/plain": [
       "   task_form  has_conclusion index_conclusion  implicatur         mode  \\\n",
       "0        IA4            True           [2, 5]       False  particulier   \n",
       "1        EA3            True     [4, 5, 6, 7]       False    universel   \n",
       "2        AI2            True           [2, 3]       False  particulier   \n",
       "3        AA1            True        [0, 2, 3]       False    universel   \n",
       "4        OA4            True              [5]       False  particulier   \n",
       "5        AO3            True              [5]       False  particulier   \n",
       "6        AE3            True     [4, 5, 6, 7]       False    universel   \n",
       "7        EI3            True              [5]       False  particulier   \n",
       "8        EI2            True              [5]       False  particulier   \n",
       "9        EA1            True              [5]        True    universel   \n",
       "10       IE3            True              [4]       False  particulier   \n",
       "11       AA2            True        [1, 2, 3]       False    universel   \n",
       "12       OA3            True              [4]       False  particulier   \n",
       "13       AI4            True           [2, 3]       False  particulier   \n",
       "14       IE4            True              [4]       False  particulier   \n",
       "15       AA4            True           [2, 3]        True    universel   \n",
       "16       AE4            True              [4]        True    universel   \n",
       "17       IA1            True           [2, 5]       False  particulier   \n",
       "18       AE1            True     [4, 5, 6, 7]       False    universel   \n",
       "19       EI1            True              [5]       False  particulier   \n",
       "20       AO4            True              [4]       False  particulier   \n",
       "21       EA2            True     [4, 5, 6, 7]       False    universel   \n",
       "22       IE1            True              [4]       False  particulier   \n",
       "23       AE2            True              [4]        True    universel   \n",
       "24       IE2            True              [4]       False  particulier   \n",
       "25       EA4            True              [5]        True    universel   \n",
       "26       EI4            True              [5]       False  particulier   \n",
       "\n",
       "      signe  absurde  \n",
       "0   positif    False  \n",
       "1   negatif    False  \n",
       "2   positif    False  \n",
       "3   positif    False  \n",
       "4   negatif     True  \n",
       "5   negatif     True  \n",
       "6   negatif    False  \n",
       "7   negatif    False  \n",
       "8   negatif    False  \n",
       "9   negatif    False  \n",
       "10  negatif    False  \n",
       "11  positif    False  \n",
       "12  negatif     True  \n",
       "13  positif    False  \n",
       "14  negatif    False  \n",
       "15  positif    False  \n",
       "16  negatif    False  \n",
       "17  positif    False  \n",
       "18  negatif    False  \n",
       "19  negatif    False  \n",
       "20  negatif     True  \n",
       "21  negatif    False  \n",
       "22  negatif    False  \n",
       "23  negatif    False  \n",
       "24  negatif    False  \n",
       "25  negatif    False  \n",
       "26  negatif    False  "
      ]
     },
     "execution_count": 86,
     "metadata": {},
     "output_type": "execute_result"
    }
   ],
   "source": [
    "df_form = pd.read_csv(\"./data/form_data_final.csv\")\n"
   ]
  },
  {
   "cell_type": "code",
   "execution_count": 92,
   "metadata": {},
   "outputs": [
    {
     "data": {
      "text/plain": [
       "{0: 1, 1: 1, 2: 7, 3: 5, 4: 12, 5: 14, 6: 4, 7: 4}"
      ]
     },
     "execution_count": 92,
     "metadata": {},
     "output_type": "execute_result"
    }
   ],
   "source": [
    "import ast\n",
    "\n",
    "from pandas import DataFrame\n",
    "\n",
    "my_dict = {0:0,1:0,2:0,3:0,4:0,5:0,6:0,7:0}\n",
    "\n",
    "for row in df_form.index_conclusion:\n",
    "    for e in ast.literal_eval(row):\n",
    "        my_dict[e] += 1\n"
   ]
  },
  {
   "cell_type": "code",
   "execution_count": 98,
   "metadata": {},
   "outputs": [
    {
     "data": {
      "text/plain": [
       "0    0.020833\n",
       "1    0.020833\n",
       "2    0.145833\n",
       "3    0.104167\n",
       "4    0.250000\n",
       "5    0.291667\n",
       "6    0.083333\n",
       "7    0.083333\n",
       "dtype: float64"
      ]
     },
     "execution_count": 98,
     "metadata": {},
     "output_type": "execute_result"
    }
   ],
   "source": [
    "df_ccl_freq = pd.Series(my_dict)\n",
    "df_ccl_freq = df_ccl_freq / df_ccl_freq.sum()\n",
    "df_ccl_freq"
   ]
  },
  {
   "cell_type": "code",
   "execution_count": 100,
   "metadata": {},
   "outputs": [],
   "source": [
    "df_ccl_freq.to_csv(\"./data/ccl_freq.csv\")"
   ]
  },
  {
   "cell_type": "markdown",
   "metadata": {},
   "source": [
    "# When right"
   ]
  },
  {
   "cell_type": "code",
   "execution_count": 101,
   "metadata": {},
   "outputs": [
    {
     "data": {
      "text/plain": [
       "(27, 7)"
      ]
     },
     "execution_count": 101,
     "metadata": {},
     "output_type": "execute_result"
    }
   ],
   "source": [
    "df_form.shape"
   ]
  },
  {
   "cell_type": "code",
   "execution_count": 103,
   "metadata": {},
   "outputs": [
    {
     "data": {
      "text/plain": [
       "0.2222222222222222"
      ]
     },
     "execution_count": 103,
     "metadata": {},
     "output_type": "execute_result"
    }
   ],
   "source": [
    "df_random= pd.Series(my_dict)\n",
    "df_random = df_random / 27\n",
    "df_random.mean()"
   ]
  },
  {
   "cell_type": "markdown",
   "metadata": {},
   "source": [
    "# Random for alls"
   ]
  },
  {
   "cell_type": "code",
   "execution_count": 121,
   "metadata": {},
   "outputs": [
    {
     "data": {
      "text/plain": [
       "Index(['task_form', 'has_conclusion', 'index_conclusion', 'implicatur', 'mode',\n",
       "       'signe', 'absurde'],\n",
       "      dtype='object')"
      ]
     },
     "execution_count": 121,
     "metadata": {},
     "output_type": "execute_result"
    }
   ],
   "source": [
    "df_form.columns"
   ]
  },
  {
   "cell_type": "code",
   "execution_count": 122,
   "metadata": {},
   "outputs": [],
   "source": [
    "df_form[\"random_succes\"] = df_form[\"index_conclusion\"].apply(lambda x : 0.125 * len(ast.literal_eval(x)))"
   ]
  },
  {
   "cell_type": "code",
   "execution_count": 129,
   "metadata": {},
   "outputs": [],
   "source": [
    "df_form[[\"random_succes\",\"task_form\"]].set_index(\"task_form\").to_csv(\"./data/random_success.csv\")"
   ]
  },
  {
   "cell_type": "markdown",
   "metadata": {},
   "source": [
    "# Analyse only on negativ"
   ]
  },
  {
   "cell_type": "code",
   "execution_count": null,
   "metadata": {},
   "outputs": [
    {
     "data": {
      "text/plain": [
       "negatif    20\n",
       "positif     7\n",
       "Name: signe, dtype: int64"
      ]
     },
     "metadata": {},
     "output_type": "display_data"
    }
   ],
   "source": [
    "df_form.signe.value_counts()"
   ]
  },
  {
   "cell_type": "code",
   "execution_count": 130,
   "metadata": {},
   "outputs": [
    {
     "data": {
      "text/html": [
       "<div>\n",
       "<style scoped>\n",
       "    .dataframe tbody tr th:only-of-type {\n",
       "        vertical-align: middle;\n",
       "    }\n",
       "\n",
       "    .dataframe tbody tr th {\n",
       "        vertical-align: top;\n",
       "    }\n",
       "\n",
       "    .dataframe thead th {\n",
       "        text-align: right;\n",
       "    }\n",
       "</style>\n",
       "<table border=\"1\" class=\"dataframe\">\n",
       "  <thead>\n",
       "    <tr style=\"text-align: right;\">\n",
       "      <th></th>\n",
       "      <th>task_form</th>\n",
       "      <th>has_conclusion</th>\n",
       "      <th>index_conclusion</th>\n",
       "      <th>implicatur</th>\n",
       "      <th>mode</th>\n",
       "      <th>signe</th>\n",
       "      <th>absurde</th>\n",
       "      <th>random_succes</th>\n",
       "    </tr>\n",
       "  </thead>\n",
       "  <tbody>\n",
       "    <tr>\n",
       "      <th>1</th>\n",
       "      <td>EA3</td>\n",
       "      <td>True</td>\n",
       "      <td>[4, 5, 6, 7]</td>\n",
       "      <td>False</td>\n",
       "      <td>universel</td>\n",
       "      <td>negatif</td>\n",
       "      <td>False</td>\n",
       "      <td>0.500</td>\n",
       "    </tr>\n",
       "    <tr>\n",
       "      <th>4</th>\n",
       "      <td>OA4</td>\n",
       "      <td>True</td>\n",
       "      <td>[5]</td>\n",
       "      <td>False</td>\n",
       "      <td>particulier</td>\n",
       "      <td>negatif</td>\n",
       "      <td>True</td>\n",
       "      <td>0.125</td>\n",
       "    </tr>\n",
       "    <tr>\n",
       "      <th>5</th>\n",
       "      <td>AO3</td>\n",
       "      <td>True</td>\n",
       "      <td>[5]</td>\n",
       "      <td>False</td>\n",
       "      <td>particulier</td>\n",
       "      <td>negatif</td>\n",
       "      <td>True</td>\n",
       "      <td>0.125</td>\n",
       "    </tr>\n",
       "    <tr>\n",
       "      <th>6</th>\n",
       "      <td>AE3</td>\n",
       "      <td>True</td>\n",
       "      <td>[4, 5, 6, 7]</td>\n",
       "      <td>False</td>\n",
       "      <td>universel</td>\n",
       "      <td>negatif</td>\n",
       "      <td>False</td>\n",
       "      <td>0.500</td>\n",
       "    </tr>\n",
       "    <tr>\n",
       "      <th>7</th>\n",
       "      <td>EI3</td>\n",
       "      <td>True</td>\n",
       "      <td>[5]</td>\n",
       "      <td>False</td>\n",
       "      <td>particulier</td>\n",
       "      <td>negatif</td>\n",
       "      <td>False</td>\n",
       "      <td>0.125</td>\n",
       "    </tr>\n",
       "    <tr>\n",
       "      <th>8</th>\n",
       "      <td>EI2</td>\n",
       "      <td>True</td>\n",
       "      <td>[5]</td>\n",
       "      <td>False</td>\n",
       "      <td>particulier</td>\n",
       "      <td>negatif</td>\n",
       "      <td>False</td>\n",
       "      <td>0.125</td>\n",
       "    </tr>\n",
       "    <tr>\n",
       "      <th>9</th>\n",
       "      <td>EA1</td>\n",
       "      <td>True</td>\n",
       "      <td>[5]</td>\n",
       "      <td>True</td>\n",
       "      <td>universel</td>\n",
       "      <td>negatif</td>\n",
       "      <td>False</td>\n",
       "      <td>0.125</td>\n",
       "    </tr>\n",
       "    <tr>\n",
       "      <th>10</th>\n",
       "      <td>IE3</td>\n",
       "      <td>True</td>\n",
       "      <td>[4]</td>\n",
       "      <td>False</td>\n",
       "      <td>particulier</td>\n",
       "      <td>negatif</td>\n",
       "      <td>False</td>\n",
       "      <td>0.125</td>\n",
       "    </tr>\n",
       "    <tr>\n",
       "      <th>12</th>\n",
       "      <td>OA3</td>\n",
       "      <td>True</td>\n",
       "      <td>[4]</td>\n",
       "      <td>False</td>\n",
       "      <td>particulier</td>\n",
       "      <td>negatif</td>\n",
       "      <td>True</td>\n",
       "      <td>0.125</td>\n",
       "    </tr>\n",
       "    <tr>\n",
       "      <th>14</th>\n",
       "      <td>IE4</td>\n",
       "      <td>True</td>\n",
       "      <td>[4]</td>\n",
       "      <td>False</td>\n",
       "      <td>particulier</td>\n",
       "      <td>negatif</td>\n",
       "      <td>False</td>\n",
       "      <td>0.125</td>\n",
       "    </tr>\n",
       "    <tr>\n",
       "      <th>16</th>\n",
       "      <td>AE4</td>\n",
       "      <td>True</td>\n",
       "      <td>[4]</td>\n",
       "      <td>True</td>\n",
       "      <td>universel</td>\n",
       "      <td>negatif</td>\n",
       "      <td>False</td>\n",
       "      <td>0.125</td>\n",
       "    </tr>\n",
       "    <tr>\n",
       "      <th>18</th>\n",
       "      <td>AE1</td>\n",
       "      <td>True</td>\n",
       "      <td>[4, 5, 6, 7]</td>\n",
       "      <td>False</td>\n",
       "      <td>universel</td>\n",
       "      <td>negatif</td>\n",
       "      <td>False</td>\n",
       "      <td>0.500</td>\n",
       "    </tr>\n",
       "    <tr>\n",
       "      <th>19</th>\n",
       "      <td>EI1</td>\n",
       "      <td>True</td>\n",
       "      <td>[5]</td>\n",
       "      <td>False</td>\n",
       "      <td>particulier</td>\n",
       "      <td>negatif</td>\n",
       "      <td>False</td>\n",
       "      <td>0.125</td>\n",
       "    </tr>\n",
       "    <tr>\n",
       "      <th>20</th>\n",
       "      <td>AO4</td>\n",
       "      <td>True</td>\n",
       "      <td>[4]</td>\n",
       "      <td>False</td>\n",
       "      <td>particulier</td>\n",
       "      <td>negatif</td>\n",
       "      <td>True</td>\n",
       "      <td>0.125</td>\n",
       "    </tr>\n",
       "    <tr>\n",
       "      <th>21</th>\n",
       "      <td>EA2</td>\n",
       "      <td>True</td>\n",
       "      <td>[4, 5, 6, 7]</td>\n",
       "      <td>False</td>\n",
       "      <td>universel</td>\n",
       "      <td>negatif</td>\n",
       "      <td>False</td>\n",
       "      <td>0.500</td>\n",
       "    </tr>\n",
       "    <tr>\n",
       "      <th>22</th>\n",
       "      <td>IE1</td>\n",
       "      <td>True</td>\n",
       "      <td>[4]</td>\n",
       "      <td>False</td>\n",
       "      <td>particulier</td>\n",
       "      <td>negatif</td>\n",
       "      <td>False</td>\n",
       "      <td>0.125</td>\n",
       "    </tr>\n",
       "    <tr>\n",
       "      <th>23</th>\n",
       "      <td>AE2</td>\n",
       "      <td>True</td>\n",
       "      <td>[4]</td>\n",
       "      <td>True</td>\n",
       "      <td>universel</td>\n",
       "      <td>negatif</td>\n",
       "      <td>False</td>\n",
       "      <td>0.125</td>\n",
       "    </tr>\n",
       "    <tr>\n",
       "      <th>24</th>\n",
       "      <td>IE2</td>\n",
       "      <td>True</td>\n",
       "      <td>[4]</td>\n",
       "      <td>False</td>\n",
       "      <td>particulier</td>\n",
       "      <td>negatif</td>\n",
       "      <td>False</td>\n",
       "      <td>0.125</td>\n",
       "    </tr>\n",
       "    <tr>\n",
       "      <th>25</th>\n",
       "      <td>EA4</td>\n",
       "      <td>True</td>\n",
       "      <td>[5]</td>\n",
       "      <td>True</td>\n",
       "      <td>universel</td>\n",
       "      <td>negatif</td>\n",
       "      <td>False</td>\n",
       "      <td>0.125</td>\n",
       "    </tr>\n",
       "    <tr>\n",
       "      <th>26</th>\n",
       "      <td>EI4</td>\n",
       "      <td>True</td>\n",
       "      <td>[5]</td>\n",
       "      <td>False</td>\n",
       "      <td>particulier</td>\n",
       "      <td>negatif</td>\n",
       "      <td>False</td>\n",
       "      <td>0.125</td>\n",
       "    </tr>\n",
       "  </tbody>\n",
       "</table>\n",
       "</div>"
      ],
      "text/plain": [
       "   task_form  has_conclusion index_conclusion  implicatur         mode  \\\n",
       "1        EA3            True     [4, 5, 6, 7]       False    universel   \n",
       "4        OA4            True              [5]       False  particulier   \n",
       "5        AO3            True              [5]       False  particulier   \n",
       "6        AE3            True     [4, 5, 6, 7]       False    universel   \n",
       "7        EI3            True              [5]       False  particulier   \n",
       "8        EI2            True              [5]       False  particulier   \n",
       "9        EA1            True              [5]        True    universel   \n",
       "10       IE3            True              [4]       False  particulier   \n",
       "12       OA3            True              [4]       False  particulier   \n",
       "14       IE4            True              [4]       False  particulier   \n",
       "16       AE4            True              [4]        True    universel   \n",
       "18       AE1            True     [4, 5, 6, 7]       False    universel   \n",
       "19       EI1            True              [5]       False  particulier   \n",
       "20       AO4            True              [4]       False  particulier   \n",
       "21       EA2            True     [4, 5, 6, 7]       False    universel   \n",
       "22       IE1            True              [4]       False  particulier   \n",
       "23       AE2            True              [4]        True    universel   \n",
       "24       IE2            True              [4]       False  particulier   \n",
       "25       EA4            True              [5]        True    universel   \n",
       "26       EI4            True              [5]       False  particulier   \n",
       "\n",
       "      signe  absurde  random_succes  \n",
       "1   negatif    False          0.500  \n",
       "4   negatif     True          0.125  \n",
       "5   negatif     True          0.125  \n",
       "6   negatif    False          0.500  \n",
       "7   negatif    False          0.125  \n",
       "8   negatif    False          0.125  \n",
       "9   negatif    False          0.125  \n",
       "10  negatif    False          0.125  \n",
       "12  negatif     True          0.125  \n",
       "14  negatif    False          0.125  \n",
       "16  negatif    False          0.125  \n",
       "18  negatif    False          0.500  \n",
       "19  negatif    False          0.125  \n",
       "20  negatif     True          0.125  \n",
       "21  negatif    False          0.500  \n",
       "22  negatif    False          0.125  \n",
       "23  negatif    False          0.125  \n",
       "24  negatif    False          0.125  \n",
       "25  negatif    False          0.125  \n",
       "26  negatif    False          0.125  "
      ]
     },
     "execution_count": 130,
     "metadata": {},
     "output_type": "execute_result"
    }
   ],
   "source": [
    "\n",
    "\n",
    "df_form_negativ = df_form.loc[df_form.signe == \"negatif\",:]\n",
    "\n",
    "df_form_negativ"
   ]
  },
  {
   "cell_type": "code",
   "execution_count": 131,
   "metadata": {},
   "outputs": [],
   "source": [
    "from pandas import DataFrame\n",
    "import ast\n",
    "my_dict_neg = {0:0,1:0,2:0,3:0,4:0,5:0,6:0,7:0}\n",
    "\n",
    "for row in df_form_negativ.index_conclusion:\n",
    "    for e in ast.literal_eval(row):\n",
    "        my_dict_neg[e] += 1"
   ]
  },
  {
   "cell_type": "code",
   "execution_count": 132,
   "metadata": {},
   "outputs": [
    {
     "data": {
      "text/plain": [
       "(20, 8)"
      ]
     },
     "execution_count": 132,
     "metadata": {},
     "output_type": "execute_result"
    }
   ],
   "source": [
    "df_form_negativ.shape"
   ]
  },
  {
   "cell_type": "code",
   "execution_count": 134,
   "metadata": {},
   "outputs": [
    {
     "data": {
      "text/plain": [
       "{0: 0, 1: 0, 2: 0, 3: 0, 4: 12, 5: 12, 6: 4, 7: 4}"
      ]
     },
     "execution_count": 134,
     "metadata": {},
     "output_type": "execute_result"
    }
   ],
   "source": [
    "my_dict_neg"
   ]
  },
  {
   "cell_type": "code",
   "execution_count": 135,
   "metadata": {},
   "outputs": [
    {
     "data": {
      "text/plain": [
       "0    0.0\n",
       "1    0.0\n",
       "2    0.0\n",
       "3    0.0\n",
       "4    0.6\n",
       "5    0.6\n",
       "6    0.2\n",
       "7    0.2\n",
       "dtype: float64"
      ]
     },
     "execution_count": 135,
     "metadata": {},
     "output_type": "execute_result"
    }
   ],
   "source": [
    "df_random_ng= pd.Series(my_dict_neg)\n",
    "df_random_ng = df_random_ng / 20\n",
    "df_random_ng"
   ]
  },
  {
   "cell_type": "code",
   "execution_count": 136,
   "metadata": {},
   "outputs": [
    {
     "data": {
      "text/plain": [
       "0.2"
      ]
     },
     "execution_count": 136,
     "metadata": {},
     "output_type": "execute_result"
    }
   ],
   "source": [
    "df_random_ng.mean()"
   ]
  },
  {
   "cell_type": "markdown",
   "metadata": {},
   "source": [
    "# Analyse only on positive"
   ]
  },
  {
   "cell_type": "code",
   "execution_count": null,
   "metadata": {},
   "outputs": [
    {
     "data": {
      "text/html": [
       "<div>\n",
       "<style scoped>\n",
       "    .dataframe tbody tr th:only-of-type {\n",
       "        vertical-align: middle;\n",
       "    }\n",
       "\n",
       "    .dataframe tbody tr th {\n",
       "        vertical-align: top;\n",
       "    }\n",
       "\n",
       "    .dataframe thead th {\n",
       "        text-align: right;\n",
       "    }\n",
       "</style>\n",
       "<table border=\"1\" class=\"dataframe\">\n",
       "  <thead>\n",
       "    <tr style=\"text-align: right;\">\n",
       "      <th></th>\n",
       "      <th>task_form</th>\n",
       "      <th>has_conclusion</th>\n",
       "      <th>index_conclusion</th>\n",
       "      <th>implicatur</th>\n",
       "      <th>mode</th>\n",
       "      <th>signe</th>\n",
       "      <th>absurde</th>\n",
       "    </tr>\n",
       "  </thead>\n",
       "  <tbody>\n",
       "    <tr>\n",
       "      <th>0</th>\n",
       "      <td>IA4</td>\n",
       "      <td>True</td>\n",
       "      <td>[2, 5]</td>\n",
       "      <td>False</td>\n",
       "      <td>particulier</td>\n",
       "      <td>positif</td>\n",
       "      <td>False</td>\n",
       "    </tr>\n",
       "    <tr>\n",
       "      <th>2</th>\n",
       "      <td>AI2</td>\n",
       "      <td>True</td>\n",
       "      <td>[2, 3]</td>\n",
       "      <td>False</td>\n",
       "      <td>particulier</td>\n",
       "      <td>positif</td>\n",
       "      <td>False</td>\n",
       "    </tr>\n",
       "    <tr>\n",
       "      <th>3</th>\n",
       "      <td>AA1</td>\n",
       "      <td>True</td>\n",
       "      <td>[0, 2, 3]</td>\n",
       "      <td>False</td>\n",
       "      <td>universel</td>\n",
       "      <td>positif</td>\n",
       "      <td>False</td>\n",
       "    </tr>\n",
       "    <tr>\n",
       "      <th>11</th>\n",
       "      <td>AA2</td>\n",
       "      <td>True</td>\n",
       "      <td>[1, 2, 3]</td>\n",
       "      <td>False</td>\n",
       "      <td>universel</td>\n",
       "      <td>positif</td>\n",
       "      <td>False</td>\n",
       "    </tr>\n",
       "    <tr>\n",
       "      <th>13</th>\n",
       "      <td>AI4</td>\n",
       "      <td>True</td>\n",
       "      <td>[2, 3]</td>\n",
       "      <td>False</td>\n",
       "      <td>particulier</td>\n",
       "      <td>positif</td>\n",
       "      <td>False</td>\n",
       "    </tr>\n",
       "    <tr>\n",
       "      <th>15</th>\n",
       "      <td>AA4</td>\n",
       "      <td>True</td>\n",
       "      <td>[2, 3]</td>\n",
       "      <td>True</td>\n",
       "      <td>universel</td>\n",
       "      <td>positif</td>\n",
       "      <td>False</td>\n",
       "    </tr>\n",
       "    <tr>\n",
       "      <th>17</th>\n",
       "      <td>IA1</td>\n",
       "      <td>True</td>\n",
       "      <td>[2, 5]</td>\n",
       "      <td>False</td>\n",
       "      <td>particulier</td>\n",
       "      <td>positif</td>\n",
       "      <td>False</td>\n",
       "    </tr>\n",
       "  </tbody>\n",
       "</table>\n",
       "</div>"
      ],
      "text/plain": [
       "   task_form  has_conclusion index_conclusion  implicatur         mode  \\\n",
       "0        IA4            True           [2, 5]       False  particulier   \n",
       "2        AI2            True           [2, 3]       False  particulier   \n",
       "3        AA1            True        [0, 2, 3]       False    universel   \n",
       "11       AA2            True        [1, 2, 3]       False    universel   \n",
       "13       AI4            True           [2, 3]       False  particulier   \n",
       "15       AA4            True           [2, 3]        True    universel   \n",
       "17       IA1            True           [2, 5]       False  particulier   \n",
       "\n",
       "      signe  absurde  \n",
       "0   positif    False  \n",
       "2   positif    False  \n",
       "3   positif    False  \n",
       "11  positif    False  \n",
       "13  positif    False  \n",
       "15  positif    False  \n",
       "17  positif    False  "
      ]
     },
     "metadata": {},
     "output_type": "display_data"
    }
   ],
   "source": [
    "\n",
    "\n",
    "df_form_positive = df_form.loc[df_form.signe == \"positif\",:]\n",
    "\n",
    "df_form_positive"
   ]
  },
  {
   "cell_type": "code",
   "execution_count": null,
   "metadata": {},
   "outputs": [],
   "source": [
    "from pandas import DataFrame\n",
    "import ast\n",
    "my_dict_positiv = {0:0,1:0,2:0,3:0,4:0,5:0,6:0,7:0}\n",
    "\n",
    "for row in df_form_positive.index_conclusion:\n",
    "    for e in ast.literal_eval(row):\n",
    "        my_dict_positiv[e] += 1"
   ]
  },
  {
   "cell_type": "code",
   "execution_count": null,
   "metadata": {},
   "outputs": [
    {
     "data": {
      "text/plain": [
       "(7, 7)"
      ]
     },
     "metadata": {},
     "output_type": "display_data"
    }
   ],
   "source": [
    "df_form_positive.shape"
   ]
  },
  {
   "cell_type": "code",
   "execution_count": null,
   "metadata": {},
   "outputs": [
    {
     "data": {
      "text/plain": [
       "0    0.142857\n",
       "1    0.142857\n",
       "2    1.000000\n",
       "3    0.714286\n",
       "4    0.000000\n",
       "5    0.285714\n",
       "6    0.000000\n",
       "7    0.000000\n",
       "dtype: float64"
      ]
     },
     "metadata": {},
     "output_type": "display_data"
    }
   ],
   "source": [
    "df_random_pos= pd.Series(my_dict_positiv)\n",
    "df_random_pos = df_random_pos / 7\n",
    "df_random_pos"
   ]
  },
  {
   "cell_type": "code",
   "execution_count": null,
   "metadata": {},
   "outputs": [
    {
     "data": {
      "text/plain": [
       "0.2857142857142857"
      ]
     },
     "metadata": {},
     "output_type": "display_data"
    }
   ],
   "source": [
    "df_random_pos.mean()"
   ]
  },
  {
   "cell_type": "markdown",
   "metadata": {},
   "source": [
    "# Analyse only on implicatur"
   ]
  },
  {
   "cell_type": "code",
   "execution_count": null,
   "metadata": {},
   "outputs": [
    {
     "data": {
      "text/plain": [
       "False    22\n",
       "True      5\n",
       "Name: implicatur, dtype: int64"
      ]
     },
     "metadata": {},
     "output_type": "display_data"
    }
   ],
   "source": [
    "df_form.implicatur.value_counts()"
   ]
  },
  {
   "cell_type": "code",
   "execution_count": null,
   "metadata": {},
   "outputs": [
    {
     "data": {
      "text/html": [
       "<div>\n",
       "<style scoped>\n",
       "    .dataframe tbody tr th:only-of-type {\n",
       "        vertical-align: middle;\n",
       "    }\n",
       "\n",
       "    .dataframe tbody tr th {\n",
       "        vertical-align: top;\n",
       "    }\n",
       "\n",
       "    .dataframe thead th {\n",
       "        text-align: right;\n",
       "    }\n",
       "</style>\n",
       "<table border=\"1\" class=\"dataframe\">\n",
       "  <thead>\n",
       "    <tr style=\"text-align: right;\">\n",
       "      <th></th>\n",
       "      <th>task_form</th>\n",
       "      <th>has_conclusion</th>\n",
       "      <th>index_conclusion</th>\n",
       "      <th>implicatur</th>\n",
       "      <th>mode</th>\n",
       "      <th>signe</th>\n",
       "      <th>absurde</th>\n",
       "    </tr>\n",
       "  </thead>\n",
       "  <tbody>\n",
       "    <tr>\n",
       "      <th>9</th>\n",
       "      <td>EA1</td>\n",
       "      <td>True</td>\n",
       "      <td>[5]</td>\n",
       "      <td>True</td>\n",
       "      <td>universel</td>\n",
       "      <td>negatif</td>\n",
       "      <td>False</td>\n",
       "    </tr>\n",
       "    <tr>\n",
       "      <th>15</th>\n",
       "      <td>AA4</td>\n",
       "      <td>True</td>\n",
       "      <td>[2, 3]</td>\n",
       "      <td>True</td>\n",
       "      <td>universel</td>\n",
       "      <td>positif</td>\n",
       "      <td>False</td>\n",
       "    </tr>\n",
       "    <tr>\n",
       "      <th>16</th>\n",
       "      <td>AE4</td>\n",
       "      <td>True</td>\n",
       "      <td>[4]</td>\n",
       "      <td>True</td>\n",
       "      <td>universel</td>\n",
       "      <td>negatif</td>\n",
       "      <td>False</td>\n",
       "    </tr>\n",
       "    <tr>\n",
       "      <th>23</th>\n",
       "      <td>AE2</td>\n",
       "      <td>True</td>\n",
       "      <td>[4]</td>\n",
       "      <td>True</td>\n",
       "      <td>universel</td>\n",
       "      <td>negatif</td>\n",
       "      <td>False</td>\n",
       "    </tr>\n",
       "    <tr>\n",
       "      <th>25</th>\n",
       "      <td>EA4</td>\n",
       "      <td>True</td>\n",
       "      <td>[5]</td>\n",
       "      <td>True</td>\n",
       "      <td>universel</td>\n",
       "      <td>negatif</td>\n",
       "      <td>False</td>\n",
       "    </tr>\n",
       "  </tbody>\n",
       "</table>\n",
       "</div>"
      ],
      "text/plain": [
       "   task_form  has_conclusion index_conclusion  implicatur       mode    signe  \\\n",
       "9        EA1            True              [5]        True  universel  negatif   \n",
       "15       AA4            True           [2, 3]        True  universel  positif   \n",
       "16       AE4            True              [4]        True  universel  negatif   \n",
       "23       AE2            True              [4]        True  universel  negatif   \n",
       "25       EA4            True              [5]        True  universel  negatif   \n",
       "\n",
       "    absurde  \n",
       "9     False  \n",
       "15    False  \n",
       "16    False  \n",
       "23    False  \n",
       "25    False  "
      ]
     },
     "metadata": {},
     "output_type": "display_data"
    }
   ],
   "source": [
    "\n",
    "\n",
    "df_form_implicatur = df_form.loc[df_form.implicatur == True,:]\n",
    "\n",
    "df_form_implicatur"
   ]
  },
  {
   "cell_type": "code",
   "execution_count": null,
   "metadata": {},
   "outputs": [],
   "source": [
    "from pandas import DataFrame\n",
    "import ast\n",
    "my_dict_implicatur = {0:0,1:0,2:0,3:0,4:0,5:0,6:0,7:0}\n",
    "\n",
    "for row in df_form_implicatur.index_conclusion:\n",
    "    for e in ast.literal_eval(row):\n",
    "        my_dict_implicatur[e] += 1"
   ]
  },
  {
   "cell_type": "code",
   "execution_count": null,
   "metadata": {},
   "outputs": [
    {
     "data": {
      "text/plain": [
       "0    0.0\n",
       "1    0.0\n",
       "2    0.2\n",
       "3    0.2\n",
       "4    0.4\n",
       "5    0.4\n",
       "6    0.0\n",
       "7    0.0\n",
       "dtype: float64"
      ]
     },
     "metadata": {},
     "output_type": "display_data"
    }
   ],
   "source": [
    "df_random_imp= pd.Series(my_dict_implicatur)\n",
    "df_random_imp = df_random_imp / 5\n",
    "df_random_imp"
   ]
  },
  {
   "cell_type": "code",
   "execution_count": null,
   "metadata": {},
   "outputs": [
    {
     "data": {
      "text/plain": [
       "0.15000000000000002"
      ]
     },
     "metadata": {},
     "output_type": "display_data"
    }
   ],
   "source": [
    "df_random_imp.mean()"
   ]
  },
  {
   "cell_type": "markdown",
   "metadata": {},
   "source": [
    "# Analyse only on not implicatur"
   ]
  },
  {
   "cell_type": "code",
   "execution_count": null,
   "metadata": {},
   "outputs": [
    {
     "data": {
      "text/plain": [
       "False    22\n",
       "True      5\n",
       "Name: implicatur, dtype: int64"
      ]
     },
     "metadata": {},
     "output_type": "display_data"
    }
   ],
   "source": [
    "df_form.implicatur.value_counts()"
   ]
  },
  {
   "cell_type": "code",
   "execution_count": 10,
   "metadata": {},
   "outputs": [
    {
     "data": {
      "text/html": [
       "<div>\n",
       "<style scoped>\n",
       "    .dataframe tbody tr th:only-of-type {\n",
       "        vertical-align: middle;\n",
       "    }\n",
       "\n",
       "    .dataframe tbody tr th {\n",
       "        vertical-align: top;\n",
       "    }\n",
       "\n",
       "    .dataframe thead th {\n",
       "        text-align: right;\n",
       "    }\n",
       "</style>\n",
       "<table border=\"1\" class=\"dataframe\">\n",
       "  <thead>\n",
       "    <tr style=\"text-align: right;\">\n",
       "      <th></th>\n",
       "      <th>task_form</th>\n",
       "      <th>has_conclusion</th>\n",
       "      <th>index_conclusion</th>\n",
       "      <th>implicatur</th>\n",
       "      <th>mode</th>\n",
       "      <th>signe</th>\n",
       "      <th>absurde</th>\n",
       "    </tr>\n",
       "  </thead>\n",
       "  <tbody>\n",
       "    <tr>\n",
       "      <th>0</th>\n",
       "      <td>IA4</td>\n",
       "      <td>True</td>\n",
       "      <td>[2, 5]</td>\n",
       "      <td>False</td>\n",
       "      <td>particulier</td>\n",
       "      <td>positif</td>\n",
       "      <td>False</td>\n",
       "    </tr>\n",
       "    <tr>\n",
       "      <th>1</th>\n",
       "      <td>EA3</td>\n",
       "      <td>True</td>\n",
       "      <td>[4, 5, 6, 7]</td>\n",
       "      <td>False</td>\n",
       "      <td>universel</td>\n",
       "      <td>negatif</td>\n",
       "      <td>False</td>\n",
       "    </tr>\n",
       "    <tr>\n",
       "      <th>2</th>\n",
       "      <td>AI2</td>\n",
       "      <td>True</td>\n",
       "      <td>[2, 3]</td>\n",
       "      <td>False</td>\n",
       "      <td>particulier</td>\n",
       "      <td>positif</td>\n",
       "      <td>False</td>\n",
       "    </tr>\n",
       "    <tr>\n",
       "      <th>3</th>\n",
       "      <td>AA1</td>\n",
       "      <td>True</td>\n",
       "      <td>[0, 2, 3]</td>\n",
       "      <td>False</td>\n",
       "      <td>universel</td>\n",
       "      <td>positif</td>\n",
       "      <td>False</td>\n",
       "    </tr>\n",
       "    <tr>\n",
       "      <th>4</th>\n",
       "      <td>OA4</td>\n",
       "      <td>True</td>\n",
       "      <td>[5]</td>\n",
       "      <td>False</td>\n",
       "      <td>particulier</td>\n",
       "      <td>negatif</td>\n",
       "      <td>True</td>\n",
       "    </tr>\n",
       "    <tr>\n",
       "      <th>5</th>\n",
       "      <td>AO3</td>\n",
       "      <td>True</td>\n",
       "      <td>[5]</td>\n",
       "      <td>False</td>\n",
       "      <td>particulier</td>\n",
       "      <td>negatif</td>\n",
       "      <td>True</td>\n",
       "    </tr>\n",
       "    <tr>\n",
       "      <th>6</th>\n",
       "      <td>AE3</td>\n",
       "      <td>True</td>\n",
       "      <td>[4, 5, 6, 7]</td>\n",
       "      <td>False</td>\n",
       "      <td>universel</td>\n",
       "      <td>negatif</td>\n",
       "      <td>False</td>\n",
       "    </tr>\n",
       "    <tr>\n",
       "      <th>7</th>\n",
       "      <td>EI3</td>\n",
       "      <td>True</td>\n",
       "      <td>[5]</td>\n",
       "      <td>False</td>\n",
       "      <td>particulier</td>\n",
       "      <td>negatif</td>\n",
       "      <td>False</td>\n",
       "    </tr>\n",
       "    <tr>\n",
       "      <th>8</th>\n",
       "      <td>EI2</td>\n",
       "      <td>True</td>\n",
       "      <td>[5]</td>\n",
       "      <td>False</td>\n",
       "      <td>particulier</td>\n",
       "      <td>negatif</td>\n",
       "      <td>False</td>\n",
       "    </tr>\n",
       "    <tr>\n",
       "      <th>10</th>\n",
       "      <td>IE3</td>\n",
       "      <td>True</td>\n",
       "      <td>[4]</td>\n",
       "      <td>False</td>\n",
       "      <td>particulier</td>\n",
       "      <td>negatif</td>\n",
       "      <td>False</td>\n",
       "    </tr>\n",
       "    <tr>\n",
       "      <th>11</th>\n",
       "      <td>AA2</td>\n",
       "      <td>True</td>\n",
       "      <td>[1, 2, 3]</td>\n",
       "      <td>False</td>\n",
       "      <td>universel</td>\n",
       "      <td>positif</td>\n",
       "      <td>False</td>\n",
       "    </tr>\n",
       "    <tr>\n",
       "      <th>12</th>\n",
       "      <td>OA3</td>\n",
       "      <td>True</td>\n",
       "      <td>[4]</td>\n",
       "      <td>False</td>\n",
       "      <td>particulier</td>\n",
       "      <td>negatif</td>\n",
       "      <td>True</td>\n",
       "    </tr>\n",
       "    <tr>\n",
       "      <th>13</th>\n",
       "      <td>AI4</td>\n",
       "      <td>True</td>\n",
       "      <td>[2, 3]</td>\n",
       "      <td>False</td>\n",
       "      <td>particulier</td>\n",
       "      <td>positif</td>\n",
       "      <td>False</td>\n",
       "    </tr>\n",
       "    <tr>\n",
       "      <th>14</th>\n",
       "      <td>IE4</td>\n",
       "      <td>True</td>\n",
       "      <td>[4]</td>\n",
       "      <td>False</td>\n",
       "      <td>particulier</td>\n",
       "      <td>negatif</td>\n",
       "      <td>False</td>\n",
       "    </tr>\n",
       "    <tr>\n",
       "      <th>17</th>\n",
       "      <td>IA1</td>\n",
       "      <td>True</td>\n",
       "      <td>[2, 5]</td>\n",
       "      <td>False</td>\n",
       "      <td>particulier</td>\n",
       "      <td>positif</td>\n",
       "      <td>False</td>\n",
       "    </tr>\n",
       "    <tr>\n",
       "      <th>18</th>\n",
       "      <td>AE1</td>\n",
       "      <td>True</td>\n",
       "      <td>[4, 5, 6, 7]</td>\n",
       "      <td>False</td>\n",
       "      <td>universel</td>\n",
       "      <td>negatif</td>\n",
       "      <td>False</td>\n",
       "    </tr>\n",
       "    <tr>\n",
       "      <th>19</th>\n",
       "      <td>EI1</td>\n",
       "      <td>True</td>\n",
       "      <td>[5]</td>\n",
       "      <td>False</td>\n",
       "      <td>particulier</td>\n",
       "      <td>negatif</td>\n",
       "      <td>False</td>\n",
       "    </tr>\n",
       "    <tr>\n",
       "      <th>20</th>\n",
       "      <td>AO4</td>\n",
       "      <td>True</td>\n",
       "      <td>[4]</td>\n",
       "      <td>False</td>\n",
       "      <td>particulier</td>\n",
       "      <td>negatif</td>\n",
       "      <td>True</td>\n",
       "    </tr>\n",
       "    <tr>\n",
       "      <th>21</th>\n",
       "      <td>EA2</td>\n",
       "      <td>True</td>\n",
       "      <td>[4, 5, 6, 7]</td>\n",
       "      <td>False</td>\n",
       "      <td>universel</td>\n",
       "      <td>negatif</td>\n",
       "      <td>False</td>\n",
       "    </tr>\n",
       "    <tr>\n",
       "      <th>22</th>\n",
       "      <td>IE1</td>\n",
       "      <td>True</td>\n",
       "      <td>[4]</td>\n",
       "      <td>False</td>\n",
       "      <td>particulier</td>\n",
       "      <td>negatif</td>\n",
       "      <td>False</td>\n",
       "    </tr>\n",
       "    <tr>\n",
       "      <th>24</th>\n",
       "      <td>IE2</td>\n",
       "      <td>True</td>\n",
       "      <td>[4]</td>\n",
       "      <td>False</td>\n",
       "      <td>particulier</td>\n",
       "      <td>negatif</td>\n",
       "      <td>False</td>\n",
       "    </tr>\n",
       "    <tr>\n",
       "      <th>26</th>\n",
       "      <td>EI4</td>\n",
       "      <td>True</td>\n",
       "      <td>[5]</td>\n",
       "      <td>False</td>\n",
       "      <td>particulier</td>\n",
       "      <td>negatif</td>\n",
       "      <td>False</td>\n",
       "    </tr>\n",
       "  </tbody>\n",
       "</table>\n",
       "</div>"
      ],
      "text/plain": [
       "   task_form  has_conclusion index_conclusion  implicatur         mode  \\\n",
       "0        IA4            True           [2, 5]       False  particulier   \n",
       "1        EA3            True     [4, 5, 6, 7]       False    universel   \n",
       "2        AI2            True           [2, 3]       False  particulier   \n",
       "3        AA1            True        [0, 2, 3]       False    universel   \n",
       "4        OA4            True              [5]       False  particulier   \n",
       "5        AO3            True              [5]       False  particulier   \n",
       "6        AE3            True     [4, 5, 6, 7]       False    universel   \n",
       "7        EI3            True              [5]       False  particulier   \n",
       "8        EI2            True              [5]       False  particulier   \n",
       "10       IE3            True              [4]       False  particulier   \n",
       "11       AA2            True        [1, 2, 3]       False    universel   \n",
       "12       OA3            True              [4]       False  particulier   \n",
       "13       AI4            True           [2, 3]       False  particulier   \n",
       "14       IE4            True              [4]       False  particulier   \n",
       "17       IA1            True           [2, 5]       False  particulier   \n",
       "18       AE1            True     [4, 5, 6, 7]       False    universel   \n",
       "19       EI1            True              [5]       False  particulier   \n",
       "20       AO4            True              [4]       False  particulier   \n",
       "21       EA2            True     [4, 5, 6, 7]       False    universel   \n",
       "22       IE1            True              [4]       False  particulier   \n",
       "24       IE2            True              [4]       False  particulier   \n",
       "26       EI4            True              [5]       False  particulier   \n",
       "\n",
       "      signe  absurde  \n",
       "0   positif    False  \n",
       "1   negatif    False  \n",
       "2   positif    False  \n",
       "3   positif    False  \n",
       "4   negatif     True  \n",
       "5   negatif     True  \n",
       "6   negatif    False  \n",
       "7   negatif    False  \n",
       "8   negatif    False  \n",
       "10  negatif    False  \n",
       "11  positif    False  \n",
       "12  negatif     True  \n",
       "13  positif    False  \n",
       "14  negatif    False  \n",
       "17  positif    False  \n",
       "18  negatif    False  \n",
       "19  negatif    False  \n",
       "20  negatif     True  \n",
       "21  negatif    False  \n",
       "22  negatif    False  \n",
       "24  negatif    False  \n",
       "26  negatif    False  "
      ]
     },
     "execution_count": 10,
     "metadata": {},
     "output_type": "execute_result"
    }
   ],
   "source": [
    "\n",
    "\n",
    "df_form_not_implicatur = df_form.loc[df_form.implicatur == False,:]\n",
    "\n",
    "df_form_not_implicatur"
   ]
  },
  {
   "cell_type": "code",
   "execution_count": 11,
   "metadata": {},
   "outputs": [],
   "source": [
    "from pandas import DataFrame\n",
    "import ast\n",
    "my_dict_not_implicatur = {0:0,1:0,2:0,3:0,4:0,5:0,6:0,7:0}\n",
    "\n",
    "for row in df_form_not_implicatur.index_conclusion:\n",
    "    for e in ast.literal_eval(row):\n",
    "        my_dict_not_implicatur[e] += 1"
   ]
  },
  {
   "cell_type": "code",
   "execution_count": 13,
   "metadata": {},
   "outputs": [
    {
     "data": {
      "text/plain": [
       "0    0.045455\n",
       "1    0.045455\n",
       "2    0.272727\n",
       "3    0.181818\n",
       "4    0.454545\n",
       "5    0.545455\n",
       "6    0.181818\n",
       "7    0.181818\n",
       "dtype: float64"
      ]
     },
     "execution_count": 13,
     "metadata": {},
     "output_type": "execute_result"
    }
   ],
   "source": [
    "df_random_not_imp= pd.Series(my_dict_not_implicatur)\n",
    "df_random_not_imp = df_random_not_imp / 22\n",
    "df_random_not_imp"
   ]
  },
  {
   "cell_type": "code",
   "execution_count": 14,
   "metadata": {},
   "outputs": [
    {
     "data": {
      "text/plain": [
       "0.23863636363636365"
      ]
     },
     "execution_count": 14,
     "metadata": {},
     "output_type": "execute_result"
    }
   ],
   "source": [
    "df_random_not_imp.mean()"
   ]
  },
  {
   "cell_type": "markdown",
   "metadata": {},
   "source": [
    "# Analyse only on absurde"
   ]
  },
  {
   "cell_type": "code",
   "execution_count": 15,
   "metadata": {},
   "outputs": [
    {
     "data": {
      "text/plain": [
       "False    23\n",
       "True      4\n",
       "Name: absurde, dtype: int64"
      ]
     },
     "execution_count": 15,
     "metadata": {},
     "output_type": "execute_result"
    }
   ],
   "source": [
    "df_form.absurde.value_counts()"
   ]
  },
  {
   "cell_type": "code",
   "execution_count": 16,
   "metadata": {},
   "outputs": [
    {
     "data": {
      "text/html": [
       "<div>\n",
       "<style scoped>\n",
       "    .dataframe tbody tr th:only-of-type {\n",
       "        vertical-align: middle;\n",
       "    }\n",
       "\n",
       "    .dataframe tbody tr th {\n",
       "        vertical-align: top;\n",
       "    }\n",
       "\n",
       "    .dataframe thead th {\n",
       "        text-align: right;\n",
       "    }\n",
       "</style>\n",
       "<table border=\"1\" class=\"dataframe\">\n",
       "  <thead>\n",
       "    <tr style=\"text-align: right;\">\n",
       "      <th></th>\n",
       "      <th>task_form</th>\n",
       "      <th>has_conclusion</th>\n",
       "      <th>index_conclusion</th>\n",
       "      <th>implicatur</th>\n",
       "      <th>mode</th>\n",
       "      <th>signe</th>\n",
       "      <th>absurde</th>\n",
       "    </tr>\n",
       "  </thead>\n",
       "  <tbody>\n",
       "    <tr>\n",
       "      <th>4</th>\n",
       "      <td>OA4</td>\n",
       "      <td>True</td>\n",
       "      <td>[5]</td>\n",
       "      <td>False</td>\n",
       "      <td>particulier</td>\n",
       "      <td>negatif</td>\n",
       "      <td>True</td>\n",
       "    </tr>\n",
       "    <tr>\n",
       "      <th>5</th>\n",
       "      <td>AO3</td>\n",
       "      <td>True</td>\n",
       "      <td>[5]</td>\n",
       "      <td>False</td>\n",
       "      <td>particulier</td>\n",
       "      <td>negatif</td>\n",
       "      <td>True</td>\n",
       "    </tr>\n",
       "    <tr>\n",
       "      <th>12</th>\n",
       "      <td>OA3</td>\n",
       "      <td>True</td>\n",
       "      <td>[4]</td>\n",
       "      <td>False</td>\n",
       "      <td>particulier</td>\n",
       "      <td>negatif</td>\n",
       "      <td>True</td>\n",
       "    </tr>\n",
       "    <tr>\n",
       "      <th>20</th>\n",
       "      <td>AO4</td>\n",
       "      <td>True</td>\n",
       "      <td>[4]</td>\n",
       "      <td>False</td>\n",
       "      <td>particulier</td>\n",
       "      <td>negatif</td>\n",
       "      <td>True</td>\n",
       "    </tr>\n",
       "  </tbody>\n",
       "</table>\n",
       "</div>"
      ],
      "text/plain": [
       "   task_form  has_conclusion index_conclusion  implicatur         mode  \\\n",
       "4        OA4            True              [5]       False  particulier   \n",
       "5        AO3            True              [5]       False  particulier   \n",
       "12       OA3            True              [4]       False  particulier   \n",
       "20       AO4            True              [4]       False  particulier   \n",
       "\n",
       "      signe  absurde  \n",
       "4   negatif     True  \n",
       "5   negatif     True  \n",
       "12  negatif     True  \n",
       "20  negatif     True  "
      ]
     },
     "execution_count": 16,
     "metadata": {},
     "output_type": "execute_result"
    }
   ],
   "source": [
    "\n",
    "\n",
    "df_form_absurde = df_form.loc[df_form.absurde == True,:]\n",
    "\n",
    "df_form_absurde"
   ]
  },
  {
   "cell_type": "markdown",
   "metadata": {},
   "source": [
    "rep = 12.5"
   ]
  },
  {
   "cell_type": "markdown",
   "metadata": {},
   "source": [
    "# Analyse only on not absurde"
   ]
  },
  {
   "cell_type": "code",
   "execution_count": 17,
   "metadata": {},
   "outputs": [
    {
     "data": {
      "text/plain": [
       "False    23\n",
       "True      4\n",
       "Name: absurde, dtype: int64"
      ]
     },
     "execution_count": 17,
     "metadata": {},
     "output_type": "execute_result"
    }
   ],
   "source": [
    "df_form.absurde.value_counts()"
   ]
  },
  {
   "cell_type": "code",
   "execution_count": 18,
   "metadata": {},
   "outputs": [
    {
     "data": {
      "text/html": [
       "<div>\n",
       "<style scoped>\n",
       "    .dataframe tbody tr th:only-of-type {\n",
       "        vertical-align: middle;\n",
       "    }\n",
       "\n",
       "    .dataframe tbody tr th {\n",
       "        vertical-align: top;\n",
       "    }\n",
       "\n",
       "    .dataframe thead th {\n",
       "        text-align: right;\n",
       "    }\n",
       "</style>\n",
       "<table border=\"1\" class=\"dataframe\">\n",
       "  <thead>\n",
       "    <tr style=\"text-align: right;\">\n",
       "      <th></th>\n",
       "      <th>task_form</th>\n",
       "      <th>has_conclusion</th>\n",
       "      <th>index_conclusion</th>\n",
       "      <th>implicatur</th>\n",
       "      <th>mode</th>\n",
       "      <th>signe</th>\n",
       "      <th>absurde</th>\n",
       "    </tr>\n",
       "  </thead>\n",
       "  <tbody>\n",
       "    <tr>\n",
       "      <th>0</th>\n",
       "      <td>IA4</td>\n",
       "      <td>True</td>\n",
       "      <td>[2, 5]</td>\n",
       "      <td>False</td>\n",
       "      <td>particulier</td>\n",
       "      <td>positif</td>\n",
       "      <td>False</td>\n",
       "    </tr>\n",
       "    <tr>\n",
       "      <th>1</th>\n",
       "      <td>EA3</td>\n",
       "      <td>True</td>\n",
       "      <td>[4, 5, 6, 7]</td>\n",
       "      <td>False</td>\n",
       "      <td>universel</td>\n",
       "      <td>negatif</td>\n",
       "      <td>False</td>\n",
       "    </tr>\n",
       "    <tr>\n",
       "      <th>2</th>\n",
       "      <td>AI2</td>\n",
       "      <td>True</td>\n",
       "      <td>[2, 3]</td>\n",
       "      <td>False</td>\n",
       "      <td>particulier</td>\n",
       "      <td>positif</td>\n",
       "      <td>False</td>\n",
       "    </tr>\n",
       "    <tr>\n",
       "      <th>3</th>\n",
       "      <td>AA1</td>\n",
       "      <td>True</td>\n",
       "      <td>[0, 2, 3]</td>\n",
       "      <td>False</td>\n",
       "      <td>universel</td>\n",
       "      <td>positif</td>\n",
       "      <td>False</td>\n",
       "    </tr>\n",
       "    <tr>\n",
       "      <th>6</th>\n",
       "      <td>AE3</td>\n",
       "      <td>True</td>\n",
       "      <td>[4, 5, 6, 7]</td>\n",
       "      <td>False</td>\n",
       "      <td>universel</td>\n",
       "      <td>negatif</td>\n",
       "      <td>False</td>\n",
       "    </tr>\n",
       "    <tr>\n",
       "      <th>7</th>\n",
       "      <td>EI3</td>\n",
       "      <td>True</td>\n",
       "      <td>[5]</td>\n",
       "      <td>False</td>\n",
       "      <td>particulier</td>\n",
       "      <td>negatif</td>\n",
       "      <td>False</td>\n",
       "    </tr>\n",
       "    <tr>\n",
       "      <th>8</th>\n",
       "      <td>EI2</td>\n",
       "      <td>True</td>\n",
       "      <td>[5]</td>\n",
       "      <td>False</td>\n",
       "      <td>particulier</td>\n",
       "      <td>negatif</td>\n",
       "      <td>False</td>\n",
       "    </tr>\n",
       "    <tr>\n",
       "      <th>9</th>\n",
       "      <td>EA1</td>\n",
       "      <td>True</td>\n",
       "      <td>[5]</td>\n",
       "      <td>True</td>\n",
       "      <td>universel</td>\n",
       "      <td>negatif</td>\n",
       "      <td>False</td>\n",
       "    </tr>\n",
       "    <tr>\n",
       "      <th>10</th>\n",
       "      <td>IE3</td>\n",
       "      <td>True</td>\n",
       "      <td>[4]</td>\n",
       "      <td>False</td>\n",
       "      <td>particulier</td>\n",
       "      <td>negatif</td>\n",
       "      <td>False</td>\n",
       "    </tr>\n",
       "    <tr>\n",
       "      <th>11</th>\n",
       "      <td>AA2</td>\n",
       "      <td>True</td>\n",
       "      <td>[1, 2, 3]</td>\n",
       "      <td>False</td>\n",
       "      <td>universel</td>\n",
       "      <td>positif</td>\n",
       "      <td>False</td>\n",
       "    </tr>\n",
       "    <tr>\n",
       "      <th>13</th>\n",
       "      <td>AI4</td>\n",
       "      <td>True</td>\n",
       "      <td>[2, 3]</td>\n",
       "      <td>False</td>\n",
       "      <td>particulier</td>\n",
       "      <td>positif</td>\n",
       "      <td>False</td>\n",
       "    </tr>\n",
       "    <tr>\n",
       "      <th>14</th>\n",
       "      <td>IE4</td>\n",
       "      <td>True</td>\n",
       "      <td>[4]</td>\n",
       "      <td>False</td>\n",
       "      <td>particulier</td>\n",
       "      <td>negatif</td>\n",
       "      <td>False</td>\n",
       "    </tr>\n",
       "    <tr>\n",
       "      <th>15</th>\n",
       "      <td>AA4</td>\n",
       "      <td>True</td>\n",
       "      <td>[2, 3]</td>\n",
       "      <td>True</td>\n",
       "      <td>universel</td>\n",
       "      <td>positif</td>\n",
       "      <td>False</td>\n",
       "    </tr>\n",
       "    <tr>\n",
       "      <th>16</th>\n",
       "      <td>AE4</td>\n",
       "      <td>True</td>\n",
       "      <td>[4]</td>\n",
       "      <td>True</td>\n",
       "      <td>universel</td>\n",
       "      <td>negatif</td>\n",
       "      <td>False</td>\n",
       "    </tr>\n",
       "    <tr>\n",
       "      <th>17</th>\n",
       "      <td>IA1</td>\n",
       "      <td>True</td>\n",
       "      <td>[2, 5]</td>\n",
       "      <td>False</td>\n",
       "      <td>particulier</td>\n",
       "      <td>positif</td>\n",
       "      <td>False</td>\n",
       "    </tr>\n",
       "    <tr>\n",
       "      <th>18</th>\n",
       "      <td>AE1</td>\n",
       "      <td>True</td>\n",
       "      <td>[4, 5, 6, 7]</td>\n",
       "      <td>False</td>\n",
       "      <td>universel</td>\n",
       "      <td>negatif</td>\n",
       "      <td>False</td>\n",
       "    </tr>\n",
       "    <tr>\n",
       "      <th>19</th>\n",
       "      <td>EI1</td>\n",
       "      <td>True</td>\n",
       "      <td>[5]</td>\n",
       "      <td>False</td>\n",
       "      <td>particulier</td>\n",
       "      <td>negatif</td>\n",
       "      <td>False</td>\n",
       "    </tr>\n",
       "    <tr>\n",
       "      <th>21</th>\n",
       "      <td>EA2</td>\n",
       "      <td>True</td>\n",
       "      <td>[4, 5, 6, 7]</td>\n",
       "      <td>False</td>\n",
       "      <td>universel</td>\n",
       "      <td>negatif</td>\n",
       "      <td>False</td>\n",
       "    </tr>\n",
       "    <tr>\n",
       "      <th>22</th>\n",
       "      <td>IE1</td>\n",
       "      <td>True</td>\n",
       "      <td>[4]</td>\n",
       "      <td>False</td>\n",
       "      <td>particulier</td>\n",
       "      <td>negatif</td>\n",
       "      <td>False</td>\n",
       "    </tr>\n",
       "    <tr>\n",
       "      <th>23</th>\n",
       "      <td>AE2</td>\n",
       "      <td>True</td>\n",
       "      <td>[4]</td>\n",
       "      <td>True</td>\n",
       "      <td>universel</td>\n",
       "      <td>negatif</td>\n",
       "      <td>False</td>\n",
       "    </tr>\n",
       "    <tr>\n",
       "      <th>24</th>\n",
       "      <td>IE2</td>\n",
       "      <td>True</td>\n",
       "      <td>[4]</td>\n",
       "      <td>False</td>\n",
       "      <td>particulier</td>\n",
       "      <td>negatif</td>\n",
       "      <td>False</td>\n",
       "    </tr>\n",
       "    <tr>\n",
       "      <th>25</th>\n",
       "      <td>EA4</td>\n",
       "      <td>True</td>\n",
       "      <td>[5]</td>\n",
       "      <td>True</td>\n",
       "      <td>universel</td>\n",
       "      <td>negatif</td>\n",
       "      <td>False</td>\n",
       "    </tr>\n",
       "    <tr>\n",
       "      <th>26</th>\n",
       "      <td>EI4</td>\n",
       "      <td>True</td>\n",
       "      <td>[5]</td>\n",
       "      <td>False</td>\n",
       "      <td>particulier</td>\n",
       "      <td>negatif</td>\n",
       "      <td>False</td>\n",
       "    </tr>\n",
       "  </tbody>\n",
       "</table>\n",
       "</div>"
      ],
      "text/plain": [
       "   task_form  has_conclusion index_conclusion  implicatur         mode  \\\n",
       "0        IA4            True           [2, 5]       False  particulier   \n",
       "1        EA3            True     [4, 5, 6, 7]       False    universel   \n",
       "2        AI2            True           [2, 3]       False  particulier   \n",
       "3        AA1            True        [0, 2, 3]       False    universel   \n",
       "6        AE3            True     [4, 5, 6, 7]       False    universel   \n",
       "7        EI3            True              [5]       False  particulier   \n",
       "8        EI2            True              [5]       False  particulier   \n",
       "9        EA1            True              [5]        True    universel   \n",
       "10       IE3            True              [4]       False  particulier   \n",
       "11       AA2            True        [1, 2, 3]       False    universel   \n",
       "13       AI4            True           [2, 3]       False  particulier   \n",
       "14       IE4            True              [4]       False  particulier   \n",
       "15       AA4            True           [2, 3]        True    universel   \n",
       "16       AE4            True              [4]        True    universel   \n",
       "17       IA1            True           [2, 5]       False  particulier   \n",
       "18       AE1            True     [4, 5, 6, 7]       False    universel   \n",
       "19       EI1            True              [5]       False  particulier   \n",
       "21       EA2            True     [4, 5, 6, 7]       False    universel   \n",
       "22       IE1            True              [4]       False  particulier   \n",
       "23       AE2            True              [4]        True    universel   \n",
       "24       IE2            True              [4]       False  particulier   \n",
       "25       EA4            True              [5]        True    universel   \n",
       "26       EI4            True              [5]       False  particulier   \n",
       "\n",
       "      signe  absurde  \n",
       "0   positif    False  \n",
       "1   negatif    False  \n",
       "2   positif    False  \n",
       "3   positif    False  \n",
       "6   negatif    False  \n",
       "7   negatif    False  \n",
       "8   negatif    False  \n",
       "9   negatif    False  \n",
       "10  negatif    False  \n",
       "11  positif    False  \n",
       "13  positif    False  \n",
       "14  negatif    False  \n",
       "15  positif    False  \n",
       "16  negatif    False  \n",
       "17  positif    False  \n",
       "18  negatif    False  \n",
       "19  negatif    False  \n",
       "21  negatif    False  \n",
       "22  negatif    False  \n",
       "23  negatif    False  \n",
       "24  negatif    False  \n",
       "25  negatif    False  \n",
       "26  negatif    False  "
      ]
     },
     "execution_count": 18,
     "metadata": {},
     "output_type": "execute_result"
    }
   ],
   "source": [
    "\n",
    "\n",
    "df_form_not_absurde = df_form.loc[df_form.absurde == False,:]\n",
    "\n",
    "df_form_not_absurde"
   ]
  },
  {
   "cell_type": "code",
   "execution_count": 20,
   "metadata": {},
   "outputs": [],
   "source": [
    "from pandas import DataFrame\n",
    "import ast\n",
    "my_dict_not_absurde= {0:0,1:0,2:0,3:0,4:0,5:0,6:0,7:0}\n",
    "\n",
    "for row in df_form_not_absurde.index_conclusion:\n",
    "    for e in ast.literal_eval(row):\n",
    "        my_dict_not_absurde[e] += 1"
   ]
  },
  {
   "cell_type": "code",
   "execution_count": 21,
   "metadata": {},
   "outputs": [
    {
     "data": {
      "text/plain": [
       "0    0.043478\n",
       "1    0.043478\n",
       "2    0.304348\n",
       "3    0.217391\n",
       "4    0.434783\n",
       "5    0.521739\n",
       "6    0.173913\n",
       "7    0.173913\n",
       "dtype: float64"
      ]
     },
     "execution_count": 21,
     "metadata": {},
     "output_type": "execute_result"
    }
   ],
   "source": [
    "df_random_not_abs= pd.Series(my_dict_not_absurde)\n",
    "df_random_not_abs = df_random_not_abs / 23\n",
    "df_random_not_abs"
   ]
  },
  {
   "cell_type": "code",
   "execution_count": 24,
   "metadata": {},
   "outputs": [
    {
     "data": {
      "text/plain": [
       "0.2391304347826087"
      ]
     },
     "execution_count": 24,
     "metadata": {},
     "output_type": "execute_result"
    }
   ],
   "source": [
    "df_random_not_abs.mean()"
   ]
  },
  {
   "cell_type": "markdown",
   "metadata": {},
   "source": [
    "# Analyse only on universal"
   ]
  },
  {
   "cell_type": "code",
   "execution_count": 26,
   "metadata": {},
   "outputs": [
    {
     "data": {
      "text/plain": [
       "Index(['task_form', 'has_conclusion', 'index_conclusion', 'implicatur', 'mode',\n",
       "       'signe', 'absurde'],\n",
       "      dtype='object')"
      ]
     },
     "execution_count": 26,
     "metadata": {},
     "output_type": "execute_result"
    }
   ],
   "source": [
    "df_form.columns"
   ]
  },
  {
   "cell_type": "code",
   "execution_count": 28,
   "metadata": {},
   "outputs": [
    {
     "data": {
      "text/plain": [
       "particulier    16\n",
       "universel      11\n",
       "Name: mode, dtype: int64"
      ]
     },
     "execution_count": 28,
     "metadata": {},
     "output_type": "execute_result"
    }
   ],
   "source": [
    "df_form[\"mode\"].value_counts()"
   ]
  },
  {
   "cell_type": "code",
   "execution_count": 29,
   "metadata": {},
   "outputs": [
    {
     "data": {
      "text/html": [
       "<div>\n",
       "<style scoped>\n",
       "    .dataframe tbody tr th:only-of-type {\n",
       "        vertical-align: middle;\n",
       "    }\n",
       "\n",
       "    .dataframe tbody tr th {\n",
       "        vertical-align: top;\n",
       "    }\n",
       "\n",
       "    .dataframe thead th {\n",
       "        text-align: right;\n",
       "    }\n",
       "</style>\n",
       "<table border=\"1\" class=\"dataframe\">\n",
       "  <thead>\n",
       "    <tr style=\"text-align: right;\">\n",
       "      <th></th>\n",
       "      <th>task_form</th>\n",
       "      <th>has_conclusion</th>\n",
       "      <th>index_conclusion</th>\n",
       "      <th>implicatur</th>\n",
       "      <th>mode</th>\n",
       "      <th>signe</th>\n",
       "      <th>absurde</th>\n",
       "    </tr>\n",
       "  </thead>\n",
       "  <tbody>\n",
       "    <tr>\n",
       "      <th>1</th>\n",
       "      <td>EA3</td>\n",
       "      <td>True</td>\n",
       "      <td>[4, 5, 6, 7]</td>\n",
       "      <td>False</td>\n",
       "      <td>universel</td>\n",
       "      <td>negatif</td>\n",
       "      <td>False</td>\n",
       "    </tr>\n",
       "    <tr>\n",
       "      <th>3</th>\n",
       "      <td>AA1</td>\n",
       "      <td>True</td>\n",
       "      <td>[0, 2, 3]</td>\n",
       "      <td>False</td>\n",
       "      <td>universel</td>\n",
       "      <td>positif</td>\n",
       "      <td>False</td>\n",
       "    </tr>\n",
       "    <tr>\n",
       "      <th>6</th>\n",
       "      <td>AE3</td>\n",
       "      <td>True</td>\n",
       "      <td>[4, 5, 6, 7]</td>\n",
       "      <td>False</td>\n",
       "      <td>universel</td>\n",
       "      <td>negatif</td>\n",
       "      <td>False</td>\n",
       "    </tr>\n",
       "    <tr>\n",
       "      <th>9</th>\n",
       "      <td>EA1</td>\n",
       "      <td>True</td>\n",
       "      <td>[5]</td>\n",
       "      <td>True</td>\n",
       "      <td>universel</td>\n",
       "      <td>negatif</td>\n",
       "      <td>False</td>\n",
       "    </tr>\n",
       "    <tr>\n",
       "      <th>11</th>\n",
       "      <td>AA2</td>\n",
       "      <td>True</td>\n",
       "      <td>[1, 2, 3]</td>\n",
       "      <td>False</td>\n",
       "      <td>universel</td>\n",
       "      <td>positif</td>\n",
       "      <td>False</td>\n",
       "    </tr>\n",
       "    <tr>\n",
       "      <th>15</th>\n",
       "      <td>AA4</td>\n",
       "      <td>True</td>\n",
       "      <td>[2, 3]</td>\n",
       "      <td>True</td>\n",
       "      <td>universel</td>\n",
       "      <td>positif</td>\n",
       "      <td>False</td>\n",
       "    </tr>\n",
       "    <tr>\n",
       "      <th>16</th>\n",
       "      <td>AE4</td>\n",
       "      <td>True</td>\n",
       "      <td>[4]</td>\n",
       "      <td>True</td>\n",
       "      <td>universel</td>\n",
       "      <td>negatif</td>\n",
       "      <td>False</td>\n",
       "    </tr>\n",
       "    <tr>\n",
       "      <th>18</th>\n",
       "      <td>AE1</td>\n",
       "      <td>True</td>\n",
       "      <td>[4, 5, 6, 7]</td>\n",
       "      <td>False</td>\n",
       "      <td>universel</td>\n",
       "      <td>negatif</td>\n",
       "      <td>False</td>\n",
       "    </tr>\n",
       "    <tr>\n",
       "      <th>21</th>\n",
       "      <td>EA2</td>\n",
       "      <td>True</td>\n",
       "      <td>[4, 5, 6, 7]</td>\n",
       "      <td>False</td>\n",
       "      <td>universel</td>\n",
       "      <td>negatif</td>\n",
       "      <td>False</td>\n",
       "    </tr>\n",
       "    <tr>\n",
       "      <th>23</th>\n",
       "      <td>AE2</td>\n",
       "      <td>True</td>\n",
       "      <td>[4]</td>\n",
       "      <td>True</td>\n",
       "      <td>universel</td>\n",
       "      <td>negatif</td>\n",
       "      <td>False</td>\n",
       "    </tr>\n",
       "    <tr>\n",
       "      <th>25</th>\n",
       "      <td>EA4</td>\n",
       "      <td>True</td>\n",
       "      <td>[5]</td>\n",
       "      <td>True</td>\n",
       "      <td>universel</td>\n",
       "      <td>negatif</td>\n",
       "      <td>False</td>\n",
       "    </tr>\n",
       "  </tbody>\n",
       "</table>\n",
       "</div>"
      ],
      "text/plain": [
       "   task_form  has_conclusion index_conclusion  implicatur       mode    signe  \\\n",
       "1        EA3            True     [4, 5, 6, 7]       False  universel  negatif   \n",
       "3        AA1            True        [0, 2, 3]       False  universel  positif   \n",
       "6        AE3            True     [4, 5, 6, 7]       False  universel  negatif   \n",
       "9        EA1            True              [5]        True  universel  negatif   \n",
       "11       AA2            True        [1, 2, 3]       False  universel  positif   \n",
       "15       AA4            True           [2, 3]        True  universel  positif   \n",
       "16       AE4            True              [4]        True  universel  negatif   \n",
       "18       AE1            True     [4, 5, 6, 7]       False  universel  negatif   \n",
       "21       EA2            True     [4, 5, 6, 7]       False  universel  negatif   \n",
       "23       AE2            True              [4]        True  universel  negatif   \n",
       "25       EA4            True              [5]        True  universel  negatif   \n",
       "\n",
       "    absurde  \n",
       "1     False  \n",
       "3     False  \n",
       "6     False  \n",
       "9     False  \n",
       "11    False  \n",
       "15    False  \n",
       "16    False  \n",
       "18    False  \n",
       "21    False  \n",
       "23    False  \n",
       "25    False  "
      ]
     },
     "execution_count": 29,
     "metadata": {},
     "output_type": "execute_result"
    }
   ],
   "source": [
    "\n",
    "\n",
    "df_form_uni = df_form.loc[df_form[\"mode\"] == \"universel\",:]\n",
    "\n",
    "df_form_uni"
   ]
  },
  {
   "cell_type": "code",
   "execution_count": 30,
   "metadata": {},
   "outputs": [],
   "source": [
    "from pandas import DataFrame\n",
    "import ast\n",
    "my_dict_uni = {0:0,1:0,2:0,3:0,4:0,5:0,6:0,7:0}\n",
    "\n",
    "for row in df_form_uni.index_conclusion:\n",
    "    for e in ast.literal_eval(row):\n",
    "        my_dict_uni[e] += 1"
   ]
  },
  {
   "cell_type": "code",
   "execution_count": 31,
   "metadata": {},
   "outputs": [
    {
     "data": {
      "text/plain": [
       "0    0.090909\n",
       "1    0.090909\n",
       "2    0.272727\n",
       "3    0.272727\n",
       "4    0.545455\n",
       "5    0.545455\n",
       "6    0.363636\n",
       "7    0.363636\n",
       "dtype: float64"
      ]
     },
     "execution_count": 31,
     "metadata": {},
     "output_type": "execute_result"
    }
   ],
   "source": [
    "df_random_uni= pd.Series(my_dict_uni)\n",
    "df_random_uni = df_random_uni / 11\n",
    "df_random_uni"
   ]
  },
  {
   "cell_type": "code",
   "execution_count": 34,
   "metadata": {},
   "outputs": [
    {
     "data": {
      "text/plain": [
       "0.3181818181818182"
      ]
     },
     "execution_count": 34,
     "metadata": {},
     "output_type": "execute_result"
    }
   ],
   "source": [
    "df_random_uni.mean()"
   ]
  },
  {
   "cell_type": "markdown",
   "metadata": {},
   "source": [
    "# Analyse only on particular"
   ]
  },
  {
   "cell_type": "code",
   "execution_count": null,
   "metadata": {},
   "outputs": [
    {
     "data": {
      "text/plain": [
       "Index(['task_form', 'has_conclusion', 'index_conclusion', 'implicatur', 'mode',\n",
       "       'signe', 'absurde'],\n",
       "      dtype='object')"
      ]
     },
     "metadata": {},
     "output_type": "display_data"
    }
   ],
   "source": [
    "df_form.columns"
   ]
  },
  {
   "cell_type": "code",
   "execution_count": null,
   "metadata": {},
   "outputs": [
    {
     "data": {
      "text/plain": [
       "particulier    16\n",
       "universel      11\n",
       "Name: mode, dtype: int64"
      ]
     },
     "metadata": {},
     "output_type": "display_data"
    }
   ],
   "source": [
    "df_form[\"mode\"].value_counts()"
   ]
  },
  {
   "cell_type": "code",
   "execution_count": 35,
   "metadata": {},
   "outputs": [
    {
     "data": {
      "text/html": [
       "<div>\n",
       "<style scoped>\n",
       "    .dataframe tbody tr th:only-of-type {\n",
       "        vertical-align: middle;\n",
       "    }\n",
       "\n",
       "    .dataframe tbody tr th {\n",
       "        vertical-align: top;\n",
       "    }\n",
       "\n",
       "    .dataframe thead th {\n",
       "        text-align: right;\n",
       "    }\n",
       "</style>\n",
       "<table border=\"1\" class=\"dataframe\">\n",
       "  <thead>\n",
       "    <tr style=\"text-align: right;\">\n",
       "      <th></th>\n",
       "      <th>task_form</th>\n",
       "      <th>has_conclusion</th>\n",
       "      <th>index_conclusion</th>\n",
       "      <th>implicatur</th>\n",
       "      <th>mode</th>\n",
       "      <th>signe</th>\n",
       "      <th>absurde</th>\n",
       "    </tr>\n",
       "  </thead>\n",
       "  <tbody>\n",
       "    <tr>\n",
       "      <th>0</th>\n",
       "      <td>IA4</td>\n",
       "      <td>True</td>\n",
       "      <td>[2, 5]</td>\n",
       "      <td>False</td>\n",
       "      <td>particulier</td>\n",
       "      <td>positif</td>\n",
       "      <td>False</td>\n",
       "    </tr>\n",
       "    <tr>\n",
       "      <th>2</th>\n",
       "      <td>AI2</td>\n",
       "      <td>True</td>\n",
       "      <td>[2, 3]</td>\n",
       "      <td>False</td>\n",
       "      <td>particulier</td>\n",
       "      <td>positif</td>\n",
       "      <td>False</td>\n",
       "    </tr>\n",
       "    <tr>\n",
       "      <th>4</th>\n",
       "      <td>OA4</td>\n",
       "      <td>True</td>\n",
       "      <td>[5]</td>\n",
       "      <td>False</td>\n",
       "      <td>particulier</td>\n",
       "      <td>negatif</td>\n",
       "      <td>True</td>\n",
       "    </tr>\n",
       "    <tr>\n",
       "      <th>5</th>\n",
       "      <td>AO3</td>\n",
       "      <td>True</td>\n",
       "      <td>[5]</td>\n",
       "      <td>False</td>\n",
       "      <td>particulier</td>\n",
       "      <td>negatif</td>\n",
       "      <td>True</td>\n",
       "    </tr>\n",
       "    <tr>\n",
       "      <th>7</th>\n",
       "      <td>EI3</td>\n",
       "      <td>True</td>\n",
       "      <td>[5]</td>\n",
       "      <td>False</td>\n",
       "      <td>particulier</td>\n",
       "      <td>negatif</td>\n",
       "      <td>False</td>\n",
       "    </tr>\n",
       "    <tr>\n",
       "      <th>8</th>\n",
       "      <td>EI2</td>\n",
       "      <td>True</td>\n",
       "      <td>[5]</td>\n",
       "      <td>False</td>\n",
       "      <td>particulier</td>\n",
       "      <td>negatif</td>\n",
       "      <td>False</td>\n",
       "    </tr>\n",
       "    <tr>\n",
       "      <th>10</th>\n",
       "      <td>IE3</td>\n",
       "      <td>True</td>\n",
       "      <td>[4]</td>\n",
       "      <td>False</td>\n",
       "      <td>particulier</td>\n",
       "      <td>negatif</td>\n",
       "      <td>False</td>\n",
       "    </tr>\n",
       "    <tr>\n",
       "      <th>12</th>\n",
       "      <td>OA3</td>\n",
       "      <td>True</td>\n",
       "      <td>[4]</td>\n",
       "      <td>False</td>\n",
       "      <td>particulier</td>\n",
       "      <td>negatif</td>\n",
       "      <td>True</td>\n",
       "    </tr>\n",
       "    <tr>\n",
       "      <th>13</th>\n",
       "      <td>AI4</td>\n",
       "      <td>True</td>\n",
       "      <td>[2, 3]</td>\n",
       "      <td>False</td>\n",
       "      <td>particulier</td>\n",
       "      <td>positif</td>\n",
       "      <td>False</td>\n",
       "    </tr>\n",
       "    <tr>\n",
       "      <th>14</th>\n",
       "      <td>IE4</td>\n",
       "      <td>True</td>\n",
       "      <td>[4]</td>\n",
       "      <td>False</td>\n",
       "      <td>particulier</td>\n",
       "      <td>negatif</td>\n",
       "      <td>False</td>\n",
       "    </tr>\n",
       "    <tr>\n",
       "      <th>17</th>\n",
       "      <td>IA1</td>\n",
       "      <td>True</td>\n",
       "      <td>[2, 5]</td>\n",
       "      <td>False</td>\n",
       "      <td>particulier</td>\n",
       "      <td>positif</td>\n",
       "      <td>False</td>\n",
       "    </tr>\n",
       "    <tr>\n",
       "      <th>19</th>\n",
       "      <td>EI1</td>\n",
       "      <td>True</td>\n",
       "      <td>[5]</td>\n",
       "      <td>False</td>\n",
       "      <td>particulier</td>\n",
       "      <td>negatif</td>\n",
       "      <td>False</td>\n",
       "    </tr>\n",
       "    <tr>\n",
       "      <th>20</th>\n",
       "      <td>AO4</td>\n",
       "      <td>True</td>\n",
       "      <td>[4]</td>\n",
       "      <td>False</td>\n",
       "      <td>particulier</td>\n",
       "      <td>negatif</td>\n",
       "      <td>True</td>\n",
       "    </tr>\n",
       "    <tr>\n",
       "      <th>22</th>\n",
       "      <td>IE1</td>\n",
       "      <td>True</td>\n",
       "      <td>[4]</td>\n",
       "      <td>False</td>\n",
       "      <td>particulier</td>\n",
       "      <td>negatif</td>\n",
       "      <td>False</td>\n",
       "    </tr>\n",
       "    <tr>\n",
       "      <th>24</th>\n",
       "      <td>IE2</td>\n",
       "      <td>True</td>\n",
       "      <td>[4]</td>\n",
       "      <td>False</td>\n",
       "      <td>particulier</td>\n",
       "      <td>negatif</td>\n",
       "      <td>False</td>\n",
       "    </tr>\n",
       "    <tr>\n",
       "      <th>26</th>\n",
       "      <td>EI4</td>\n",
       "      <td>True</td>\n",
       "      <td>[5]</td>\n",
       "      <td>False</td>\n",
       "      <td>particulier</td>\n",
       "      <td>negatif</td>\n",
       "      <td>False</td>\n",
       "    </tr>\n",
       "  </tbody>\n",
       "</table>\n",
       "</div>"
      ],
      "text/plain": [
       "   task_form  has_conclusion index_conclusion  implicatur         mode  \\\n",
       "0        IA4            True           [2, 5]       False  particulier   \n",
       "2        AI2            True           [2, 3]       False  particulier   \n",
       "4        OA4            True              [5]       False  particulier   \n",
       "5        AO3            True              [5]       False  particulier   \n",
       "7        EI3            True              [5]       False  particulier   \n",
       "8        EI2            True              [5]       False  particulier   \n",
       "10       IE3            True              [4]       False  particulier   \n",
       "12       OA3            True              [4]       False  particulier   \n",
       "13       AI4            True           [2, 3]       False  particulier   \n",
       "14       IE4            True              [4]       False  particulier   \n",
       "17       IA1            True           [2, 5]       False  particulier   \n",
       "19       EI1            True              [5]       False  particulier   \n",
       "20       AO4            True              [4]       False  particulier   \n",
       "22       IE1            True              [4]       False  particulier   \n",
       "24       IE2            True              [4]       False  particulier   \n",
       "26       EI4            True              [5]       False  particulier   \n",
       "\n",
       "      signe  absurde  \n",
       "0   positif    False  \n",
       "2   positif    False  \n",
       "4   negatif     True  \n",
       "5   negatif     True  \n",
       "7   negatif    False  \n",
       "8   negatif    False  \n",
       "10  negatif    False  \n",
       "12  negatif     True  \n",
       "13  positif    False  \n",
       "14  negatif    False  \n",
       "17  positif    False  \n",
       "19  negatif    False  \n",
       "20  negatif     True  \n",
       "22  negatif    False  \n",
       "24  negatif    False  \n",
       "26  negatif    False  "
      ]
     },
     "execution_count": 35,
     "metadata": {},
     "output_type": "execute_result"
    }
   ],
   "source": [
    "\n",
    "\n",
    "df_form_part = df_form.loc[df_form[\"mode\"] == \"particulier\",:]\n",
    "\n",
    "df_form_part"
   ]
  },
  {
   "cell_type": "code",
   "execution_count": 36,
   "metadata": {},
   "outputs": [],
   "source": [
    "from pandas import DataFrame\n",
    "import ast\n",
    "my_dict_part = {0:0,1:0,2:0,3:0,4:0,5:0,6:0,7:0}\n",
    "\n",
    "for row in df_form_part.index_conclusion:\n",
    "    for e in ast.literal_eval(row):\n",
    "        my_dict_part[e] += 1"
   ]
  },
  {
   "cell_type": "code",
   "execution_count": 37,
   "metadata": {},
   "outputs": [
    {
     "data": {
      "text/plain": [
       "0    0.000\n",
       "1    0.000\n",
       "2    0.250\n",
       "3    0.125\n",
       "4    0.375\n",
       "5    0.500\n",
       "6    0.000\n",
       "7    0.000\n",
       "dtype: float64"
      ]
     },
     "execution_count": 37,
     "metadata": {},
     "output_type": "execute_result"
    }
   ],
   "source": [
    "df_random_part= pd.Series(my_dict_part)\n",
    "df_random_part = df_random_part / 16\n",
    "df_random_part"
   ]
  },
  {
   "cell_type": "code",
   "execution_count": 38,
   "metadata": {},
   "outputs": [
    {
     "data": {
      "text/plain": [
       "0.15625"
      ]
     },
     "execution_count": 38,
     "metadata": {},
     "output_type": "execute_result"
    }
   ],
   "source": [
    "df_random_part.mean()"
   ]
  }
 ],
 "metadata": {
  "kernelspec": {
   "display_name": "Python 3.9.12 ('env': venv)",
   "language": "python",
   "name": "python3"
  },
  "language_info": {
   "codemirror_mode": {
    "name": "ipython",
    "version": 3
   },
   "file_extension": ".py",
   "mimetype": "text/x-python",
   "name": "python",
   "nbconvert_exporter": "python",
   "pygments_lexer": "ipython3",
   "version": "3.9.12"
  },
  "orig_nbformat": 4,
  "vscode": {
   "interpreter": {
    "hash": "dddc4829cdb8a95c4dcd99a91d3cecc91af3578de6eb6a763a56b0c106b3b01d"
   }
  }
 },
 "nbformat": 4,
 "nbformat_minor": 2
}
