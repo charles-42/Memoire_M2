{
 "cells": [
  {
   "cell_type": "code",
   "execution_count": 2,
   "metadata": {},
   "outputs": [],
   "source": [
    "import pandas as pd"
   ]
  },
  {
   "cell_type": "markdown",
   "metadata": {},
   "source": [
    "# Work on syllogism form"
   ]
  },
  {
   "cell_type": "code",
   "execution_count": 5,
   "metadata": {},
   "outputs": [],
   "source": [
    "df_form = pd.read_csv(\"./data/form_data.csv\")"
   ]
  },
  {
   "cell_type": "code",
   "execution_count": 18,
   "metadata": {},
   "outputs": [],
   "source": [
    "absurde = [\"AO3\",\"AO4\",\"OA3\",\"OA4\"]\n",
    "positif = [\"AA1\",\"AA2\",\"AA4\",\"AI2\",\"AI4\",\"IA1\",\"IA4\"]\n",
    "universel = [\"AA1\",\"AA2\",\"AA4\",\"AE1\",\"AE2\",\"AE3\",\"AE4\",\"EA1\",\"EA2\",\"EA3\",\"EA4\"]\n",
    "particulier = [\"AI2\",\"AI4\",\"AO3\",\"AO4\",\"EI1\",\"EI2\",\"EI3\",\"EI4\",\"IA1\",\"IA4\",\"IE1\",\"IE2\",\"IE3\",\"IE4\",\"OA3\",\"OA4\"]"
   ]
  },
  {
   "cell_type": "code",
   "execution_count": 19,
   "metadata": {},
   "outputs": [],
   "source": [
    "df_form_valide = df_form.loc[df_form[\"has_conclusion\"]==True,:]"
   ]
  },
  {
   "cell_type": "code",
   "execution_count": 21,
   "metadata": {},
   "outputs": [
    {
     "name": "stderr",
     "output_type": "stream",
     "text": [
      "/var/folders/py/4rt338cj1ks4z3332m7l3f880000gp/T/ipykernel_76729/1893931228.py:1: SettingWithCopyWarning: \n",
      "A value is trying to be set on a copy of a slice from a DataFrame.\n",
      "Try using .loc[row_indexer,col_indexer] = value instead\n",
      "\n",
      "See the caveats in the documentation: https://pandas.pydata.org/pandas-docs/stable/user_guide/indexing.html#returning-a-view-versus-a-copy\n",
      "  df_form_valide[\"mode\"] = df_form_valide.task_form.apply(lambda x: \"universel\" if x in universel else \"particulier\")\n",
      "/var/folders/py/4rt338cj1ks4z3332m7l3f880000gp/T/ipykernel_76729/1893931228.py:2: SettingWithCopyWarning: \n",
      "A value is trying to be set on a copy of a slice from a DataFrame.\n",
      "Try using .loc[row_indexer,col_indexer] = value instead\n",
      "\n",
      "See the caveats in the documentation: https://pandas.pydata.org/pandas-docs/stable/user_guide/indexing.html#returning-a-view-versus-a-copy\n",
      "  df_form_valide[\"signe\"] = df_form_valide.task_form.apply(lambda x: \"positif\" if x in positif else \"negatif\")\n",
      "/var/folders/py/4rt338cj1ks4z3332m7l3f880000gp/T/ipykernel_76729/1893931228.py:3: SettingWithCopyWarning: \n",
      "A value is trying to be set on a copy of a slice from a DataFrame.\n",
      "Try using .loc[row_indexer,col_indexer] = value instead\n",
      "\n",
      "See the caveats in the documentation: https://pandas.pydata.org/pandas-docs/stable/user_guide/indexing.html#returning-a-view-versus-a-copy\n",
      "  df_form_valide[\"absurde\"] = df_form_valide.task_form.apply(lambda x: True if x in absurde else False)\n"
     ]
    }
   ],
   "source": [
    "df_form_valide[\"mode\"] = df_form_valide.task_form.apply(lambda x: \"universel\" if x in universel else \"particulier\")\n",
    "df_form_valide[\"signe\"] = df_form_valide.task_form.apply(lambda x: \"positif\" if x in positif else \"negatif\")\n",
    "df_form_valide[\"absurde\"] = df_form_valide.task_form.apply(lambda x: True if x in absurde else False)"
   ]
  },
  {
   "cell_type": "code",
   "execution_count": 23,
   "metadata": {},
   "outputs": [],
   "source": [
    "df_form_valide = df_form_valide.drop(\"Unnamed: 0\", axis=1)"
   ]
  },
  {
   "cell_type": "code",
   "execution_count": 27,
   "metadata": {},
   "outputs": [],
   "source": [
    "df_form_valide.to_csv(\"./data/form_data_final.csv\", index=False)"
   ]
  },
  {
   "cell_type": "markdown",
   "metadata": {},
   "source": [
    "# Work on nlp_resul"
   ]
  },
  {
   "cell_type": "code",
   "execution_count": 29,
   "metadata": {},
   "outputs": [],
   "source": [
    "df_nlp_result = pd.read_csv(\"./data/nlp_result.csv\")\n",
    "df_idseq = pd.read_csv(\"./data/idseq_sentence.csv\")"
   ]
  },
  {
   "cell_type": "code",
   "execution_count": 74,
   "metadata": {},
   "outputs": [
    {
     "data": {
      "text/plain": [
       "IE4    109\n",
       "II3    109\n",
       "EO3    107\n",
       "EO1    107\n",
       "AI3    107\n",
       "      ... \n",
       "AO4     96\n",
       "OA3     95\n",
       "IA4     94\n",
       "IO4     93\n",
       "IA1     93\n",
       "Name: task_form, Length: 64, dtype: int64"
      ]
     },
     "execution_count": 74,
     "metadata": {},
     "output_type": "execute_result"
    }
   ],
   "source": [
    "df_nlp_result[\"task_form\"].value_counts()"
   ]
  },
  {
   "cell_type": "code",
   "execution_count": 42,
   "metadata": {},
   "outputs": [
    {
     "data": {
      "text/plain": [
       "(6506, 7)"
      ]
     },
     "execution_count": 42,
     "metadata": {},
     "output_type": "execute_result"
    }
   ],
   "source": [
    "df_nlp_result.shape"
   ]
  },
  {
   "cell_type": "code",
   "execution_count": 43,
   "metadata": {},
   "outputs": [
    {
     "data": {
      "text/plain": [
       "(6506, 2)"
      ]
     },
     "execution_count": 43,
     "metadata": {},
     "output_type": "execute_result"
    }
   ],
   "source": [
    "df_idseq.shape"
   ]
  },
  {
   "cell_type": "code",
   "execution_count": 35,
   "metadata": {},
   "outputs": [
    {
     "data": {
      "text/html": [
       "<div>\n",
       "<style scoped>\n",
       "    .dataframe tbody tr th:only-of-type {\n",
       "        vertical-align: middle;\n",
       "    }\n",
       "\n",
       "    .dataframe tbody tr th {\n",
       "        vertical-align: top;\n",
       "    }\n",
       "\n",
       "    .dataframe thead th {\n",
       "        text-align: right;\n",
       "    }\n",
       "</style>\n",
       "<table border=\"1\" class=\"dataframe\">\n",
       "  <thead>\n",
       "    <tr style=\"text-align: right;\">\n",
       "      <th></th>\n",
       "      <th>Unnamed: 0</th>\n",
       "      <th>id_seq</th>\n",
       "      <th>task_form</th>\n",
       "      <th>best_bert_00_index</th>\n",
       "      <th>bert_00success</th>\n",
       "      <th>best_mnli_00_index</th>\n",
       "      <th>mnli_00success</th>\n",
       "    </tr>\n",
       "  </thead>\n",
       "  <tbody>\n",
       "    <tr>\n",
       "      <th>0</th>\n",
       "      <td>0</td>\n",
       "      <td>1_0_R</td>\n",
       "      <td>IA4</td>\n",
       "      <td>2</td>\n",
       "      <td>1</td>\n",
       "      <td>2</td>\n",
       "      <td>1</td>\n",
       "    </tr>\n",
       "    <tr>\n",
       "      <th>1</th>\n",
       "      <td>1</td>\n",
       "      <td>1_1_R</td>\n",
       "      <td>EA3</td>\n",
       "      <td>0</td>\n",
       "      <td>0</td>\n",
       "      <td>7</td>\n",
       "      <td>1</td>\n",
       "    </tr>\n",
       "    <tr>\n",
       "      <th>2</th>\n",
       "      <td>2</td>\n",
       "      <td>1_2_R</td>\n",
       "      <td>AI2</td>\n",
       "      <td>3</td>\n",
       "      <td>1</td>\n",
       "      <td>2</td>\n",
       "      <td>1</td>\n",
       "    </tr>\n",
       "    <tr>\n",
       "      <th>3</th>\n",
       "      <td>3</td>\n",
       "      <td>1_3_R</td>\n",
       "      <td>AA1</td>\n",
       "      <td>0</td>\n",
       "      <td>1</td>\n",
       "      <td>4</td>\n",
       "      <td>0</td>\n",
       "    </tr>\n",
       "    <tr>\n",
       "      <th>4</th>\n",
       "      <td>4</td>\n",
       "      <td>1_4_R</td>\n",
       "      <td>OA4</td>\n",
       "      <td>4</td>\n",
       "      <td>0</td>\n",
       "      <td>5</td>\n",
       "      <td>1</td>\n",
       "    </tr>\n",
       "  </tbody>\n",
       "</table>\n",
       "</div>"
      ],
      "text/plain": [
       "   Unnamed: 0 id_seq task_form  best_bert_00_index  bert_00success  \\\n",
       "0           0  1_0_R       IA4                   2               1   \n",
       "1           1  1_1_R       EA3                   0               0   \n",
       "2           2  1_2_R       AI2                   3               1   \n",
       "3           3  1_3_R       AA1                   0               1   \n",
       "4           4  1_4_R       OA4                   4               0   \n",
       "\n",
       "   best_mnli_00_index  mnli_00success  \n",
       "0                   2               1  \n",
       "1                   7               1  \n",
       "2                   2               1  \n",
       "3                   4               0  \n",
       "4                   5               1  "
      ]
     },
     "execution_count": 35,
     "metadata": {},
     "output_type": "execute_result"
    }
   ],
   "source": [
    "df_nlp_result.head()"
   ]
  },
  {
   "cell_type": "code",
   "execution_count": 34,
   "metadata": {},
   "outputs": [
    {
     "data": {
      "text/plain": [
       "sentenced    object\n",
       "id_seq       object\n",
       "dtype: object"
      ]
     },
     "execution_count": 34,
     "metadata": {},
     "output_type": "execute_result"
    }
   ],
   "source": [
    "df_idseq.dtypes"
   ]
  },
  {
   "cell_type": "code",
   "execution_count": 36,
   "metadata": {},
   "outputs": [
    {
     "data": {
      "text/html": [
       "<div>\n",
       "<style scoped>\n",
       "    .dataframe tbody tr th:only-of-type {\n",
       "        vertical-align: middle;\n",
       "    }\n",
       "\n",
       "    .dataframe tbody tr th {\n",
       "        vertical-align: top;\n",
       "    }\n",
       "\n",
       "    .dataframe thead th {\n",
       "        text-align: right;\n",
       "    }\n",
       "</style>\n",
       "<table border=\"1\" class=\"dataframe\">\n",
       "  <thead>\n",
       "    <tr style=\"text-align: right;\">\n",
       "      <th></th>\n",
       "      <th>sentenced</th>\n",
       "      <th>id_seq</th>\n",
       "    </tr>\n",
       "  </thead>\n",
       "  <tbody>\n",
       "    <tr>\n",
       "      <th>0</th>\n",
       "      <td>Some models are managers and All models are cl...</td>\n",
       "      <td>1_0_R</td>\n",
       "    </tr>\n",
       "    <tr>\n",
       "      <th>1</th>\n",
       "      <td>No divers are carpenters and All linguists are...</td>\n",
       "      <td>1_1_R</td>\n",
       "    </tr>\n",
       "    <tr>\n",
       "      <th>2</th>\n",
       "      <td>All therapists are climbers and Some skaters a...</td>\n",
       "      <td>1_2_R</td>\n",
       "    </tr>\n",
       "    <tr>\n",
       "      <th>3</th>\n",
       "      <td>All bankers are golfers and All golfers are te...</td>\n",
       "      <td>1_3_R</td>\n",
       "    </tr>\n",
       "    <tr>\n",
       "      <th>4</th>\n",
       "      <td>Some boxers are not opticians and All boxers a...</td>\n",
       "      <td>1_4_R</td>\n",
       "    </tr>\n",
       "  </tbody>\n",
       "</table>\n",
       "</div>"
      ],
      "text/plain": [
       "                                           sentenced id_seq\n",
       "0  Some models are managers and All models are cl...  1_0_R\n",
       "1  No divers are carpenters and All linguists are...  1_1_R\n",
       "2  All therapists are climbers and Some skaters a...  1_2_R\n",
       "3  All bankers are golfers and All golfers are te...  1_3_R\n",
       "4  Some boxers are not opticians and All boxers a...  1_4_R"
      ]
     },
     "execution_count": 36,
     "metadata": {},
     "output_type": "execute_result"
    }
   ],
   "source": [
    "df_idseq.head()"
   ]
  },
  {
   "cell_type": "code",
   "execution_count": 38,
   "metadata": {},
   "outputs": [],
   "source": [
    "df_nlp_final = df_nlp_result.merge(df_idseq, how=\"left\", on ='id_seq')"
   ]
  },
  {
   "cell_type": "code",
   "execution_count": 41,
   "metadata": {},
   "outputs": [],
   "source": [
    "df_nlp_final = df_nlp_final.drop([\"Unnamed: 0\",\"id_seq\"], axis = 1)"
   ]
  },
  {
   "cell_type": "code",
   "execution_count": 44,
   "metadata": {},
   "outputs": [],
   "source": [
    "df_nlp_final.to_csv(\"./data/nlp_result_final.csv\", index=False)"
   ]
  },
  {
   "cell_type": "markdown",
   "metadata": {},
   "source": [
    "# Analyse subset"
   ]
  },
  {
   "cell_type": "code",
   "execution_count": null,
   "metadata": {},
   "outputs": [],
   "source": [
    "df_form = pd.read_csv(\"./data/form_data_final.csv\")\n",
    "df_nlp_result = pd.read_csv(\"./data/nlp_result_final.csv\")"
   ]
  },
  {
   "cell_type": "code",
   "execution_count": 77,
   "metadata": {},
   "outputs": [],
   "source": [
    "df_sub= df_nlp_result.merge(df_form, how=\"left\", on='task_form')"
   ]
  },
  {
   "cell_type": "code",
   "execution_count": 78,
   "metadata": {},
   "outputs": [
    {
     "data": {
      "text/plain": [
       "(6506, 12)"
      ]
     },
     "execution_count": 78,
     "metadata": {},
     "output_type": "execute_result"
    }
   ],
   "source": [
    "df_sub.shape"
   ]
  },
  {
   "cell_type": "code",
   "execution_count": 80,
   "metadata": {},
   "outputs": [
    {
     "data": {
      "text/plain": [
       "Index(['task_form', 'best_bert_00_index', 'bert_00success',\n",
       "       'best_mnli_00_index', 'mnli_00success', 'sentenced', 'has_conclusion',\n",
       "       'index_conclusion', 'implicatur', 'mode', 'signe', 'absurde'],\n",
       "      dtype='object')"
      ]
     },
     "execution_count": 80,
     "metadata": {},
     "output_type": "execute_result"
    }
   ],
   "source": [
    "df_sub.columns"
   ]
  },
  {
   "cell_type": "code",
   "execution_count": 82,
   "metadata": {},
   "outputs": [
    {
     "data": {
      "text/plain": [
       "(2709, 2)"
      ]
     },
     "execution_count": 82,
     "metadata": {},
     "output_type": "execute_result"
    }
   ],
   "source": [
    "df_sub.loc[ df_sub['has_conclusion']==True,['bert_00success', 'mnli_00success' ]].shape"
   ]
  },
  {
   "cell_type": "code",
   "execution_count": 81,
   "metadata": {},
   "outputs": [
    {
     "data": {
      "text/plain": [
       "bert_00success    0.194168\n",
       "mnli_00success    0.494647\n",
       "dtype: float64"
      ]
     },
     "execution_count": 81,
     "metadata": {},
     "output_type": "execute_result"
    }
   ],
   "source": [
    "df_sub.loc[ df_sub['has_conclusion']==True,['bert_00success', 'mnli_00success' ]].mean()"
   ]
  },
  {
   "cell_type": "markdown",
   "metadata": {},
   "source": [
    "# Final data set"
   ]
  },
  {
   "cell_type": "code",
   "execution_count": 66,
   "metadata": {},
   "outputs": [],
   "source": [
    "df_nlp_result = pd.read_csv(\"./data/nlp_result_final.csv\")\n",
    "df_form = pd.read_csv(\"./data/form_data_final.csv\")\n",
    "df_human = pd.read_csv(\"./data/human_data.csv\")"
   ]
  },
  {
   "cell_type": "code",
   "execution_count": 67,
   "metadata": {},
   "outputs": [],
   "source": [
    "df_final = df_human.merge(df_nlp_result, how=\"left\", on ='sentenced')\n",
    "df_final = df_final.merge(df_form, how=\"left\", left_on='task_form_x', right_on = \"task_form\")"
   ]
  },
  {
   "cell_type": "code",
   "execution_count": 68,
   "metadata": {},
   "outputs": [],
   "source": [
    "df_final = df_final.dropna()"
   ]
  },
  {
   "cell_type": "code",
   "execution_count": 69,
   "metadata": {},
   "outputs": [],
   "source": [
    "import ast\n",
    "df_final[\"human_success_bool\"] = df_final[[\"human_response_index\",\"index_conclusion\"]].apply(lambda x: x[0] in ast.literal_eval(x[1]), axis = 1)\n",
    "df_final[\"human_success\"] = df_final[\"human_success_bool\"].apply(lambda x: 1 if x == True else 0)"
   ]
  },
  {
   "cell_type": "code",
   "execution_count": 70,
   "metadata": {},
   "outputs": [],
   "source": [
    "df_final = df_final[[\"human_response_index\",\"human_success\",'best_bert_00_index', 'bert_00success',\n",
    "       'best_mnli_00_index', 'mnli_00success','task_form','implicatur', 'mode', 'signe', 'absurde']]"
   ]
  },
  {
   "cell_type": "code",
   "execution_count": 73,
   "metadata": {},
   "outputs": [],
   "source": [
    "df_final.to_csv(\"./data/df_final.csv\", index=False)"
   ]
  },
  {
   "cell_type": "code",
   "execution_count": 71,
   "metadata": {},
   "outputs": [
    {
     "data": {
      "text/html": [
       "<div>\n",
       "<style scoped>\n",
       "    .dataframe tbody tr th:only-of-type {\n",
       "        vertical-align: middle;\n",
       "    }\n",
       "\n",
       "    .dataframe tbody tr th {\n",
       "        vertical-align: top;\n",
       "    }\n",
       "\n",
       "    .dataframe thead th {\n",
       "        text-align: right;\n",
       "    }\n",
       "</style>\n",
       "<table border=\"1\" class=\"dataframe\">\n",
       "  <thead>\n",
       "    <tr style=\"text-align: right;\">\n",
       "      <th></th>\n",
       "      <th>human_response_index</th>\n",
       "      <th>human_success</th>\n",
       "      <th>best_bert_00_index</th>\n",
       "      <th>bert_00success</th>\n",
       "      <th>best_mnli_00_index</th>\n",
       "      <th>mnli_00success</th>\n",
       "      <th>task_form</th>\n",
       "      <th>implicatur</th>\n",
       "      <th>mode</th>\n",
       "      <th>signe</th>\n",
       "      <th>absurde</th>\n",
       "    </tr>\n",
       "  </thead>\n",
       "  <tbody>\n",
       "    <tr>\n",
       "      <th>0</th>\n",
       "      <td>2</td>\n",
       "      <td>1</td>\n",
       "      <td>2</td>\n",
       "      <td>1</td>\n",
       "      <td>2</td>\n",
       "      <td>1</td>\n",
       "      <td>IA4</td>\n",
       "      <td>False</td>\n",
       "      <td>particulier</td>\n",
       "      <td>positif</td>\n",
       "      <td>False</td>\n",
       "    </tr>\n",
       "    <tr>\n",
       "      <th>1</th>\n",
       "      <td>6</td>\n",
       "      <td>1</td>\n",
       "      <td>0</td>\n",
       "      <td>0</td>\n",
       "      <td>7</td>\n",
       "      <td>1</td>\n",
       "      <td>EA3</td>\n",
       "      <td>False</td>\n",
       "      <td>universel</td>\n",
       "      <td>negatif</td>\n",
       "      <td>False</td>\n",
       "    </tr>\n",
       "    <tr>\n",
       "      <th>2</th>\n",
       "      <td>3</td>\n",
       "      <td>1</td>\n",
       "      <td>3</td>\n",
       "      <td>1</td>\n",
       "      <td>2</td>\n",
       "      <td>1</td>\n",
       "      <td>AI2</td>\n",
       "      <td>False</td>\n",
       "      <td>particulier</td>\n",
       "      <td>positif</td>\n",
       "      <td>False</td>\n",
       "    </tr>\n",
       "    <tr>\n",
       "      <th>3</th>\n",
       "      <td>0</td>\n",
       "      <td>1</td>\n",
       "      <td>0</td>\n",
       "      <td>1</td>\n",
       "      <td>4</td>\n",
       "      <td>0</td>\n",
       "      <td>AA1</td>\n",
       "      <td>False</td>\n",
       "      <td>universel</td>\n",
       "      <td>positif</td>\n",
       "      <td>False</td>\n",
       "    </tr>\n",
       "    <tr>\n",
       "      <th>4</th>\n",
       "      <td>5</td>\n",
       "      <td>1</td>\n",
       "      <td>4</td>\n",
       "      <td>0</td>\n",
       "      <td>5</td>\n",
       "      <td>1</td>\n",
       "      <td>OA4</td>\n",
       "      <td>False</td>\n",
       "      <td>particulier</td>\n",
       "      <td>negatif</td>\n",
       "      <td>True</td>\n",
       "    </tr>\n",
       "  </tbody>\n",
       "</table>\n",
       "</div>"
      ],
      "text/plain": [
       "   human_response_index  human_success  best_bert_00_index  bert_00success  \\\n",
       "0                     2              1                   2               1   \n",
       "1                     6              1                   0               0   \n",
       "2                     3              1                   3               1   \n",
       "3                     0              1                   0               1   \n",
       "4                     5              1                   4               0   \n",
       "\n",
       "   best_mnli_00_index  mnli_00success task_form implicatur         mode  \\\n",
       "0                   2               1       IA4      False  particulier   \n",
       "1                   7               1       EA3      False    universel   \n",
       "2                   2               1       AI2      False  particulier   \n",
       "3                   4               0       AA1      False    universel   \n",
       "4                   5               1       OA4      False  particulier   \n",
       "\n",
       "     signe absurde  \n",
       "0  positif   False  \n",
       "1  negatif   False  \n",
       "2  positif   False  \n",
       "3  positif   False  \n",
       "4  negatif    True  "
      ]
     },
     "execution_count": 71,
     "metadata": {},
     "output_type": "execute_result"
    }
   ],
   "source": [
    "df_final.head()"
   ]
  },
  {
   "cell_type": "code",
   "execution_count": 72,
   "metadata": {},
   "outputs": [
    {
     "name": "stdout",
     "output_type": "stream",
     "text": [
      "<class 'pandas.core.frame.DataFrame'>\n",
      "Int64Index: 4621 entries, 0 to 10952\n",
      "Data columns (total 11 columns):\n",
      " #   Column                Non-Null Count  Dtype \n",
      "---  ------                --------------  ----- \n",
      " 0   human_response_index  4621 non-null   int64 \n",
      " 1   human_success         4621 non-null   int64 \n",
      " 2   best_bert_00_index    4621 non-null   int64 \n",
      " 3   bert_00success        4621 non-null   int64 \n",
      " 4   best_mnli_00_index    4621 non-null   int64 \n",
      " 5   mnli_00success        4621 non-null   int64 \n",
      " 6   task_form             4621 non-null   object\n",
      " 7   implicatur            4621 non-null   object\n",
      " 8   mode                  4621 non-null   object\n",
      " 9   signe                 4621 non-null   object\n",
      " 10  absurde               4621 non-null   object\n",
      "dtypes: int64(6), object(5)\n",
      "memory usage: 433.2+ KB\n"
     ]
    }
   ],
   "source": [
    "df_final.info()"
   ]
  },
  {
   "cell_type": "code",
   "execution_count": 83,
   "metadata": {},
   "outputs": [
    {
     "data": {
      "text/plain": [
       "2    1768\n",
       "0    1332\n",
       "1     594\n",
       "3     543\n",
       "4     188\n",
       "5     163\n",
       "7      17\n",
       "6      16\n",
       "Name: best_bert_00_index, dtype: int64"
      ]
     },
     "execution_count": 83,
     "metadata": {},
     "output_type": "execute_result"
    }
   ],
   "source": [
    "df_final[\"best_bert_00_index\"].value_counts()"
   ]
  },
  {
   "cell_type": "code",
   "execution_count": 84,
   "metadata": {},
   "outputs": [
    {
     "data": {
      "text/plain": [
       "6    1182\n",
       "5    1057\n",
       "4     759\n",
       "7     569\n",
       "0     464\n",
       "2     416\n",
       "1      97\n",
       "3      77\n",
       "Name: best_mnli_00_index, dtype: int64"
      ]
     },
     "execution_count": 84,
     "metadata": {},
     "output_type": "execute_result"
    }
   ],
   "source": [
    "df_final[\"best_mnli_00_index\"].value_counts()"
   ]
  },
  {
   "cell_type": "code",
   "execution_count": 85,
   "metadata": {},
   "outputs": [
    {
     "data": {
      "text/plain": [
       "8    705\n",
       "6    702\n",
       "7    611\n",
       "5    577\n",
       "4    573\n",
       "2    543\n",
       "3    468\n",
       "0    267\n",
       "1    175\n",
       "Name: human_response_index, dtype: int64"
      ]
     },
     "execution_count": 85,
     "metadata": {},
     "output_type": "execute_result"
    }
   ],
   "source": [
    "df_final[\"human_response_index\"].value_counts()"
   ]
  }
 ],
 "metadata": {
  "kernelspec": {
   "display_name": "Python 3.9.12 ('env': venv)",
   "language": "python",
   "name": "python3"
  },
  "language_info": {
   "codemirror_mode": {
    "name": "ipython",
    "version": 3
   },
   "file_extension": ".py",
   "mimetype": "text/x-python",
   "name": "python",
   "nbconvert_exporter": "python",
   "pygments_lexer": "ipython3",
   "version": "3.9.12"
  },
  "orig_nbformat": 4,
  "vscode": {
   "interpreter": {
    "hash": "dddc4829cdb8a95c4dcd99a91d3cecc91af3578de6eb6a763a56b0c106b3b01d"
   }
  }
 },
 "nbformat": 4,
 "nbformat_minor": 2
}
