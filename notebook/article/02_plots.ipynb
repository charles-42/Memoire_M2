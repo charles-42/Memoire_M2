{
 "cells": [
  {
   "cell_type": "code",
   "execution_count": 2,
   "metadata": {},
   "outputs": [],
   "source": [
    "import seaborn as sns"
   ]
  },
  {
   "cell_type": "code",
   "execution_count": 3,
   "metadata": {},
   "outputs": [],
   "source": [
    "import pandas as pd\n",
    "\n",
    "df_final = pd.read_csv(\"./data/df_final.csv\")"
   ]
  },
  {
   "cell_type": "code",
   "execution_count": 4,
   "metadata": {},
   "outputs": [],
   "source": [
    "df_final = df_final.rename(columns = {'human_success':'Humans', 'bert_00success':'BERT', 'mnli_00success':'BART MNLI'})"
   ]
  },
  {
   "cell_type": "markdown",
   "metadata": {},
   "source": [
    "# 1. know about logic "
   ]
  },
  {
   "cell_type": "code",
   "execution_count": 213,
   "metadata": {},
   "outputs": [
    {
     "data": {
      "text/html": [
       "<div>\n",
       "<style scoped>\n",
       "    .dataframe tbody tr th:only-of-type {\n",
       "        vertical-align: middle;\n",
       "    }\n",
       "\n",
       "    .dataframe tbody tr th {\n",
       "        vertical-align: top;\n",
       "    }\n",
       "\n",
       "    .dataframe thead th {\n",
       "        text-align: right;\n",
       "    }\n",
       "</style>\n",
       "<table border=\"1\" class=\"dataframe\">\n",
       "  <thead>\n",
       "    <tr style=\"text-align: right;\">\n",
       "      <th></th>\n",
       "      <th>Algo</th>\n",
       "      <th>Success Rate</th>\n",
       "    </tr>\n",
       "  </thead>\n",
       "  <tbody>\n",
       "    <tr>\n",
       "      <th>1</th>\n",
       "      <td>BERT</td>\n",
       "      <td>0.191517</td>\n",
       "    </tr>\n",
       "    <tr>\n",
       "      <th>3</th>\n",
       "      <td>Random</td>\n",
       "      <td>0.222000</td>\n",
       "    </tr>\n",
       "    <tr>\n",
       "      <th>0</th>\n",
       "      <td>Humans</td>\n",
       "      <td>0.451417</td>\n",
       "    </tr>\n",
       "    <tr>\n",
       "      <th>2</th>\n",
       "      <td>BART MNLI</td>\n",
       "      <td>0.495131</td>\n",
       "    </tr>\n",
       "  </tbody>\n",
       "</table>\n",
       "</div>"
      ],
      "text/plain": [
       "        Algo  Success Rate\n",
       "1       BERT      0.191517\n",
       "3     Random      0.222000\n",
       "0     Humans      0.451417\n",
       "2  BART MNLI      0.495131"
      ]
     },
     "execution_count": 213,
     "metadata": {},
     "output_type": "execute_result"
    }
   ],
   "source": [
    "df1 = df_final[['Humans','BERT', 'BART MNLI']].mean()\n",
    "df1 = df1.to_frame().reset_index()\n",
    "df1.columns=[\"Algo\",'Success Rate']\n",
    "new_row = {'Algo':'Random', 'Success Rate':0.222}\n",
    "#append row to the dataframe\n",
    "df1 = df1.append(new_row, ignore_index=True).sort_values(by='Success Rate')\n",
    "df1"
   ]
  },
  {
   "cell_type": "code",
   "execution_count": 214,
   "metadata": {},
   "outputs": [
    {
     "data": {
      "image/png": "[encoded data removed]",
      "text/plain": [
       "<Figure size 432x288 with 1 Axes>"
      ]
     },
     "metadata": {},
     "output_type": "display_data"
    }
   ],
   "source": [
    "x = df1[\"Algo\"]\n",
    "y = df1[\"Success Rate\"]\n",
    "\n",
    "import matplotlib.ticker as mtick\n",
    "import matplotlib.pyplot as plt\n",
    "ax  = sns.barplot(data=df1, x=x, y = y)\n",
    "ax.figure.suptitle(\"Success Rates\")\n",
    "ax.figure.subplots_adjust(left=0.15, top=0.9)\n",
    "ax.yaxis.set_major_formatter(mtick.PercentFormatter(xmax=1.0))\n",
    "ax.set_ylim(0,1)\n",
    "ax.set_xlabel('')\n",
    "\n",
    "for bar in ax.patches:\n",
    "   \n",
    "  # Using Matplotlib's annotate function and\n",
    "  # passing the coordinates where the annotation shall be done\n",
    "  # x-coordinate: bar.get_x() + bar.get_width() / 2\n",
    "  # y-coordinate: bar.get_height()\n",
    "  # free space to be left to make graph pleasing: (0, 8)\n",
    "  # ha and va stand for the horizontal and vertical alignment\n",
    "    ax.annotate(format(bar.get_height(), '.1%'),\n",
    "                   (bar.get_x() + bar.get_width() / 2,\n",
    "                    bar.get_height()), ha='center', va='center',\n",
    "                   size=10, xytext=(0, 8),\n",
    "                   textcoords='offset points')\n",
    "\n",
    "plt.savefig(\"./charts/1_success_rates.png\")\n",
    "\n",
    "plt.show()\n"
   ]
  },
  {
   "cell_type": "markdown",
   "metadata": {},
   "source": [
    "# 2. Same logic?"
   ]
  },
  {
   "cell_type": "markdown",
   "metadata": {},
   "source": [
    "## Same result"
   ]
  },
  {
   "cell_type": "code",
   "execution_count": 5,
   "metadata": {},
   "outputs": [
    {
     "ename": "KeyError",
     "evalue": "'human_success'",
     "output_type": "error",
     "traceback": [
      "\u001b[0;31m---------------------------------------------------------------------------\u001b[0m",
      "\u001b[0;31mKeyError\u001b[0m                                  Traceback (most recent call last)",
      "\u001b[0;32m~/Documents/pythonProject/MemoireM2/env/lib/python3.9/site-packages/pandas/core/indexes/base.py\u001b[0m in \u001b[0;36mget_loc\u001b[0;34m(self, key, method, tolerance)\u001b[0m\n\u001b[1;32m   3360\u001b[0m             \u001b[0;32mtry\u001b[0m\u001b[0;34m:\u001b[0m\u001b[0;34m\u001b[0m\u001b[0;34m\u001b[0m\u001b[0m\n\u001b[0;32m-> 3361\u001b[0;31m                 \u001b[0;32mreturn\u001b[0m \u001b[0mself\u001b[0m\u001b[0;34m.\u001b[0m\u001b[0m_engine\u001b[0m\u001b[0;34m.\u001b[0m\u001b[0mget_loc\u001b[0m\u001b[0;34m(\u001b[0m\u001b[0mcasted_key\u001b[0m\u001b[0;34m)\u001b[0m\u001b[0;34m\u001b[0m\u001b[0;34m\u001b[0m\u001b[0m\n\u001b[0m\u001b[1;32m   3362\u001b[0m             \u001b[0;32mexcept\u001b[0m \u001b[0mKeyError\u001b[0m \u001b[0;32mas\u001b[0m \u001b[0merr\u001b[0m\u001b[0;34m:\u001b[0m\u001b[0;34m\u001b[0m\u001b[0;34m\u001b[0m\u001b[0m\n",
      "\u001b[0;32m~/Documents/pythonProject/MemoireM2/env/lib/python3.9/site-packages/pandas/_libs/index.pyx\u001b[0m in \u001b[0;36mpandas._libs.index.IndexEngine.get_loc\u001b[0;34m()\u001b[0m\n",
      "\u001b[0;32m~/Documents/pythonProject/MemoireM2/env/lib/python3.9/site-packages/pandas/_libs/index.pyx\u001b[0m in \u001b[0;36mpandas._libs.index.IndexEngine.get_loc\u001b[0;34m()\u001b[0m\n",
      "\u001b[0;32mpandas/_libs/hashtable_class_helper.pxi\u001b[0m in \u001b[0;36mpandas._libs.hashtable.PyObjectHashTable.get_item\u001b[0;34m()\u001b[0m\n",
      "\u001b[0;32mpandas/_libs/hashtable_class_helper.pxi\u001b[0m in \u001b[0;36mpandas._libs.hashtable.PyObjectHashTable.get_item\u001b[0;34m()\u001b[0m\n",
      "\u001b[0;31mKeyError\u001b[0m: 'human_success'",
      "\nThe above exception was the direct cause of the following exception:\n",
      "\u001b[0;31mKeyError\u001b[0m                                  Traceback (most recent call last)",
      "\u001b[0;32m/var/folders/py/4rt338cj1ks4z3332m7l3f880000gp/T/ipykernel_93588/454777077.py\u001b[0m in \u001b[0;36m<module>\u001b[0;34m\u001b[0m\n\u001b[0;32m----> 1\u001b[0;31m \u001b[0mdf_final\u001b[0m\u001b[0;34m[\u001b[0m\u001b[0;34m\"same_BERT\"\u001b[0m\u001b[0;34m]\u001b[0m \u001b[0;34m=\u001b[0m \u001b[0mdf_final\u001b[0m\u001b[0;34m[\u001b[0m\u001b[0;34m\"human_success\"\u001b[0m\u001b[0;34m]\u001b[0m \u001b[0;34m+\u001b[0m \u001b[0mdf_final\u001b[0m\u001b[0;34m[\u001b[0m\u001b[0;34m\"bert_00success\"\u001b[0m\u001b[0;34m]\u001b[0m\u001b[0;34m\u001b[0m\u001b[0;34m\u001b[0m\u001b[0m\n\u001b[0m\u001b[1;32m      2\u001b[0m \u001b[0mdf_final\u001b[0m\u001b[0;34m[\u001b[0m\u001b[0;34m\"same_BART_MNLI\"\u001b[0m\u001b[0;34m]\u001b[0m \u001b[0;34m=\u001b[0m \u001b[0mdf_final\u001b[0m\u001b[0;34m[\u001b[0m\u001b[0;34m\"human_success\"\u001b[0m\u001b[0;34m]\u001b[0m \u001b[0;34m+\u001b[0m \u001b[0mdf_final\u001b[0m\u001b[0;34m[\u001b[0m\u001b[0;34m\"mnli_00success\"\u001b[0m\u001b[0;34m]\u001b[0m\u001b[0;34m\u001b[0m\u001b[0;34m\u001b[0m\u001b[0m\n",
      "\u001b[0;32m~/Documents/pythonProject/MemoireM2/env/lib/python3.9/site-packages/pandas/core/frame.py\u001b[0m in \u001b[0;36m__getitem__\u001b[0;34m(self, key)\u001b[0m\n\u001b[1;32m   3456\u001b[0m             \u001b[0;32mif\u001b[0m \u001b[0mself\u001b[0m\u001b[0;34m.\u001b[0m\u001b[0mcolumns\u001b[0m\u001b[0;34m.\u001b[0m\u001b[0mnlevels\u001b[0m \u001b[0;34m>\u001b[0m \u001b[0;36m1\u001b[0m\u001b[0;34m:\u001b[0m\u001b[0;34m\u001b[0m\u001b[0;34m\u001b[0m\u001b[0m\n\u001b[1;32m   3457\u001b[0m                 \u001b[0;32mreturn\u001b[0m \u001b[0mself\u001b[0m\u001b[0;34m.\u001b[0m\u001b[0m_getitem_multilevel\u001b[0m\u001b[0;34m(\u001b[0m\u001b[0mkey\u001b[0m\u001b[0;34m)\u001b[0m\u001b[0;34m\u001b[0m\u001b[0;34m\u001b[0m\u001b[0m\n\u001b[0;32m-> 3458\u001b[0;31m             \u001b[0mindexer\u001b[0m \u001b[0;34m=\u001b[0m \u001b[0mself\u001b[0m\u001b[0;34m.\u001b[0m\u001b[0mcolumns\u001b[0m\u001b[0;34m.\u001b[0m\u001b[0mget_loc\u001b[0m\u001b[0;34m(\u001b[0m\u001b[0mkey\u001b[0m\u001b[0;34m)\u001b[0m\u001b[0;34m\u001b[0m\u001b[0;34m\u001b[0m\u001b[0m\n\u001b[0m\u001b[1;32m   3459\u001b[0m             \u001b[0;32mif\u001b[0m \u001b[0mis_integer\u001b[0m\u001b[0;34m(\u001b[0m\u001b[0mindexer\u001b[0m\u001b[0;34m)\u001b[0m\u001b[0;34m:\u001b[0m\u001b[0;34m\u001b[0m\u001b[0;34m\u001b[0m\u001b[0m\n\u001b[1;32m   3460\u001b[0m                 \u001b[0mindexer\u001b[0m \u001b[0;34m=\u001b[0m \u001b[0;34m[\u001b[0m\u001b[0mindexer\u001b[0m\u001b[0;34m]\u001b[0m\u001b[0;34m\u001b[0m\u001b[0;34m\u001b[0m\u001b[0m\n",
      "\u001b[0;32m~/Documents/pythonProject/MemoireM2/env/lib/python3.9/site-packages/pandas/core/indexes/base.py\u001b[0m in \u001b[0;36mget_loc\u001b[0;34m(self, key, method, tolerance)\u001b[0m\n\u001b[1;32m   3361\u001b[0m                 \u001b[0;32mreturn\u001b[0m \u001b[0mself\u001b[0m\u001b[0;34m.\u001b[0m\u001b[0m_engine\u001b[0m\u001b[0;34m.\u001b[0m\u001b[0mget_loc\u001b[0m\u001b[0;34m(\u001b[0m\u001b[0mcasted_key\u001b[0m\u001b[0;34m)\u001b[0m\u001b[0;34m\u001b[0m\u001b[0;34m\u001b[0m\u001b[0m\n\u001b[1;32m   3362\u001b[0m             \u001b[0;32mexcept\u001b[0m \u001b[0mKeyError\u001b[0m \u001b[0;32mas\u001b[0m \u001b[0merr\u001b[0m\u001b[0;34m:\u001b[0m\u001b[0;34m\u001b[0m\u001b[0;34m\u001b[0m\u001b[0m\n\u001b[0;32m-> 3363\u001b[0;31m                 \u001b[0;32mraise\u001b[0m \u001b[0mKeyError\u001b[0m\u001b[0;34m(\u001b[0m\u001b[0mkey\u001b[0m\u001b[0;34m)\u001b[0m \u001b[0;32mfrom\u001b[0m \u001b[0merr\u001b[0m\u001b[0;34m\u001b[0m\u001b[0;34m\u001b[0m\u001b[0m\n\u001b[0m\u001b[1;32m   3364\u001b[0m \u001b[0;34m\u001b[0m\u001b[0m\n\u001b[1;32m   3365\u001b[0m         \u001b[0;32mif\u001b[0m \u001b[0mis_scalar\u001b[0m\u001b[0;34m(\u001b[0m\u001b[0mkey\u001b[0m\u001b[0;34m)\u001b[0m \u001b[0;32mand\u001b[0m \u001b[0misna\u001b[0m\u001b[0;34m(\u001b[0m\u001b[0mkey\u001b[0m\u001b[0;34m)\u001b[0m \u001b[0;32mand\u001b[0m \u001b[0;32mnot\u001b[0m \u001b[0mself\u001b[0m\u001b[0;34m.\u001b[0m\u001b[0mhasnans\u001b[0m\u001b[0;34m:\u001b[0m\u001b[0;34m\u001b[0m\u001b[0;34m\u001b[0m\u001b[0m\n",
      "\u001b[0;31mKeyError\u001b[0m: 'human_success'"
     ]
    }
   ],
   "source": [
    "df_final[\"same_BERT\"] = df_final[\"human_success\"] + df_final[\"bert_00success\"]\n",
    "df_final[\"same_BART_MNLI\"] = df_final[\"human_success\"] + df_final[\"mnli_00success\"]"
   ]
  },
  {
   "cell_type": "code",
   "execution_count": 13,
   "metadata": {},
   "outputs": [
    {
     "data": {
      "text/plain": [
       "(4621, 13)"
      ]
     },
     "execution_count": 13,
     "metadata": {},
     "output_type": "execute_result"
    }
   ],
   "source": [
    "df_final.shape"
   ]
  },
  {
   "cell_type": "code",
   "execution_count": 14,
   "metadata": {},
   "outputs": [
    {
     "data": {
      "text/plain": [
       "0    0.480848\n",
       "1    0.395369\n",
       "2    0.123783\n",
       "Name: same_BERT, dtype: float64"
      ]
     },
     "execution_count": 14,
     "metadata": {},
     "output_type": "execute_result"
    }
   ],
   "source": [
    "df_final[\"same_BERT\"].value_counts()/4621"
   ]
  },
  {
   "cell_type": "code",
   "execution_count": 15,
   "metadata": {},
   "outputs": [
    {
     "data": {
      "text/plain": [
       "0    0.353820\n",
       "1    0.345813\n",
       "2    0.300368\n",
       "Name: same_BART_MNLI, dtype: float64"
      ]
     },
     "execution_count": 15,
     "metadata": {},
     "output_type": "execute_result"
    }
   ],
   "source": [
    "df_final[\"same_BART_MNLI\"].value_counts()/4621"
   ]
  },
  {
   "cell_type": "code",
   "execution_count": 78,
   "metadata": {},
   "outputs": [
    {
     "name": "stdout",
     "output_type": "stream",
     "text": [
      "0.056427125 0.48001012500000007 0.4635627499999999\n"
     ]
    }
   ],
   "source": [
    "random_success= 0.451417*0.125\n",
    "random_fail = (1-0.451417)*(1-0.125)\n",
    "random_differ = 1 - (random_success+random_fail)\n",
    "\n",
    "\n",
    "print(random_success, random_fail, random_differ)"
   ]
  },
  {
   "cell_type": "code",
   "execution_count": 10,
   "metadata": {},
   "outputs": [
    {
     "data": {
      "image/png": "[encoded data removed]",
      "text/plain": [
       "<Figure size 432x288 with 1 Axes>"
      ]
     },
     "metadata": {},
     "output_type": "display_data"
    }
   ],
   "source": [
    "# create DataFrame\n",
    "import matplotlib.pyplot as plt\n",
    "import matplotlib.ticker as mtick\n",
    "df = pd.DataFrame({'Both successful': [0.1304, 0.123, 0.300],\n",
    "                   'Both failed': [0.4568, 0.480, 0.3538],\n",
    "                   'Different Results': [0.4127, 0.3953, 0.345]},\n",
    "                  index=['Random', 'BERT', 'BART MNLI'])\n",
    "\n",
    " \n",
    "sns.set(style='white')\n",
    "# create stacked bar chart for monthly temperatures\n",
    "ax = df.plot(kind='bar', stacked=True, color=['forestgreen', 'crimson', 'lightgray'])\n",
    "ax.figure.suptitle(\"Percentages of similar results\")\n",
    "ax.figure.subplots_adjust(left=0.15, top=0.9)\n",
    "ax.yaxis.set_major_formatter(mtick.PercentFormatter(xmax=1.0))\n",
    "ax.set_ylim(0,1)\n",
    "ax.set_xlabel('')\n",
    "ax.xaxis.set_tick_params(rotation=0)\n",
    "\n",
    "for p in ax.patches:\n",
    "    width, height = p.get_width(), p.get_height()\n",
    "    x, y = p.get_xy() \n",
    "    ax.text(x+width/2, \n",
    "            y+height/2, \n",
    "            '{:.1%}'.format(height), \n",
    "            horizontalalignment='center', \n",
    "            verticalalignment='center')\n",
    "\n",
    "ax.legend(loc='upper center', bbox_to_anchor=(0.5, -0.15),\n",
    "          fancybox=True, shadow=True, ncol=5)\n",
    "# for bar in ax.patches:\n",
    "   \n",
    "\n",
    "#   # Using Matplotlib's annotate function and\n",
    "#   # passing the coordinates where the annotation shall be done\n",
    "#   # x-coordinate: bar.get_x() + bar.get_width() / 2\n",
    "#   # y-coordinate: bar.get_height()\n",
    "#   # free space to be left to make graph pleasing: (0, 8)\n",
    "#   # ha and va stand for the horizontal and vertical alignment\n",
    "#     ax.annotate(format(bar.get_height(), '.1%'),\n",
    "#                    (bar.get_x() + bar.get_width() / 2,\n",
    "#                     bar.get_height()), ha='center', va='center',\n",
    "#                    size=10, xytext=(0, 8),\n",
    "#                    textcoords='offset points')\n",
    "plt.savefig(\"./charts/2_percentage_similarity.png\", bbox_inches='tight')\n",
    "\n",
    "plt.show()\n"
   ]
  },
  {
   "cell_type": "markdown",
   "metadata": {},
   "source": [
    "## Same answer"
   ]
  },
  {
   "cell_type": "code",
   "execution_count": 16,
   "metadata": {},
   "outputs": [
    {
     "data": {
      "text/plain": [
       "Index(['human_response_index', 'human_success', 'best_bert_00_index',\n",
       "       'bert_00success', 'best_mnli_00_index', 'mnli_00success', 'task_form',\n",
       "       'implicatur', 'mode', 'signe', 'absurde', 'same_BERT',\n",
       "       'same_BART_MNLI'],\n",
       "      dtype='object')"
      ]
     },
     "execution_count": 16,
     "metadata": {},
     "output_type": "execute_result"
    }
   ],
   "source": [
    "df_final.columns"
   ]
  },
  {
   "cell_type": "code",
   "execution_count": 19,
   "metadata": {},
   "outputs": [],
   "source": [
    "df_final[\"same_answer_BERT\"] =  df_final[[\"human_response_index\",\"best_bert_00_index\"]].apply(lambda x: 1 if x[0] == x[1] else 0 ,axis =1 )\n",
    "df_final[\"same_answer_BART_MNLI\"] =  df_final[[\"human_response_index\",\"best_mnli_00_index\"]].apply(lambda x: 1 if x[0] == x[1] else 0 ,axis =1 )"
   ]
  },
  {
   "cell_type": "code",
   "execution_count": 22,
   "metadata": {},
   "outputs": [
    {
     "data": {
      "text/plain": [
       "human_success  same_answer_BERT\n",
       "0              0                   0.495347\n",
       "               1                   0.053235\n",
       "1              0                   0.361826\n",
       "               1                   0.089591\n",
       "dtype: float64"
      ]
     },
     "execution_count": 22,
     "metadata": {},
     "output_type": "execute_result"
    }
   ],
   "source": [
    "df_final[[\"same_answer_BERT\",\"human_success\" ]].groupby([\"human_success\",\"same_answer_BERT\"]).size()/4621"
   ]
  },
  {
   "cell_type": "code",
   "execution_count": 23,
   "metadata": {},
   "outputs": [
    {
     "data": {
      "text/plain": [
       "human_success  same_answer_BART_MNLI\n",
       "0              0                        0.460074\n",
       "               1                        0.088509\n",
       "1              0                        0.254490\n",
       "               1                        0.196927\n",
       "dtype: float64"
      ]
     },
     "execution_count": 23,
     "metadata": {},
     "output_type": "execute_result"
    }
   ],
   "source": [
    "df_final[[\"same_answer_BART_MNLI\",\"human_success\" ]].groupby([\"human_success\",\"same_answer_BART_MNLI\"]).size()/4621"
   ]
  },
  {
   "cell_type": "markdown",
   "metadata": {},
   "source": [
    "# Specific"
   ]
  },
  {
   "cell_type": "code",
   "execution_count": 24,
   "metadata": {},
   "outputs": [
    {
     "data": {
      "text/plain": [
       "Index(['human_response_index', 'human_success', 'best_bert_00_index',\n",
       "       'bert_00success', 'best_mnli_00_index', 'mnli_00success', 'task_form',\n",
       "       'implicatur', 'mode', 'signe', 'absurde', 'same_BERT', 'same_BART_MNLI',\n",
       "       'same_answer_BART_MNLI', 'same_answer_BERT'],\n",
       "      dtype='object')"
      ]
     },
     "execution_count": 24,
     "metadata": {},
     "output_type": "execute_result"
    }
   ],
   "source": [
    "df_final.columns"
   ]
  },
  {
   "cell_type": "markdown",
   "metadata": {},
   "source": [
    "## signe"
   ]
  },
  {
   "cell_type": "code",
   "execution_count": 96,
   "metadata": {},
   "outputs": [
    {
     "data": {
      "text/plain": [
       "Index(['human_response_index', 'Humans', 'best_bert_00_index', 'BERT',\n",
       "       'best_mnli_00_index', 'BART MNLI', 'task_form', 'implicatur', 'mode',\n",
       "       'signe', 'absurde'],\n",
       "      dtype='object')"
      ]
     },
     "execution_count": 96,
     "metadata": {},
     "output_type": "execute_result"
    }
   ],
   "source": [
    "df_final.columns"
   ]
  },
  {
   "cell_type": "code",
   "execution_count": 26,
   "metadata": {},
   "outputs": [],
   "source": [
    "df_signe = df_final[['Humans','BERT', 'BART MNLI','signe']].groupby(\"signe\").mean()\n",
    "df_signe = df_signe.transpose()\n",
    "df_signe = df_signe.reset_index()\n",
    "new_row = {'negatif':0.2, 'positif':0.2857, \"index\":\"Random\"}\n",
    "#append row to the dataframe\n",
    "df_signe = df_signe.append(new_row, ignore_index=True)\n",
    "df_signe = df_signe.rename(columns ={ \"index\": \"Signe\"})"
   ]
  },
  {
   "cell_type": "code",
   "execution_count": 27,
   "metadata": {},
   "outputs": [
    {
     "data": {
      "image/png": "[encoded data removed]",
      "text/plain": [
       "<Figure size 432x288 with 1 Axes>"
      ]
     },
     "metadata": {},
     "output_type": "display_data"
    }
   ],
   "source": [
    "import matplotlib.ticker as mtick\n",
    "import numpy as np\n",
    "\n",
    "x = np.arange(4)  # the label locations\n",
    "width = 0.35  # the width of the bars\n",
    "\n",
    "fig, ax = plt.subplots()\n",
    "rects1 = ax.bar(x - width/2, df_signe.positif, width, label='Positive')\n",
    "rects2 = ax.bar(x + width/2, df_signe.negatif, width, label='Negative')\n",
    "\n",
    "\n",
    "# Add some text for labels, title and custom x-axis tick labels, etc.\n",
    "ax.set_ylabel('Success Rates')\n",
    "ax.set_title('Success Rates by sign')\n",
    "ax.figure.subplots_adjust(left=0.15, top=0.9)\n",
    "ax.yaxis.set_major_formatter(mtick.PercentFormatter(xmax=1.0))\n",
    "ax.set_ylim(0,1)\n",
    "ax.set_xlabel('')\n",
    "ax.set_xticks(x, df_signe.Signe)\n",
    "ax.legend(loc='upper center', bbox_to_anchor=(0.5, -0.15),\n",
    "          fancybox=True, shadow=True, ncol=5)\n",
    "\n",
    "for bar in ax.patches:\n",
    "   \n",
    "  # Using Matplotlib's annotate function and\n",
    "  # passing the coordinates where the annotation shall be done\n",
    "  # x-coordinate: bar.get_x() + bar.get_width() / 2\n",
    "  # y-coordinate: bar.get_height()\n",
    "  # free space to be left to make graph pleasing: (0, 8)\n",
    "  # ha and va stand for the horizontal and vertical alignment\n",
    "    ax.annotate(format(bar.get_height(), '.1%'),\n",
    "                   (bar.get_x() + bar.get_width() / 2,\n",
    "                    bar.get_height()), ha='center', va='center',\n",
    "                   size=10, xytext=(0, 8),\n",
    "                   textcoords='offset points')\n",
    "\n",
    "fig.tight_layout()\n",
    "plt.savefig(\"./charts/3_SR_by_sign.png\")\n",
    "\n",
    "plt.show()\n",
    "\n",
    "\n"
   ]
  },
  {
   "cell_type": "code",
   "execution_count": null,
   "metadata": {},
   "outputs": [
    {
     "data": {
      "text/html": [
       "<div>\n",
       "<style scoped>\n",
       "    .dataframe tbody tr th:only-of-type {\n",
       "        vertical-align: middle;\n",
       "    }\n",
       "\n",
       "    .dataframe tbody tr th {\n",
       "        vertical-align: top;\n",
       "    }\n",
       "\n",
       "    .dataframe thead th {\n",
       "        text-align: right;\n",
       "    }\n",
       "</style>\n",
       "<table border=\"1\" class=\"dataframe\">\n",
       "  <thead>\n",
       "    <tr style=\"text-align: right;\">\n",
       "      <th></th>\n",
       "      <th>Both successful</th>\n",
       "      <th>Both failed</th>\n",
       "      <th>Different Result</th>\n",
       "    </tr>\n",
       "  </thead>\n",
       "  <tbody>\n",
       "    <tr>\n",
       "      <th>Random</th>\n",
       "      <td>0.0564</td>\n",
       "      <td>0.4800</td>\n",
       "      <td>0.4636</td>\n",
       "    </tr>\n",
       "    <tr>\n",
       "      <th>BERT</th>\n",
       "      <td>0.1230</td>\n",
       "      <td>0.4800</td>\n",
       "      <td>0.3953</td>\n",
       "    </tr>\n",
       "    <tr>\n",
       "      <th>BART MNLI</th>\n",
       "      <td>0.3000</td>\n",
       "      <td>0.3538</td>\n",
       "      <td>0.3450</td>\n",
       "    </tr>\n",
       "  </tbody>\n",
       "</table>\n",
       "</div>"
      ],
      "text/plain": [
       "           Both successful  Both failed  Different Result\n",
       "Random              0.0564       0.4800            0.4636\n",
       "BERT                0.1230       0.4800            0.3953\n",
       "BART MNLI           0.3000       0.3538            0.3450"
      ]
     },
     "metadata": {},
     "output_type": "display_data"
    }
   ],
   "source": [
    "df"
   ]
  },
  {
   "cell_type": "markdown",
   "metadata": {},
   "source": [
    "## mode"
   ]
  },
  {
   "cell_type": "code",
   "execution_count": 24,
   "metadata": {},
   "outputs": [],
   "source": [
    "df_mode = df_final[['Humans','BERT', 'BART MNLI','mode']].groupby(\"mode\").mean()\n",
    "df_mode = df_mode.transpose()\n",
    "df_mode = df_mode.reset_index()\n",
    "new_row = {'particulier':0.15625, 'universel':0.31818, \"index\":\"Random\"}\n",
    "#append row to the dataframe\n",
    "df_mode = df_mode.append(new_row, ignore_index=True)\n",
    "df_mode = df_mode.rename(columns ={ \"index\": \"Signe\"})\n"
   ]
  },
  {
   "cell_type": "code",
   "execution_count": 25,
   "metadata": {},
   "outputs": [
    {
     "data": {
      "image/png": "[encoded data removed]",
      "text/plain": [
       "<Figure size 432x288 with 1 Axes>"
      ]
     },
     "metadata": {},
     "output_type": "display_data"
    }
   ],
   "source": [
    "import matplotlib.ticker as mtick\n",
    "import numpy as np\n",
    "\n",
    "x = np.arange(4)  # the label locations\n",
    "width = 0.35  # the width of the bars\n",
    "\n",
    "fig, ax = plt.subplots()\n",
    "rects1 = ax.bar(x - width/2, df_mode.particulier, width, label='Particular')\n",
    "rects2 = ax.bar(x + width/2, df_mode.universel, width, label='Universal')\n",
    "\n",
    "\n",
    "# Add some text for labels, title and custom x-axis tick labels, etc.\n",
    "ax.set_ylabel('Success Rates')\n",
    "ax.set_title('Success Rates by syllogism quantifier')\n",
    "ax.figure.subplots_adjust(left=0.15, top=0.9)\n",
    "ax.yaxis.set_major_formatter(mtick.PercentFormatter(xmax=1.0))\n",
    "ax.set_ylim(0,1)\n",
    "ax.set_xlabel('')\n",
    "ax.set_xticks(x, df_mode.Signe)\n",
    "ax.legend(loc='upper center', bbox_to_anchor=(0.5, -0.15),\n",
    "          fancybox=True, shadow=True, ncol=5)\n",
    "\n",
    "for bar in ax.patches:\n",
    "   \n",
    "  # Using Matplotlib's annotate function and\n",
    "  # passing the coordinates where the annotation shall be done\n",
    "  # x-coordinate: bar.get_x() + bar.get_width() / 2\n",
    "  # y-coordinate: bar.get_height()\n",
    "  # free space to be left to make graph pleasing: (0, 8)\n",
    "  # ha and va stand for the horizontal and vertical alignment\n",
    "    ax.annotate(format(bar.get_height(), '.1%'),\n",
    "                   (bar.get_x() + bar.get_width() / 2,\n",
    "                    bar.get_height()), ha='center', va='center',\n",
    "                   size=10, xytext=(0, 8),\n",
    "                   textcoords='offset points')\n",
    "\n",
    "fig.tight_layout()\n",
    "plt.savefig(\"./charts/3_SR_by_quantifier.png\")\n",
    "plt.show()\n"
   ]
  },
  {
   "cell_type": "markdown",
   "metadata": {},
   "source": [
    "## implicatur"
   ]
  },
  {
   "cell_type": "code",
   "execution_count": 22,
   "metadata": {},
   "outputs": [],
   "source": [
    "df_impl = df_final[['Humans','BERT', 'BART MNLI','implicatur']].groupby(\"implicatur\").mean()\n",
    "df_impl = df_impl.transpose()\n",
    "df_impl.columns = ['Other Syllogisms', 'Presupposition']\n",
    "df_impl = df_impl.reset_index()\n",
    "new_row = {'Other Syllogisms':0.2386, 'Presupposition':0.150, \"index\":\"Random\"}\n",
    "#append row to the dataframe\n",
    "df_impl = df_impl.append(new_row, ignore_index=True)\n",
    "df_impl = df_impl.rename(columns ={ \"index\": \"Signe\"})"
   ]
  },
  {
   "cell_type": "code",
   "execution_count": 28,
   "metadata": {},
   "outputs": [
    {
     "data": {
      "image/png": "[encoded data removed]",
      "text/plain": [
       "<Figure size 432x288 with 1 Axes>"
      ]
     },
     "metadata": {},
     "output_type": "display_data"
    }
   ],
   "source": [
    "import matplotlib.ticker as mtick\n",
    "import numpy as np\n",
    "\n",
    "x = np.arange(4)  # the label locations\n",
    "width = 0.35  # the width of the bars\n",
    "\n",
    "fig, ax = plt.subplots()\n",
    "rects1 = ax.bar(x - width/2, df_impl['Implicatur'], width, label='Presupposition')\n",
    "rects2 = ax.bar(x + width/2, df_impl['Other Syllogisms'], width, label='Other Syllogisms')\n",
    "\n",
    "\n",
    "# Add some text for labels, title and custom x-axis tick labels, etc.\n",
    "ax.set_ylabel('Success Rates')\n",
    "ax.set_title('Success Rates according to presupposition')\n",
    "ax.figure.subplots_adjust(left=0.15, top=0.9)\n",
    "ax.yaxis.set_major_formatter(mtick.PercentFormatter(xmax=1.0))\n",
    "ax.set_ylim(0,1)\n",
    "ax.set_xlabel('')\n",
    "ax.set_xticks(x, df_impl.Signe)\n",
    "ax.legend(loc='upper center', bbox_to_anchor=(0.5, -0.15),\n",
    "          fancybox=True, shadow=True, ncol=5)\n",
    "\n",
    "for bar in ax.patches:\n",
    "   \n",
    "  # Using Matplotlib's annotate function and\n",
    "  # passing the coordinates where the annotation shall be done\n",
    "  # x-coordinate: bar.get_x() + bar.get_width() / 2\n",
    "  # y-coordinate: bar.get_height()\n",
    "  # free space to be left to make graph pleasing: (0, 8)\n",
    "  # ha and va stand for the horizontal and vertical alignment\n",
    "    ax.annotate(format(bar.get_height(), '.1%'),\n",
    "                   (bar.get_x() + bar.get_width() / 2,\n",
    "                    bar.get_height()), ha='center', va='center',\n",
    "                   size=10, xytext=(0, 8),\n",
    "                   textcoords='offset points')\n",
    "\n",
    "fig.tight_layout()\n",
    "\n",
    "plt.savefig(\"./charts/3_SR_by_implicatur.png\")\n",
    "\n",
    "plt.show()\n"
   ]
  },
  {
   "cell_type": "markdown",
   "metadata": {},
   "source": [
    "## Absurd"
   ]
  },
  {
   "cell_type": "code",
   "execution_count": 20,
   "metadata": {},
   "outputs": [],
   "source": [
    "df_absurd = df_final[['Humans','BERT', 'BART MNLI','absurde']].groupby(\"absurde\").mean()\n",
    "df_absurd = df_absurd.transpose()\n",
    "df_absurd.columns = ['Other Syllogisms', 'reductio ad absurdum']\n",
    "df_absurd = df_absurd.reset_index()\n",
    "new_row = {'Other Syllogisms':0.2391, 'reductio ad absurdum':0.125, \"index\":\"Random\"}\n",
    "#append row to the dataframe\n",
    "df_absurd = df_absurd.append(new_row, ignore_index=True)\n",
    "df_absurd = df_absurd.rename(columns ={ \"index\": \"Signe\"})"
   ]
  },
  {
   "cell_type": "code",
   "execution_count": 21,
   "metadata": {},
   "outputs": [
    {
     "data": {
      "image/png": "[encoded data removed]",
      "text/plain": [
       "<Figure size 432x288 with 1 Axes>"
      ]
     },
     "metadata": {},
     "output_type": "display_data"
    }
   ],
   "source": [
    "import matplotlib.ticker as mtick\n",
    "import numpy as np\n",
    "\n",
    "x = np.arange(4)  # the label locations\n",
    "width = 0.35  # the width of the bars\n",
    "\n",
    "fig, ax = plt.subplots()\n",
    "rects1 = ax.bar(x - width/2, df_absurd['reductio ad absurdum'], width, label='reductio ad absurdum')\n",
    "rects2 = ax.bar(x + width/2, df_absurd['Other Syllogisms'], width, label='Other Syllogisms')\n",
    "\n",
    "\n",
    "# Add some text for labels, title and custom x-axis tick labels, etc.\n",
    "ax.set_ylabel('Success Rates')\n",
    "ax.set_title('Success Rates according to reductio ad absurdum')\n",
    "ax.figure.subplots_adjust(left=0.15, top=0.9)\n",
    "ax.yaxis.set_major_formatter(mtick.PercentFormatter(xmax=1.0))\n",
    "ax.set_ylim(0,1)\n",
    "ax.set_xlabel('')\n",
    "ax.set_xticks(x, df_absurd.Signe)\n",
    "ax.legend(loc='upper center', bbox_to_anchor=(0.5, -0.15),\n",
    "          fancybox=True, shadow=True, ncol=5)\n",
    "\n",
    "for bar in ax.patches:\n",
    "   \n",
    "  # Using Matplotlib's annotate function and\n",
    "  # passing the coordinates where the annotation shall be done\n",
    "  # x-coordinate: bar.get_x() + bar.get_width() / 2\n",
    "  # y-coordinate: bar.get_height()\n",
    "  # free space to be left to make graph pleasing: (0, 8)\n",
    "  # ha and va stand for the horizontal and vertical alignment\n",
    "    ax.annotate(format(bar.get_height(), '.1%'),\n",
    "                   (bar.get_x() + bar.get_width() / 2,\n",
    "                    bar.get_height()), ha='center', va='center',\n",
    "                   size=10, xytext=(0, 8),\n",
    "                   textcoords='offset points')\n",
    "\n",
    "fig.tight_layout()\n",
    "\n",
    "plt.savefig(\"./charts/3_SR_by_absurd.png\")\n",
    "\n",
    "plt.show()"
   ]
  },
  {
   "cell_type": "markdown",
   "metadata": {},
   "source": [
    "# Reponse type"
   ]
  },
  {
   "cell_type": "code",
   "execution_count": 147,
   "metadata": {},
   "outputs": [
    {
     "data": {
      "text/plain": [
       "Index(['human_response_index', 'Humans', 'best_bert_00_index', 'BERT',\n",
       "       'best_mnli_00_index', 'BART MNLI', 'task_form', 'implicatur', 'mode',\n",
       "       'signe', 'absurde'],\n",
       "      dtype='object')"
      ]
     },
     "execution_count": 147,
     "metadata": {},
     "output_type": "execute_result"
    }
   ],
   "source": [
    "df_final.columns"
   ]
  },
  {
   "cell_type": "code",
   "execution_count": 148,
   "metadata": {},
   "outputs": [
    {
     "data": {
      "text/plain": [
       "(4621, 11)"
      ]
     },
     "execution_count": 148,
     "metadata": {},
     "output_type": "execute_result"
    }
   ],
   "source": [
    "df_final.shape"
   ]
  },
  {
   "cell_type": "code",
   "execution_count": 155,
   "metadata": {},
   "outputs": [
    {
     "data": {
      "text/plain": [
       "2    0.382601\n",
       "0    0.288249\n",
       "1    0.128544\n",
       "3    0.117507\n",
       "4    0.040684\n",
       "5    0.035274\n",
       "7    0.003679\n",
       "6    0.003462\n",
       "Name: best_bert_00_index, dtype: float64"
      ]
     },
     "execution_count": 155,
     "metadata": {},
     "output_type": "execute_result"
    }
   ],
   "source": [
    "df_final[\"best_bert_00_index\"].value_counts()/4621"
   ]
  },
  {
   "cell_type": "code",
   "execution_count": 156,
   "metadata": {},
   "outputs": [
    {
     "data": {
      "text/plain": [
       "6    0.255789\n",
       "5    0.228738\n",
       "4    0.164250\n",
       "7    0.123134\n",
       "0    0.100411\n",
       "2    0.090024\n",
       "1    0.020991\n",
       "3    0.016663\n",
       "Name: best_mnli_00_index, dtype: float64"
      ]
     },
     "execution_count": 156,
     "metadata": {},
     "output_type": "execute_result"
    }
   ],
   "source": [
    "df_final[\"best_mnli_00_index\"].value_counts()/4621"
   ]
  },
  {
   "cell_type": "code",
   "execution_count": 151,
   "metadata": {},
   "outputs": [],
   "source": [
    "bert_ccl = df_final[\"best_bert_00_index\"].value_counts()/4621\n",
    "mnli_ccl = df_final[\"best_mnli_00_index\"].value_counts()/4621\n",
    "human_ccl = df_final[\"human_response_index\"].value_counts()/4621"
   ]
  },
  {
   "cell_type": "code",
   "execution_count": 154,
   "metadata": {},
   "outputs": [
    {
     "data": {
      "text/html": [
       "<div>\n",
       "<style scoped>\n",
       "    .dataframe tbody tr th:only-of-type {\n",
       "        vertical-align: middle;\n",
       "    }\n",
       "\n",
       "    .dataframe tbody tr th {\n",
       "        vertical-align: top;\n",
       "    }\n",
       "\n",
       "    .dataframe thead th {\n",
       "        text-align: right;\n",
       "    }\n",
       "</style>\n",
       "<table border=\"1\" class=\"dataframe\">\n",
       "  <thead>\n",
       "    <tr style=\"text-align: right;\">\n",
       "      <th></th>\n",
       "      <th>best_bert_00_index</th>\n",
       "      <th>best_mnli_00_index</th>\n",
       "      <th>human_response_index</th>\n",
       "    </tr>\n",
       "  </thead>\n",
       "  <tbody>\n",
       "    <tr>\n",
       "      <th>0</th>\n",
       "      <td>0.288249</td>\n",
       "      <td>0.100411</td>\n",
       "      <td>0.057780</td>\n",
       "    </tr>\n",
       "    <tr>\n",
       "      <th>1</th>\n",
       "      <td>0.128544</td>\n",
       "      <td>0.020991</td>\n",
       "      <td>0.037871</td>\n",
       "    </tr>\n",
       "    <tr>\n",
       "      <th>2</th>\n",
       "      <td>0.382601</td>\n",
       "      <td>0.090024</td>\n",
       "      <td>0.117507</td>\n",
       "    </tr>\n",
       "    <tr>\n",
       "      <th>3</th>\n",
       "      <td>0.117507</td>\n",
       "      <td>0.016663</td>\n",
       "      <td>0.101277</td>\n",
       "    </tr>\n",
       "    <tr>\n",
       "      <th>4</th>\n",
       "      <td>0.040684</td>\n",
       "      <td>0.164250</td>\n",
       "      <td>0.123999</td>\n",
       "    </tr>\n",
       "    <tr>\n",
       "      <th>5</th>\n",
       "      <td>0.035274</td>\n",
       "      <td>0.228738</td>\n",
       "      <td>0.124865</td>\n",
       "    </tr>\n",
       "    <tr>\n",
       "      <th>6</th>\n",
       "      <td>0.003462</td>\n",
       "      <td>0.255789</td>\n",
       "      <td>0.151915</td>\n",
       "    </tr>\n",
       "    <tr>\n",
       "      <th>7</th>\n",
       "      <td>0.003679</td>\n",
       "      <td>0.123134</td>\n",
       "      <td>0.132222</td>\n",
       "    </tr>\n",
       "    <tr>\n",
       "      <th>8</th>\n",
       "      <td>NaN</td>\n",
       "      <td>NaN</td>\n",
       "      <td>0.152564</td>\n",
       "    </tr>\n",
       "  </tbody>\n",
       "</table>\n",
       "</div>"
      ],
      "text/plain": [
       "   best_bert_00_index  best_mnli_00_index  human_response_index\n",
       "0            0.288249            0.100411              0.057780\n",
       "1            0.128544            0.020991              0.037871\n",
       "2            0.382601            0.090024              0.117507\n",
       "3            0.117507            0.016663              0.101277\n",
       "4            0.040684            0.164250              0.123999\n",
       "5            0.035274            0.228738              0.124865\n",
       "6            0.003462            0.255789              0.151915\n",
       "7            0.003679            0.123134              0.132222\n",
       "8                 NaN                 NaN              0.152564"
      ]
     },
     "execution_count": 154,
     "metadata": {},
     "output_type": "execute_result"
    }
   ],
   "source": [
    "df_ccl = pd.concat([bert_ccl,mnli_ccl,human_ccl],axis = 1)\n",
    "df_ccl"
   ]
  },
  {
   "cell_type": "code",
   "execution_count": 160,
   "metadata": {},
   "outputs": [
    {
     "data": {
      "text/html": [
       "<div>\n",
       "<style scoped>\n",
       "    .dataframe tbody tr th:only-of-type {\n",
       "        vertical-align: middle;\n",
       "    }\n",
       "\n",
       "    .dataframe tbody tr th {\n",
       "        vertical-align: top;\n",
       "    }\n",
       "\n",
       "    .dataframe thead th {\n",
       "        text-align: right;\n",
       "    }\n",
       "</style>\n",
       "<table border=\"1\" class=\"dataframe\">\n",
       "  <thead>\n",
       "    <tr style=\"text-align: right;\">\n",
       "      <th></th>\n",
       "      <th>Valid conclusion</th>\n",
       "    </tr>\n",
       "    <tr>\n",
       "      <th>Unnamed: 0</th>\n",
       "      <th></th>\n",
       "    </tr>\n",
       "  </thead>\n",
       "  <tbody>\n",
       "    <tr>\n",
       "      <th>0</th>\n",
       "      <td>0.020833</td>\n",
       "    </tr>\n",
       "    <tr>\n",
       "      <th>1</th>\n",
       "      <td>0.020833</td>\n",
       "    </tr>\n",
       "    <tr>\n",
       "      <th>2</th>\n",
       "      <td>0.145833</td>\n",
       "    </tr>\n",
       "    <tr>\n",
       "      <th>3</th>\n",
       "      <td>0.104167</td>\n",
       "    </tr>\n",
       "    <tr>\n",
       "      <th>4</th>\n",
       "      <td>0.250000</td>\n",
       "    </tr>\n",
       "    <tr>\n",
       "      <th>5</th>\n",
       "      <td>0.291667</td>\n",
       "    </tr>\n",
       "    <tr>\n",
       "      <th>6</th>\n",
       "      <td>0.083333</td>\n",
       "    </tr>\n",
       "    <tr>\n",
       "      <th>7</th>\n",
       "      <td>0.083333</td>\n",
       "    </tr>\n",
       "  </tbody>\n",
       "</table>\n",
       "</div>"
      ],
      "text/plain": [
       "            Valid conclusion\n",
       "Unnamed: 0                  \n",
       "0                   0.020833\n",
       "1                   0.020833\n",
       "2                   0.145833\n",
       "3                   0.104167\n",
       "4                   0.250000\n",
       "5                   0.291667\n",
       "6                   0.083333\n",
       "7                   0.083333"
      ]
     },
     "execution_count": 160,
     "metadata": {},
     "output_type": "execute_result"
    }
   ],
   "source": [
    "df_val_freq= pd.read_csv(\"./data/ccl_freq.csv\")\n",
    "df_val_freq = df_val_freq.set_index(\"Unnamed: 0\")\n",
    "df_val_freq.columns = [\"Valid conclusion\"]\n",
    "df_val_freq"
   ]
  },
  {
   "cell_type": "code",
   "execution_count": 164,
   "metadata": {},
   "outputs": [
    {
     "data": {
      "text/html": [
       "<div>\n",
       "<style scoped>\n",
       "    .dataframe tbody tr th:only-of-type {\n",
       "        vertical-align: middle;\n",
       "    }\n",
       "\n",
       "    .dataframe tbody tr th {\n",
       "        vertical-align: top;\n",
       "    }\n",
       "\n",
       "    .dataframe thead th {\n",
       "        text-align: right;\n",
       "    }\n",
       "</style>\n",
       "<table border=\"1\" class=\"dataframe\">\n",
       "  <thead>\n",
       "    <tr style=\"text-align: right;\">\n",
       "      <th></th>\n",
       "      <th>best_bert_00_index</th>\n",
       "      <th>best_mnli_00_index</th>\n",
       "      <th>human_response_index</th>\n",
       "      <th>Valid conclusion</th>\n",
       "    </tr>\n",
       "  </thead>\n",
       "  <tbody>\n",
       "    <tr>\n",
       "      <th>0</th>\n",
       "      <td>0.288249</td>\n",
       "      <td>0.100411</td>\n",
       "      <td>0.057780</td>\n",
       "      <td>0.020833</td>\n",
       "    </tr>\n",
       "    <tr>\n",
       "      <th>1</th>\n",
       "      <td>0.128544</td>\n",
       "      <td>0.020991</td>\n",
       "      <td>0.037871</td>\n",
       "      <td>0.020833</td>\n",
       "    </tr>\n",
       "    <tr>\n",
       "      <th>2</th>\n",
       "      <td>0.382601</td>\n",
       "      <td>0.090024</td>\n",
       "      <td>0.117507</td>\n",
       "      <td>0.145833</td>\n",
       "    </tr>\n",
       "    <tr>\n",
       "      <th>3</th>\n",
       "      <td>0.117507</td>\n",
       "      <td>0.016663</td>\n",
       "      <td>0.101277</td>\n",
       "      <td>0.104167</td>\n",
       "    </tr>\n",
       "    <tr>\n",
       "      <th>4</th>\n",
       "      <td>0.040684</td>\n",
       "      <td>0.164250</td>\n",
       "      <td>0.123999</td>\n",
       "      <td>0.250000</td>\n",
       "    </tr>\n",
       "    <tr>\n",
       "      <th>5</th>\n",
       "      <td>0.035274</td>\n",
       "      <td>0.228738</td>\n",
       "      <td>0.124865</td>\n",
       "      <td>0.291667</td>\n",
       "    </tr>\n",
       "    <tr>\n",
       "      <th>6</th>\n",
       "      <td>0.003462</td>\n",
       "      <td>0.255789</td>\n",
       "      <td>0.151915</td>\n",
       "      <td>0.083333</td>\n",
       "    </tr>\n",
       "    <tr>\n",
       "      <th>7</th>\n",
       "      <td>0.003679</td>\n",
       "      <td>0.123134</td>\n",
       "      <td>0.132222</td>\n",
       "      <td>0.083333</td>\n",
       "    </tr>\n",
       "  </tbody>\n",
       "</table>\n",
       "</div>"
      ],
      "text/plain": [
       "   best_bert_00_index  best_mnli_00_index  human_response_index  \\\n",
       "0            0.288249            0.100411              0.057780   \n",
       "1            0.128544            0.020991              0.037871   \n",
       "2            0.382601            0.090024              0.117507   \n",
       "3            0.117507            0.016663              0.101277   \n",
       "4            0.040684            0.164250              0.123999   \n",
       "5            0.035274            0.228738              0.124865   \n",
       "6            0.003462            0.255789              0.151915   \n",
       "7            0.003679            0.123134              0.132222   \n",
       "\n",
       "   Valid conclusion  \n",
       "0          0.020833  \n",
       "1          0.020833  \n",
       "2          0.145833  \n",
       "3          0.104167  \n",
       "4          0.250000  \n",
       "5          0.291667  \n",
       "6          0.083333  \n",
       "7          0.083333  "
      ]
     },
     "execution_count": 164,
     "metadata": {},
     "output_type": "execute_result"
    }
   ],
   "source": [
    "df_ccl_freq = pd.concat([df_ccl,df_val_freq],axis = 1)\n",
    "df_ccl_freq = df_ccl_freq.drop(8)\n",
    "df_ccl_freq\n",
    "\n"
   ]
  },
  {
   "cell_type": "code",
   "execution_count": 167,
   "metadata": {},
   "outputs": [],
   "source": [
    "choice_form = pd.Series(['Aac', 'Aca', 'Iac', 'Ica', 'Oac', 'Oca', 'Eac', 'Eca'])"
   ]
  },
  {
   "cell_type": "code",
   "execution_count": 182,
   "metadata": {},
   "outputs": [
    {
     "data": {
      "text/html": [
       "<div>\n",
       "<style scoped>\n",
       "    .dataframe tbody tr th:only-of-type {\n",
       "        vertical-align: middle;\n",
       "    }\n",
       "\n",
       "    .dataframe tbody tr th {\n",
       "        vertical-align: top;\n",
       "    }\n",
       "\n",
       "    .dataframe thead th {\n",
       "        text-align: right;\n",
       "    }\n",
       "</style>\n",
       "<table border=\"1\" class=\"dataframe\">\n",
       "  <thead>\n",
       "    <tr style=\"text-align: right;\">\n",
       "      <th></th>\n",
       "      <th>best_bert_00_index</th>\n",
       "      <th>best_mnli_00_index</th>\n",
       "      <th>human_response_index</th>\n",
       "      <th>Valid conclusion</th>\n",
       "    </tr>\n",
       "  </thead>\n",
       "  <tbody>\n",
       "    <tr>\n",
       "      <th>Aac</th>\n",
       "      <td>0.288249</td>\n",
       "      <td>0.100411</td>\n",
       "      <td>0.057780</td>\n",
       "      <td>0.020833</td>\n",
       "    </tr>\n",
       "    <tr>\n",
       "      <th>Aca</th>\n",
       "      <td>0.128544</td>\n",
       "      <td>0.020991</td>\n",
       "      <td>0.037871</td>\n",
       "      <td>0.020833</td>\n",
       "    </tr>\n",
       "    <tr>\n",
       "      <th>Iac</th>\n",
       "      <td>0.382601</td>\n",
       "      <td>0.090024</td>\n",
       "      <td>0.117507</td>\n",
       "      <td>0.145833</td>\n",
       "    </tr>\n",
       "    <tr>\n",
       "      <th>Ica</th>\n",
       "      <td>0.117507</td>\n",
       "      <td>0.016663</td>\n",
       "      <td>0.101277</td>\n",
       "      <td>0.104167</td>\n",
       "    </tr>\n",
       "    <tr>\n",
       "      <th>Oac</th>\n",
       "      <td>0.040684</td>\n",
       "      <td>0.164250</td>\n",
       "      <td>0.123999</td>\n",
       "      <td>0.250000</td>\n",
       "    </tr>\n",
       "    <tr>\n",
       "      <th>Oca</th>\n",
       "      <td>0.035274</td>\n",
       "      <td>0.228738</td>\n",
       "      <td>0.124865</td>\n",
       "      <td>0.291667</td>\n",
       "    </tr>\n",
       "    <tr>\n",
       "      <th>Eac</th>\n",
       "      <td>0.003462</td>\n",
       "      <td>0.255789</td>\n",
       "      <td>0.151915</td>\n",
       "      <td>0.083333</td>\n",
       "    </tr>\n",
       "    <tr>\n",
       "      <th>Eca</th>\n",
       "      <td>0.003679</td>\n",
       "      <td>0.123134</td>\n",
       "      <td>0.132222</td>\n",
       "      <td>0.083333</td>\n",
       "    </tr>\n",
       "  </tbody>\n",
       "</table>\n",
       "</div>"
      ],
      "text/plain": [
       "     best_bert_00_index  best_mnli_00_index  human_response_index  \\\n",
       "Aac            0.288249            0.100411              0.057780   \n",
       "Aca            0.128544            0.020991              0.037871   \n",
       "Iac            0.382601            0.090024              0.117507   \n",
       "Ica            0.117507            0.016663              0.101277   \n",
       "Oac            0.040684            0.164250              0.123999   \n",
       "Oca            0.035274            0.228738              0.124865   \n",
       "Eac            0.003462            0.255789              0.151915   \n",
       "Eca            0.003679            0.123134              0.132222   \n",
       "\n",
       "     Valid conclusion  \n",
       "Aac          0.020833  \n",
       "Aca          0.020833  \n",
       "Iac          0.145833  \n",
       "Ica          0.104167  \n",
       "Oac          0.250000  \n",
       "Oca          0.291667  \n",
       "Eac          0.083333  \n",
       "Eca          0.083333  "
      ]
     },
     "execution_count": 182,
     "metadata": {},
     "output_type": "execute_result"
    }
   ],
   "source": [
    "df_ccl_freq"
   ]
  },
  {
   "cell_type": "code",
   "execution_count": 181,
   "metadata": {},
   "outputs": [],
   "source": [
    "df_ccl_freq = df_ccl_freq.set_index(choice_form)"
   ]
  },
  {
   "cell_type": "code",
   "execution_count": 186,
   "metadata": {},
   "outputs": [
    {
     "data": {
      "image/png": "[encoded data removed]",
      "text/plain": [
       "<Figure size 864x360 with 1 Axes>"
      ]
     },
     "metadata": {},
     "output_type": "display_data"
    }
   ],
   "source": [
    "import matplotlib.ticker as mtick\n",
    "import numpy as np\n",
    "\n",
    "x = np.arange(8)  # the label locations\n",
    "width = 0.2  # the width of the bars\n",
    "\n",
    "fig, ax = plt.subplots()\n",
    "fig.set_size_inches(12, 5)\n",
    "\n",
    "rects1 = ax.bar(x - (width + width/2), df_ccl_freq['human_response_index'], width, label='Humans')\n",
    "rects2 = ax.bar(x - width/2, df_ccl_freq['best_bert_00_index'], width, label='BERT')\n",
    "rects3 = ax.bar(x + width/2, df_ccl_freq['best_mnli_00_index'], width, label='BART MNLI')\n",
    "rects4 = ax.bar(x + (width + width/2), df_ccl_freq['human_response_index'], width, label='Valid')\n",
    "\n",
    "# fig, ax = plt.subplots()\n",
    "# rects1 = ax.bar(x - width/2, df_absurd['reductio ad absurdum'], width, label='reductio ad absurdum')\n",
    "# rects2 = ax.bar(x + width/2, df_absurd['Other Syllogisms'], width, label='Other Syllogisms')\n",
    "\n",
    "\n",
    "# Add some text for labels, title and custom x-axis tick labels, etc.\n",
    "ax.set_ylabel('Distribution')\n",
    "ax.set_title('Conclusion type Distribution')\n",
    "ax.figure.subplots_adjust(left=0.15, top=0.9)\n",
    "ax.yaxis.set_major_formatter(mtick.PercentFormatter(xmax=1.0))\n",
    "ax.set_ylim(0,0.6)\n",
    "ax.set_xlabel('Conclusion type')\n",
    "ax.set_xticks(x, df_ccl_freq.index)\n",
    "ax.legend(loc='upper center', bbox_to_anchor=(0.5, -0.15),\n",
    "          fancybox=True, shadow=True, ncol=5)\n",
    "\n",
    "for bar in ax.patches:\n",
    "   \n",
    "  # Using Matplotlib's annotate function and\n",
    "  # passing the coordinates where the annotation shall be done\n",
    "  # x-coordinate: bar.get_x() + bar.get_width() / 2\n",
    "  # y-coordinate: bar.get_height()\n",
    "  # free space to be left to make graph pleasing: (0, 8)\n",
    "  # ha and va stand for the horizontal and vertical alignment\n",
    "    ax.annotate(format(bar.get_height(), '.0%'),\n",
    "                   (bar.get_x() + bar.get_width() / 2,\n",
    "                    bar.get_height()), ha='center', va='center',\n",
    "                   size=10, xytext=(0, 8),\n",
    "                   textcoords='offset points')\n",
    "\n",
    "fig.tight_layout()\n",
    "plt.savefig(\"./charts/Bonus_conclusion_type_distribution.png\")\n",
    "plt.show()"
   ]
  },
  {
   "cell_type": "markdown",
   "metadata": {},
   "source": [
    "# Succes Rates by task form"
   ]
  },
  {
   "cell_type": "code",
   "execution_count": 210,
   "metadata": {},
   "outputs": [
    {
     "data": {
      "text/html": [
       "<div>\n",
       "<style scoped>\n",
       "    .dataframe tbody tr th:only-of-type {\n",
       "        vertical-align: middle;\n",
       "    }\n",
       "\n",
       "    .dataframe tbody tr th {\n",
       "        vertical-align: top;\n",
       "    }\n",
       "\n",
       "    .dataframe thead th {\n",
       "        text-align: right;\n",
       "    }\n",
       "</style>\n",
       "<table border=\"1\" class=\"dataframe\">\n",
       "  <thead>\n",
       "    <tr style=\"text-align: right;\">\n",
       "      <th></th>\n",
       "      <th>Humans</th>\n",
       "      <th>BERT</th>\n",
       "      <th>BART MNLI</th>\n",
       "    </tr>\n",
       "    <tr>\n",
       "      <th>task_form</th>\n",
       "      <th></th>\n",
       "      <th></th>\n",
       "      <th></th>\n",
       "    </tr>\n",
       "  </thead>\n",
       "  <tbody>\n",
       "    <tr>\n",
       "      <th>AA1</th>\n",
       "      <td>0.795322</td>\n",
       "      <td>0.847953</td>\n",
       "      <td>0.912281</td>\n",
       "    </tr>\n",
       "    <tr>\n",
       "      <th>AA2</th>\n",
       "      <td>0.678363</td>\n",
       "      <td>0.438596</td>\n",
       "      <td>0.549708</td>\n",
       "    </tr>\n",
       "    <tr>\n",
       "      <th>AA4</th>\n",
       "      <td>0.292398</td>\n",
       "      <td>0.134503</td>\n",
       "      <td>0.000000</td>\n",
       "    </tr>\n",
       "    <tr>\n",
       "      <th>AE1</th>\n",
       "      <td>0.872093</td>\n",
       "      <td>0.046512</td>\n",
       "      <td>1.000000</td>\n",
       "    </tr>\n",
       "    <tr>\n",
       "      <th>AE2</th>\n",
       "      <td>0.087719</td>\n",
       "      <td>0.005848</td>\n",
       "      <td>0.000000</td>\n",
       "    </tr>\n",
       "    <tr>\n",
       "      <th>AE3</th>\n",
       "      <td>0.818713</td>\n",
       "      <td>0.040936</td>\n",
       "      <td>1.000000</td>\n",
       "    </tr>\n",
       "    <tr>\n",
       "      <th>AE4</th>\n",
       "      <td>0.181287</td>\n",
       "      <td>0.011696</td>\n",
       "      <td>0.000000</td>\n",
       "    </tr>\n",
       "    <tr>\n",
       "      <th>AI2</th>\n",
       "      <td>0.777778</td>\n",
       "      <td>0.777778</td>\n",
       "      <td>0.374269</td>\n",
       "    </tr>\n",
       "    <tr>\n",
       "      <th>AI4</th>\n",
       "      <td>0.760234</td>\n",
       "      <td>0.602339</td>\n",
       "      <td>0.883041</td>\n",
       "    </tr>\n",
       "    <tr>\n",
       "      <th>AO3</th>\n",
       "      <td>0.337209</td>\n",
       "      <td>0.145349</td>\n",
       "      <td>0.889535</td>\n",
       "    </tr>\n",
       "    <tr>\n",
       "      <th>AO4</th>\n",
       "      <td>0.584795</td>\n",
       "      <td>0.286550</td>\n",
       "      <td>0.888889</td>\n",
       "    </tr>\n",
       "    <tr>\n",
       "      <th>EA1</th>\n",
       "      <td>0.070175</td>\n",
       "      <td>0.005848</td>\n",
       "      <td>0.005848</td>\n",
       "    </tr>\n",
       "    <tr>\n",
       "      <th>EA2</th>\n",
       "      <td>0.859649</td>\n",
       "      <td>0.017544</td>\n",
       "      <td>0.988304</td>\n",
       "    </tr>\n",
       "    <tr>\n",
       "      <th>EA3</th>\n",
       "      <td>0.812865</td>\n",
       "      <td>0.023392</td>\n",
       "      <td>0.964912</td>\n",
       "    </tr>\n",
       "    <tr>\n",
       "      <th>EA4</th>\n",
       "      <td>0.122807</td>\n",
       "      <td>0.011696</td>\n",
       "      <td>0.000000</td>\n",
       "    </tr>\n",
       "    <tr>\n",
       "      <th>EI1</th>\n",
       "      <td>0.216374</td>\n",
       "      <td>0.005848</td>\n",
       "      <td>0.561404</td>\n",
       "    </tr>\n",
       "    <tr>\n",
       "      <th>EI2</th>\n",
       "      <td>0.397661</td>\n",
       "      <td>0.023392</td>\n",
       "      <td>0.538012</td>\n",
       "    </tr>\n",
       "    <tr>\n",
       "      <th>EI3</th>\n",
       "      <td>0.292398</td>\n",
       "      <td>0.011696</td>\n",
       "      <td>0.152047</td>\n",
       "    </tr>\n",
       "    <tr>\n",
       "      <th>EI4</th>\n",
       "      <td>0.267442</td>\n",
       "      <td>0.011628</td>\n",
       "      <td>0.732558</td>\n",
       "    </tr>\n",
       "    <tr>\n",
       "      <th>IA1</th>\n",
       "      <td>0.701754</td>\n",
       "      <td>0.672515</td>\n",
       "      <td>0.631579</td>\n",
       "    </tr>\n",
       "    <tr>\n",
       "      <th>IA4</th>\n",
       "      <td>0.415205</td>\n",
       "      <td>0.701754</td>\n",
       "      <td>0.362573</td>\n",
       "    </tr>\n",
       "    <tr>\n",
       "      <th>IE1</th>\n",
       "      <td>0.354651</td>\n",
       "      <td>0.011628</td>\n",
       "      <td>0.110465</td>\n",
       "    </tr>\n",
       "    <tr>\n",
       "      <th>IE2</th>\n",
       "      <td>0.152047</td>\n",
       "      <td>0.017544</td>\n",
       "      <td>0.064327</td>\n",
       "    </tr>\n",
       "    <tr>\n",
       "      <th>IE3</th>\n",
       "      <td>0.286550</td>\n",
       "      <td>0.052632</td>\n",
       "      <td>0.076023</td>\n",
       "    </tr>\n",
       "    <tr>\n",
       "      <th>IE4</th>\n",
       "      <td>0.263158</td>\n",
       "      <td>0.017544</td>\n",
       "      <td>0.029240</td>\n",
       "    </tr>\n",
       "    <tr>\n",
       "      <th>OA3</th>\n",
       "      <td>0.304094</td>\n",
       "      <td>0.111111</td>\n",
       "      <td>0.959064</td>\n",
       "    </tr>\n",
       "    <tr>\n",
       "      <th>OA4</th>\n",
       "      <td>0.485380</td>\n",
       "      <td>0.140351</td>\n",
       "      <td>0.690058</td>\n",
       "    </tr>\n",
       "  </tbody>\n",
       "</table>\n",
       "</div>"
      ],
      "text/plain": [
       "             Humans      BERT  BART MNLI\n",
       "task_form                               \n",
       "AA1        0.795322  0.847953   0.912281\n",
       "AA2        0.678363  0.438596   0.549708\n",
       "AA4        0.292398  0.134503   0.000000\n",
       "AE1        0.872093  0.046512   1.000000\n",
       "AE2        0.087719  0.005848   0.000000\n",
       "AE3        0.818713  0.040936   1.000000\n",
       "AE4        0.181287  0.011696   0.000000\n",
       "AI2        0.777778  0.777778   0.374269\n",
       "AI4        0.760234  0.602339   0.883041\n",
       "AO3        0.337209  0.145349   0.889535\n",
       "AO4        0.584795  0.286550   0.888889\n",
       "EA1        0.070175  0.005848   0.005848\n",
       "EA2        0.859649  0.017544   0.988304\n",
       "EA3        0.812865  0.023392   0.964912\n",
       "EA4        0.122807  0.011696   0.000000\n",
       "EI1        0.216374  0.005848   0.561404\n",
       "EI2        0.397661  0.023392   0.538012\n",
       "EI3        0.292398  0.011696   0.152047\n",
       "EI4        0.267442  0.011628   0.732558\n",
       "IA1        0.701754  0.672515   0.631579\n",
       "IA4        0.415205  0.701754   0.362573\n",
       "IE1        0.354651  0.011628   0.110465\n",
       "IE2        0.152047  0.017544   0.064327\n",
       "IE3        0.286550  0.052632   0.076023\n",
       "IE4        0.263158  0.017544   0.029240\n",
       "OA3        0.304094  0.111111   0.959064\n",
       "OA4        0.485380  0.140351   0.690058"
      ]
     },
     "execution_count": 210,
     "metadata": {},
     "output_type": "execute_result"
    }
   ],
   "source": [
    "df_task = df_final[['Humans','BERT', 'BART MNLI','task_form']].groupby(\"task_form\").mean()\n",
    "df_task "
   ]
  },
  {
   "cell_type": "code",
   "execution_count": 211,
   "metadata": {},
   "outputs": [
    {
     "data": {
      "text/html": [
       "<div>\n",
       "<style scoped>\n",
       "    .dataframe tbody tr th:only-of-type {\n",
       "        vertical-align: middle;\n",
       "    }\n",
       "\n",
       "    .dataframe tbody tr th {\n",
       "        vertical-align: top;\n",
       "    }\n",
       "\n",
       "    .dataframe thead th {\n",
       "        text-align: right;\n",
       "    }\n",
       "</style>\n",
       "<table border=\"1\" class=\"dataframe\">\n",
       "  <thead>\n",
       "    <tr style=\"text-align: right;\">\n",
       "      <th></th>\n",
       "      <th>Humans</th>\n",
       "      <th>BERT</th>\n",
       "      <th>BART MNLI</th>\n",
       "      <th>random_succes</th>\n",
       "    </tr>\n",
       "    <tr>\n",
       "      <th>task_form</th>\n",
       "      <th></th>\n",
       "      <th></th>\n",
       "      <th></th>\n",
       "      <th></th>\n",
       "    </tr>\n",
       "  </thead>\n",
       "  <tbody>\n",
       "    <tr>\n",
       "      <th>AA1</th>\n",
       "      <td>0.795322</td>\n",
       "      <td>0.847953</td>\n",
       "      <td>0.912281</td>\n",
       "      <td>0.375</td>\n",
       "    </tr>\n",
       "    <tr>\n",
       "      <th>AA2</th>\n",
       "      <td>0.678363</td>\n",
       "      <td>0.438596</td>\n",
       "      <td>0.549708</td>\n",
       "      <td>0.375</td>\n",
       "    </tr>\n",
       "    <tr>\n",
       "      <th>AA4</th>\n",
       "      <td>0.292398</td>\n",
       "      <td>0.134503</td>\n",
       "      <td>0.000000</td>\n",
       "      <td>0.250</td>\n",
       "    </tr>\n",
       "    <tr>\n",
       "      <th>AE1</th>\n",
       "      <td>0.872093</td>\n",
       "      <td>0.046512</td>\n",
       "      <td>1.000000</td>\n",
       "      <td>0.500</td>\n",
       "    </tr>\n",
       "    <tr>\n",
       "      <th>AE2</th>\n",
       "      <td>0.087719</td>\n",
       "      <td>0.005848</td>\n",
       "      <td>0.000000</td>\n",
       "      <td>0.125</td>\n",
       "    </tr>\n",
       "    <tr>\n",
       "      <th>AE3</th>\n",
       "      <td>0.818713</td>\n",
       "      <td>0.040936</td>\n",
       "      <td>1.000000</td>\n",
       "      <td>0.500</td>\n",
       "    </tr>\n",
       "    <tr>\n",
       "      <th>AE4</th>\n",
       "      <td>0.181287</td>\n",
       "      <td>0.011696</td>\n",
       "      <td>0.000000</td>\n",
       "      <td>0.125</td>\n",
       "    </tr>\n",
       "    <tr>\n",
       "      <th>AI2</th>\n",
       "      <td>0.777778</td>\n",
       "      <td>0.777778</td>\n",
       "      <td>0.374269</td>\n",
       "      <td>0.250</td>\n",
       "    </tr>\n",
       "    <tr>\n",
       "      <th>AI4</th>\n",
       "      <td>0.760234</td>\n",
       "      <td>0.602339</td>\n",
       "      <td>0.883041</td>\n",
       "      <td>0.250</td>\n",
       "    </tr>\n",
       "    <tr>\n",
       "      <th>AO3</th>\n",
       "      <td>0.337209</td>\n",
       "      <td>0.145349</td>\n",
       "      <td>0.889535</td>\n",
       "      <td>0.125</td>\n",
       "    </tr>\n",
       "    <tr>\n",
       "      <th>AO4</th>\n",
       "      <td>0.584795</td>\n",
       "      <td>0.286550</td>\n",
       "      <td>0.888889</td>\n",
       "      <td>0.125</td>\n",
       "    </tr>\n",
       "    <tr>\n",
       "      <th>EA1</th>\n",
       "      <td>0.070175</td>\n",
       "      <td>0.005848</td>\n",
       "      <td>0.005848</td>\n",
       "      <td>0.125</td>\n",
       "    </tr>\n",
       "    <tr>\n",
       "      <th>EA2</th>\n",
       "      <td>0.859649</td>\n",
       "      <td>0.017544</td>\n",
       "      <td>0.988304</td>\n",
       "      <td>0.500</td>\n",
       "    </tr>\n",
       "    <tr>\n",
       "      <th>EA3</th>\n",
       "      <td>0.812865</td>\n",
       "      <td>0.023392</td>\n",
       "      <td>0.964912</td>\n",
       "      <td>0.500</td>\n",
       "    </tr>\n",
       "    <tr>\n",
       "      <th>EA4</th>\n",
       "      <td>0.122807</td>\n",
       "      <td>0.011696</td>\n",
       "      <td>0.000000</td>\n",
       "      <td>0.125</td>\n",
       "    </tr>\n",
       "    <tr>\n",
       "      <th>EI1</th>\n",
       "      <td>0.216374</td>\n",
       "      <td>0.005848</td>\n",
       "      <td>0.561404</td>\n",
       "      <td>0.125</td>\n",
       "    </tr>\n",
       "    <tr>\n",
       "      <th>EI2</th>\n",
       "      <td>0.397661</td>\n",
       "      <td>0.023392</td>\n",
       "      <td>0.538012</td>\n",
       "      <td>0.125</td>\n",
       "    </tr>\n",
       "    <tr>\n",
       "      <th>EI3</th>\n",
       "      <td>0.292398</td>\n",
       "      <td>0.011696</td>\n",
       "      <td>0.152047</td>\n",
       "      <td>0.125</td>\n",
       "    </tr>\n",
       "    <tr>\n",
       "      <th>EI4</th>\n",
       "      <td>0.267442</td>\n",
       "      <td>0.011628</td>\n",
       "      <td>0.732558</td>\n",
       "      <td>0.125</td>\n",
       "    </tr>\n",
       "    <tr>\n",
       "      <th>IA1</th>\n",
       "      <td>0.701754</td>\n",
       "      <td>0.672515</td>\n",
       "      <td>0.631579</td>\n",
       "      <td>0.250</td>\n",
       "    </tr>\n",
       "    <tr>\n",
       "      <th>IA4</th>\n",
       "      <td>0.415205</td>\n",
       "      <td>0.701754</td>\n",
       "      <td>0.362573</td>\n",
       "      <td>0.250</td>\n",
       "    </tr>\n",
       "    <tr>\n",
       "      <th>IE1</th>\n",
       "      <td>0.354651</td>\n",
       "      <td>0.011628</td>\n",
       "      <td>0.110465</td>\n",
       "      <td>0.125</td>\n",
       "    </tr>\n",
       "    <tr>\n",
       "      <th>IE2</th>\n",
       "      <td>0.152047</td>\n",
       "      <td>0.017544</td>\n",
       "      <td>0.064327</td>\n",
       "      <td>0.125</td>\n",
       "    </tr>\n",
       "    <tr>\n",
       "      <th>IE3</th>\n",
       "      <td>0.286550</td>\n",
       "      <td>0.052632</td>\n",
       "      <td>0.076023</td>\n",
       "      <td>0.125</td>\n",
       "    </tr>\n",
       "    <tr>\n",
       "      <th>IE4</th>\n",
       "      <td>0.263158</td>\n",
       "      <td>0.017544</td>\n",
       "      <td>0.029240</td>\n",
       "      <td>0.125</td>\n",
       "    </tr>\n",
       "    <tr>\n",
       "      <th>OA3</th>\n",
       "      <td>0.304094</td>\n",
       "      <td>0.111111</td>\n",
       "      <td>0.959064</td>\n",
       "      <td>0.125</td>\n",
       "    </tr>\n",
       "    <tr>\n",
       "      <th>OA4</th>\n",
       "      <td>0.485380</td>\n",
       "      <td>0.140351</td>\n",
       "      <td>0.690058</td>\n",
       "      <td>0.125</td>\n",
       "    </tr>\n",
       "  </tbody>\n",
       "</table>\n",
       "</div>"
      ],
      "text/plain": [
       "             Humans      BERT  BART MNLI  random_succes\n",
       "task_form                                              \n",
       "AA1        0.795322  0.847953   0.912281          0.375\n",
       "AA2        0.678363  0.438596   0.549708          0.375\n",
       "AA4        0.292398  0.134503   0.000000          0.250\n",
       "AE1        0.872093  0.046512   1.000000          0.500\n",
       "AE2        0.087719  0.005848   0.000000          0.125\n",
       "AE3        0.818713  0.040936   1.000000          0.500\n",
       "AE4        0.181287  0.011696   0.000000          0.125\n",
       "AI2        0.777778  0.777778   0.374269          0.250\n",
       "AI4        0.760234  0.602339   0.883041          0.250\n",
       "AO3        0.337209  0.145349   0.889535          0.125\n",
       "AO4        0.584795  0.286550   0.888889          0.125\n",
       "EA1        0.070175  0.005848   0.005848          0.125\n",
       "EA2        0.859649  0.017544   0.988304          0.500\n",
       "EA3        0.812865  0.023392   0.964912          0.500\n",
       "EA4        0.122807  0.011696   0.000000          0.125\n",
       "EI1        0.216374  0.005848   0.561404          0.125\n",
       "EI2        0.397661  0.023392   0.538012          0.125\n",
       "EI3        0.292398  0.011696   0.152047          0.125\n",
       "EI4        0.267442  0.011628   0.732558          0.125\n",
       "IA1        0.701754  0.672515   0.631579          0.250\n",
       "IA4        0.415205  0.701754   0.362573          0.250\n",
       "IE1        0.354651  0.011628   0.110465          0.125\n",
       "IE2        0.152047  0.017544   0.064327          0.125\n",
       "IE3        0.286550  0.052632   0.076023          0.125\n",
       "IE4        0.263158  0.017544   0.029240          0.125\n",
       "OA3        0.304094  0.111111   0.959064          0.125\n",
       "OA4        0.485380  0.140351   0.690058          0.125"
      ]
     },
     "execution_count": 211,
     "metadata": {},
     "output_type": "execute_result"
    }
   ],
   "source": [
    "random_success = pd.read_csv(\"./data/random_success.csv\")\n",
    "random_success = random_success.set_index(\"task_form\")\n",
    "df_task = pd.concat([df_task,random_success], axis=1)\n",
    "df_task"
   ]
  },
  {
   "cell_type": "code",
   "execution_count": 197,
   "metadata": {},
   "outputs": [
    {
     "data": {
      "text/plain": [
       "(27, 3)"
      ]
     },
     "execution_count": 197,
     "metadata": {},
     "output_type": "execute_result"
    }
   ],
   "source": [
    "df_task."
   ]
  },
  {
   "cell_type": "code",
   "execution_count": 231,
   "metadata": {},
   "outputs": [
    {
     "data": {
      "image/png": "[encoded data removed]",
      "text/plain": [
       "<Figure size 1296x360 with 1 Axes>"
      ]
     },
     "metadata": {},
     "output_type": "display_data"
    }
   ],
   "source": [
    "import matplotlib.ticker as mtick\n",
    "import numpy as np\n",
    "\n",
    "x = np.arange(27)  # the label locations\n",
    "width = 0.15  # the width of the bars\n",
    "\n",
    "fig, ax = plt.subplots()\n",
    "fig.set_size_inches(18, 5)\n",
    "\n",
    "rects1 = ax.bar(x - (width + width/2),df_task['Humans'], width, label='Humans')\n",
    "rects2 = ax.bar(x - width/2, df_task['BERT'], width, label='BERT')\n",
    "rects3 = ax.bar(x + width/2, df_task['BART MNLI'], width, label='BART MNLI')\n",
    "rects4 = ax.bar(x + (width + width/2), df_task['random_succes'], width, label='Random')\n",
    "\n",
    "\n",
    "\n",
    "# fig, ax = plt.subplots()\n",
    "# rects1 = ax.bar(x - width/2, df_absurd['reductio ad absurdum'], width, label='reductio ad absurdum')\n",
    "# rects2 = ax.bar(x + width/2, df_absurd['Other Syllogisms'], width, label='Other Syllogisms')\n",
    "\n",
    "\n",
    "# Add some text for labels, title and custom x-axis tick labels, etc.\n",
    "ax.set_ylabel('Success Rates')\n",
    "ax.set_title('Success Rates by task form')\n",
    "ax.figure.subplots_adjust(left=0.15, top=0.9)\n",
    "ax.yaxis.set_major_formatter(mtick.PercentFormatter(xmax=1.0))\n",
    "ax.set_ylim(0,1)\n",
    "ax.set_xlabel('Task Form')\n",
    "ax.set_xticks(x, df_task.index)\n",
    "ax.legend(loc='upper center', bbox_to_anchor=(0.5, -0.15),\n",
    "          fancybox=True, shadow=True, ncol=5)\n",
    "\n",
    "# for bar in ax.patches:\n",
    "   \n",
    "#   # Using Matplotlib's annotate function and\n",
    "#   # passing the coordinates where the annotation shall be done\n",
    "#   # x-coordinate: bar.get_x() + bar.get_width() / 2\n",
    "#   # y-coordinate: bar.get_height()\n",
    "#   # free space to be left to make graph pleasing: (0, 8)\n",
    "#   # ha and va stand for the horizontal and vertical alignment\n",
    "#     ax.annotate(format(bar.get_height(), '.0%'),\n",
    "#                    (bar.get_x() + bar.get_width() / 2,\n",
    "#                     bar.get_height()), ha='center', va='center',\n",
    "#                    size=10, xytext=(0, 8),\n",
    "#                    textcoords='offset points')\n",
    "\n",
    "fig.tight_layout()\n",
    "plt.savefig(\"./charts/Bonus_SR_by_task_form.png\")\n",
    "plt.show()"
   ]
  },
  {
   "cell_type": "markdown",
   "metadata": {},
   "source": [
    "# Random similarity"
   ]
  },
  {
   "cell_type": "code",
   "execution_count": 218,
   "metadata": {},
   "outputs": [
    {
     "data": {
      "text/plain": [
       "Index(['Humans', 'BERT', 'BART MNLI', 'random_succes'], dtype='object')"
      ]
     },
     "execution_count": 218,
     "metadata": {},
     "output_type": "execute_result"
    }
   ],
   "source": [
    "df_task.columns"
   ]
  },
  {
   "cell_type": "code",
   "execution_count": 223,
   "metadata": {},
   "outputs": [
    {
     "data": {
      "text/html": [
       "<div>\n",
       "<style scoped>\n",
       "    .dataframe tbody tr th:only-of-type {\n",
       "        vertical-align: middle;\n",
       "    }\n",
       "\n",
       "    .dataframe tbody tr th {\n",
       "        vertical-align: top;\n",
       "    }\n",
       "\n",
       "    .dataframe thead th {\n",
       "        text-align: right;\n",
       "    }\n",
       "</style>\n",
       "<table border=\"1\" class=\"dataframe\">\n",
       "  <thead>\n",
       "    <tr style=\"text-align: right;\">\n",
       "      <th></th>\n",
       "      <th>Humans</th>\n",
       "      <th>BERT</th>\n",
       "      <th>BART MNLI</th>\n",
       "      <th>random_succes</th>\n",
       "      <th>both_good</th>\n",
       "      <th>both_wrong</th>\n",
       "      <th>differ</th>\n",
       "    </tr>\n",
       "    <tr>\n",
       "      <th>task_form</th>\n",
       "      <th></th>\n",
       "      <th></th>\n",
       "      <th></th>\n",
       "      <th></th>\n",
       "      <th></th>\n",
       "      <th></th>\n",
       "      <th></th>\n",
       "    </tr>\n",
       "  </thead>\n",
       "  <tbody>\n",
       "    <tr>\n",
       "      <th>AA1</th>\n",
       "      <td>0.795322</td>\n",
       "      <td>0.847953</td>\n",
       "      <td>0.912281</td>\n",
       "      <td>0.375</td>\n",
       "      <td>0.298246</td>\n",
       "      <td>0.127924</td>\n",
       "      <td>0.573830</td>\n",
       "    </tr>\n",
       "    <tr>\n",
       "      <th>AA2</th>\n",
       "      <td>0.678363</td>\n",
       "      <td>0.438596</td>\n",
       "      <td>0.549708</td>\n",
       "      <td>0.375</td>\n",
       "      <td>0.254386</td>\n",
       "      <td>0.201023</td>\n",
       "      <td>0.544591</td>\n",
       "    </tr>\n",
       "    <tr>\n",
       "      <th>AA4</th>\n",
       "      <td>0.292398</td>\n",
       "      <td>0.134503</td>\n",
       "      <td>0.000000</td>\n",
       "      <td>0.250</td>\n",
       "      <td>0.073099</td>\n",
       "      <td>0.530702</td>\n",
       "      <td>0.396199</td>\n",
       "    </tr>\n",
       "    <tr>\n",
       "      <th>AE1</th>\n",
       "      <td>0.872093</td>\n",
       "      <td>0.046512</td>\n",
       "      <td>1.000000</td>\n",
       "      <td>0.500</td>\n",
       "      <td>0.436047</td>\n",
       "      <td>0.063953</td>\n",
       "      <td>0.500000</td>\n",
       "    </tr>\n",
       "    <tr>\n",
       "      <th>AE2</th>\n",
       "      <td>0.087719</td>\n",
       "      <td>0.005848</td>\n",
       "      <td>0.000000</td>\n",
       "      <td>0.125</td>\n",
       "      <td>0.010965</td>\n",
       "      <td>0.798246</td>\n",
       "      <td>0.190789</td>\n",
       "    </tr>\n",
       "    <tr>\n",
       "      <th>AE3</th>\n",
       "      <td>0.818713</td>\n",
       "      <td>0.040936</td>\n",
       "      <td>1.000000</td>\n",
       "      <td>0.500</td>\n",
       "      <td>0.409357</td>\n",
       "      <td>0.090643</td>\n",
       "      <td>0.500000</td>\n",
       "    </tr>\n",
       "    <tr>\n",
       "      <th>AE4</th>\n",
       "      <td>0.181287</td>\n",
       "      <td>0.011696</td>\n",
       "      <td>0.000000</td>\n",
       "      <td>0.125</td>\n",
       "      <td>0.022661</td>\n",
       "      <td>0.716374</td>\n",
       "      <td>0.260965</td>\n",
       "    </tr>\n",
       "    <tr>\n",
       "      <th>AI2</th>\n",
       "      <td>0.777778</td>\n",
       "      <td>0.777778</td>\n",
       "      <td>0.374269</td>\n",
       "      <td>0.250</td>\n",
       "      <td>0.194444</td>\n",
       "      <td>0.166667</td>\n",
       "      <td>0.638889</td>\n",
       "    </tr>\n",
       "    <tr>\n",
       "      <th>AI4</th>\n",
       "      <td>0.760234</td>\n",
       "      <td>0.602339</td>\n",
       "      <td>0.883041</td>\n",
       "      <td>0.250</td>\n",
       "      <td>0.190058</td>\n",
       "      <td>0.179825</td>\n",
       "      <td>0.630117</td>\n",
       "    </tr>\n",
       "    <tr>\n",
       "      <th>AO3</th>\n",
       "      <td>0.337209</td>\n",
       "      <td>0.145349</td>\n",
       "      <td>0.889535</td>\n",
       "      <td>0.125</td>\n",
       "      <td>0.042151</td>\n",
       "      <td>0.579942</td>\n",
       "      <td>0.377907</td>\n",
       "    </tr>\n",
       "    <tr>\n",
       "      <th>AO4</th>\n",
       "      <td>0.584795</td>\n",
       "      <td>0.286550</td>\n",
       "      <td>0.888889</td>\n",
       "      <td>0.125</td>\n",
       "      <td>0.073099</td>\n",
       "      <td>0.363304</td>\n",
       "      <td>0.563596</td>\n",
       "    </tr>\n",
       "    <tr>\n",
       "      <th>EA1</th>\n",
       "      <td>0.070175</td>\n",
       "      <td>0.005848</td>\n",
       "      <td>0.005848</td>\n",
       "      <td>0.125</td>\n",
       "      <td>0.008772</td>\n",
       "      <td>0.813596</td>\n",
       "      <td>0.177632</td>\n",
       "    </tr>\n",
       "    <tr>\n",
       "      <th>EA2</th>\n",
       "      <td>0.859649</td>\n",
       "      <td>0.017544</td>\n",
       "      <td>0.988304</td>\n",
       "      <td>0.500</td>\n",
       "      <td>0.429825</td>\n",
       "      <td>0.070175</td>\n",
       "      <td>0.500000</td>\n",
       "    </tr>\n",
       "    <tr>\n",
       "      <th>EA3</th>\n",
       "      <td>0.812865</td>\n",
       "      <td>0.023392</td>\n",
       "      <td>0.964912</td>\n",
       "      <td>0.500</td>\n",
       "      <td>0.406433</td>\n",
       "      <td>0.093567</td>\n",
       "      <td>0.500000</td>\n",
       "    </tr>\n",
       "    <tr>\n",
       "      <th>EA4</th>\n",
       "      <td>0.122807</td>\n",
       "      <td>0.011696</td>\n",
       "      <td>0.000000</td>\n",
       "      <td>0.125</td>\n",
       "      <td>0.015351</td>\n",
       "      <td>0.767544</td>\n",
       "      <td>0.217105</td>\n",
       "    </tr>\n",
       "    <tr>\n",
       "      <th>EI1</th>\n",
       "      <td>0.216374</td>\n",
       "      <td>0.005848</td>\n",
       "      <td>0.561404</td>\n",
       "      <td>0.125</td>\n",
       "      <td>0.027047</td>\n",
       "      <td>0.685673</td>\n",
       "      <td>0.287281</td>\n",
       "    </tr>\n",
       "    <tr>\n",
       "      <th>EI2</th>\n",
       "      <td>0.397661</td>\n",
       "      <td>0.023392</td>\n",
       "      <td>0.538012</td>\n",
       "      <td>0.125</td>\n",
       "      <td>0.049708</td>\n",
       "      <td>0.527047</td>\n",
       "      <td>0.423246</td>\n",
       "    </tr>\n",
       "    <tr>\n",
       "      <th>EI3</th>\n",
       "      <td>0.292398</td>\n",
       "      <td>0.011696</td>\n",
       "      <td>0.152047</td>\n",
       "      <td>0.125</td>\n",
       "      <td>0.036550</td>\n",
       "      <td>0.619152</td>\n",
       "      <td>0.344298</td>\n",
       "    </tr>\n",
       "    <tr>\n",
       "      <th>EI4</th>\n",
       "      <td>0.267442</td>\n",
       "      <td>0.011628</td>\n",
       "      <td>0.732558</td>\n",
       "      <td>0.125</td>\n",
       "      <td>0.033430</td>\n",
       "      <td>0.640988</td>\n",
       "      <td>0.325581</td>\n",
       "    </tr>\n",
       "    <tr>\n",
       "      <th>IA1</th>\n",
       "      <td>0.701754</td>\n",
       "      <td>0.672515</td>\n",
       "      <td>0.631579</td>\n",
       "      <td>0.250</td>\n",
       "      <td>0.175439</td>\n",
       "      <td>0.223684</td>\n",
       "      <td>0.600877</td>\n",
       "    </tr>\n",
       "    <tr>\n",
       "      <th>IA4</th>\n",
       "      <td>0.415205</td>\n",
       "      <td>0.701754</td>\n",
       "      <td>0.362573</td>\n",
       "      <td>0.250</td>\n",
       "      <td>0.103801</td>\n",
       "      <td>0.438596</td>\n",
       "      <td>0.457602</td>\n",
       "    </tr>\n",
       "    <tr>\n",
       "      <th>IE1</th>\n",
       "      <td>0.354651</td>\n",
       "      <td>0.011628</td>\n",
       "      <td>0.110465</td>\n",
       "      <td>0.125</td>\n",
       "      <td>0.044331</td>\n",
       "      <td>0.564680</td>\n",
       "      <td>0.390988</td>\n",
       "    </tr>\n",
       "    <tr>\n",
       "      <th>IE2</th>\n",
       "      <td>0.152047</td>\n",
       "      <td>0.017544</td>\n",
       "      <td>0.064327</td>\n",
       "      <td>0.125</td>\n",
       "      <td>0.019006</td>\n",
       "      <td>0.741959</td>\n",
       "      <td>0.239035</td>\n",
       "    </tr>\n",
       "    <tr>\n",
       "      <th>IE3</th>\n",
       "      <td>0.286550</td>\n",
       "      <td>0.052632</td>\n",
       "      <td>0.076023</td>\n",
       "      <td>0.125</td>\n",
       "      <td>0.035819</td>\n",
       "      <td>0.624269</td>\n",
       "      <td>0.339912</td>\n",
       "    </tr>\n",
       "    <tr>\n",
       "      <th>IE4</th>\n",
       "      <td>0.263158</td>\n",
       "      <td>0.017544</td>\n",
       "      <td>0.029240</td>\n",
       "      <td>0.125</td>\n",
       "      <td>0.032895</td>\n",
       "      <td>0.644737</td>\n",
       "      <td>0.322368</td>\n",
       "    </tr>\n",
       "    <tr>\n",
       "      <th>OA3</th>\n",
       "      <td>0.304094</td>\n",
       "      <td>0.111111</td>\n",
       "      <td>0.959064</td>\n",
       "      <td>0.125</td>\n",
       "      <td>0.038012</td>\n",
       "      <td>0.608918</td>\n",
       "      <td>0.353070</td>\n",
       "    </tr>\n",
       "    <tr>\n",
       "      <th>OA4</th>\n",
       "      <td>0.485380</td>\n",
       "      <td>0.140351</td>\n",
       "      <td>0.690058</td>\n",
       "      <td>0.125</td>\n",
       "      <td>0.060673</td>\n",
       "      <td>0.450292</td>\n",
       "      <td>0.489035</td>\n",
       "    </tr>\n",
       "  </tbody>\n",
       "</table>\n",
       "</div>"
      ],
      "text/plain": [
       "             Humans      BERT  BART MNLI  random_succes  both_good  \\\n",
       "task_form                                                            \n",
       "AA1        0.795322  0.847953   0.912281          0.375   0.298246   \n",
       "AA2        0.678363  0.438596   0.549708          0.375   0.254386   \n",
       "AA4        0.292398  0.134503   0.000000          0.250   0.073099   \n",
       "AE1        0.872093  0.046512   1.000000          0.500   0.436047   \n",
       "AE2        0.087719  0.005848   0.000000          0.125   0.010965   \n",
       "AE3        0.818713  0.040936   1.000000          0.500   0.409357   \n",
       "AE4        0.181287  0.011696   0.000000          0.125   0.022661   \n",
       "AI2        0.777778  0.777778   0.374269          0.250   0.194444   \n",
       "AI4        0.760234  0.602339   0.883041          0.250   0.190058   \n",
       "AO3        0.337209  0.145349   0.889535          0.125   0.042151   \n",
       "AO4        0.584795  0.286550   0.888889          0.125   0.073099   \n",
       "EA1        0.070175  0.005848   0.005848          0.125   0.008772   \n",
       "EA2        0.859649  0.017544   0.988304          0.500   0.429825   \n",
       "EA3        0.812865  0.023392   0.964912          0.500   0.406433   \n",
       "EA4        0.122807  0.011696   0.000000          0.125   0.015351   \n",
       "EI1        0.216374  0.005848   0.561404          0.125   0.027047   \n",
       "EI2        0.397661  0.023392   0.538012          0.125   0.049708   \n",
       "EI3        0.292398  0.011696   0.152047          0.125   0.036550   \n",
       "EI4        0.267442  0.011628   0.732558          0.125   0.033430   \n",
       "IA1        0.701754  0.672515   0.631579          0.250   0.175439   \n",
       "IA4        0.415205  0.701754   0.362573          0.250   0.103801   \n",
       "IE1        0.354651  0.011628   0.110465          0.125   0.044331   \n",
       "IE2        0.152047  0.017544   0.064327          0.125   0.019006   \n",
       "IE3        0.286550  0.052632   0.076023          0.125   0.035819   \n",
       "IE4        0.263158  0.017544   0.029240          0.125   0.032895   \n",
       "OA3        0.304094  0.111111   0.959064          0.125   0.038012   \n",
       "OA4        0.485380  0.140351   0.690058          0.125   0.060673   \n",
       "\n",
       "           both_wrong    differ  \n",
       "task_form                        \n",
       "AA1          0.127924  0.573830  \n",
       "AA2          0.201023  0.544591  \n",
       "AA4          0.530702  0.396199  \n",
       "AE1          0.063953  0.500000  \n",
       "AE2          0.798246  0.190789  \n",
       "AE3          0.090643  0.500000  \n",
       "AE4          0.716374  0.260965  \n",
       "AI2          0.166667  0.638889  \n",
       "AI4          0.179825  0.630117  \n",
       "AO3          0.579942  0.377907  \n",
       "AO4          0.363304  0.563596  \n",
       "EA1          0.813596  0.177632  \n",
       "EA2          0.070175  0.500000  \n",
       "EA3          0.093567  0.500000  \n",
       "EA4          0.767544  0.217105  \n",
       "EI1          0.685673  0.287281  \n",
       "EI2          0.527047  0.423246  \n",
       "EI3          0.619152  0.344298  \n",
       "EI4          0.640988  0.325581  \n",
       "IA1          0.223684  0.600877  \n",
       "IA4          0.438596  0.457602  \n",
       "IE1          0.564680  0.390988  \n",
       "IE2          0.741959  0.239035  \n",
       "IE3          0.624269  0.339912  \n",
       "IE4          0.644737  0.322368  \n",
       "OA3          0.608918  0.353070  \n",
       "OA4          0.450292  0.489035  "
      ]
     },
     "execution_count": 223,
     "metadata": {},
     "output_type": "execute_result"
    }
   ],
   "source": [
    "df_task[\"both_good\"] = df_task[\"Humans\"]*df_task[\"random_succes\"]\n",
    "df_task[\"both_wrong\"] = (1- df_task[\"Humans\"])*(1 - df_task[\"random_succes\"])\n",
    "df_task[\"differ\"] = 1 - (df_task[\"both_good\"]  + df_task[\"both_wrong\"] ) \n",
    "df_task"
   ]
  },
  {
   "cell_type": "code",
   "execution_count": 224,
   "metadata": {},
   "outputs": [
    {
     "data": {
      "text/plain": [
       "0.1304297250807179"
      ]
     },
     "execution_count": 224,
     "metadata": {},
     "output_type": "execute_result"
    }
   ],
   "source": [
    "df_task[\"both_good\"].mean()\n"
   ]
  },
  {
   "cell_type": "code",
   "execution_count": 225,
   "metadata": {},
   "outputs": [
    {
     "data": {
      "text/plain": [
       "0.4567956326719757"
      ]
     },
     "execution_count": 225,
     "metadata": {},
     "output_type": "execute_result"
    }
   ],
   "source": [
    "df_task[\"both_wrong\"].mean()"
   ]
  },
  {
   "cell_type": "code",
   "execution_count": 228,
   "metadata": {},
   "outputs": [
    {
     "data": {
      "text/plain": [
       "0.4127746422473064"
      ]
     },
     "execution_count": 228,
     "metadata": {},
     "output_type": "execute_result"
    }
   ],
   "source": [
    "\n",
    "differ = 1 -(df_task[\"both_good\"].mean() +df_task[\"both_wrong\"].mean() )\n",
    "differ"
   ]
  }
 ],
 "metadata": {
  "kernelspec": {
   "display_name": "Python 3.9.12 ('env': venv)",
   "language": "python",
   "name": "python3"
  },
  "language_info": {
   "codemirror_mode": {
    "name": "ipython",
    "version": 3
   },
   "file_extension": ".py",
   "mimetype": "text/x-python",
   "name": "python",
   "nbconvert_exporter": "python",
   "pygments_lexer": "ipython3",
   "version": "3.9.12"
  },
  "orig_nbformat": 4,
  "vscode": {
   "interpreter": {
    "hash": "dddc4829cdb8a95c4dcd99a91d3cecc91af3578de6eb6a763a56b0c106b3b01d"
   }
  }
 },
 "nbformat": 4,
 "nbformat_minor": 2
}
