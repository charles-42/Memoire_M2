{
 "cells": [
  {
   "cell_type": "code",
   "execution_count": 30,
   "metadata": {},
   "outputs": [],
   "source": [
    "import seaborn as sns"
   ]
  },
  {
   "cell_type": "code",
   "execution_count": 58,
   "metadata": {},
   "outputs": [],
   "source": [
    "import pandas as pd\n",
    "\n",
    "df_final = pd.read_csv(\"./data/df_final.csv\")"
   ]
  },
  {
   "cell_type": "code",
   "execution_count": 59,
   "metadata": {},
   "outputs": [],
   "source": [
    "df_final = df_final.rename(columns = {'human_success':'Humans', 'bert_00success':'BERT', 'mnli_00success':'BART MNLI'})"
   ]
  },
  {
   "cell_type": "markdown",
   "metadata": {},
   "source": [
    "# 1. know about logic "
   ]
  },
  {
   "cell_type": "code",
   "execution_count": 73,
   "metadata": {},
   "outputs": [
    {
     "data": {
      "text/html": [
       "<div>\n",
       "<style scoped>\n",
       "    .dataframe tbody tr th:only-of-type {\n",
       "        vertical-align: middle;\n",
       "    }\n",
       "\n",
       "    .dataframe tbody tr th {\n",
       "        vertical-align: top;\n",
       "    }\n",
       "\n",
       "    .dataframe thead th {\n",
       "        text-align: right;\n",
       "    }\n",
       "</style>\n",
       "<table border=\"1\" class=\"dataframe\">\n",
       "  <thead>\n",
       "    <tr style=\"text-align: right;\">\n",
       "      <th></th>\n",
       "      <th>Algo</th>\n",
       "      <th>Success Rate</th>\n",
       "    </tr>\n",
       "  </thead>\n",
       "  <tbody>\n",
       "    <tr>\n",
       "      <th>3</th>\n",
       "      <td>Random</td>\n",
       "      <td>0.125000</td>\n",
       "    </tr>\n",
       "    <tr>\n",
       "      <th>1</th>\n",
       "      <td>BERT</td>\n",
       "      <td>0.191517</td>\n",
       "    </tr>\n",
       "    <tr>\n",
       "      <th>0</th>\n",
       "      <td>Humans</td>\n",
       "      <td>0.451417</td>\n",
       "    </tr>\n",
       "    <tr>\n",
       "      <th>2</th>\n",
       "      <td>BART MNLI</td>\n",
       "      <td>0.495131</td>\n",
       "    </tr>\n",
       "  </tbody>\n",
       "</table>\n",
       "</div>"
      ],
      "text/plain": [
       "        Algo  Success Rate\n",
       "3     Random      0.125000\n",
       "1       BERT      0.191517\n",
       "0     Humans      0.451417\n",
       "2  BART MNLI      0.495131"
      ]
     },
     "execution_count": 73,
     "metadata": {},
     "output_type": "execute_result"
    }
   ],
   "source": [
    "df1 = df_final[['Humans','BERT', 'BART MNLI']].mean()\n",
    "df1 = df1.to_frame().reset_index()\n",
    "df1.columns=[\"Algo\",'Success Rate']\n",
    "new_row = {'Algo':'Random', 'Success Rate':0.125}\n",
    "#append row to the dataframe\n",
    "df1 = df1.append(new_row, ignore_index=True).sort_values(by='Success Rate')\n",
    "df1"
   ]
  },
  {
   "cell_type": "code",
   "execution_count": 77,
   "metadata": {},
   "outputs": [
    {
     "data": {
      "image/png": "[encoded data removed]",
      "text/plain": [
       "<Figure size 432x288 with 1 Axes>"
      ]
     },
     "metadata": {
      "needs_background": "light"
     },
     "output_type": "display_data"
    }
   ],
   "source": [
    "x = df1[\"Algo\"]\n",
    "y = df1[\"Success Rate\"]\n",
    "\n",
    "import matplotlib.ticker as mtick\n",
    "ax  = sns.barplot(data=df1, x=x, y = y)\n",
    "ax.figure.suptitle(\"Success Rates\")\n",
    "ax.figure.subplots_adjust(left=0.15, top=0.9)\n",
    "ax.yaxis.set_major_formatter(mtick.PercentFormatter(xmax=1.0))\n",
    "ax.set_ylim(0,1)\n",
    "ax.set_xlabel('')\n",
    "\n",
    "for bar in ax.patches:\n",
    "   \n",
    "  # Using Matplotlib's annotate function and\n",
    "  # passing the coordinates where the annotation shall be done\n",
    "  # x-coordinate: bar.get_x() + bar.get_width() / 2\n",
    "  # y-coordinate: bar.get_height()\n",
    "  # free space to be left to make graph pleasing: (0, 8)\n",
    "  # ha and va stand for the horizontal and vertical alignment\n",
    "    ax.annotate(format(bar.get_height(), '.1%'),\n",
    "                   (bar.get_x() + bar.get_width() / 2,\n",
    "                    bar.get_height()), ha='center', va='center',\n",
    "                   size=10, xytext=(0, 8),\n",
    "                   textcoords='offset points')\n"
   ]
  },
  {
   "cell_type": "markdown",
   "metadata": {},
   "source": [
    "# 2. Same logic?"
   ]
  },
  {
   "cell_type": "markdown",
   "metadata": {},
   "source": [
    "## Same result"
   ]
  },
  {
   "cell_type": "code",
   "execution_count": 10,
   "metadata": {},
   "outputs": [],
   "source": [
    "df_final[\"same_BERT\"] = df_final[\"human_success\"] + df_final[\"bert_00success\"]\n",
    "df_final[\"same_BART_MNLI\"] = df_final[\"human_success\"] + df_final[\"mnli_00success\"]"
   ]
  },
  {
   "cell_type": "code",
   "execution_count": 13,
   "metadata": {},
   "outputs": [
    {
     "data": {
      "text/plain": [
       "(4621, 13)"
      ]
     },
     "execution_count": 13,
     "metadata": {},
     "output_type": "execute_result"
    }
   ],
   "source": [
    "df_final.shape"
   ]
  },
  {
   "cell_type": "code",
   "execution_count": 14,
   "metadata": {},
   "outputs": [
    {
     "data": {
      "text/plain": [
       "0    0.480848\n",
       "1    0.395369\n",
       "2    0.123783\n",
       "Name: same_BERT, dtype: float64"
      ]
     },
     "execution_count": 14,
     "metadata": {},
     "output_type": "execute_result"
    }
   ],
   "source": [
    "df_final[\"same_BERT\"].value_counts()/4621"
   ]
  },
  {
   "cell_type": "code",
   "execution_count": 15,
   "metadata": {},
   "outputs": [
    {
     "data": {
      "text/plain": [
       "0    0.353820\n",
       "1    0.345813\n",
       "2    0.300368\n",
       "Name: same_BART_MNLI, dtype: float64"
      ]
     },
     "execution_count": 15,
     "metadata": {},
     "output_type": "execute_result"
    }
   ],
   "source": [
    "df_final[\"same_BART_MNLI\"].value_counts()/4621"
   ]
  },
  {
   "cell_type": "code",
   "execution_count": 78,
   "metadata": {},
   "outputs": [
    {
     "name": "stdout",
     "output_type": "stream",
     "text": [
      "0.056427125 0.48001012500000007 0.4635627499999999\n"
     ]
    }
   ],
   "source": [
    "random_success= 0.451417*0.125\n",
    "random_fail = (1-0.451417)*(1-0.125)\n",
    "random_differ = 1 - (random_success+random_fail)\n",
    "\n",
    "\n",
    "print(random_success, random_fail, random_differ)"
   ]
  },
  {
   "cell_type": "code",
   "execution_count": 146,
   "metadata": {},
   "outputs": [
    {
     "data": {
      "text/plain": [
       "<matplotlib.legend.Legend at 0x120c25190>"
      ]
     },
     "execution_count": 146,
     "metadata": {},
     "output_type": "execute_result"
    },
    {
     "data": {
      "image/png": "[encoded data removed]",
      "text/plain": [
       "<Figure size 432x288 with 1 Axes>"
      ]
     },
     "metadata": {},
     "output_type": "display_data"
    }
   ],
   "source": [
    "# create DataFrame\n",
    "import matplotlib.pyplot as plt\n",
    "df = pd.DataFrame({'Both successful': [0.0564, 0.123, 0.300],\n",
    "                   'Both failed': [0.480, 0.480, 0.3538],\n",
    "                   'Different Results': [0.4636, 0.3953, 0.345]},\n",
    "                  index=['Random', 'BERT', 'BART MNLI'])\n",
    " \n",
    " \n",
    "sns.set(style='white')\n",
    "# create stacked bar chart for monthly temperatures\n",
    "ax = df.plot(kind='bar', stacked=True, color=['forestgreen', 'crimson', 'lightgray'])\n",
    "ax.figure.suptitle(\"Percentages of similar results\")\n",
    "ax.figure.subplots_adjust(left=0.15, top=0.9)\n",
    "ax.yaxis.set_major_formatter(mtick.PercentFormatter(xmax=1.0))\n",
    "ax.set_ylim(0,1)\n",
    "ax.set_xlabel('')\n",
    "ax.xaxis.set_tick_params(rotation=0)\n",
    "\n",
    "for p in ax.patches:\n",
    "    width, height = p.get_width(), p.get_height()\n",
    "    x, y = p.get_xy() \n",
    "    ax.text(x+width/2, \n",
    "            y+height/2, \n",
    "            '{:.1%}'.format(height), \n",
    "            horizontalalignment='center', \n",
    "            verticalalignment='center')\n",
    "\n",
    "ax.legend(loc='upper center', bbox_to_anchor=(0.5, -0.15),\n",
    "          fancybox=True, shadow=True, ncol=5)\n",
    "# for bar in ax.patches:\n",
    "   \n",
    "\n",
    "#   # Using Matplotlib's annotate function and\n",
    "#   # passing the coordinates where the annotation shall be done\n",
    "#   # x-coordinate: bar.get_x() + bar.get_width() / 2\n",
    "#   # y-coordinate: bar.get_height()\n",
    "#   # free space to be left to make graph pleasing: (0, 8)\n",
    "#   # ha and va stand for the horizontal and vertical alignment\n",
    "#     ax.annotate(format(bar.get_height(), '.1%'),\n",
    "#                    (bar.get_x() + bar.get_width() / 2,\n",
    "#                     bar.get_height()), ha='center', va='center',\n",
    "#                    size=10, xytext=(0, 8),\n",
    "#                    textcoords='offset points')\n"
   ]
  },
  {
   "cell_type": "markdown",
   "metadata": {},
   "source": [
    "## Same answer"
   ]
  },
  {
   "cell_type": "code",
   "execution_count": 16,
   "metadata": {},
   "outputs": [
    {
     "data": {
      "text/plain": [
       "Index(['human_response_index', 'human_success', 'best_bert_00_index',\n",
       "       'bert_00success', 'best_mnli_00_index', 'mnli_00success', 'task_form',\n",
       "       'implicatur', 'mode', 'signe', 'absurde', 'same_BERT',\n",
       "       'same_BART_MNLI'],\n",
       "      dtype='object')"
      ]
     },
     "execution_count": 16,
     "metadata": {},
     "output_type": "execute_result"
    }
   ],
   "source": [
    "df_final.columns"
   ]
  },
  {
   "cell_type": "code",
   "execution_count": 19,
   "metadata": {},
   "outputs": [],
   "source": [
    "df_final[\"same_answer_BERT\"] =  df_final[[\"human_response_index\",\"best_bert_00_index\"]].apply(lambda x: 1 if x[0] == x[1] else 0 ,axis =1 )\n",
    "df_final[\"same_answer_BART_MNLI\"] =  df_final[[\"human_response_index\",\"best_mnli_00_index\"]].apply(lambda x: 1 if x[0] == x[1] else 0 ,axis =1 )"
   ]
  },
  {
   "cell_type": "code",
   "execution_count": 22,
   "metadata": {},
   "outputs": [
    {
     "data": {
      "text/plain": [
       "human_success  same_answer_BERT\n",
       "0              0                   0.495347\n",
       "               1                   0.053235\n",
       "1              0                   0.361826\n",
       "               1                   0.089591\n",
       "dtype: float64"
      ]
     },
     "execution_count": 22,
     "metadata": {},
     "output_type": "execute_result"
    }
   ],
   "source": [
    "df_final[[\"same_answer_BERT\",\"human_success\" ]].groupby([\"human_success\",\"same_answer_BERT\"]).size()/4621"
   ]
  },
  {
   "cell_type": "code",
   "execution_count": 23,
   "metadata": {},
   "outputs": [
    {
     "data": {
      "text/plain": [
       "human_success  same_answer_BART_MNLI\n",
       "0              0                        0.460074\n",
       "               1                        0.088509\n",
       "1              0                        0.254490\n",
       "               1                        0.196927\n",
       "dtype: float64"
      ]
     },
     "execution_count": 23,
     "metadata": {},
     "output_type": "execute_result"
    }
   ],
   "source": [
    "df_final[[\"same_answer_BART_MNLI\",\"human_success\" ]].groupby([\"human_success\",\"same_answer_BART_MNLI\"]).size()/4621"
   ]
  },
  {
   "cell_type": "markdown",
   "metadata": {},
   "source": [
    "# Specific"
   ]
  },
  {
   "cell_type": "code",
   "execution_count": 24,
   "metadata": {},
   "outputs": [
    {
     "data": {
      "text/plain": [
       "Index(['human_response_index', 'human_success', 'best_bert_00_index',\n",
       "       'bert_00success', 'best_mnli_00_index', 'mnli_00success', 'task_form',\n",
       "       'implicatur', 'mode', 'signe', 'absurde', 'same_BERT', 'same_BART_MNLI',\n",
       "       'same_answer_BART_MNLI', 'same_answer_BERT'],\n",
       "      dtype='object')"
      ]
     },
     "execution_count": 24,
     "metadata": {},
     "output_type": "execute_result"
    }
   ],
   "source": [
    "df_final.columns"
   ]
  },
  {
   "cell_type": "markdown",
   "metadata": {},
   "source": [
    "## signe"
   ]
  },
  {
   "cell_type": "code",
   "execution_count": 96,
   "metadata": {},
   "outputs": [
    {
     "data": {
      "text/plain": [
       "Index(['human_response_index', 'Humans', 'best_bert_00_index', 'BERT',\n",
       "       'best_mnli_00_index', 'BART MNLI', 'task_form', 'implicatur', 'mode',\n",
       "       'signe', 'absurde'],\n",
       "      dtype='object')"
      ]
     },
     "execution_count": 96,
     "metadata": {},
     "output_type": "execute_result"
    }
   ],
   "source": [
    "df_final.columns"
   ]
  },
  {
   "cell_type": "code",
   "execution_count": 110,
   "metadata": {},
   "outputs": [
    {
     "data": {
      "text/html": [
       "<div>\n",
       "<style scoped>\n",
       "    .dataframe tbody tr th:only-of-type {\n",
       "        vertical-align: middle;\n",
       "    }\n",
       "\n",
       "    .dataframe tbody tr th {\n",
       "        vertical-align: top;\n",
       "    }\n",
       "\n",
       "    .dataframe thead th {\n",
       "        text-align: right;\n",
       "    }\n",
       "</style>\n",
       "<table border=\"1\" class=\"dataframe\">\n",
       "  <thead>\n",
       "    <tr style=\"text-align: right;\">\n",
       "      <th>signe</th>\n",
       "      <th>negatif</th>\n",
       "      <th>positif</th>\n",
       "    </tr>\n",
       "  </thead>\n",
       "  <tbody>\n",
       "    <tr>\n",
       "      <th>Humans</th>\n",
       "      <td>0.388435</td>\n",
       "      <td>0.631579</td>\n",
       "    </tr>\n",
       "    <tr>\n",
       "      <th>BERT</th>\n",
       "      <td>0.049942</td>\n",
       "      <td>0.596491</td>\n",
       "    </tr>\n",
       "    <tr>\n",
       "      <th>BART MNLI</th>\n",
       "      <td>0.482769</td>\n",
       "      <td>0.530493</td>\n",
       "    </tr>\n",
       "  </tbody>\n",
       "</table>\n",
       "</div>"
      ],
      "text/plain": [
       "signe       negatif   positif\n",
       "Humans     0.388435  0.631579\n",
       "BERT       0.049942  0.596491\n",
       "BART MNLI  0.482769  0.530493"
      ]
     },
     "execution_count": 110,
     "metadata": {},
     "output_type": "execute_result"
    }
   ],
   "source": [
    "df_signe = df_final[['Humans','BERT', 'BART MNLI','signe']].groupby(\"signe\").mean()\n",
    "df_signe = df_signe.transpose()\n",
    "df_signe"
   ]
  },
  {
   "cell_type": "code",
   "execution_count": 145,
   "metadata": {},
   "outputs": [
    {
     "data": {
      "image/png": "[encoded data removed]",
      "text/plain": [
       "<Figure size 432x288 with 1 Axes>"
      ]
     },
     "metadata": {},
     "output_type": "display_data"
    }
   ],
   "source": [
    "import matplotlib.ticker as mtick\n",
    "import numpy as np\n",
    "\n",
    "x = np.arange(3)  # the label locations\n",
    "width = 0.35  # the width of the bars\n",
    "\n",
    "fig, ax = plt.subplots()\n",
    "rects1 = ax.bar(x - width/2, df_signe.positif, width, label='Positif')\n",
    "rects2 = ax.bar(x + width/2, df_signe.negatif, width, label='Negatif')\n",
    "\n",
    "\n",
    "# Add some text for labels, title and custom x-axis tick labels, etc.\n",
    "ax.set_ylabel('Success Rates')\n",
    "ax.set_title('Success Rates by syllogism sign')\n",
    "ax.figure.subplots_adjust(left=0.15, top=0.9)\n",
    "ax.yaxis.set_major_formatter(mtick.PercentFormatter(xmax=1.0))\n",
    "ax.set_ylim(0,1)\n",
    "ax.set_xlabel('')\n",
    "ax.set_xticks(x, df_signe.index)\n",
    "ax.legend(loc='upper center', bbox_to_anchor=(0.5, -0.15),\n",
    "          fancybox=True, shadow=True, ncol=5)\n",
    "\n",
    "for bar in ax.patches:\n",
    "   \n",
    "  # Using Matplotlib's annotate function and\n",
    "  # passing the coordinates where the annotation shall be done\n",
    "  # x-coordinate: bar.get_x() + bar.get_width() / 2\n",
    "  # y-coordinate: bar.get_height()\n",
    "  # free space to be left to make graph pleasing: (0, 8)\n",
    "  # ha and va stand for the horizontal and vertical alignment\n",
    "    ax.annotate(format(bar.get_height(), '.1%'),\n",
    "                   (bar.get_x() + bar.get_width() / 2,\n",
    "                    bar.get_height()), ha='center', va='center',\n",
    "                   size=10, xytext=(0, 8),\n",
    "                   textcoords='offset points')\n",
    "\n",
    "fig.tight_layout()\n",
    "\n",
    "plt.show()\n",
    "\n",
    "\n"
   ]
  },
  {
   "cell_type": "code",
   "execution_count": null,
   "metadata": {},
   "outputs": [
    {
     "data": {
      "text/html": [
       "<div>\n",
       "<style scoped>\n",
       "    .dataframe tbody tr th:only-of-type {\n",
       "        vertical-align: middle;\n",
       "    }\n",
       "\n",
       "    .dataframe tbody tr th {\n",
       "        vertical-align: top;\n",
       "    }\n",
       "\n",
       "    .dataframe thead th {\n",
       "        text-align: right;\n",
       "    }\n",
       "</style>\n",
       "<table border=\"1\" class=\"dataframe\">\n",
       "  <thead>\n",
       "    <tr style=\"text-align: right;\">\n",
       "      <th></th>\n",
       "      <th>Both successful</th>\n",
       "      <th>Both failed</th>\n",
       "      <th>Different Result</th>\n",
       "    </tr>\n",
       "  </thead>\n",
       "  <tbody>\n",
       "    <tr>\n",
       "      <th>Random</th>\n",
       "      <td>0.0564</td>\n",
       "      <td>0.4800</td>\n",
       "      <td>0.4636</td>\n",
       "    </tr>\n",
       "    <tr>\n",
       "      <th>BERT</th>\n",
       "      <td>0.1230</td>\n",
       "      <td>0.4800</td>\n",
       "      <td>0.3953</td>\n",
       "    </tr>\n",
       "    <tr>\n",
       "      <th>BART MNLI</th>\n",
       "      <td>0.3000</td>\n",
       "      <td>0.3538</td>\n",
       "      <td>0.3450</td>\n",
       "    </tr>\n",
       "  </tbody>\n",
       "</table>\n",
       "</div>"
      ],
      "text/plain": [
       "           Both successful  Both failed  Different Result\n",
       "Random              0.0564       0.4800            0.4636\n",
       "BERT                0.1230       0.4800            0.3953\n",
       "BART MNLI           0.3000       0.3538            0.3450"
      ]
     },
     "metadata": {},
     "output_type": "display_data"
    }
   ],
   "source": [
    "df"
   ]
  },
  {
   "cell_type": "markdown",
   "metadata": {},
   "source": [
    "## mode"
   ]
  },
  {
   "cell_type": "code",
   "execution_count": 116,
   "metadata": {},
   "outputs": [
    {
     "data": {
      "text/html": [
       "<div>\n",
       "<style scoped>\n",
       "    .dataframe tbody tr th:only-of-type {\n",
       "        vertical-align: middle;\n",
       "    }\n",
       "\n",
       "    .dataframe tbody tr th {\n",
       "        vertical-align: top;\n",
       "    }\n",
       "\n",
       "    .dataframe thead th {\n",
       "        text-align: right;\n",
       "    }\n",
       "</style>\n",
       "<table border=\"1\" class=\"dataframe\">\n",
       "  <thead>\n",
       "    <tr style=\"text-align: right;\">\n",
       "      <th>mode</th>\n",
       "      <th>particulier</th>\n",
       "      <th>universel</th>\n",
       "    </tr>\n",
       "  </thead>\n",
       "  <tbody>\n",
       "    <tr>\n",
       "      <th>Humans</th>\n",
       "      <td>0.412194</td>\n",
       "      <td>0.508502</td>\n",
       "    </tr>\n",
       "    <tr>\n",
       "      <th>BERT</th>\n",
       "      <td>0.224169</td>\n",
       "      <td>0.143996</td>\n",
       "    </tr>\n",
       "    <tr>\n",
       "      <th>BART MNLI</th>\n",
       "      <td>0.496532</td>\n",
       "      <td>0.493092</td>\n",
       "    </tr>\n",
       "  </tbody>\n",
       "</table>\n",
       "</div>"
      ],
      "text/plain": [
       "mode       particulier  universel\n",
       "Humans        0.412194   0.508502\n",
       "BERT          0.224169   0.143996\n",
       "BART MNLI     0.496532   0.493092"
      ]
     },
     "execution_count": 116,
     "metadata": {},
     "output_type": "execute_result"
    }
   ],
   "source": [
    "df_mode = df_final[['Humans','BERT', 'BART MNLI','mode']].groupby(\"mode\").mean()\n",
    "df_mode = df_mode.transpose()\n",
    "df_mode\n"
   ]
  },
  {
   "cell_type": "code",
   "execution_count": 144,
   "metadata": {},
   "outputs": [
    {
     "data": {
      "image/png": "[encoded data removed]",
      "text/plain": [
       "<Figure size 432x288 with 1 Axes>"
      ]
     },
     "metadata": {},
     "output_type": "display_data"
    }
   ],
   "source": [
    "import matplotlib.ticker as mtick\n",
    "import numpy as np\n",
    "\n",
    "x = np.arange(3)  # the label locations\n",
    "width = 0.35  # the width of the bars\n",
    "\n",
    "fig, ax = plt.subplots()\n",
    "rects1 = ax.bar(x - width/2, df_mode.particulier, width, label='Particular')\n",
    "rects2 = ax.bar(x + width/2, df_mode.universel, width, label='Universal')\n",
    "\n",
    "\n",
    "# Add some text for labels, title and custom x-axis tick labels, etc.\n",
    "ax.set_ylabel('Success Rates')\n",
    "ax.set_title('Success Rates by syllogism quantifier')\n",
    "ax.figure.subplots_adjust(left=0.15, top=0.9)\n",
    "ax.yaxis.set_major_formatter(mtick.PercentFormatter(xmax=1.0))\n",
    "ax.set_ylim(0,1)\n",
    "ax.set_xlabel('')\n",
    "ax.set_xticks(x, df_mode.index)\n",
    "ax.legend(loc='upper center', bbox_to_anchor=(0.5, -0.15),\n",
    "          fancybox=True, shadow=True, ncol=5)\n",
    "\n",
    "for bar in ax.patches:\n",
    "   \n",
    "  # Using Matplotlib's annotate function and\n",
    "  # passing the coordinates where the annotation shall be done\n",
    "  # x-coordinate: bar.get_x() + bar.get_width() / 2\n",
    "  # y-coordinate: bar.get_height()\n",
    "  # free space to be left to make graph pleasing: (0, 8)\n",
    "  # ha and va stand for the horizontal and vertical alignment\n",
    "    ax.annotate(format(bar.get_height(), '.1%'),\n",
    "                   (bar.get_x() + bar.get_width() / 2,\n",
    "                    bar.get_height()), ha='center', va='center',\n",
    "                   size=10, xytext=(0, 8),\n",
    "                   textcoords='offset points')\n",
    "\n",
    "fig.tight_layout()\n",
    "\n",
    "plt.show()\n"
   ]
  },
  {
   "cell_type": "markdown",
   "metadata": {},
   "source": [
    "## implicatur"
   ]
  },
  {
   "cell_type": "code",
   "execution_count": 126,
   "metadata": {},
   "outputs": [
    {
     "data": {
      "text/html": [
       "<div>\n",
       "<style scoped>\n",
       "    .dataframe tbody tr th:only-of-type {\n",
       "        vertical-align: middle;\n",
       "    }\n",
       "\n",
       "    .dataframe tbody tr th {\n",
       "        vertical-align: top;\n",
       "    }\n",
       "\n",
       "    .dataframe thead th {\n",
       "        text-align: right;\n",
       "    }\n",
       "</style>\n",
       "<table border=\"1\" class=\"dataframe\">\n",
       "  <thead>\n",
       "    <tr style=\"text-align: right;\">\n",
       "      <th></th>\n",
       "      <th>Other Syllogisms</th>\n",
       "      <th>Implicatur</th>\n",
       "    </tr>\n",
       "  </thead>\n",
       "  <tbody>\n",
       "    <tr>\n",
       "      <th>Humans</th>\n",
       "      <td>0.519649</td>\n",
       "      <td>0.150877</td>\n",
       "    </tr>\n",
       "    <tr>\n",
       "      <th>BERT</th>\n",
       "      <td>0.227297</td>\n",
       "      <td>0.033918</td>\n",
       "    </tr>\n",
       "    <tr>\n",
       "      <th>BART MNLI</th>\n",
       "      <td>0.607276</td>\n",
       "      <td>0.001170</td>\n",
       "    </tr>\n",
       "  </tbody>\n",
       "</table>\n",
       "</div>"
      ],
      "text/plain": [
       "           Other Syllogisms  Implicatur\n",
       "Humans             0.519649    0.150877\n",
       "BERT               0.227297    0.033918\n",
       "BART MNLI          0.607276    0.001170"
      ]
     },
     "execution_count": 126,
     "metadata": {},
     "output_type": "execute_result"
    }
   ],
   "source": [
    "df_impl = df_final[['Humans','BERT', 'BART MNLI','implicatur']].groupby(\"implicatur\").mean()\n",
    "df_impl = df_impl.transpose()\n",
    "df_impl.columns = ['Other Syllogisms', 'Implicatur']\n",
    "df_impl"
   ]
  },
  {
   "cell_type": "code",
   "execution_count": 143,
   "metadata": {},
   "outputs": [
    {
     "data": {
      "image/png": "[encoded data removed]",
      "text/plain": [
       "<Figure size 432x288 with 1 Axes>"
      ]
     },
     "metadata": {},
     "output_type": "display_data"
    }
   ],
   "source": [
    "import matplotlib.ticker as mtick\n",
    "import numpy as np\n",
    "\n",
    "x = np.arange(3)  # the label locations\n",
    "width = 0.35  # the width of the bars\n",
    "\n",
    "fig, ax = plt.subplots()\n",
    "rects1 = ax.bar(x - width/2, df_impl['Implicatur'], width, label='Implicatur')\n",
    "rects2 = ax.bar(x + width/2, df_impl['Other Syllogisms'], width, label='Other Syllogisms')\n",
    "\n",
    "\n",
    "# Add some text for labels, title and custom x-axis tick labels, etc.\n",
    "ax.set_ylabel('Success Rates')\n",
    "ax.set_title('Success Rates according to implicatur')\n",
    "ax.figure.subplots_adjust(left=0.15, top=0.9)\n",
    "ax.yaxis.set_major_formatter(mtick.PercentFormatter(xmax=1.0))\n",
    "ax.set_ylim(0,1)\n",
    "ax.set_xlabel('')\n",
    "ax.set_xticks(x, df_impl.index)\n",
    "ax.legend(loc='upper center', bbox_to_anchor=(0.5, -0.15),\n",
    "          fancybox=True, shadow=True, ncol=5)\n",
    "\n",
    "for bar in ax.patches:\n",
    "   \n",
    "  # Using Matplotlib's annotate function and\n",
    "  # passing the coordinates where the annotation shall be done\n",
    "  # x-coordinate: bar.get_x() + bar.get_width() / 2\n",
    "  # y-coordinate: bar.get_height()\n",
    "  # free space to be left to make graph pleasing: (0, 8)\n",
    "  # ha and va stand for the horizontal and vertical alignment\n",
    "    ax.annotate(format(bar.get_height(), '.1%'),\n",
    "                   (bar.get_x() + bar.get_width() / 2,\n",
    "                    bar.get_height()), ha='center', va='center',\n",
    "                   size=10, xytext=(0, 8),\n",
    "                   textcoords='offset points')\n",
    "\n",
    "fig.tight_layout()\n",
    "\n",
    "plt.show()\n"
   ]
  },
  {
   "cell_type": "markdown",
   "metadata": {},
   "source": [
    "## Absurd"
   ]
  },
  {
   "cell_type": "code",
   "execution_count": 134,
   "metadata": {},
   "outputs": [
    {
     "data": {
      "text/html": [
       "<div>\n",
       "<style scoped>\n",
       "    .dataframe tbody tr th:only-of-type {\n",
       "        vertical-align: middle;\n",
       "    }\n",
       "\n",
       "    .dataframe tbody tr th {\n",
       "        vertical-align: top;\n",
       "    }\n",
       "\n",
       "    .dataframe thead th {\n",
       "        text-align: right;\n",
       "    }\n",
       "</style>\n",
       "<table border=\"1\" class=\"dataframe\">\n",
       "  <thead>\n",
       "    <tr style=\"text-align: right;\">\n",
       "      <th></th>\n",
       "      <th>Other Syllogisms</th>\n",
       "      <th>reductio ad absurdum</th>\n",
       "    </tr>\n",
       "  </thead>\n",
       "  <tbody>\n",
       "    <tr>\n",
       "      <th>Humans</th>\n",
       "      <td>0.455539</td>\n",
       "      <td>0.427737</td>\n",
       "    </tr>\n",
       "    <tr>\n",
       "      <th>BERT</th>\n",
       "      <td>0.195122</td>\n",
       "      <td>0.170803</td>\n",
       "    </tr>\n",
       "    <tr>\n",
       "      <th>BART MNLI</th>\n",
       "      <td>0.432165</td>\n",
       "      <td>0.856934</td>\n",
       "    </tr>\n",
       "  </tbody>\n",
       "</table>\n",
       "</div>"
      ],
      "text/plain": [
       "           Other Syllogisms  reductio ad absurdum\n",
       "Humans             0.455539              0.427737\n",
       "BERT               0.195122              0.170803\n",
       "BART MNLI          0.432165              0.856934"
      ]
     },
     "execution_count": 134,
     "metadata": {},
     "output_type": "execute_result"
    }
   ],
   "source": [
    "df_absurd = df_final[['Humans','BERT', 'BART MNLI','absurde']].groupby(\"absurde\").mean()\n",
    "df_absurd = df_absurd.transpose()\n",
    "df_absurd.columns = ['Other Syllogisms', 'reductio ad absurdum']\n",
    "df_absurd"
   ]
  },
  {
   "cell_type": "code",
   "execution_count": 142,
   "metadata": {},
   "outputs": [
    {
     "data": {
      "image/png": "[encoded data removed]",
      "text/plain": [
       "<Figure size 432x288 with 1 Axes>"
      ]
     },
     "metadata": {},
     "output_type": "display_data"
    }
   ],
   "source": [
    "import matplotlib.ticker as mtick\n",
    "import numpy as np\n",
    "\n",
    "x = np.arange(3)  # the label locations\n",
    "width = 0.35  # the width of the bars\n",
    "\n",
    "fig, ax = plt.subplots()\n",
    "rects1 = ax.bar(x - width/2, df_absurd['reductio ad absurdum'], width, label='reductio ad absurdum')\n",
    "rects2 = ax.bar(x + width/2, df_absurd['Other Syllogisms'], width, label='Other Syllogisms')\n",
    "\n",
    "\n",
    "# Add some text for labels, title and custom x-axis tick labels, etc.\n",
    "ax.set_ylabel('Success Rates')\n",
    "ax.set_title('Success Rates according to reductio ad absurdum')\n",
    "ax.figure.subplots_adjust(left=0.15, top=0.9)\n",
    "ax.yaxis.set_major_formatter(mtick.PercentFormatter(xmax=1.0))\n",
    "ax.set_ylim(0,1)\n",
    "ax.set_xlabel('')\n",
    "ax.set_xticks(x, df_absurd.index)\n",
    "ax.legend(loc='upper center', bbox_to_anchor=(0.5, -0.15),\n",
    "          fancybox=True, shadow=True, ncol=5)\n",
    "\n",
    "for bar in ax.patches:\n",
    "   \n",
    "  # Using Matplotlib's annotate function and\n",
    "  # passing the coordinates where the annotation shall be done\n",
    "  # x-coordinate: bar.get_x() + bar.get_width() / 2\n",
    "  # y-coordinate: bar.get_height()\n",
    "  # free space to be left to make graph pleasing: (0, 8)\n",
    "  # ha and va stand for the horizontal and vertical alignment\n",
    "    ax.annotate(format(bar.get_height(), '.1%'),\n",
    "                   (bar.get_x() + bar.get_width() / 2,\n",
    "                    bar.get_height()), ha='center', va='center',\n",
    "                   size=10, xytext=(0, 8),\n",
    "                   textcoords='offset points')\n",
    "\n",
    "fig.tight_layout()\n",
    "\n",
    "plt.show()"
   ]
  },
  {
   "cell_type": "markdown",
   "metadata": {},
   "source": [
    "# Reponse type"
   ]
  }
 ],
 "metadata": {
  "kernelspec": {
   "display_name": "Python 3.9.12 ('env': venv)",
   "language": "python",
   "name": "python3"
  },
  "language_info": {
   "codemirror_mode": {
    "name": "ipython",
    "version": 3
   },
   "file_extension": ".py",
   "mimetype": "text/x-python",
   "name": "python",
   "nbconvert_exporter": "python",
   "pygments_lexer": "ipython3",
   "version": "3.9.12"
  },
  "orig_nbformat": 4,
  "vscode": {
   "interpreter": {
    "hash": "dddc4829cdb8a95c4dcd99a91d3cecc91af3578de6eb6a763a56b0c106b3b01d"
   }
  }
 },
 "nbformat": 4,
 "nbformat_minor": 2
}
