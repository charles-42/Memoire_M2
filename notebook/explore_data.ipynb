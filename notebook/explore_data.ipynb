{
 "cells": [
  {
   "cell_type": "code",
   "execution_count": 24,
   "metadata": {},
   "outputs": [],
   "source": [
    "import pandas as pd\n",
    "import numpy as np\n",
    "import matplotlib.pyplot as plt\n",
    "import seaborn as sns\n",
    "\n",
    "df1 = pd.read_csv(\"../Data/Ragni2016.csv\")\n",
    "df2 = pd.read_csv(\"../Data/Veser2018.csv\")"
   ]
  },
  {
   "cell_type": "markdown",
   "metadata": {},
   "source": [
    "## Analyse de la base Ragni2016"
   ]
  },
  {
   "cell_type": "code",
   "execution_count": 8,
   "metadata": {},
   "outputs": [
    {
     "data": {
      "text/plain": [
       "Index(['id', 'sequence', 'task', 'choices', 'response', 'response_type',\n",
       "       'domain', 'gender', 'age'],\n",
       "      dtype='object')"
      ]
     },
     "execution_count": 8,
     "metadata": {},
     "output_type": "execute_result"
    }
   ],
   "source": [
    "# données présentes\n",
    "df1.columns"
   ]
  },
  {
   "cell_type": "code",
   "execution_count": 43,
   "metadata": {},
   "outputs": [
    {
     "data": {
      "text/plain": [
       "<bound method NDFrame.head of        id  sequence                                             task  \\\n",
       "0       1         0           Some;models;managers/All;models;clerks   \n",
       "1       1         1    No;divers;carpenters/All;linguists;carpenters   \n",
       "2       1         2  All;therapists;climbers/Some;skaters;therapists   \n",
       "3       1         3         All;bankers;golfers/All;golfers;teachers   \n",
       "4       1         4   Some not;boxers;opticians/All;boxers;actuaries   \n",
       "...   ...       ...                                              ...   \n",
       "8891  139        59    Some not;potters;sailors/All;potters;chemists   \n",
       "8892  139        60     Some;brewers;porters/Some not;judges;porters   \n",
       "8893  139        61     No;sculptors;bakers/Some not;bakers;gamblers   \n",
       "8894  139        62  Some;climbers;therapists/All;skaters;therapists   \n",
       "8895  139        63       Some not;managers;models/All;models;clerks   \n",
       "\n",
       "                                                choices  \\\n",
       "0     All;managers;clerks|All;clerks;managers|Some;m...   \n",
       "1     All;divers;linguists|All;linguists;divers|Some...   \n",
       "2     All;climbers;skaters|All;skaters;climbers|Some...   \n",
       "3     All;bankers;teachers|All;teachers;bankers|Some...   \n",
       "4     All;opticians;actuaries|All;actuaries;optician...   \n",
       "...                                                 ...   \n",
       "8891  All;sailors;chemists|All;chemists;sailors|Some...   \n",
       "8892  All;brewers;judges|All;judges;brewers|Some;bre...   \n",
       "8893  All;sculptors;gamblers|All;gamblers;sculptors|...   \n",
       "8894  All;climbers;skaters|All;skaters;climbers|Some...   \n",
       "8895  All;managers;clerks|All;clerks;managers|Some;m...   \n",
       "\n",
       "                          response  response_type       domain  gender  age  \n",
       "0             Some;managers;clerks  single-choice  syllogistic  female   56  \n",
       "1              No;divers;linguists  single-choice  syllogistic  female   56  \n",
       "2            Some;skaters;climbers  single-choice  syllogistic  female   56  \n",
       "3             All;bankers;teachers  single-choice  syllogistic  female   56  \n",
       "4     Some not;actuaries;opticians  single-choice  syllogistic  female   56  \n",
       "...                            ...            ...          ...     ...  ...  \n",
       "8891     Some not;sailors;chemists  single-choice  syllogistic  female   23  \n",
       "8892             No;judges;brewers  single-choice  syllogistic  female   23  \n",
       "8893   Some not;gamblers;sculptors  single-choice  syllogistic  female   23  \n",
       "8894                           NVC  single-choice  syllogistic  female   23  \n",
       "8895           All;managers;clerks  single-choice  syllogistic  female   23  \n",
       "\n",
       "[8896 rows x 9 columns]>"
      ]
     },
     "execution_count": 43,
     "metadata": {},
     "output_type": "execute_result"
    }
   ],
   "source": [
    "# Visualisation des données\n",
    "#8896 lignes et 9 colonnes\n",
    "df1.head"
   ]
  },
  {
   "cell_type": "code",
   "execution_count": 52,
   "metadata": {},
   "outputs": [
    {
     "name": "stdout",
     "output_type": "stream",
     "text": [
      "All;managers;clerks|All;clerks;managers|Some;managers;clerks|Some;clerks;managers|Some not;managers;clerks|Some not;clerks;managers|No;managers;clerks|No;clerks;managers|NVC\n"
     ]
    }
   ],
   "source": [
    "print(df1.iloc[0]['choices'])"
   ]
  },
  {
   "cell_type": "code",
   "execution_count": 19,
   "metadata": {},
   "outputs": [
    {
     "data": {
      "text/plain": [
       "0                Some;models;managers/All;models;clerks\n",
       "64                 Some;cooks;mayors/All;cooks;swimmers\n",
       "128             Some;tutors;packers/All;tutors;butchers\n",
       "192          All;chemists;sailors/Some;potters;chemists\n",
       "256               All;drivers;hikers/All;hikers;writers\n",
       "320             Some;writers;drivers/All;writers;hikers\n",
       "384             Some;chefs;runners/All;chefs;scientists\n",
       "448               All;managers;clerks/All;clerks;models\n",
       "512     Some;travelers;analysts/All;travelers;novelists\n",
       "576      Some;linguists;divers/All;linguists;carpenters\n",
       "640          Some;students;buyers/All;students;cyclists\n",
       "704              Some;pilots;tailors/All;pilots;singers\n",
       "768            All;cashiers;poets/Some;waiters;cashiers\n",
       "832             Some;swimmers;cooks/All;swimmers;mayors\n",
       "896               No;typists;dancers/All;boxers;dancers\n",
       "960              Some;boxers;dancers/All;boxers;typists\n",
       "1024         No;auditors;cleaners/All;painters;cleaners\n",
       "1088       No;divers;linguists/All;carpenters;linguists\n",
       "1152           All;tutors;butchers/All;butchers;packers\n",
       "1216            All;actors;drillers/All;drillers;nurses\n",
       "Name: task, dtype: object"
      ]
     },
     "execution_count": 19,
     "metadata": {},
     "output_type": "execute_result"
    }
   ],
   "source": [
    "# analyse des taches pour un meme n° de séquence: pas la même forme du syllogi\n",
    "df1[df1[\"sequence\"] == 0][\"task\"].head(20)"
   ]
  },
  {
   "cell_type": "code",
   "execution_count": 17,
   "metadata": {},
   "outputs": [
    {
     "data": {
      "text/plain": [
       "6327"
      ]
     },
     "execution_count": 17,
     "metadata": {},
     "output_type": "execute_result"
    }
   ],
   "source": [
    "# 6327 syllogismes différents\n",
    "len(pd.unique(df1[\"task\"]))"
   ]
  },
  {
   "cell_type": "markdown",
   "metadata": {},
   "source": [
    "## Analyse de la base Veser2018"
   ]
  },
  {
   "cell_type": "code",
   "execution_count": 27,
   "metadata": {},
   "outputs": [
    {
     "data": {
      "text/plain": [
       "Index(['id', 'sequence', 'task', 'choices', 'response', 'response_type',\n",
       "       'domain', 'gender', 'age'],\n",
       "      dtype='object')"
      ]
     },
     "execution_count": 27,
     "metadata": {},
     "output_type": "execute_result"
    }
   ],
   "source": [
    "# données présentes\n",
    "df2.columns"
   ]
  },
  {
   "cell_type": "code",
   "execution_count": 28,
   "metadata": {},
   "outputs": [
    {
     "data": {
      "text/plain": [
       "(2058, 9)"
      ]
     },
     "execution_count": 28,
     "metadata": {},
     "output_type": "execute_result"
    }
   ],
   "source": [
    "# Visualisation des données\n",
    "#2058 lignes et 9 colonnes\n",
    "df2.shape"
   ]
  },
  {
   "cell_type": "code",
   "execution_count": 29,
   "metadata": {},
   "outputs": [
    {
     "data": {
      "text/plain": [
       "383"
      ]
     },
     "execution_count": 29,
     "metadata": {},
     "output_type": "execute_result"
    }
   ],
   "source": [
    "# 383 syllogismes différents\n",
    "len(pd.unique(df2[\"task\"]))"
   ]
  },
  {
   "cell_type": "code",
   "execution_count": 35,
   "metadata": {},
   "outputs": [
    {
     "data": {
      "text/plain": [
       "34"
      ]
     },
     "execution_count": 35,
     "metadata": {},
     "output_type": "execute_result"
    }
   ],
   "source": [
    "# 34 participants\n",
    "len(pd.unique(df2[\"id\"]))"
   ]
  },
  {
   "cell_type": "code",
   "execution_count": 33,
   "metadata": {},
   "outputs": [
    {
     "data": {
      "text/html": [
       "<div>\n",
       "<style scoped>\n",
       "    .dataframe tbody tr th:only-of-type {\n",
       "        vertical-align: middle;\n",
       "    }\n",
       "\n",
       "    .dataframe tbody tr th {\n",
       "        vertical-align: top;\n",
       "    }\n",
       "\n",
       "    .dataframe thead th {\n",
       "        text-align: right;\n",
       "    }\n",
       "</style>\n",
       "<table border=\"1\" class=\"dataframe\">\n",
       "  <thead>\n",
       "    <tr style=\"text-align: right;\">\n",
       "      <th></th>\n",
       "      <th>id</th>\n",
       "      <th>sequence</th>\n",
       "      <th>task</th>\n",
       "      <th>choices</th>\n",
       "      <th>response</th>\n",
       "      <th>response_type</th>\n",
       "      <th>domain</th>\n",
       "      <th>gender</th>\n",
       "      <th>age</th>\n",
       "    </tr>\n",
       "  </thead>\n",
       "  <tbody>\n",
       "    <tr>\n",
       "      <th>0</th>\n",
       "      <td>0</td>\n",
       "      <td>0</td>\n",
       "      <td>Some;gamblers;bakers/Some not;sculptors;bakers</td>\n",
       "      <td>All;gamblers;sculptors|All;sculptors;gamblers|...</td>\n",
       "      <td>NVC</td>\n",
       "      <td>single-choice</td>\n",
       "      <td>syllogistic</td>\n",
       "      <td>female</td>\n",
       "      <td>24</td>\n",
       "    </tr>\n",
       "    <tr>\n",
       "      <th>1</th>\n",
       "      <td>0</td>\n",
       "      <td>1</td>\n",
       "      <td>Some not;surfers;artists/All;planners;artists</td>\n",
       "      <td>All;surfers;planners|All;planners;surfers|Some...</td>\n",
       "      <td>Some not;planners;surfers</td>\n",
       "      <td>single-choice</td>\n",
       "      <td>syllogistic</td>\n",
       "      <td>female</td>\n",
       "      <td>24</td>\n",
       "    </tr>\n",
       "    <tr>\n",
       "      <th>2</th>\n",
       "      <td>0</td>\n",
       "      <td>2</td>\n",
       "      <td>All;carpenters;divers/All;linguists;divers</td>\n",
       "      <td>All;carpenters;linguists|All;linguists;carpent...</td>\n",
       "      <td>Some not;carpenters;linguists</td>\n",
       "      <td>single-choice</td>\n",
       "      <td>syllogistic</td>\n",
       "      <td>female</td>\n",
       "      <td>24</td>\n",
       "    </tr>\n",
       "    <tr>\n",
       "      <th>3</th>\n",
       "      <td>0</td>\n",
       "      <td>3</td>\n",
       "      <td>All;painters;cleaners/Some not;auditors;painters</td>\n",
       "      <td>All;cleaners;auditors|All;auditors;cleaners|So...</td>\n",
       "      <td>Some;auditors;cleaners</td>\n",
       "      <td>single-choice</td>\n",
       "      <td>syllogistic</td>\n",
       "      <td>female</td>\n",
       "      <td>24</td>\n",
       "    </tr>\n",
       "    <tr>\n",
       "      <th>4</th>\n",
       "      <td>0</td>\n",
       "      <td>4</td>\n",
       "      <td>No;engineers;fencers/All;campers;fencers</td>\n",
       "      <td>All;engineers;campers|All;campers;engineers|So...</td>\n",
       "      <td>No;engineers;campers</td>\n",
       "      <td>single-choice</td>\n",
       "      <td>syllogistic</td>\n",
       "      <td>female</td>\n",
       "      <td>24</td>\n",
       "    </tr>\n",
       "    <tr>\n",
       "      <th>...</th>\n",
       "      <td>...</td>\n",
       "      <td>...</td>\n",
       "      <td>...</td>\n",
       "      <td>...</td>\n",
       "      <td>...</td>\n",
       "      <td>...</td>\n",
       "      <td>...</td>\n",
       "      <td>...</td>\n",
       "      <td>...</td>\n",
       "    </tr>\n",
       "    <tr>\n",
       "      <th>65</th>\n",
       "      <td>1</td>\n",
       "      <td>1</td>\n",
       "      <td>Some;cleaners;painters/Some;auditors;painters</td>\n",
       "      <td>All;cleaners;auditors|All;auditors;cleaners|So...</td>\n",
       "      <td>Some;cleaners;auditors</td>\n",
       "      <td>single-choice</td>\n",
       "      <td>syllogistic</td>\n",
       "      <td>female</td>\n",
       "      <td>19</td>\n",
       "    </tr>\n",
       "    <tr>\n",
       "      <th>66</th>\n",
       "      <td>1</td>\n",
       "      <td>2</td>\n",
       "      <td>All;tailors;pilots/Some;pilots;singers</td>\n",
       "      <td>All;tailors;singers|All;singers;tailors|Some;t...</td>\n",
       "      <td>Some;tailors;singers</td>\n",
       "      <td>single-choice</td>\n",
       "      <td>syllogistic</td>\n",
       "      <td>female</td>\n",
       "      <td>19</td>\n",
       "    </tr>\n",
       "    <tr>\n",
       "      <th>67</th>\n",
       "      <td>1</td>\n",
       "      <td>3</td>\n",
       "      <td>All;carpenters;linguists/All;divers;linguists</td>\n",
       "      <td>All;carpenters;divers|All;divers;carpenters|So...</td>\n",
       "      <td>NVC</td>\n",
       "      <td>single-choice</td>\n",
       "      <td>syllogistic</td>\n",
       "      <td>female</td>\n",
       "      <td>19</td>\n",
       "    </tr>\n",
       "    <tr>\n",
       "      <th>68</th>\n",
       "      <td>1</td>\n",
       "      <td>4</td>\n",
       "      <td>Some;scholars;farmers/Some;farmers;assistants</td>\n",
       "      <td>All;scholars;assistants|All;assistants;scholar...</td>\n",
       "      <td>Some;scholars;assistants</td>\n",
       "      <td>single-choice</td>\n",
       "      <td>syllogistic</td>\n",
       "      <td>female</td>\n",
       "      <td>19</td>\n",
       "    </tr>\n",
       "    <tr>\n",
       "      <th>69</th>\n",
       "      <td>1</td>\n",
       "      <td>5</td>\n",
       "      <td>Some not;runners;chefs/Some not;scientists;run...</td>\n",
       "      <td>All;chefs;scientists|All;scientists;chefs|Some...</td>\n",
       "      <td>Some not;scientists;chefs</td>\n",
       "      <td>single-choice</td>\n",
       "      <td>syllogistic</td>\n",
       "      <td>female</td>\n",
       "      <td>19</td>\n",
       "    </tr>\n",
       "  </tbody>\n",
       "</table>\n",
       "<p>70 rows × 9 columns</p>\n",
       "</div>"
      ],
      "text/plain": [
       "    id  sequence                                               task  \\\n",
       "0    0         0     Some;gamblers;bakers/Some not;sculptors;bakers   \n",
       "1    0         1      Some not;surfers;artists/All;planners;artists   \n",
       "2    0         2         All;carpenters;divers/All;linguists;divers   \n",
       "3    0         3   All;painters;cleaners/Some not;auditors;painters   \n",
       "4    0         4           No;engineers;fencers/All;campers;fencers   \n",
       "..  ..       ...                                                ...   \n",
       "65   1         1      Some;cleaners;painters/Some;auditors;painters   \n",
       "66   1         2             All;tailors;pilots/Some;pilots;singers   \n",
       "67   1         3      All;carpenters;linguists/All;divers;linguists   \n",
       "68   1         4      Some;scholars;farmers/Some;farmers;assistants   \n",
       "69   1         5  Some not;runners;chefs/Some not;scientists;run...   \n",
       "\n",
       "                                              choices  \\\n",
       "0   All;gamblers;sculptors|All;sculptors;gamblers|...   \n",
       "1   All;surfers;planners|All;planners;surfers|Some...   \n",
       "2   All;carpenters;linguists|All;linguists;carpent...   \n",
       "3   All;cleaners;auditors|All;auditors;cleaners|So...   \n",
       "4   All;engineers;campers|All;campers;engineers|So...   \n",
       "..                                                ...   \n",
       "65  All;cleaners;auditors|All;auditors;cleaners|So...   \n",
       "66  All;tailors;singers|All;singers;tailors|Some;t...   \n",
       "67  All;carpenters;divers|All;divers;carpenters|So...   \n",
       "68  All;scholars;assistants|All;assistants;scholar...   \n",
       "69  All;chefs;scientists|All;scientists;chefs|Some...   \n",
       "\n",
       "                         response  response_type       domain  gender  age  \n",
       "0                             NVC  single-choice  syllogistic  female   24  \n",
       "1       Some not;planners;surfers  single-choice  syllogistic  female   24  \n",
       "2   Some not;carpenters;linguists  single-choice  syllogistic  female   24  \n",
       "3          Some;auditors;cleaners  single-choice  syllogistic  female   24  \n",
       "4            No;engineers;campers  single-choice  syllogistic  female   24  \n",
       "..                            ...            ...          ...     ...  ...  \n",
       "65         Some;cleaners;auditors  single-choice  syllogistic  female   19  \n",
       "66           Some;tailors;singers  single-choice  syllogistic  female   19  \n",
       "67                            NVC  single-choice  syllogistic  female   19  \n",
       "68       Some;scholars;assistants  single-choice  syllogistic  female   19  \n",
       "69      Some not;scientists;chefs  single-choice  syllogistic  female   19  \n",
       "\n",
       "[70 rows x 9 columns]"
      ]
     },
     "execution_count": 33,
     "metadata": {},
     "output_type": "execute_result"
    }
   ],
   "source": [
    "df2.head(70)"
   ]
  },
  {
   "cell_type": "code",
   "execution_count": 38,
   "metadata": {},
   "outputs": [
    {
     "data": {
      "text/plain": [
       "33    64\n",
       "1     64\n",
       "2     64\n",
       "4     64\n",
       "6     64\n",
       "8     64\n",
       "10    64\n",
       "12    64\n",
       "14    64\n",
       "20    64\n",
       "22    64\n",
       "24    64\n",
       "26    64\n",
       "28    64\n",
       "30    64\n",
       "31    64\n",
       "32    64\n",
       "3     64\n",
       "17    64\n",
       "29    64\n",
       "27    64\n",
       "25    64\n",
       "23    64\n",
       "21    64\n",
       "19    64\n",
       "0     64\n",
       "5     64\n",
       "15    64\n",
       "13    64\n",
       "11    64\n",
       "9     64\n",
       "7     64\n",
       "18     8\n",
       "16     2\n",
       "Name: id, dtype: int64"
      ]
     },
     "execution_count": 38,
     "metadata": {},
     "output_type": "execute_result"
    }
   ],
   "source": [
    "df2[\"id\"].value_counts()"
   ]
  },
  {
   "cell_type": "code",
   "execution_count": null,
   "metadata": {},
   "outputs": [],
   "source": []
  }
 ],
 "metadata": {
  "kernelspec": {
   "display_name": "Python 3",
   "language": "python",
   "name": "python3"
  },
  "language_info": {
   "codemirror_mode": {
    "name": "ipython",
    "version": 3
   },
   "file_extension": ".py",
   "mimetype": "text/x-python",
   "name": "python",
   "nbconvert_exporter": "python",
   "pygments_lexer": "ipython3",
   "version": "3.8.5"
  }
 },
 "nbformat": 4,
 "nbformat_minor": 4
}
