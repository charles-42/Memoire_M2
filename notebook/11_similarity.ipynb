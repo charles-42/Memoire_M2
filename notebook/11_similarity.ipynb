{
 "cells": [
  {
   "cell_type": "code",
   "execution_count": 1,
   "metadata": {},
   "outputs": [],
   "source": [
    "import pandas as pd\n",
    "import numpy as np\n",
    "import ast"
   ]
  },
  {
   "cell_type": "code",
   "execution_count": 2,
   "metadata": {},
   "outputs": [],
   "source": [
    "df = pd.read_csv(\"../data/intermediate/df_merge_results_with_pred.csv\")"
   ]
  },
  {
   "cell_type": "code",
   "execution_count": 3,
   "metadata": {},
   "outputs": [
    {
     "data": {
      "text/html": [
       "<div>\n",
       "<style scoped>\n",
       "    .dataframe tbody tr th:only-of-type {\n",
       "        vertical-align: middle;\n",
       "    }\n",
       "\n",
       "    .dataframe tbody tr th {\n",
       "        vertical-align: top;\n",
       "    }\n",
       "\n",
       "    .dataframe thead th {\n",
       "        text-align: right;\n",
       "    }\n",
       "</style>\n",
       "<table border=\"1\" class=\"dataframe\">\n",
       "  <thead>\n",
       "    <tr style=\"text-align: right;\">\n",
       "      <th></th>\n",
       "      <th>id_seq</th>\n",
       "      <th>task_form</th>\n",
       "      <th>human_response</th>\n",
       "      <th>best_prediction</th>\n",
       "      <th>best_few_shot</th>\n",
       "      <th>has_conclusion</th>\n",
       "    </tr>\n",
       "  </thead>\n",
       "  <tbody>\n",
       "    <tr>\n",
       "      <th>0</th>\n",
       "      <td>1_0_R</td>\n",
       "      <td>IA4</td>\n",
       "      <td>('Iac', True)</td>\n",
       "      <td>(2, 99.99971389770508, ['Some', 'managers', 'c...</td>\n",
       "      <td>(2, 39.83977138996124, ['Some', 'managers', 'c...</td>\n",
       "      <td>True</td>\n",
       "    </tr>\n",
       "    <tr>\n",
       "      <th>1</th>\n",
       "      <td>1_1_R</td>\n",
       "      <td>EA3</td>\n",
       "      <td>('Eac', True)</td>\n",
       "      <td>(0, 99.99972581863403, ['All', 'divers', 'ling...</td>\n",
       "      <td>(7, 91.39708280563354, ['No', 'linguists', 'di...</td>\n",
       "      <td>True</td>\n",
       "    </tr>\n",
       "    <tr>\n",
       "      <th>2</th>\n",
       "      <td>1_2_R</td>\n",
       "      <td>AI2</td>\n",
       "      <td>('Ica', True)</td>\n",
       "      <td>(3, 99.99973773956299, ['Some', 'skaters', 'cl...</td>\n",
       "      <td>(2, 43.451812863349915, ['Some', 'climbers', '...</td>\n",
       "      <td>True</td>\n",
       "    </tr>\n",
       "    <tr>\n",
       "      <th>3</th>\n",
       "      <td>1_3_R</td>\n",
       "      <td>AA1</td>\n",
       "      <td>('Aac', True)</td>\n",
       "      <td>(0, 99.99972581863403, ['All', 'bankers', 'tea...</td>\n",
       "      <td>(4, 88.54365907609463, ['Some not', 'bankers',...</td>\n",
       "      <td>True</td>\n",
       "    </tr>\n",
       "    <tr>\n",
       "      <th>4</th>\n",
       "      <td>1_4_R</td>\n",
       "      <td>OA4</td>\n",
       "      <td>('Oca', False)</td>\n",
       "      <td>(4, 99.99974966049194, ['Some not', 'opticians...</td>\n",
       "      <td>(5, 91.92997813224792, ['Some not', 'actuaries...</td>\n",
       "      <td>False</td>\n",
       "    </tr>\n",
       "  </tbody>\n",
       "</table>\n",
       "</div>"
      ],
      "text/plain": [
       "  id_seq task_form  human_response  \\\n",
       "0  1_0_R       IA4   ('Iac', True)   \n",
       "1  1_1_R       EA3   ('Eac', True)   \n",
       "2  1_2_R       AI2   ('Ica', True)   \n",
       "3  1_3_R       AA1   ('Aac', True)   \n",
       "4  1_4_R       OA4  ('Oca', False)   \n",
       "\n",
       "                                     best_prediction  \\\n",
       "0  (2, 99.99971389770508, ['Some', 'managers', 'c...   \n",
       "1  (0, 99.99972581863403, ['All', 'divers', 'ling...   \n",
       "2  (3, 99.99973773956299, ['Some', 'skaters', 'cl...   \n",
       "3  (0, 99.99972581863403, ['All', 'bankers', 'tea...   \n",
       "4  (4, 99.99974966049194, ['Some not', 'opticians...   \n",
       "\n",
       "                                       best_few_shot has_conclusion  \n",
       "0  (2, 39.83977138996124, ['Some', 'managers', 'c...           True  \n",
       "1  (7, 91.39708280563354, ['No', 'linguists', 'di...           True  \n",
       "2  (2, 43.451812863349915, ['Some', 'climbers', '...           True  \n",
       "3  (4, 88.54365907609463, ['Some not', 'bankers',...           True  \n",
       "4  (5, 91.92997813224792, ['Some not', 'actuaries...          False  "
      ]
     },
     "execution_count": 3,
     "metadata": {},
     "output_type": "execute_result"
    }
   ],
   "source": [
    "df.head()"
   ]
  },
  {
   "cell_type": "code",
   "execution_count": 4,
   "metadata": {},
   "outputs": [],
   "source": [
    "choice_form = ['Aac', 'Aca', 'Iac', 'Ica', 'Oac', 'Oca', 'Eac', 'Eca', 'NVC']"
   ]
  },
  {
   "cell_type": "code",
   "execution_count": 5,
   "metadata": {},
   "outputs": [],
   "source": [
    "# on retourne 1 si l'humain et la machine ont la meme prédiction, sinon 0\n",
    "def similarity(human_response, prediction):\n",
    "    human_response = ast.literal_eval(human_response)\n",
    "    prediction = ast.literal_eval(prediction)\n",
    "    return 1 if choice_form[prediction[0]] == human_response[0] else 0\n"
   ]
  },
  {
   "cell_type": "code",
   "execution_count": 6,
   "metadata": {},
   "outputs": [],
   "source": [
    "df['similarity_simple'] = df[[\"human_response\",\"best_prediction\"]].apply(lambda x: similarity(x[0],x[1]), axis=1)\n",
    "df['similarity_mnli'] = df[[\"human_response\",\"best_few_shot\"]].apply(lambda x: similarity(x[0],x[1]), axis=1)"
   ]
  },
  {
   "cell_type": "code",
   "execution_count": 7,
   "metadata": {},
   "outputs": [],
   "source": [
    "def humanright(human_response):\n",
    "    human_response =  ast.literal_eval(human_response)\n",
    "    return human_response[1]"
   ]
  },
  {
   "cell_type": "code",
   "execution_count": 8,
   "metadata": {},
   "outputs": [],
   "source": [
    "df['human_right'] = df.human_response.apply(lambda x: humanright(x))"
   ]
  },
  {
   "cell_type": "code",
   "execution_count": 9,
   "metadata": {},
   "outputs": [
    {
     "data": {
      "text/html": [
       "<div>\n",
       "<style scoped>\n",
       "    .dataframe tbody tr th:only-of-type {\n",
       "        vertical-align: middle;\n",
       "    }\n",
       "\n",
       "    .dataframe tbody tr th {\n",
       "        vertical-align: top;\n",
       "    }\n",
       "\n",
       "    .dataframe thead th {\n",
       "        text-align: right;\n",
       "    }\n",
       "</style>\n",
       "<table border=\"1\" class=\"dataframe\">\n",
       "  <thead>\n",
       "    <tr style=\"text-align: right;\">\n",
       "      <th></th>\n",
       "      <th>id_seq</th>\n",
       "      <th>task_form</th>\n",
       "      <th>human_response</th>\n",
       "      <th>best_prediction</th>\n",
       "      <th>best_few_shot</th>\n",
       "      <th>has_conclusion</th>\n",
       "      <th>similarity_simple</th>\n",
       "      <th>similarity_mnli</th>\n",
       "      <th>human_right</th>\n",
       "    </tr>\n",
       "  </thead>\n",
       "  <tbody>\n",
       "    <tr>\n",
       "      <th>0</th>\n",
       "      <td>1_0_R</td>\n",
       "      <td>IA4</td>\n",
       "      <td>('Iac', True)</td>\n",
       "      <td>(2, 99.99971389770508, ['Some', 'managers', 'c...</td>\n",
       "      <td>(2, 39.83977138996124, ['Some', 'managers', 'c...</td>\n",
       "      <td>True</td>\n",
       "      <td>1</td>\n",
       "      <td>1</td>\n",
       "      <td>True</td>\n",
       "    </tr>\n",
       "    <tr>\n",
       "      <th>1</th>\n",
       "      <td>1_1_R</td>\n",
       "      <td>EA3</td>\n",
       "      <td>('Eac', True)</td>\n",
       "      <td>(0, 99.99972581863403, ['All', 'divers', 'ling...</td>\n",
       "      <td>(7, 91.39708280563354, ['No', 'linguists', 'di...</td>\n",
       "      <td>True</td>\n",
       "      <td>0</td>\n",
       "      <td>0</td>\n",
       "      <td>True</td>\n",
       "    </tr>\n",
       "    <tr>\n",
       "      <th>2</th>\n",
       "      <td>1_2_R</td>\n",
       "      <td>AI2</td>\n",
       "      <td>('Ica', True)</td>\n",
       "      <td>(3, 99.99973773956299, ['Some', 'skaters', 'cl...</td>\n",
       "      <td>(2, 43.451812863349915, ['Some', 'climbers', '...</td>\n",
       "      <td>True</td>\n",
       "      <td>1</td>\n",
       "      <td>0</td>\n",
       "      <td>True</td>\n",
       "    </tr>\n",
       "    <tr>\n",
       "      <th>3</th>\n",
       "      <td>1_3_R</td>\n",
       "      <td>AA1</td>\n",
       "      <td>('Aac', True)</td>\n",
       "      <td>(0, 99.99972581863403, ['All', 'bankers', 'tea...</td>\n",
       "      <td>(4, 88.54365907609463, ['Some not', 'bankers',...</td>\n",
       "      <td>True</td>\n",
       "      <td>1</td>\n",
       "      <td>0</td>\n",
       "      <td>True</td>\n",
       "    </tr>\n",
       "    <tr>\n",
       "      <th>4</th>\n",
       "      <td>1_4_R</td>\n",
       "      <td>OA4</td>\n",
       "      <td>('Oca', False)</td>\n",
       "      <td>(4, 99.99974966049194, ['Some not', 'opticians...</td>\n",
       "      <td>(5, 91.92997813224792, ['Some not', 'actuaries...</td>\n",
       "      <td>False</td>\n",
       "      <td>0</td>\n",
       "      <td>1</td>\n",
       "      <td>False</td>\n",
       "    </tr>\n",
       "  </tbody>\n",
       "</table>\n",
       "</div>"
      ],
      "text/plain": [
       "  id_seq task_form  human_response  \\\n",
       "0  1_0_R       IA4   ('Iac', True)   \n",
       "1  1_1_R       EA3   ('Eac', True)   \n",
       "2  1_2_R       AI2   ('Ica', True)   \n",
       "3  1_3_R       AA1   ('Aac', True)   \n",
       "4  1_4_R       OA4  ('Oca', False)   \n",
       "\n",
       "                                     best_prediction  \\\n",
       "0  (2, 99.99971389770508, ['Some', 'managers', 'c...   \n",
       "1  (0, 99.99972581863403, ['All', 'divers', 'ling...   \n",
       "2  (3, 99.99973773956299, ['Some', 'skaters', 'cl...   \n",
       "3  (0, 99.99972581863403, ['All', 'bankers', 'tea...   \n",
       "4  (4, 99.99974966049194, ['Some not', 'opticians...   \n",
       "\n",
       "                                       best_few_shot has_conclusion  \\\n",
       "0  (2, 39.83977138996124, ['Some', 'managers', 'c...           True   \n",
       "1  (7, 91.39708280563354, ['No', 'linguists', 'di...           True   \n",
       "2  (2, 43.451812863349915, ['Some', 'climbers', '...           True   \n",
       "3  (4, 88.54365907609463, ['Some not', 'bankers',...           True   \n",
       "4  (5, 91.92997813224792, ['Some not', 'actuaries...          False   \n",
       "\n",
       "   similarity_simple  similarity_mnli  human_right  \n",
       "0                  1                1         True  \n",
       "1                  0                0         True  \n",
       "2                  1                0         True  \n",
       "3                  1                0         True  \n",
       "4                  0                1        False  "
      ]
     },
     "execution_count": 9,
     "metadata": {},
     "output_type": "execute_result"
    }
   ],
   "source": [
    "df.head()"
   ]
  },
  {
   "cell_type": "code",
   "execution_count": 18,
   "metadata": {},
   "outputs": [],
   "source": [
    "df_similarity_mnli_true_origin = df[df.human_right==True].groupby(['has_conclusion','task_form']) \\\n",
    "       .agg({'id_seq':'size', 'similarity_mnli':'mean'}) \\\n",
    "       .rename(columns={'id_seq':'count','similarity_mnli':'mean_mnli_human_right'}) \\\n",
    "       .reset_index()"
   ]
  },
  {
   "cell_type": "code",
   "execution_count": 21,
   "metadata": {},
   "outputs": [],
   "source": [
    "df_similarity_mnli_false = df[df.human_right==False].groupby('task_form') \\\n",
    "       .agg({'similarity_mnli':'mean'}) \\\n",
    "       .rename(columns={'similarity_mnli':'mean_mnli_human_false'}) \\\n",
    "       .reset_index()"
   ]
  },
  {
   "cell_type": "code",
   "execution_count": 25,
   "metadata": {},
   "outputs": [],
   "source": [
    "df_similarity_simple_true = df[df.human_right==True].groupby('task_form') \\\n",
    "       .agg({'similarity_simple':'mean'}) \\\n",
    "       .rename(columns={'similarity_simple':'mean_simple_human_right'}) \\\n",
    "       .reset_index()"
   ]
  },
  {
   "cell_type": "code",
   "execution_count": 26,
   "metadata": {},
   "outputs": [],
   "source": [
    "df_similarity_simple_false = df[df.human_right==False].groupby('task_form') \\\n",
    "       .agg({'similarity_simple':'mean'}) \\\n",
    "       .rename(columns={'similarity_simple':'mean_simple_human_false'}) \\\n",
    "       .reset_index()"
   ]
  },
  {
   "cell_type": "code",
   "execution_count": 35,
   "metadata": {},
   "outputs": [],
   "source": []
  },
  {
   "cell_type": "code",
   "execution_count": 39,
   "metadata": {},
   "outputs": [],
   "source": [
    "df_final = df_similarity_mnli_true_origin.merge(df_similarity_mnli_false, on=\"task_form\")\n",
    "df_final = df_final.merge(df_similarity_simple_true, on=\"task_form\")\n",
    "df_final = df_final.merge(df_similarity_simple_false, on=\"task_form\")\n"
   ]
  },
  {
   "cell_type": "code",
   "execution_count": 41,
   "metadata": {},
   "outputs": [],
   "source": [
    "df_valid = pd.read_csv(\"../data/results/result_valid_30_01_22.csv\")\n",
    "df_final_valid = df_final[df_final[\"has_conclusion\"]==True].merge(df_valid, on=\"task_form\")\n",
    "df_final_valid = df_final_valid[[ \"task_form\",\"count\", \"mean_mnli_human_right\",\"mean_mnli_human_false\", \"mean_simple_human_right\", \"mean_simple_human_false\", \"succes_human\" ]]\n",
    "df_final_valid.to_csv(\"../data/results/result_similarity_valid.csv\")"
   ]
  },
  {
   "cell_type": "code",
   "execution_count": 43,
   "metadata": {},
   "outputs": [],
   "source": [
    "df_unvalid = pd.read_csv(\"../data/results/result_unvalid_30_01_22.csv\")\n",
    "df_final_unvalid = df_final[df_final[\"has_conclusion\"]==False].merge(df_unvalid, on=\"task_form\")\n",
    "df_final_unvalid = df_final_unvalid[[ \"task_form\",\"count\", \"mean_mnli_human_right\",\"mean_mnli_human_false\", \"mean_simple_human_right\", \"mean_simple_human_false\", \"succes_human\" ]]\n",
    "df_final_unvalid\n",
    "df_final_unvalid.to_csv(\"../data/results/result_similarity_unvalid.csv\")"
   ]
  }
 ],
 "metadata": {
  "interpreter": {
   "hash": "dddc4829cdb8a95c4dcd99a91d3cecc91af3578de6eb6a763a56b0c106b3b01d"
  },
  "kernelspec": {
   "display_name": "Python 3.9.9 ('env': venv)",
   "language": "python",
   "name": "python3"
  },
  "language_info": {
   "codemirror_mode": {
    "name": "ipython",
    "version": 3
   },
   "file_extension": ".py",
   "mimetype": "text/x-python",
   "name": "python",
   "nbconvert_exporter": "python",
   "pygments_lexer": "ipython3",
   "version": "3.9.9"
  },
  "orig_nbformat": 4
 },
 "nbformat": 4,
 "nbformat_minor": 2
}
