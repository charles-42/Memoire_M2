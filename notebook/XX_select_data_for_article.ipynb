{
 "cells": [
  {
   "cell_type": "code",
   "execution_count": 29,
   "metadata": {},
   "outputs": [],
   "source": [
    "import pandas as pd\n",
    "import syllogism as sy \n",
    "\n",
    "from utils import table_de_verite, choice_form, implicatur"
   ]
  },
  {
   "cell_type": "markdown",
   "metadata": {},
   "source": [
    "# Form_data et nlp_result"
   ]
  },
  {
   "cell_type": "code",
   "execution_count": 2,
   "metadata": {},
   "outputs": [],
   "source": [
    "df_final = pd.read_csv(\"../data/intermediate/df_global_id.csv\")"
   ]
  },
  {
   "cell_type": "code",
   "execution_count": 4,
   "metadata": {},
   "outputs": [
    {
     "data": {
      "text/plain": [
       "Index(['id_seq', 'choice_bert_pred', 'choice_mnli_pred', 'few_shot_pred',\n",
       "       'task_form', 'human_response', 'has_conclusion', 'index_conclusion',\n",
       "       'choice_str', 'human_response_index', 'implicatur',\n",
       "       'best_bert_00_index', 'bert_00success', 'similarity_bert_00',\n",
       "       'best_bert_0999996_index', 'bert_0999996success',\n",
       "       'similarity_bert_0999996', 'best_bert_0999997_index',\n",
       "       'bert_0999997success', 'similarity_bert_0999997',\n",
       "       'best_bert_09999965_index', 'bert_09999965success',\n",
       "       'similarity_bert_09999965', 'best_bert_09999968_index',\n",
       "       'bert_09999968success', 'similarity_bert_09999968',\n",
       "       'best_bert_09999972_index', 'bert_09999972success',\n",
       "       'similarity_bert_09999972', 'best_bert_09999974_index',\n",
       "       'bert_09999974success', 'similarity_bert_09999974',\n",
       "       'best_mnli_00_index', 'mnli_00success', 'similarity_mnli_00',\n",
       "       'best_mnli_03_index', 'mnli_03success', 'similarity_mnli_03',\n",
       "       'best_mnli_05_index', 'mnli_05success', 'similarity_mnli_05',\n",
       "       'best_mnli_10_index', 'mnli_10success', 'similarity_mnli_10',\n",
       "       'best_mnli_20_index', 'mnli_20success', 'similarity_mnli_20',\n",
       "       'best_mnli_30_index', 'mnli_30success', 'similarity_mnli_30',\n",
       "       'best_mnli_40_index', 'mnli_40success', 'similarity_mnli_40',\n",
       "       'best_mnli_50_index', 'mnli_50success', 'similarity_mnli_50',\n",
       "       'best_mnli_60_index', 'mnli_60success', 'similarity_mnli_60',\n",
       "       'best_mnli_70_index', 'mnli_70success', 'similarity_mnli_70',\n",
       "       'best_mnli_80_index', 'mnli_80success', 'similarity_mnli_80',\n",
       "       'best_mnli_90_index', 'mnli_90success', 'similarity_mnli_90',\n",
       "       'best_mnli_3_options_index', 'mnli_3_optionssuccess',\n",
       "       'similarity_mnli_3_options', 'best_fewshot_index', 'fewshotsuccess',\n",
       "       'similarity_fewshot', 'succes_human'],\n",
       "      dtype='object')"
      ]
     },
     "execution_count": 4,
     "metadata": {},
     "output_type": "execute_result"
    }
   ],
   "source": [
    "df_final.columns"
   ]
  },
  {
   "cell_type": "code",
   "execution_count": 9,
   "metadata": {},
   "outputs": [],
   "source": [
    "column_to_keep = ['id_seq','task_form','has_conclusion', 'index_conclusion','implicatur','best_bert_00_index', 'bert_00success','best_mnli_00_index', 'mnli_00success']"
   ]
  },
  {
   "cell_type": "code",
   "execution_count": 10,
   "metadata": {},
   "outputs": [],
   "source": [
    "df_reduct = df_final[column_to_keep]"
   ]
  },
  {
   "cell_type": "code",
   "execution_count": 11,
   "metadata": {},
   "outputs": [
    {
     "data": {
      "text/plain": [
       "Index(['id_seq', 'task_form', 'has_conclusion', 'index_conclusion',\n",
       "       'implicatur', 'best_bert_00_index', 'bert_00success',\n",
       "       'best_mnli_00_index', 'mnli_00success'],\n",
       "      dtype='object')"
      ]
     },
     "execution_count": 11,
     "metadata": {},
     "output_type": "execute_result"
    }
   ],
   "source": [
    "df_reduct.columns"
   ]
  },
  {
   "cell_type": "markdown",
   "metadata": {},
   "source": [
    "## nlp_result"
   ]
  },
  {
   "cell_type": "code",
   "execution_count": 20,
   "metadata": {},
   "outputs": [],
   "source": [
    "nlp_result_columns = ['id_seq', 'task_form', 'best_bert_00_index', 'bert_00success',\n",
    "       'best_mnli_00_index', 'mnli_00success']"
   ]
  },
  {
   "cell_type": "code",
   "execution_count": 21,
   "metadata": {},
   "outputs": [
    {
     "data": {
      "text/plain": [
       "(6506, 6)"
      ]
     },
     "execution_count": 21,
     "metadata": {},
     "output_type": "execute_result"
    }
   ],
   "source": [
    "df_nlp_result = df_reduct[nlp_result_columns]\n",
    "df_nlp_result.shape"
   ]
  },
  {
   "cell_type": "code",
   "execution_count": 22,
   "metadata": {},
   "outputs": [],
   "source": [
    "df_nlp_result.to_csv(\"./article/data/nlp_result.csv\")"
   ]
  },
  {
   "cell_type": "markdown",
   "metadata": {},
   "source": [
    "## form data"
   ]
  },
  {
   "cell_type": "code",
   "execution_count": 15,
   "metadata": {},
   "outputs": [],
   "source": [
    "form_column = ['task_form','has_conclusion','index_conclusion','implicatur']\n",
    "df_form= df_reduct.drop_duplicates(subset=form_column)"
   ]
  },
  {
   "cell_type": "code",
   "execution_count": 16,
   "metadata": {},
   "outputs": [],
   "source": [
    "df_form = df_form[form_column]"
   ]
  },
  {
   "cell_type": "code",
   "execution_count": 18,
   "metadata": {},
   "outputs": [],
   "source": [
    "df_form.to_csv(\"./article/data/form_data.csv\")"
   ]
  },
  {
   "cell_type": "markdown",
   "metadata": {},
   "source": [
    "# Human response"
   ]
  },
  {
   "cell_type": "code",
   "execution_count": 23,
   "metadata": {},
   "outputs": [],
   "source": [
    "df_concat= pd.read_csv(\"../data/intermediate/df_concat.csv\")"
   ]
  },
  {
   "cell_type": "code",
   "execution_count": 25,
   "metadata": {},
   "outputs": [
    {
     "data": {
      "text/html": [
       "<div>\n",
       "<style scoped>\n",
       "    .dataframe tbody tr th:only-of-type {\n",
       "        vertical-align: middle;\n",
       "    }\n",
       "\n",
       "    .dataframe tbody tr th {\n",
       "        vertical-align: top;\n",
       "    }\n",
       "\n",
       "    .dataframe thead th {\n",
       "        text-align: right;\n",
       "    }\n",
       "</style>\n",
       "<table border=\"1\" class=\"dataframe\">\n",
       "  <thead>\n",
       "    <tr style=\"text-align: right;\">\n",
       "      <th></th>\n",
       "      <th>task</th>\n",
       "      <th>choices</th>\n",
       "      <th>response</th>\n",
       "      <th>response_type</th>\n",
       "      <th>domain</th>\n",
       "      <th>gender</th>\n",
       "      <th>age</th>\n",
       "      <th>id_seq</th>\n",
       "    </tr>\n",
       "  </thead>\n",
       "  <tbody>\n",
       "    <tr>\n",
       "      <th>0</th>\n",
       "      <td>Some;models;managers/All;models;clerks</td>\n",
       "      <td>All;managers;clerks|All;clerks;managers|Some;m...</td>\n",
       "      <td>Some;managers;clerks</td>\n",
       "      <td>single-choice</td>\n",
       "      <td>syllogistic</td>\n",
       "      <td>female</td>\n",
       "      <td>56</td>\n",
       "      <td>1_0_R</td>\n",
       "    </tr>\n",
       "    <tr>\n",
       "      <th>1</th>\n",
       "      <td>No;divers;carpenters/All;linguists;carpenters</td>\n",
       "      <td>All;divers;linguists|All;linguists;divers|Some...</td>\n",
       "      <td>No;divers;linguists</td>\n",
       "      <td>single-choice</td>\n",
       "      <td>syllogistic</td>\n",
       "      <td>female</td>\n",
       "      <td>56</td>\n",
       "      <td>1_1_R</td>\n",
       "    </tr>\n",
       "    <tr>\n",
       "      <th>2</th>\n",
       "      <td>All;therapists;climbers/Some;skaters;therapists</td>\n",
       "      <td>All;climbers;skaters|All;skaters;climbers|Some...</td>\n",
       "      <td>Some;skaters;climbers</td>\n",
       "      <td>single-choice</td>\n",
       "      <td>syllogistic</td>\n",
       "      <td>female</td>\n",
       "      <td>56</td>\n",
       "      <td>1_2_R</td>\n",
       "    </tr>\n",
       "    <tr>\n",
       "      <th>3</th>\n",
       "      <td>All;bankers;golfers/All;golfers;teachers</td>\n",
       "      <td>All;bankers;teachers|All;teachers;bankers|Some...</td>\n",
       "      <td>All;bankers;teachers</td>\n",
       "      <td>single-choice</td>\n",
       "      <td>syllogistic</td>\n",
       "      <td>female</td>\n",
       "      <td>56</td>\n",
       "      <td>1_3_R</td>\n",
       "    </tr>\n",
       "    <tr>\n",
       "      <th>4</th>\n",
       "      <td>Some not;boxers;opticians/All;boxers;actuaries</td>\n",
       "      <td>All;opticians;actuaries|All;actuaries;optician...</td>\n",
       "      <td>Some not;actuaries;opticians</td>\n",
       "      <td>single-choice</td>\n",
       "      <td>syllogistic</td>\n",
       "      <td>female</td>\n",
       "      <td>56</td>\n",
       "      <td>1_4_R</td>\n",
       "    </tr>\n",
       "  </tbody>\n",
       "</table>\n",
       "</div>"
      ],
      "text/plain": [
       "                                              task  \\\n",
       "0           Some;models;managers/All;models;clerks   \n",
       "1    No;divers;carpenters/All;linguists;carpenters   \n",
       "2  All;therapists;climbers/Some;skaters;therapists   \n",
       "3         All;bankers;golfers/All;golfers;teachers   \n",
       "4   Some not;boxers;opticians/All;boxers;actuaries   \n",
       "\n",
       "                                             choices  \\\n",
       "0  All;managers;clerks|All;clerks;managers|Some;m...   \n",
       "1  All;divers;linguists|All;linguists;divers|Some...   \n",
       "2  All;climbers;skaters|All;skaters;climbers|Some...   \n",
       "3  All;bankers;teachers|All;teachers;bankers|Some...   \n",
       "4  All;opticians;actuaries|All;actuaries;optician...   \n",
       "\n",
       "                       response  response_type       domain  gender  age  \\\n",
       "0          Some;managers;clerks  single-choice  syllogistic  female   56   \n",
       "1           No;divers;linguists  single-choice  syllogistic  female   56   \n",
       "2         Some;skaters;climbers  single-choice  syllogistic  female   56   \n",
       "3          All;bankers;teachers  single-choice  syllogistic  female   56   \n",
       "4  Some not;actuaries;opticians  single-choice  syllogistic  female   56   \n",
       "\n",
       "  id_seq  \n",
       "0  1_0_R  \n",
       "1  1_1_R  \n",
       "2  1_2_R  \n",
       "3  1_3_R  \n",
       "4  1_4_R  "
      ]
     },
     "execution_count": 25,
     "metadata": {},
     "output_type": "execute_result"
    }
   ],
   "source": [
    "df_concat.head()"
   ]
  },
  {
   "cell_type": "code",
   "execution_count": 27,
   "metadata": {},
   "outputs": [],
   "source": [
    "df_human = df_concat[['task', 'choices', 'response', 'id_seq']]\n"
   ]
  },
  {
   "cell_type": "code",
   "execution_count": 30,
   "metadata": {},
   "outputs": [],
   "source": [
    "df_human['sentenced'] = df_human.task.apply(lambda x : sy.Syllogism(x).sentenced)\n",
    "df_human['choice_str'] = df_human[[\"task\",\"choices\"]].apply(lambda x: sy.Syllogism(x[0]).choice_to_str(x[1]), axis=1)"
   ]
  },
  {
   "cell_type": "code",
   "execution_count": 31,
   "metadata": {},
   "outputs": [],
   "source": [
    "df_human['task_form'] = df_human.task.apply(lambda x : sy.Syllogism(x).full_form)\n",
    "df_human['human_response'] = df_human[[\"task\",\"response\"]].apply(lambda x: sy.Syllogism(x[0]).evaluate_conclusion(x[1]), axis=1)\n",
    "df_human['human_response_index'] = df_human.human_response.apply(lambda x : choice_form.index(x[0]))"
   ]
  },
  {
   "cell_type": "code",
   "execution_count": 33,
   "metadata": {},
   "outputs": [],
   "source": [
    "human_columns = [\"id_seq\",\t\"sentenced\",\t\"task_form\", \"human_response_index\"]\n",
    "df_human_final = df_human[human_columns]"
   ]
  },
  {
   "cell_type": "code",
   "execution_count": 34,
   "metadata": {},
   "outputs": [
    {
     "data": {
      "text/html": [
       "<div>\n",
       "<style scoped>\n",
       "    .dataframe tbody tr th:only-of-type {\n",
       "        vertical-align: middle;\n",
       "    }\n",
       "\n",
       "    .dataframe tbody tr th {\n",
       "        vertical-align: top;\n",
       "    }\n",
       "\n",
       "    .dataframe thead th {\n",
       "        text-align: right;\n",
       "    }\n",
       "</style>\n",
       "<table border=\"1\" class=\"dataframe\">\n",
       "  <thead>\n",
       "    <tr style=\"text-align: right;\">\n",
       "      <th></th>\n",
       "      <th>id_seq</th>\n",
       "      <th>sentenced</th>\n",
       "      <th>task_form</th>\n",
       "      <th>human_response_index</th>\n",
       "    </tr>\n",
       "  </thead>\n",
       "  <tbody>\n",
       "    <tr>\n",
       "      <th>0</th>\n",
       "      <td>1_0_R</td>\n",
       "      <td>Some models are managers and All models are cl...</td>\n",
       "      <td>IA4</td>\n",
       "      <td>2</td>\n",
       "    </tr>\n",
       "    <tr>\n",
       "      <th>1</th>\n",
       "      <td>1_1_R</td>\n",
       "      <td>No divers are carpenters and All linguists are...</td>\n",
       "      <td>EA3</td>\n",
       "      <td>6</td>\n",
       "    </tr>\n",
       "    <tr>\n",
       "      <th>2</th>\n",
       "      <td>1_2_R</td>\n",
       "      <td>All therapists are climbers and Some skaters a...</td>\n",
       "      <td>AI2</td>\n",
       "      <td>3</td>\n",
       "    </tr>\n",
       "    <tr>\n",
       "      <th>3</th>\n",
       "      <td>1_3_R</td>\n",
       "      <td>All bankers are golfers and All golfers are te...</td>\n",
       "      <td>AA1</td>\n",
       "      <td>0</td>\n",
       "    </tr>\n",
       "    <tr>\n",
       "      <th>4</th>\n",
       "      <td>1_4_R</td>\n",
       "      <td>Some boxers are not opticians and All boxers a...</td>\n",
       "      <td>OA4</td>\n",
       "      <td>5</td>\n",
       "    </tr>\n",
       "  </tbody>\n",
       "</table>\n",
       "</div>"
      ],
      "text/plain": [
       "  id_seq                                          sentenced task_form  \\\n",
       "0  1_0_R  Some models are managers and All models are cl...       IA4   \n",
       "1  1_1_R  No divers are carpenters and All linguists are...       EA3   \n",
       "2  1_2_R  All therapists are climbers and Some skaters a...       AI2   \n",
       "3  1_3_R  All bankers are golfers and All golfers are te...       AA1   \n",
       "4  1_4_R  Some boxers are not opticians and All boxers a...       OA4   \n",
       "\n",
       "   human_response_index  \n",
       "0                     2  \n",
       "1                     6  \n",
       "2                     3  \n",
       "3                     0  \n",
       "4                     5  "
      ]
     },
     "execution_count": 34,
     "metadata": {},
     "output_type": "execute_result"
    }
   ],
   "source": [
    "df_human_final.head()"
   ]
  },
  {
   "cell_type": "code",
   "execution_count": 35,
   "metadata": {},
   "outputs": [
    {
     "data": {
      "text/plain": [
       "(10954, 4)"
      ]
     },
     "execution_count": 35,
     "metadata": {},
     "output_type": "execute_result"
    }
   ],
   "source": [
    "df_human_final.shape"
   ]
  },
  {
   "cell_type": "code",
   "execution_count": null,
   "metadata": {},
   "outputs": [],
   "source": [
    "df_human_final.to_csv(\"./article/data/human_data.csv\", index=False)"
   ]
  }
 ],
 "metadata": {
  "kernelspec": {
   "display_name": "Python 3.9.12 ('env': venv)",
   "language": "python",
   "name": "python3"
  },
  "language_info": {
   "codemirror_mode": {
    "name": "ipython",
    "version": 3
   },
   "file_extension": ".py",
   "mimetype": "text/x-python",
   "name": "python",
   "nbconvert_exporter": "python",
   "pygments_lexer": "ipython3",
   "version": "3.9.12"
  },
  "orig_nbformat": 4,
  "vscode": {
   "interpreter": {
    "hash": "dddc4829cdb8a95c4dcd99a91d3cecc91af3578de6eb6a763a56b0c106b3b01d"
   }
  }
 },
 "nbformat": 4,
 "nbformat_minor": 2
}
