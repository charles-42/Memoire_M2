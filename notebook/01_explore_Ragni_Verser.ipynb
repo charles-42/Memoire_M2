{
 "cells": [
  {
   "cell_type": "code",
   "execution_count": 1,
   "metadata": {},
   "outputs": [],
   "source": [
    "import pandas as pd"
   ]
  },
  {
   "cell_type": "code",
   "execution_count": 2,
   "metadata": {},
   "outputs": [],
   "source": [
    "df1 = pd.read_csv(\"../data/ressources/Ragni2016.csv\")\n",
    "df2 = pd.read_csv(\"../data/ressources/Veser2018.csv\")"
   ]
  },
  {
   "cell_type": "markdown",
   "metadata": {},
   "source": [
    "## Analyse de la base Ragni 2016"
   ]
  },
  {
   "cell_type": "code",
   "execution_count": 2,
   "metadata": {},
   "outputs": [
    {
     "data": {
      "text/html": [
       "<div>\n",
       "<style scoped>\n",
       "    .dataframe tbody tr th:only-of-type {\n",
       "        vertical-align: middle;\n",
       "    }\n",
       "\n",
       "    .dataframe tbody tr th {\n",
       "        vertical-align: top;\n",
       "    }\n",
       "\n",
       "    .dataframe thead th {\n",
       "        text-align: right;\n",
       "    }\n",
       "</style>\n",
       "<table border=\"1\" class=\"dataframe\">\n",
       "  <thead>\n",
       "    <tr style=\"text-align: right;\">\n",
       "      <th></th>\n",
       "      <th>id</th>\n",
       "      <th>sequence</th>\n",
       "      <th>task</th>\n",
       "      <th>choices</th>\n",
       "      <th>response</th>\n",
       "      <th>response_type</th>\n",
       "      <th>domain</th>\n",
       "      <th>gender</th>\n",
       "      <th>age</th>\n",
       "    </tr>\n",
       "  </thead>\n",
       "  <tbody>\n",
       "    <tr>\n",
       "      <th>0</th>\n",
       "      <td>1</td>\n",
       "      <td>0</td>\n",
       "      <td>Some;models;managers/All;models;clerks</td>\n",
       "      <td>All;managers;clerks|All;clerks;managers|Some;m...</td>\n",
       "      <td>Some;managers;clerks</td>\n",
       "      <td>single-choice</td>\n",
       "      <td>syllogistic</td>\n",
       "      <td>female</td>\n",
       "      <td>56</td>\n",
       "    </tr>\n",
       "    <tr>\n",
       "      <th>1</th>\n",
       "      <td>1</td>\n",
       "      <td>1</td>\n",
       "      <td>No;divers;carpenters/All;linguists;carpenters</td>\n",
       "      <td>All;divers;linguists|All;linguists;divers|Some...</td>\n",
       "      <td>No;divers;linguists</td>\n",
       "      <td>single-choice</td>\n",
       "      <td>syllogistic</td>\n",
       "      <td>female</td>\n",
       "      <td>56</td>\n",
       "    </tr>\n",
       "    <tr>\n",
       "      <th>2</th>\n",
       "      <td>1</td>\n",
       "      <td>2</td>\n",
       "      <td>All;therapists;climbers/Some;skaters;therapists</td>\n",
       "      <td>All;climbers;skaters|All;skaters;climbers|Some...</td>\n",
       "      <td>Some;skaters;climbers</td>\n",
       "      <td>single-choice</td>\n",
       "      <td>syllogistic</td>\n",
       "      <td>female</td>\n",
       "      <td>56</td>\n",
       "    </tr>\n",
       "    <tr>\n",
       "      <th>3</th>\n",
       "      <td>1</td>\n",
       "      <td>3</td>\n",
       "      <td>All;bankers;golfers/All;golfers;teachers</td>\n",
       "      <td>All;bankers;teachers|All;teachers;bankers|Some...</td>\n",
       "      <td>All;bankers;teachers</td>\n",
       "      <td>single-choice</td>\n",
       "      <td>syllogistic</td>\n",
       "      <td>female</td>\n",
       "      <td>56</td>\n",
       "    </tr>\n",
       "    <tr>\n",
       "      <th>4</th>\n",
       "      <td>1</td>\n",
       "      <td>4</td>\n",
       "      <td>Some not;boxers;opticians/All;boxers;actuaries</td>\n",
       "      <td>All;opticians;actuaries|All;actuaries;optician...</td>\n",
       "      <td>Some not;actuaries;opticians</td>\n",
       "      <td>single-choice</td>\n",
       "      <td>syllogistic</td>\n",
       "      <td>female</td>\n",
       "      <td>56</td>\n",
       "    </tr>\n",
       "  </tbody>\n",
       "</table>\n",
       "</div>"
      ],
      "text/plain": [
       "   id  sequence                                             task  \\\n",
       "0   1         0           Some;models;managers/All;models;clerks   \n",
       "1   1         1    No;divers;carpenters/All;linguists;carpenters   \n",
       "2   1         2  All;therapists;climbers/Some;skaters;therapists   \n",
       "3   1         3         All;bankers;golfers/All;golfers;teachers   \n",
       "4   1         4   Some not;boxers;opticians/All;boxers;actuaries   \n",
       "\n",
       "                                             choices  \\\n",
       "0  All;managers;clerks|All;clerks;managers|Some;m...   \n",
       "1  All;divers;linguists|All;linguists;divers|Some...   \n",
       "2  All;climbers;skaters|All;skaters;climbers|Some...   \n",
       "3  All;bankers;teachers|All;teachers;bankers|Some...   \n",
       "4  All;opticians;actuaries|All;actuaries;optician...   \n",
       "\n",
       "                       response  response_type       domain  gender  age  \n",
       "0          Some;managers;clerks  single-choice  syllogistic  female   56  \n",
       "1           No;divers;linguists  single-choice  syllogistic  female   56  \n",
       "2         Some;skaters;climbers  single-choice  syllogistic  female   56  \n",
       "3          All;bankers;teachers  single-choice  syllogistic  female   56  \n",
       "4  Some not;actuaries;opticians  single-choice  syllogistic  female   56  "
      ]
     },
     "execution_count": 2,
     "metadata": {},
     "output_type": "execute_result"
    }
   ],
   "source": [
    "df1.head()"
   ]
  },
  {
   "cell_type": "markdown",
   "metadata": {},
   "source": [
    "La base de données comporte les données suivantes:\n",
    "- id: l'id du participant\n",
    "- sequence: un id pour chaque type de syllogisme donnée à chaque participant\n",
    "- task: les deux premisses du syllogisme proposé\n",
    "- choices: les 8 réponses proposées (dont NVC : no valid conclusion)\n",
    "- response: la réponse du participant\n",
    "- gender, age : informations sur le participant\n",
    "- response_type, domain: varibles contantes"
   ]
  },
  {
   "cell_type": "code",
   "execution_count": 26,
   "metadata": {},
   "outputs": [
    {
     "data": {
      "text/plain": [
       "(8896, 16)"
      ]
     },
     "execution_count": 26,
     "metadata": {},
     "output_type": "execute_result"
    }
   ],
   "source": [
    "df1.shape\n",
    "# Le jeu contient 8896 lignes, c-a-d 8896 syllogismes ont été soumis"
   ]
  },
  {
   "cell_type": "code",
   "execution_count": 28,
   "metadata": {},
   "outputs": [
    {
     "data": {
      "text/plain": [
       "139"
      ]
     },
     "execution_count": 28,
     "metadata": {},
     "output_type": "execute_result"
    }
   ],
   "source": [
    "len(pd.unique(df1[\"id\"]))\n",
    "# Il y a 139 participants différents, chacun on été soumis à 64 syllogism, 1 par forme."
   ]
  },
  {
   "cell_type": "code",
   "execution_count": 30,
   "metadata": {},
   "outputs": [
    {
     "data": {
      "text/plain": [
       "6327"
      ]
     },
     "execution_count": 30,
     "metadata": {},
     "output_type": "execute_result"
    }
   ],
   "source": [
    "len(pd.unique(df1[\"task\"]))\n",
    "# Certains syllogismes ont été proposés plusieurs fois, en tout 6327 syllogisms différents ont été soumis."
   ]
  },
  {
   "cell_type": "code",
   "execution_count": 32,
   "metadata": {},
   "outputs": [
    {
     "name": "stdout",
     "output_type": "stream",
     "text": [
      "6\n"
     ]
    }
   ],
   "source": [
    "print(df1[\"task\"].value_counts().max())\n",
    "# Au maximum, un même syllogisme a été proposé 6 fois"
   ]
  },
  {
   "cell_type": "markdown",
   "metadata": {},
   "source": [
    "## Analyse de la base Veser 2018"
   ]
  },
  {
   "cell_type": "code",
   "execution_count": 33,
   "metadata": {},
   "outputs": [
    {
     "data": {
      "text/html": [
       "<div>\n",
       "<style scoped>\n",
       "    .dataframe tbody tr th:only-of-type {\n",
       "        vertical-align: middle;\n",
       "    }\n",
       "\n",
       "    .dataframe tbody tr th {\n",
       "        vertical-align: top;\n",
       "    }\n",
       "\n",
       "    .dataframe thead th {\n",
       "        text-align: right;\n",
       "    }\n",
       "</style>\n",
       "<table border=\"1\" class=\"dataframe\">\n",
       "  <thead>\n",
       "    <tr style=\"text-align: right;\">\n",
       "      <th></th>\n",
       "      <th>id</th>\n",
       "      <th>sequence</th>\n",
       "      <th>task</th>\n",
       "      <th>choices</th>\n",
       "      <th>response</th>\n",
       "      <th>response_type</th>\n",
       "      <th>domain</th>\n",
       "      <th>gender</th>\n",
       "      <th>age</th>\n",
       "    </tr>\n",
       "  </thead>\n",
       "  <tbody>\n",
       "    <tr>\n",
       "      <th>0</th>\n",
       "      <td>0</td>\n",
       "      <td>0</td>\n",
       "      <td>Some;gamblers;bakers/Some not;sculptors;bakers</td>\n",
       "      <td>All;gamblers;sculptors|All;sculptors;gamblers|...</td>\n",
       "      <td>NVC</td>\n",
       "      <td>single-choice</td>\n",
       "      <td>syllogistic</td>\n",
       "      <td>female</td>\n",
       "      <td>24</td>\n",
       "    </tr>\n",
       "    <tr>\n",
       "      <th>1</th>\n",
       "      <td>0</td>\n",
       "      <td>1</td>\n",
       "      <td>Some not;surfers;artists/All;planners;artists</td>\n",
       "      <td>All;surfers;planners|All;planners;surfers|Some...</td>\n",
       "      <td>Some not;planners;surfers</td>\n",
       "      <td>single-choice</td>\n",
       "      <td>syllogistic</td>\n",
       "      <td>female</td>\n",
       "      <td>24</td>\n",
       "    </tr>\n",
       "    <tr>\n",
       "      <th>2</th>\n",
       "      <td>0</td>\n",
       "      <td>2</td>\n",
       "      <td>All;carpenters;divers/All;linguists;divers</td>\n",
       "      <td>All;carpenters;linguists|All;linguists;carpent...</td>\n",
       "      <td>Some not;carpenters;linguists</td>\n",
       "      <td>single-choice</td>\n",
       "      <td>syllogistic</td>\n",
       "      <td>female</td>\n",
       "      <td>24</td>\n",
       "    </tr>\n",
       "    <tr>\n",
       "      <th>3</th>\n",
       "      <td>0</td>\n",
       "      <td>3</td>\n",
       "      <td>All;painters;cleaners/Some not;auditors;painters</td>\n",
       "      <td>All;cleaners;auditors|All;auditors;cleaners|So...</td>\n",
       "      <td>Some;auditors;cleaners</td>\n",
       "      <td>single-choice</td>\n",
       "      <td>syllogistic</td>\n",
       "      <td>female</td>\n",
       "      <td>24</td>\n",
       "    </tr>\n",
       "    <tr>\n",
       "      <th>4</th>\n",
       "      <td>0</td>\n",
       "      <td>4</td>\n",
       "      <td>No;engineers;fencers/All;campers;fencers</td>\n",
       "      <td>All;engineers;campers|All;campers;engineers|So...</td>\n",
       "      <td>No;engineers;campers</td>\n",
       "      <td>single-choice</td>\n",
       "      <td>syllogistic</td>\n",
       "      <td>female</td>\n",
       "      <td>24</td>\n",
       "    </tr>\n",
       "  </tbody>\n",
       "</table>\n",
       "</div>"
      ],
      "text/plain": [
       "   id  sequence                                              task  \\\n",
       "0   0         0    Some;gamblers;bakers/Some not;sculptors;bakers   \n",
       "1   0         1     Some not;surfers;artists/All;planners;artists   \n",
       "2   0         2        All;carpenters;divers/All;linguists;divers   \n",
       "3   0         3  All;painters;cleaners/Some not;auditors;painters   \n",
       "4   0         4          No;engineers;fencers/All;campers;fencers   \n",
       "\n",
       "                                             choices  \\\n",
       "0  All;gamblers;sculptors|All;sculptors;gamblers|...   \n",
       "1  All;surfers;planners|All;planners;surfers|Some...   \n",
       "2  All;carpenters;linguists|All;linguists;carpent...   \n",
       "3  All;cleaners;auditors|All;auditors;cleaners|So...   \n",
       "4  All;engineers;campers|All;campers;engineers|So...   \n",
       "\n",
       "                        response  response_type       domain  gender  age  \n",
       "0                            NVC  single-choice  syllogistic  female   24  \n",
       "1      Some not;planners;surfers  single-choice  syllogistic  female   24  \n",
       "2  Some not;carpenters;linguists  single-choice  syllogistic  female   24  \n",
       "3         Some;auditors;cleaners  single-choice  syllogistic  female   24  \n",
       "4           No;engineers;campers  single-choice  syllogistic  female   24  "
      ]
     },
     "execution_count": 33,
     "metadata": {},
     "output_type": "execute_result"
    }
   ],
   "source": [
    "df2.head()"
   ]
  },
  {
   "cell_type": "markdown",
   "metadata": {},
   "source": [
    "Le jeu comporte les mêmes colonnes"
   ]
  },
  {
   "cell_type": "code",
   "execution_count": 34,
   "metadata": {},
   "outputs": [
    {
     "data": {
      "text/plain": [
       "(2058, 9)"
      ]
     },
     "execution_count": 34,
     "metadata": {},
     "output_type": "execute_result"
    }
   ],
   "source": [
    "df2.shape\n",
    "# Le jeu contient 2058 ligne, c-a-d 2058 syllogismes ont été soumis"
   ]
  },
  {
   "cell_type": "code",
   "execution_count": 35,
   "metadata": {},
   "outputs": [
    {
     "data": {
      "text/plain": [
       "34"
      ]
     },
     "execution_count": 35,
     "metadata": {},
     "output_type": "execute_result"
    }
   ],
   "source": [
    "len(pd.unique(df2[\"id\"]))\n",
    "# Il y a 34 participants, chacun on été soumis à 64 syllogism, 1 par forme."
   ]
  },
  {
   "cell_type": "code",
   "execution_count": 36,
   "metadata": {},
   "outputs": [
    {
     "data": {
      "text/plain": [
       "383"
      ]
     },
     "execution_count": 36,
     "metadata": {},
     "output_type": "execute_result"
    }
   ],
   "source": [
    "len(pd.unique(df2[\"task\"]))\n",
    "# Certains syllogismes ont été proposés plusieurs fois, en tout 383 syllogisms différents ont été soumis."
   ]
  },
  {
   "cell_type": "code",
   "execution_count": 37,
   "metadata": {},
   "outputs": [
    {
     "name": "stdout",
     "output_type": "stream",
     "text": [
      "12\n"
     ]
    }
   ],
   "source": [
    "print(df2[\"task\"].value_counts().max())\n",
    "# Au maximum, un même syllogisme a été proposé 12 fois"
   ]
  }
 ],
 "metadata": {
  "kernelspec": {
   "display_name": "Python 3.9.12 ('env': venv)",
   "language": "python",
   "name": "python3"
  },
  "language_info": {
   "codemirror_mode": {
    "name": "ipython",
    "version": 3
   },
   "file_extension": ".py",
   "mimetype": "text/x-python",
   "name": "python",
   "nbconvert_exporter": "python",
   "pygments_lexer": "ipython3",
   "version": "3.9.12"
  },
  "vscode": {
   "interpreter": {
    "hash": "dddc4829cdb8a95c4dcd99a91d3cecc91af3578de6eb6a763a56b0c106b3b01d"
   }
  }
 },
 "nbformat": 4,
 "nbformat_minor": 4
}
