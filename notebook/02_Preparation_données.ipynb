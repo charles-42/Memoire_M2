{
 "cells": [
  {
   "cell_type": "code",
   "execution_count": 1,
   "metadata": {},
   "outputs": [],
   "source": [
    "import pandas as pd\n",
    "# package contenant la classe Syllogisme définie dans le cadre du projet \n",
    "# qui permet de manipuler les syllogismes et les formats des bdd.\n",
    "import syllogism as sy \n",
    "\n",
    "from utils import table_de_verite, choice_form, implicatur"
   ]
  },
  {
   "cell_type": "code",
   "execution_count": 2,
   "metadata": {},
   "outputs": [],
   "source": [
    "###----------- Import des bases\n",
    "\n",
    "df1 = pd.read_csv(\"../data/ressources/Ragni2016.csv\")\n",
    "df2 = pd.read_csv(\"../data/ressources/Veser2018.csv\")"
   ]
  },
  {
   "cell_type": "code",
   "execution_count": 3,
   "metadata": {},
   "outputs": [
    {
     "name": "stderr",
     "output_type": "stream",
     "text": [
      "/var/folders/py/4rt338cj1ks4z3332m7l3f880000gp/T/ipykernel_96995/1922962863.py:18: SettingWithCopyWarning: \n",
      "A value is trying to be set on a copy of a slice from a DataFrame.\n",
      "Try using .loc[row_indexer,col_indexer] = value instead\n",
      "\n",
      "See the caveats in the documentation: https://pandas.pydata.org/pandas-docs/stable/user_guide/indexing.html#returning-a-view-versus-a-copy\n",
      "  df_drop['sentenced'] = df_drop.task.apply(lambda x : sy.Syllogism(x).sentenced)\n"
     ]
    },
    {
     "name": "stdout",
     "output_type": "stream",
     "text": [
      "(6506, 3)\n"
     ]
    },
    {
     "name": "stderr",
     "output_type": "stream",
     "text": [
      "/var/folders/py/4rt338cj1ks4z3332m7l3f880000gp/T/ipykernel_96995/1922962863.py:19: SettingWithCopyWarning: \n",
      "A value is trying to be set on a copy of a slice from a DataFrame.\n",
      "Try using .loc[row_indexer,col_indexer] = value instead\n",
      "\n",
      "See the caveats in the documentation: https://pandas.pydata.org/pandas-docs/stable/user_guide/indexing.html#returning-a-view-versus-a-copy\n",
      "  df_drop['choice_str'] = df_drop[[\"task\",\"choices\"]].apply(lambda x: sy.Syllogism(x[0]).choice_to_str(x[1]), axis=1)\n"
     ]
    }
   ],
   "source": [
    "###----------- Preparation des données en vue de l'analyse\n",
    "\n",
    "#########----- Création de l'id unique regroupant id et sequence\n",
    "df1 = df1.assign(id_seq=lambda df: df1.id.apply(str).str.cat(df1.sequence.apply(str),sep=\"_\") + \"_R\")\n",
    "df2 = df2.assign(id_seq=lambda df: df2.id.apply(str).str.cat(df2.sequence.apply(str),sep=\"_\") + \"_V\")\n",
    "\n",
    "\n",
    "#########----- Concaténation des deux tables\n",
    "\n",
    "df_concat = pd.concat([df1,df2])\n",
    "df_concat = df_concat.drop(['id', 'sequence'], axis=1)\n",
    "\n",
    "#########----- Pour ne pas entrainer deux fois un même syllogisme, on supprimer les doublons\n",
    "df_drop = df_concat.drop_duplicates(subset=['task','choices'])\n",
    "\n",
    "\n",
    "#########----- Transformation des données en phrases valides:\n",
    "df_drop['sentenced'] = df_drop.task.apply(lambda x : sy.Syllogism(x).sentenced)\n",
    "df_drop['choice_str'] = df_drop[[\"task\",\"choices\"]].apply(lambda x: sy.Syllogism(x[0]).choice_to_str(x[1]), axis=1)\n",
    "\n",
    "#########----- Selection des colonnes\n",
    "df_to_train = df_drop[[\"id_seq\",\"sentenced\",\"choice_str\"]]\n",
    "\n",
    "print(df_to_train.shape)\n",
    "#########----- enregristement de la base préparée\n",
    "#df_to_train.to_csv(\"./data/intermediate/df_to_train.csv\" ,index=False)"
   ]
  },
  {
   "cell_type": "code",
   "execution_count": 4,
   "metadata": {},
   "outputs": [
    {
     "name": "stderr",
     "output_type": "stream",
     "text": [
      "/var/folders/py/4rt338cj1ks4z3332m7l3f880000gp/T/ipykernel_96995/3989021166.py:2: SettingWithCopyWarning: \n",
      "A value is trying to be set on a copy of a slice from a DataFrame.\n",
      "Try using .loc[row_indexer,col_indexer] = value instead\n",
      "\n",
      "See the caveats in the documentation: https://pandas.pydata.org/pandas-docs/stable/user_guide/indexing.html#returning-a-view-versus-a-copy\n",
      "  df_drop['task_form'] = df_drop.task.apply(lambda x : sy.Syllogism(x).full_form)\n",
      "/var/folders/py/4rt338cj1ks4z3332m7l3f880000gp/T/ipykernel_96995/3989021166.py:3: SettingWithCopyWarning: \n",
      "A value is trying to be set on a copy of a slice from a DataFrame.\n",
      "Try using .loc[row_indexer,col_indexer] = value instead\n",
      "\n",
      "See the caveats in the documentation: https://pandas.pydata.org/pandas-docs/stable/user_guide/indexing.html#returning-a-view-versus-a-copy\n",
      "  df_drop['human_response'] = df_drop[[\"task\",\"response\"]].apply(lambda x: sy.Syllogism(x[0]).evaluate_conclusion(x[1]), axis=1)\n",
      "/var/folders/py/4rt338cj1ks4z3332m7l3f880000gp/T/ipykernel_96995/3989021166.py:4: SettingWithCopyWarning: \n",
      "A value is trying to be set on a copy of a slice from a DataFrame.\n",
      "Try using .loc[row_indexer,col_indexer] = value instead\n",
      "\n",
      "See the caveats in the documentation: https://pandas.pydata.org/pandas-docs/stable/user_guide/indexing.html#returning-a-view-versus-a-copy\n",
      "  df_drop['has_conclusion'] = df_drop.task.apply(lambda x : sy.Syllogism(x).has_conclusion)\n"
     ]
    }
   ],
   "source": [
    "# ###----------- Création de la base de données pour l'analyse des résultats\n",
    "df_drop['task_form'] = df_drop.task.apply(lambda x : sy.Syllogism(x).full_form)\n",
    "df_drop['human_response'] = df_drop[[\"task\",\"response\"]].apply(lambda x: sy.Syllogism(x[0]).evaluate_conclusion(x[1]), axis=1)\n",
    "df_drop['has_conclusion'] = df_drop.task.apply(lambda x : sy.Syllogism(x).has_conclusion)"
   ]
  },
  {
   "cell_type": "code",
   "execution_count": 5,
   "metadata": {},
   "outputs": [
    {
     "name": "stderr",
     "output_type": "stream",
     "text": [
      "/var/folders/py/4rt338cj1ks4z3332m7l3f880000gp/T/ipykernel_96995/1662319904.py:15: SettingWithCopyWarning: \n",
      "A value is trying to be set on a copy of a slice from a DataFrame.\n",
      "Try using .loc[row_indexer,col_indexer] = value instead\n",
      "\n",
      "See the caveats in the documentation: https://pandas.pydata.org/pandas-docs/stable/user_guide/indexing.html#returning-a-view-versus-a-copy\n",
      "  df_drop['index_conclusion'] = df_drop.task_form.apply(lambda x : index_conclusion(x))\n"
     ]
    }
   ],
   "source": [
    "def index_conclusion(task_form):\n",
    "    \n",
    "    index_ccl_list=[]\n",
    "    # on parcourt les réponses possibles\n",
    "    for i in choice_form:\n",
    "        # on parcourt les bonnes réponses\n",
    "        for ccl in table_de_verite[task_form]:\n",
    "            if ccl == \"NVC\":\n",
    "                return [8]\n",
    "            elif i == ccl:\n",
    "                index_ccl_list.append(choice_form.index(i))\n",
    "    \n",
    "    return index_ccl_list\n",
    "\n",
    "df_drop['index_conclusion'] = df_drop.task_form.apply(lambda x : index_conclusion(x))\n"
   ]
  },
  {
   "cell_type": "code",
   "execution_count": 6,
   "metadata": {},
   "outputs": [
    {
     "data": {
      "text/html": [
       "<div>\n",
       "<style scoped>\n",
       "    .dataframe tbody tr th:only-of-type {\n",
       "        vertical-align: middle;\n",
       "    }\n",
       "\n",
       "    .dataframe tbody tr th {\n",
       "        vertical-align: top;\n",
       "    }\n",
       "\n",
       "    .dataframe thead th {\n",
       "        text-align: right;\n",
       "    }\n",
       "</style>\n",
       "<table border=\"1\" class=\"dataframe\">\n",
       "  <thead>\n",
       "    <tr style=\"text-align: right;\">\n",
       "      <th></th>\n",
       "      <th>id_seq</th>\n",
       "      <th>task_form</th>\n",
       "      <th>human_response</th>\n",
       "      <th>has_conclusion</th>\n",
       "      <th>index_conclusion</th>\n",
       "      <th>choice_str</th>\n",
       "    </tr>\n",
       "  </thead>\n",
       "  <tbody>\n",
       "    <tr>\n",
       "      <th>0</th>\n",
       "      <td>1_0_R</td>\n",
       "      <td>IA4</td>\n",
       "      <td>(Iac, True)</td>\n",
       "      <td>True</td>\n",
       "      <td>[2, 5]</td>\n",
       "      <td>[All managers are clerks, All clerks are manag...</td>\n",
       "    </tr>\n",
       "    <tr>\n",
       "      <th>1</th>\n",
       "      <td>1_1_R</td>\n",
       "      <td>EA3</td>\n",
       "      <td>(Eac, True)</td>\n",
       "      <td>True</td>\n",
       "      <td>[4, 5, 6, 7]</td>\n",
       "      <td>[All divers are linguists, All linguists are d...</td>\n",
       "    </tr>\n",
       "    <tr>\n",
       "      <th>2</th>\n",
       "      <td>1_2_R</td>\n",
       "      <td>AI2</td>\n",
       "      <td>(Ica, True)</td>\n",
       "      <td>True</td>\n",
       "      <td>[2, 3]</td>\n",
       "      <td>[All climbers are skaters, All skaters are cli...</td>\n",
       "    </tr>\n",
       "    <tr>\n",
       "      <th>3</th>\n",
       "      <td>1_3_R</td>\n",
       "      <td>AA1</td>\n",
       "      <td>(Aac, True)</td>\n",
       "      <td>True</td>\n",
       "      <td>[0, 2, 3]</td>\n",
       "      <td>[All bankers are teachers, All teachers are ba...</td>\n",
       "    </tr>\n",
       "    <tr>\n",
       "      <th>4</th>\n",
       "      <td>1_4_R</td>\n",
       "      <td>OA4</td>\n",
       "      <td>(Oca, True)</td>\n",
       "      <td>True</td>\n",
       "      <td>[5]</td>\n",
       "      <td>[All opticians are actuaries, All actuaries ar...</td>\n",
       "    </tr>\n",
       "  </tbody>\n",
       "</table>\n",
       "</div>"
      ],
      "text/plain": [
       "  id_seq task_form human_response  has_conclusion index_conclusion  \\\n",
       "0  1_0_R       IA4    (Iac, True)            True           [2, 5]   \n",
       "1  1_1_R       EA3    (Eac, True)            True     [4, 5, 6, 7]   \n",
       "2  1_2_R       AI2    (Ica, True)            True           [2, 3]   \n",
       "3  1_3_R       AA1    (Aac, True)            True        [0, 2, 3]   \n",
       "4  1_4_R       OA4    (Oca, True)            True              [5]   \n",
       "\n",
       "                                          choice_str  \n",
       "0  [All managers are clerks, All clerks are manag...  \n",
       "1  [All divers are linguists, All linguists are d...  \n",
       "2  [All climbers are skaters, All skaters are cli...  \n",
       "3  [All bankers are teachers, All teachers are ba...  \n",
       "4  [All opticians are actuaries, All actuaries ar...  "
      ]
     },
     "execution_count": 6,
     "metadata": {},
     "output_type": "execute_result"
    }
   ],
   "source": [
    "df_drop = df_drop[[\"id_seq\", \"task_form\",\"human_response\",\"has_conclusion\",\"index_conclusion\",\"choice_str\"]]\n",
    "df_drop.head()"
   ]
  },
  {
   "cell_type": "code",
   "execution_count": 8,
   "metadata": {},
   "outputs": [],
   "source": [
    "df_drop['implicatur'] = df_drop.task_form.apply(lambda x : True if x in implicatur else False)"
   ]
  },
  {
   "cell_type": "code",
   "execution_count": 13,
   "metadata": {},
   "outputs": [],
   "source": [
    "df_drop.to_csv(\"../data/intermediate/df_conclusion.csv\" ,index=False)"
   ]
  }
 ],
 "metadata": {
  "interpreter": {
   "hash": "dddc4829cdb8a95c4dcd99a91d3cecc91af3578de6eb6a763a56b0c106b3b01d"
  },
  "kernelspec": {
   "display_name": "Python 3.9.9 ('env': venv)",
   "language": "python",
   "name": "python3"
  },
  "language_info": {
   "codemirror_mode": {
    "name": "ipython",
    "version": 3
   },
   "file_extension": ".py",
   "mimetype": "text/x-python",
   "name": "python",
   "nbconvert_exporter": "python",
   "pygments_lexer": "ipython3",
   "version": "3.9.9"
  },
  "orig_nbformat": 4
 },
 "nbformat": 4,
 "nbformat_minor": 2
}
