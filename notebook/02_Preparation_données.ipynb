{
 "cells": [
  {
   "cell_type": "code",
   "execution_count": 1,
   "metadata": {},
   "outputs": [],
   "source": [
    "import pandas as pd\n",
    "# package contenant la classe Syllogisme définie dans le cadre du projet \n",
    "# qui permet de manipuler les syllogismes et les formats des bdd.\n",
    "import syllogism as sy \n",
    "\n",
    "from utils import table_de_verite, choice_form, implicatur\n",
    "\n"
   ]
  },
  {
   "cell_type": "code",
   "execution_count": 2,
   "metadata": {},
   "outputs": [],
   "source": [
    "###----------- Import des bases\n",
    "\n",
    "df1 = pd.read_csv(\"../data/ressources/Ragni2016.csv\")\n",
    "df2 = pd.read_csv(\"../data/ressources/Veser2018.csv\")"
   ]
  },
  {
   "cell_type": "code",
   "execution_count": 6,
   "metadata": {},
   "outputs": [
    {
     "name": "stdout",
     "output_type": "stream",
     "text": [
      "140\n",
      "6506\n",
      "(10954, 10)\n"
     ]
    }
   ],
   "source": [
    "###----------- Preparation des données en vue de l'analyse\n",
    "\n",
    "#########----- Création de l'id unique regroupant id et sequence\n",
    "df1 = df1.assign(id_seq=lambda df: df1.id.apply(str).str.cat(df1.sequence.apply(str),sep=\"_\") + \"_R\")\n",
    "df2 = df2.assign(id_seq=lambda df: df2.id.apply(str).str.cat(df2.sequence.apply(str),sep=\"_\") + \"_V\")\n",
    "\n",
    "\n",
    "#########----- Concaténation des deux tables\n",
    "\n",
    "df_concat = pd.concat([df1,df2])\n",
    "\n",
    "print(len(pd.unique(df_concat[\"id\"])))\n",
    "print(len(pd.unique(df_concat[\"task\"])))\n",
    "print(df_concat.shape)\n",
    "\n",
    "df_concat = df_concat.drop(['id', 'sequence'], axis=1)\n"
   ]
  },
  {
   "cell_type": "code",
   "execution_count": 8,
   "metadata": {},
   "outputs": [],
   "source": [
    "df_concat.to_csv(\"../data/intermediate/df_concat.csv\",index=False)"
   ]
  },
  {
   "cell_type": "code",
   "execution_count": 9,
   "metadata": {},
   "outputs": [
    {
     "name": "stderr",
     "output_type": "stream",
     "text": [
      "/var/folders/py/4rt338cj1ks4z3332m7l3f880000gp/T/ipykernel_73927/2369278734.py:6: SettingWithCopyWarning: \n",
      "A value is trying to be set on a copy of a slice from a DataFrame.\n",
      "Try using .loc[row_indexer,col_indexer] = value instead\n",
      "\n",
      "See the caveats in the documentation: https://pandas.pydata.org/pandas-docs/stable/user_guide/indexing.html#returning-a-view-versus-a-copy\n",
      "  df_drop['sentenced'] = df_drop.task.apply(lambda x : sy.Syllogism(x).sentenced)\n",
      "/var/folders/py/4rt338cj1ks4z3332m7l3f880000gp/T/ipykernel_73927/2369278734.py:7: SettingWithCopyWarning: \n",
      "A value is trying to be set on a copy of a slice from a DataFrame.\n",
      "Try using .loc[row_indexer,col_indexer] = value instead\n",
      "\n",
      "See the caveats in the documentation: https://pandas.pydata.org/pandas-docs/stable/user_guide/indexing.html#returning-a-view-versus-a-copy\n",
      "  df_drop['choice_str'] = df_drop[[\"task\",\"choices\"]].apply(lambda x: sy.Syllogism(x[0]).choice_to_str(x[1]), axis=1)\n"
     ]
    }
   ],
   "source": [
    "\n",
    "#########----- Pour ne pas entrainer deux fois un même syllogisme, on supprimer les doublons\n",
    "df_drop = df_concat.drop_duplicates(subset=['task','choices'])\n",
    "\n",
    "\n",
    "#########----- Transformation des données en phrases valides:\n",
    "df_drop['sentenced'] = df_drop.task.apply(lambda x : sy.Syllogism(x).sentenced)\n",
    "df_drop['choice_str'] = df_drop[[\"task\",\"choices\"]].apply(lambda x: sy.Syllogism(x[0]).choice_to_str(x[1]), axis=1)"
   ]
  },
  {
   "cell_type": "code",
   "execution_count": 12,
   "metadata": {},
   "outputs": [],
   "source": [
    "df_drop[['sentenced',\"id_seq\"]].to_csv(\"./article/data/idseq_sentence.csv\" ,index=False)"
   ]
  },
  {
   "cell_type": "code",
   "execution_count": null,
   "metadata": {},
   "outputs": [],
   "source": [
    "#########----- Selection des colonnes\n",
    "df_to_train = df_drop[[\"id_seq\",\"sentenced\",\"choice_str\"]]\n",
    "\n",
    "print(df_to_train.shape)\n",
    "#########----- enregristement de la base préparée\n",
    "#df_to_train.to_csv(\"./data/intermediate/df_to_train.csv\" ,index=False)"
   ]
  },
  {
   "cell_type": "code",
   "execution_count": 5,
   "metadata": {},
   "outputs": [
    {
     "data": {
      "text/html": [
       "<div>\n",
       "<style scoped>\n",
       "    .dataframe tbody tr th:only-of-type {\n",
       "        vertical-align: middle;\n",
       "    }\n",
       "\n",
       "    .dataframe tbody tr th {\n",
       "        vertical-align: top;\n",
       "    }\n",
       "\n",
       "    .dataframe thead th {\n",
       "        text-align: right;\n",
       "    }\n",
       "</style>\n",
       "<table border=\"1\" class=\"dataframe\">\n",
       "  <thead>\n",
       "    <tr style=\"text-align: right;\">\n",
       "      <th></th>\n",
       "      <th>id_seq</th>\n",
       "      <th>sentenced</th>\n",
       "      <th>choice_str</th>\n",
       "    </tr>\n",
       "  </thead>\n",
       "  <tbody>\n",
       "    <tr>\n",
       "      <th>1053</th>\n",
       "      <td>17_27_V</td>\n",
       "      <td>Some packers are butchers and No butchers are ...</td>\n",
       "      <td>[All packers are tutors, All tutors are packer...</td>\n",
       "    </tr>\n",
       "    <tr>\n",
       "      <th>1102</th>\n",
       "      <td>19_4_V</td>\n",
       "      <td>Some joggers are not counselors and Some couns...</td>\n",
       "      <td>[All joggers are riders, All riders are jogger...</td>\n",
       "    </tr>\n",
       "    <tr>\n",
       "      <th>1176</th>\n",
       "      <td>20_14_V</td>\n",
       "      <td>Some assistants are farmers and Some farmers a...</td>\n",
       "      <td>[All assistants are scholars, All scholars are...</td>\n",
       "    </tr>\n",
       "    <tr>\n",
       "      <th>1189</th>\n",
       "      <td>20_27_V</td>\n",
       "      <td>No campers are fencers and All campers are eng...</td>\n",
       "      <td>[All fencers are engineers, All engineers are ...</td>\n",
       "    </tr>\n",
       "    <tr>\n",
       "      <th>1239</th>\n",
       "      <td>21_13_V</td>\n",
       "      <td>Some boxers are not dancers and Some typists a...</td>\n",
       "      <td>[All boxers are typists, All typists are boxer...</td>\n",
       "    </tr>\n",
       "    <tr>\n",
       "      <th>1364</th>\n",
       "      <td>23_10_V</td>\n",
       "      <td>Some clerks are managers and No models are man...</td>\n",
       "      <td>[All clerks are models, All models are clerks,...</td>\n",
       "    </tr>\n",
       "    <tr>\n",
       "      <th>1407</th>\n",
       "      <td>23_53_V</td>\n",
       "      <td>No chefs are runners and No scientists are chefs</td>\n",
       "      <td>[All runners are scientists, All scientists ar...</td>\n",
       "    </tr>\n",
       "    <tr>\n",
       "      <th>1422</th>\n",
       "      <td>24_4_V</td>\n",
       "      <td>No florists are editors and Some soldiers are ...</td>\n",
       "      <td>[All editors are soldiers, All soldiers are ed...</td>\n",
       "    </tr>\n",
       "    <tr>\n",
       "      <th>1454</th>\n",
       "      <td>24_36_V</td>\n",
       "      <td>Some investors are not jugglers and All invest...</td>\n",
       "      <td>[All jugglers are barbers, All barbers are jug...</td>\n",
       "    </tr>\n",
       "    <tr>\n",
       "      <th>1712</th>\n",
       "      <td>28_38_V</td>\n",
       "      <td>No fencers are campers and All campers are eng...</td>\n",
       "      <td>[All fencers are engineers, All engineers are ...</td>\n",
       "    </tr>\n",
       "  </tbody>\n",
       "</table>\n",
       "</div>"
      ],
      "text/plain": [
       "       id_seq                                          sentenced  \\\n",
       "1053  17_27_V  Some packers are butchers and No butchers are ...   \n",
       "1102   19_4_V  Some joggers are not counselors and Some couns...   \n",
       "1176  20_14_V  Some assistants are farmers and Some farmers a...   \n",
       "1189  20_27_V  No campers are fencers and All campers are eng...   \n",
       "1239  21_13_V  Some boxers are not dancers and Some typists a...   \n",
       "1364  23_10_V  Some clerks are managers and No models are man...   \n",
       "1407  23_53_V   No chefs are runners and No scientists are chefs   \n",
       "1422   24_4_V  No florists are editors and Some soldiers are ...   \n",
       "1454  24_36_V  Some investors are not jugglers and All invest...   \n",
       "1712  28_38_V  No fencers are campers and All campers are eng...   \n",
       "\n",
       "                                             choice_str  \n",
       "1053  [All packers are tutors, All tutors are packer...  \n",
       "1102  [All joggers are riders, All riders are jogger...  \n",
       "1176  [All assistants are scholars, All scholars are...  \n",
       "1189  [All fencers are engineers, All engineers are ...  \n",
       "1239  [All boxers are typists, All typists are boxer...  \n",
       "1364  [All clerks are models, All models are clerks,...  \n",
       "1407  [All runners are scientists, All scientists ar...  \n",
       "1422  [All editors are soldiers, All soldiers are ed...  \n",
       "1454  [All jugglers are barbers, All barbers are jug...  \n",
       "1712  [All fencers are engineers, All engineers are ...  "
      ]
     },
     "execution_count": 5,
     "metadata": {},
     "output_type": "execute_result"
    }
   ],
   "source": [
    "df_to_train.tail(10)"
   ]
  },
  {
   "cell_type": "code",
   "execution_count": 5,
   "metadata": {},
   "outputs": [
    {
     "ename": "KeyError",
     "evalue": "'id'",
     "output_type": "error",
     "traceback": [
      "\u001b[0;31m---------------------------------------------------------------------------\u001b[0m",
      "\u001b[0;31mKeyError\u001b[0m                                  Traceback (most recent call last)",
      "\u001b[0;32m~/Documents/pythonProject/MemoireM2/env/lib/python3.9/site-packages/pandas/core/indexes/base.py\u001b[0m in \u001b[0;36mget_loc\u001b[0;34m(self, key, method, tolerance)\u001b[0m\n\u001b[1;32m   3360\u001b[0m             \u001b[0;32mtry\u001b[0m\u001b[0;34m:\u001b[0m\u001b[0;34m\u001b[0m\u001b[0;34m\u001b[0m\u001b[0m\n\u001b[0;32m-> 3361\u001b[0;31m                 \u001b[0;32mreturn\u001b[0m \u001b[0mself\u001b[0m\u001b[0;34m.\u001b[0m\u001b[0m_engine\u001b[0m\u001b[0;34m.\u001b[0m\u001b[0mget_loc\u001b[0m\u001b[0;34m(\u001b[0m\u001b[0mcasted_key\u001b[0m\u001b[0;34m)\u001b[0m\u001b[0;34m\u001b[0m\u001b[0;34m\u001b[0m\u001b[0m\n\u001b[0m\u001b[1;32m   3362\u001b[0m             \u001b[0;32mexcept\u001b[0m \u001b[0mKeyError\u001b[0m \u001b[0;32mas\u001b[0m \u001b[0merr\u001b[0m\u001b[0;34m:\u001b[0m\u001b[0;34m\u001b[0m\u001b[0;34m\u001b[0m\u001b[0m\n",
      "\u001b[0;32m~/Documents/pythonProject/MemoireM2/env/lib/python3.9/site-packages/pandas/_libs/index.pyx\u001b[0m in \u001b[0;36mpandas._libs.index.IndexEngine.get_loc\u001b[0;34m()\u001b[0m\n",
      "\u001b[0;32m~/Documents/pythonProject/MemoireM2/env/lib/python3.9/site-packages/pandas/_libs/index.pyx\u001b[0m in \u001b[0;36mpandas._libs.index.IndexEngine.get_loc\u001b[0;34m()\u001b[0m\n",
      "\u001b[0;32mpandas/_libs/hashtable_class_helper.pxi\u001b[0m in \u001b[0;36mpandas._libs.hashtable.PyObjectHashTable.get_item\u001b[0;34m()\u001b[0m\n",
      "\u001b[0;32mpandas/_libs/hashtable_class_helper.pxi\u001b[0m in \u001b[0;36mpandas._libs.hashtable.PyObjectHashTable.get_item\u001b[0;34m()\u001b[0m\n",
      "\u001b[0;31mKeyError\u001b[0m: 'id'",
      "\nThe above exception was the direct cause of the following exception:\n",
      "\u001b[0;31mKeyError\u001b[0m                                  Traceback (most recent call last)",
      "\u001b[0;32m/var/folders/py/4rt338cj1ks4z3332m7l3f880000gp/T/ipykernel_54898/2322893604.py\u001b[0m in \u001b[0;36m<module>\u001b[0;34m\u001b[0m\n\u001b[0;32m----> 1\u001b[0;31m \u001b[0mprint\u001b[0m\u001b[0;34m(\u001b[0m\u001b[0mlen\u001b[0m\u001b[0;34m(\u001b[0m\u001b[0mpd\u001b[0m\u001b[0;34m.\u001b[0m\u001b[0munique\u001b[0m\u001b[0;34m(\u001b[0m\u001b[0mdf_to_train\u001b[0m\u001b[0;34m[\u001b[0m\u001b[0;34m\"id\"\u001b[0m\u001b[0;34m]\u001b[0m\u001b[0;34m)\u001b[0m\u001b[0;34m)\u001b[0m\u001b[0;34m)\u001b[0m\u001b[0;34m\u001b[0m\u001b[0;34m\u001b[0m\u001b[0m\n\u001b[0m\u001b[1;32m      2\u001b[0m \u001b[0mprint\u001b[0m\u001b[0;34m(\u001b[0m\u001b[0mlen\u001b[0m\u001b[0;34m(\u001b[0m\u001b[0mpd\u001b[0m\u001b[0;34m.\u001b[0m\u001b[0munique\u001b[0m\u001b[0;34m(\u001b[0m\u001b[0mdf_to_train\u001b[0m\u001b[0;34m[\u001b[0m\u001b[0;34m\"task\"\u001b[0m\u001b[0;34m]\u001b[0m\u001b[0;34m)\u001b[0m\u001b[0;34m)\u001b[0m\u001b[0;34m)\u001b[0m\u001b[0;34m\u001b[0m\u001b[0;34m\u001b[0m\u001b[0m\n",
      "\u001b[0;32m~/Documents/pythonProject/MemoireM2/env/lib/python3.9/site-packages/pandas/core/frame.py\u001b[0m in \u001b[0;36m__getitem__\u001b[0;34m(self, key)\u001b[0m\n\u001b[1;32m   3456\u001b[0m             \u001b[0;32mif\u001b[0m \u001b[0mself\u001b[0m\u001b[0;34m.\u001b[0m\u001b[0mcolumns\u001b[0m\u001b[0;34m.\u001b[0m\u001b[0mnlevels\u001b[0m \u001b[0;34m>\u001b[0m \u001b[0;36m1\u001b[0m\u001b[0;34m:\u001b[0m\u001b[0;34m\u001b[0m\u001b[0;34m\u001b[0m\u001b[0m\n\u001b[1;32m   3457\u001b[0m                 \u001b[0;32mreturn\u001b[0m \u001b[0mself\u001b[0m\u001b[0;34m.\u001b[0m\u001b[0m_getitem_multilevel\u001b[0m\u001b[0;34m(\u001b[0m\u001b[0mkey\u001b[0m\u001b[0;34m)\u001b[0m\u001b[0;34m\u001b[0m\u001b[0;34m\u001b[0m\u001b[0m\n\u001b[0;32m-> 3458\u001b[0;31m             \u001b[0mindexer\u001b[0m \u001b[0;34m=\u001b[0m \u001b[0mself\u001b[0m\u001b[0;34m.\u001b[0m\u001b[0mcolumns\u001b[0m\u001b[0;34m.\u001b[0m\u001b[0mget_loc\u001b[0m\u001b[0;34m(\u001b[0m\u001b[0mkey\u001b[0m\u001b[0;34m)\u001b[0m\u001b[0;34m\u001b[0m\u001b[0;34m\u001b[0m\u001b[0m\n\u001b[0m\u001b[1;32m   3459\u001b[0m             \u001b[0;32mif\u001b[0m \u001b[0mis_integer\u001b[0m\u001b[0;34m(\u001b[0m\u001b[0mindexer\u001b[0m\u001b[0;34m)\u001b[0m\u001b[0;34m:\u001b[0m\u001b[0;34m\u001b[0m\u001b[0;34m\u001b[0m\u001b[0m\n\u001b[1;32m   3460\u001b[0m                 \u001b[0mindexer\u001b[0m \u001b[0;34m=\u001b[0m \u001b[0;34m[\u001b[0m\u001b[0mindexer\u001b[0m\u001b[0;34m]\u001b[0m\u001b[0;34m\u001b[0m\u001b[0;34m\u001b[0m\u001b[0m\n",
      "\u001b[0;32m~/Documents/pythonProject/MemoireM2/env/lib/python3.9/site-packages/pandas/core/indexes/base.py\u001b[0m in \u001b[0;36mget_loc\u001b[0;34m(self, key, method, tolerance)\u001b[0m\n\u001b[1;32m   3361\u001b[0m                 \u001b[0;32mreturn\u001b[0m \u001b[0mself\u001b[0m\u001b[0;34m.\u001b[0m\u001b[0m_engine\u001b[0m\u001b[0;34m.\u001b[0m\u001b[0mget_loc\u001b[0m\u001b[0;34m(\u001b[0m\u001b[0mcasted_key\u001b[0m\u001b[0;34m)\u001b[0m\u001b[0;34m\u001b[0m\u001b[0;34m\u001b[0m\u001b[0m\n\u001b[1;32m   3362\u001b[0m             \u001b[0;32mexcept\u001b[0m \u001b[0mKeyError\u001b[0m \u001b[0;32mas\u001b[0m \u001b[0merr\u001b[0m\u001b[0;34m:\u001b[0m\u001b[0;34m\u001b[0m\u001b[0;34m\u001b[0m\u001b[0m\n\u001b[0;32m-> 3363\u001b[0;31m                 \u001b[0;32mraise\u001b[0m \u001b[0mKeyError\u001b[0m\u001b[0;34m(\u001b[0m\u001b[0mkey\u001b[0m\u001b[0;34m)\u001b[0m \u001b[0;32mfrom\u001b[0m \u001b[0merr\u001b[0m\u001b[0;34m\u001b[0m\u001b[0;34m\u001b[0m\u001b[0m\n\u001b[0m\u001b[1;32m   3364\u001b[0m \u001b[0;34m\u001b[0m\u001b[0m\n\u001b[1;32m   3365\u001b[0m         \u001b[0;32mif\u001b[0m \u001b[0mis_scalar\u001b[0m\u001b[0;34m(\u001b[0m\u001b[0mkey\u001b[0m\u001b[0;34m)\u001b[0m \u001b[0;32mand\u001b[0m \u001b[0misna\u001b[0m\u001b[0;34m(\u001b[0m\u001b[0mkey\u001b[0m\u001b[0;34m)\u001b[0m \u001b[0;32mand\u001b[0m \u001b[0;32mnot\u001b[0m \u001b[0mself\u001b[0m\u001b[0;34m.\u001b[0m\u001b[0mhasnans\u001b[0m\u001b[0;34m:\u001b[0m\u001b[0;34m\u001b[0m\u001b[0;34m\u001b[0m\u001b[0m\n",
      "\u001b[0;31mKeyError\u001b[0m: 'id'"
     ]
    }
   ],
   "source": [
    "print(len(pd.unique(df_to_train[\"id\"])))\n",
    "print(len(pd.unique(df_to_train[\"task\"])))"
   ]
  },
  {
   "cell_type": "code",
   "execution_count": 11,
   "metadata": {},
   "outputs": [
    {
     "name": "stderr",
     "output_type": "stream",
     "text": [
      "/var/folders/py/4rt338cj1ks4z3332m7l3f880000gp/T/ipykernel_25263/3295501122.py:2: SettingWithCopyWarning: \n",
      "A value is trying to be set on a copy of a slice from a DataFrame.\n",
      "Try using .loc[row_indexer,col_indexer] = value instead\n",
      "\n",
      "See the caveats in the documentation: https://pandas.pydata.org/pandas-docs/stable/user_guide/indexing.html#returning-a-view-versus-a-copy\n",
      "  df_drop['task_form'] = df_drop.task.apply(lambda x : sy.Syllogism(x).full_form)\n",
      "/var/folders/py/4rt338cj1ks4z3332m7l3f880000gp/T/ipykernel_25263/3295501122.py:3: SettingWithCopyWarning: \n",
      "A value is trying to be set on a copy of a slice from a DataFrame.\n",
      "Try using .loc[row_indexer,col_indexer] = value instead\n",
      "\n",
      "See the caveats in the documentation: https://pandas.pydata.org/pandas-docs/stable/user_guide/indexing.html#returning-a-view-versus-a-copy\n",
      "  df_drop['human_response'] = df_drop[[\"task\",\"response\"]].apply(lambda x: sy.Syllogism(x[0]).evaluate_conclusion(x[1]), axis=1)\n",
      "/var/folders/py/4rt338cj1ks4z3332m7l3f880000gp/T/ipykernel_25263/3295501122.py:4: SettingWithCopyWarning: \n",
      "A value is trying to be set on a copy of a slice from a DataFrame.\n",
      "Try using .loc[row_indexer,col_indexer] = value instead\n",
      "\n",
      "See the caveats in the documentation: https://pandas.pydata.org/pandas-docs/stable/user_guide/indexing.html#returning-a-view-versus-a-copy\n",
      "  df_drop['has_conclusion'] = df_drop.task.apply(lambda x : sy.Syllogism(x).has_conclusion)\n",
      "/var/folders/py/4rt338cj1ks4z3332m7l3f880000gp/T/ipykernel_25263/3295501122.py:5: SettingWithCopyWarning: \n",
      "A value is trying to be set on a copy of a slice from a DataFrame.\n",
      "Try using .loc[row_indexer,col_indexer] = value instead\n",
      "\n",
      "See the caveats in the documentation: https://pandas.pydata.org/pandas-docs/stable/user_guide/indexing.html#returning-a-view-versus-a-copy\n",
      "  df_drop['human_response_index'] = df_drop.human_response.apply(lambda x : choice_form.index(x[0]))\n"
     ]
    }
   ],
   "source": [
    "# ###----------- Création de la base de données pour l'analyse des résultats\n",
    "df_drop['task_form'] = df_drop.task.apply(lambda x : sy.Syllogism(x).full_form)\n",
    "df_drop['human_response'] = df_drop[[\"task\",\"response\"]].apply(lambda x: sy.Syllogism(x[0]).evaluate_conclusion(x[1]), axis=1)\n",
    "df_drop['has_conclusion'] = df_drop.task.apply(lambda x : sy.Syllogism(x).has_conclusion)\n",
    "df_drop['human_response_index'] = df_drop.human_response.apply(lambda x : choice_form.index(x[0]))\n"
   ]
  },
  {
   "cell_type": "code",
   "execution_count": 13,
   "metadata": {},
   "outputs": [
    {
     "name": "stderr",
     "output_type": "stream",
     "text": [
      "/var/folders/py/4rt338cj1ks4z3332m7l3f880000gp/T/ipykernel_25263/1662319904.py:15: SettingWithCopyWarning: \n",
      "A value is trying to be set on a copy of a slice from a DataFrame.\n",
      "Try using .loc[row_indexer,col_indexer] = value instead\n",
      "\n",
      "See the caveats in the documentation: https://pandas.pydata.org/pandas-docs/stable/user_guide/indexing.html#returning-a-view-versus-a-copy\n",
      "  df_drop['index_conclusion'] = df_drop.task_form.apply(lambda x : index_conclusion(x))\n"
     ]
    }
   ],
   "source": [
    "def index_conclusion(task_form):\n",
    "    \n",
    "    index_ccl_list=[]\n",
    "    # on parcourt les réponses possibles\n",
    "    for i in choice_form:\n",
    "        # on parcourt les bonnes réponses\n",
    "        for ccl in table_de_verite[task_form]:\n",
    "            if ccl == \"NVC\":\n",
    "                return [8]\n",
    "            elif i == ccl:\n",
    "                index_ccl_list.append(choice_form.index(i))\n",
    "    \n",
    "    return index_ccl_list\n",
    "\n",
    "df_drop['index_conclusion'] = df_drop.task_form.apply(lambda x : index_conclusion(x))\n"
   ]
  },
  {
   "cell_type": "code",
   "execution_count": 14,
   "metadata": {},
   "outputs": [
    {
     "data": {
      "text/html": [
       "<div>\n",
       "<style scoped>\n",
       "    .dataframe tbody tr th:only-of-type {\n",
       "        vertical-align: middle;\n",
       "    }\n",
       "\n",
       "    .dataframe tbody tr th {\n",
       "        vertical-align: top;\n",
       "    }\n",
       "\n",
       "    .dataframe thead th {\n",
       "        text-align: right;\n",
       "    }\n",
       "</style>\n",
       "<table border=\"1\" class=\"dataframe\">\n",
       "  <thead>\n",
       "    <tr style=\"text-align: right;\">\n",
       "      <th></th>\n",
       "      <th>id_seq</th>\n",
       "      <th>task_form</th>\n",
       "      <th>human_response</th>\n",
       "      <th>has_conclusion</th>\n",
       "      <th>index_conclusion</th>\n",
       "      <th>choice_str</th>\n",
       "      <th>human_response_index</th>\n",
       "    </tr>\n",
       "  </thead>\n",
       "  <tbody>\n",
       "    <tr>\n",
       "      <th>0</th>\n",
       "      <td>1_0_R</td>\n",
       "      <td>IA4</td>\n",
       "      <td>(Iac, True)</td>\n",
       "      <td>True</td>\n",
       "      <td>[2, 5]</td>\n",
       "      <td>[All managers are clerks, All clerks are manag...</td>\n",
       "      <td>2</td>\n",
       "    </tr>\n",
       "    <tr>\n",
       "      <th>1</th>\n",
       "      <td>1_1_R</td>\n",
       "      <td>EA3</td>\n",
       "      <td>(Eac, True)</td>\n",
       "      <td>True</td>\n",
       "      <td>[4, 5, 6, 7]</td>\n",
       "      <td>[All divers are linguists, All linguists are d...</td>\n",
       "      <td>6</td>\n",
       "    </tr>\n",
       "    <tr>\n",
       "      <th>2</th>\n",
       "      <td>1_2_R</td>\n",
       "      <td>AI2</td>\n",
       "      <td>(Ica, True)</td>\n",
       "      <td>True</td>\n",
       "      <td>[2, 3]</td>\n",
       "      <td>[All climbers are skaters, All skaters are cli...</td>\n",
       "      <td>3</td>\n",
       "    </tr>\n",
       "    <tr>\n",
       "      <th>3</th>\n",
       "      <td>1_3_R</td>\n",
       "      <td>AA1</td>\n",
       "      <td>(Aac, True)</td>\n",
       "      <td>True</td>\n",
       "      <td>[0, 2, 3]</td>\n",
       "      <td>[All bankers are teachers, All teachers are ba...</td>\n",
       "      <td>0</td>\n",
       "    </tr>\n",
       "    <tr>\n",
       "      <th>4</th>\n",
       "      <td>1_4_R</td>\n",
       "      <td>OA4</td>\n",
       "      <td>(Oca, True)</td>\n",
       "      <td>True</td>\n",
       "      <td>[5]</td>\n",
       "      <td>[All opticians are actuaries, All actuaries ar...</td>\n",
       "      <td>5</td>\n",
       "    </tr>\n",
       "  </tbody>\n",
       "</table>\n",
       "</div>"
      ],
      "text/plain": [
       "  id_seq task_form human_response  has_conclusion index_conclusion  \\\n",
       "0  1_0_R       IA4    (Iac, True)            True           [2, 5]   \n",
       "1  1_1_R       EA3    (Eac, True)            True     [4, 5, 6, 7]   \n",
       "2  1_2_R       AI2    (Ica, True)            True           [2, 3]   \n",
       "3  1_3_R       AA1    (Aac, True)            True        [0, 2, 3]   \n",
       "4  1_4_R       OA4    (Oca, True)            True              [5]   \n",
       "\n",
       "                                          choice_str  human_response_index  \n",
       "0  [All managers are clerks, All clerks are manag...                     2  \n",
       "1  [All divers are linguists, All linguists are d...                     6  \n",
       "2  [All climbers are skaters, All skaters are cli...                     3  \n",
       "3  [All bankers are teachers, All teachers are ba...                     0  \n",
       "4  [All opticians are actuaries, All actuaries ar...                     5  "
      ]
     },
     "execution_count": 14,
     "metadata": {},
     "output_type": "execute_result"
    }
   ],
   "source": [
    "df_drop = df_drop[[\"id_seq\", \"task_form\",\"human_response\",\"has_conclusion\",\"index_conclusion\",\"choice_str\",'human_response_index']]\n",
    "df_drop.head()"
   ]
  },
  {
   "cell_type": "code",
   "execution_count": 15,
   "metadata": {},
   "outputs": [],
   "source": [
    "df_drop['implicatur'] = df_drop.task_form.apply(lambda x : True if x in implicatur else False)"
   ]
  },
  {
   "cell_type": "code",
   "execution_count": 16,
   "metadata": {},
   "outputs": [],
   "source": [
    "df_drop.to_csv(\"../data/intermediate/df_conclusion.csv\" ,index=False)"
   ]
  }
 ],
 "metadata": {
  "interpreter": {
   "hash": "dddc4829cdb8a95c4dcd99a91d3cecc91af3578de6eb6a763a56b0c106b3b01d"
  },
  "kernelspec": {
   "display_name": "Python 3.9.9 ('env': venv)",
   "language": "python",
   "name": "python3"
  },
  "language_info": {
   "codemirror_mode": {
    "name": "ipython",
    "version": 3
   },
   "file_extension": ".py",
   "mimetype": "text/x-python",
   "name": "python",
   "nbconvert_exporter": "python",
   "pygments_lexer": "ipython3",
   "version": "3.9.12"
  },
  "orig_nbformat": 4
 },
 "nbformat": 4,
 "nbformat_minor": 2
}
